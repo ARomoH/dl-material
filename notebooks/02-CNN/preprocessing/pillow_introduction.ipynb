{
  "cells": [
    {
      "cell_type": "markdown",
      "id": "33aef95c",
      "metadata": {
        "id": "33aef95c"
      },
      "source": [
        "[![Open In Colab](https://colab.research.google.com/assets/colab-badge.svg)](https://colab.research.google.com/drive/1Mj_sMxYsI0oUCzgRWEs5K3WMn3jjfjmc?usp=sharing)"
      ]
    },
    {
      "cell_type": "markdown",
      "id": "caa7828b",
      "metadata": {
        "id": "caa7828b"
      },
      "source": [
        "https://github.com/ezponda/intro_deep_learning/blob/main/class/CNN/Introduction_to_CV_with_Pillow.ipynb\n",
        "\n",
        "\n",
        "1. [Pillow: Basics](#Pillow-Basics)\n",
        "2. [Image Object in Pillow](#Image-Object-in-Pillow)\n",
        "3. [Displaying Images in Python with Pillow and Matplotlib](#Displaying-Images-in-Python-with-Pillow-and-Matplotlib)\n",
        "4. [Converting an Image to Grayscale and Understanding RGB Images](#Converting-an-Image-to-Grayscale-and-Understanding-RGB-Images)\n",
        "5. [Basic Image Manipulation with Pillow](#Basic-Image-Manipulation-with-Pillow)\n",
        "6. [Image Transformations: Enhancing Contrast, Brightness, Color, and Sharpness with PIL](#Image-Transformations:-Enhancing-Contrast,-Brightness,-Color,-and-Sharpness-with-PIL)"
      ]
    },
    {
      "cell_type": "markdown",
      "id": "185d4da9",
      "metadata": {
        "id": "185d4da9"
      },
      "source": [
        "# Pillow: Basics\n",
        "[Pillow](https://pillow.readthedocs.io/en/stable/) is an open-source Python Imaging Library that adds image processing capabilities to your Python interpreter.\n",
        "\n",
        "**Installing Pillow:**\n",
        "```python\n",
        "!pip install Pillow\n",
        "```\n",
        "\n",
        "**Key Features:**\n",
        "- Reading, writing, and manipulating images.\n",
        "- Supports a variety of file formats, including JPEG, PNG, BMP, GIF, and others.\n",
        "\n",
        "# Image Object in Pillow\n",
        "\n",
        "- Images in Pillow are represented as `Image` objects.\n",
        "- Pixel data can be accessed and modified directly.\n",
        "- Provides a range of built-in functions for image manipulation.\n",
        "\n",
        "An image in Pillow is treated as an `Image` object. To work with images, you first need to import the Pillow library and load an image.\n"
      ]
    },
    {
      "cell_type": "code",
      "execution_count": null,
      "id": "ac0fb1aa",
      "metadata": {
        "id": "ac0fb1aa"
      },
      "outputs": [],
      "source": [
        "from PIL import Image\n",
        "import numpy as np\n",
        "import urllib.request\n",
        "\n",
        "# Download an image\n",
        "url = 'https://upload.wikimedia.org/wikipedia/en/7/7d/Lenna_%28test_image%29.png'\n",
        "urllib.request.urlretrieve(url, \"sample.png\")\n",
        "\n",
        "# Load an image\n",
        "image =Image.open(\"sample.png\")"
      ]
    },
    {
      "cell_type": "markdown",
      "id": "77f10fae",
      "metadata": {
        "id": "77f10fae"
      },
      "source": [
        "**Attributes of an Image Object in Pillow:**\n",
        "\n",
        "When working with the Pillow library in Python, the `Image` object is central. It provides several attributes that give information about the image and allow for manipulation. Here's an overview of some key attributes:\n",
        "\n",
        "**`format`**\n",
        "- The `format` attribute indicates the format of the source file, such as JPEG, PNG, etc.\n",
        "\n",
        "**`size`**\n",
        "- The `size` attribute returns a tuple representing the width and height of the image in pixels.\n",
        "\n",
        "**`mode`**\n",
        "- The `mode` attribute defines the type and depth of a pixel in the image. Common modes are \"L\" for grayscale images, \"RGB\" for true color images, and \"CMYK\" for pre-press images.\n",
        "\n",
        "**`info`**\n",
        "- The `info` attribute is a dictionary containing various metadata about the image, such as \"dpi\", \"exif\", etc.\n",
        "\n",
        "\n"
      ]
    },
    {
      "cell_type": "code",
      "execution_count": null,
      "id": "c9af0ec9",
      "metadata": {
        "id": "c9af0ec9"
      },
      "outputs": [],
      "source": [
        "print('format:', image.format)  # Output might be 'JPEG', 'PNG', etc.\n",
        "print('size:', image.size)  # Output might be (width, height) like (640, 480)\n",
        "print('mode:', image.mode)  # Output might be 'RGB', 'L', etc.\n",
        "print('info:', image.info)  # Output might be a dictionary with metadata"
      ]
    },
    {
      "cell_type": "markdown",
      "id": "599391e7",
      "metadata": {
        "id": "599391e7"
      },
      "source": [
        "We can convert a Pillow Image object to a NumPy array:"
      ]
    },
    {
      "cell_type": "code",
      "execution_count": null,
      "id": "f54e6d3b",
      "metadata": {
        "id": "f54e6d3b"
      },
      "outputs": [],
      "source": [
        "# Convert the image to a NumPy array\n",
        "image_array = np.array(image)\n",
        "\n",
        "# Display the shape of the array\n",
        "print(image_array.shape)  # The shape will be in the form of (height, width, channels)"
      ]
    },
    {
      "cell_type": "code",
      "execution_count": null,
      "id": "03e09067",
      "metadata": {
        "id": "03e09067"
      },
      "outputs": [],
      "source": [
        "image_array[:3,:3,:]"
      ]
    },
    {
      "cell_type": "code",
      "execution_count": null,
      "id": "f52058da",
      "metadata": {
        "id": "f52058da"
      },
      "outputs": [],
      "source": [
        "# Convert the NumPy array back to a Pillow Image object\n",
        "new_image = Image.fromarray(image_array)"
      ]
    },
    {
      "cell_type": "markdown",
      "id": "d25dadc4",
      "metadata": {
        "id": "d25dadc4"
      },
      "source": [
        "# Displaying Images in Python with Pillow and Matplotlib\n",
        "\n",
        "Visualizing images is a key part of working with image processing in Python. There are multiple ways to display images, the two common ones being using Pillow's built-in `.show()` method and using the `matplotlib` library.\n",
        "\n",
        "## Using Pillow's `.show()` Method\n",
        "\n",
        "Pillow's `.show()` method is the simplest way to display an image. This method opens the image in the default image viewer of your operating system."
      ]
    },
    {
      "cell_type": "code",
      "execution_count": null,
      "id": "36d24dd3",
      "metadata": {
        "id": "36d24dd3"
      },
      "outputs": [],
      "source": [
        "image.show()"
      ]
    },
    {
      "cell_type": "markdown",
      "id": "3fab3597",
      "metadata": {
        "id": "3fab3597"
      },
      "source": [
        "## Using Matplotlib\n",
        "\n",
        "`matplotlib` is a powerful plotting library in Python that can also be used for displaying images. This method is especially useful in Jupyter notebooks or when you need more control over how the image is displayed."
      ]
    },
    {
      "cell_type": "code",
      "execution_count": null,
      "id": "b60a9ba8",
      "metadata": {
        "id": "b60a9ba8"
      },
      "outputs": [],
      "source": [
        "import matplotlib.pyplot as plt\n",
        "%matplotlib inline"
      ]
    },
    {
      "cell_type": "code",
      "execution_count": null,
      "id": "63da61e6",
      "metadata": {
        "id": "63da61e6"
      },
      "outputs": [],
      "source": [
        "plt.imshow(np.array(image))\n",
        "plt.axis('off')  # Turn off axis numbers and labels\n",
        "plt.show()"
      ]
    },
    {
      "cell_type": "markdown",
      "id": "6ab26896",
      "metadata": {
        "id": "6ab26896"
      },
      "source": [
        "# Converting an Image to Grayscale and Understanding RGB Images\n",
        "\n",
        "Converting color images to grayscale is a common operation in image processing. This section explains RGB images, how to split them into channels, plot these channels, and the concept of quantization.\n",
        "\n",
        "## What is an RGB Image?\n",
        "\n",
        "An RGB image is a color image composed of three color channels: Red, Green, and Blue. Each pixel in an RGB image has three values corresponding to the intensity of red, green, and blue at that pixel. These intensities usually range from 0 to 255 (8-bit quantization).\n",
        "\n",
        "## Splitting an Image into RGB Channels\n",
        "\n",
        "You can split an RGB image into its individual red, green, and blue components using Pillow:"
      ]
    },
    {
      "cell_type": "code",
      "execution_count": null,
      "id": "1a694cf8",
      "metadata": {
        "id": "1a694cf8"
      },
      "outputs": [],
      "source": [
        "print(image.mode)  # Output: 'RGB'\n",
        "r, g, b = image.split()"
      ]
    },
    {
      "cell_type": "code",
      "execution_count": null,
      "id": "ad52ffa9",
      "metadata": {
        "id": "ad52ffa9"
      },
      "outputs": [],
      "source": [
        "fig, axes = plt.subplots(1, 3, figsize=(12, 4))\n",
        "\n",
        "axes[0].imshow(r, cmap='Reds')\n",
        "axes[0].set_title('Red Channel')\n",
        "axes[0].axis('off')\n",
        "\n",
        "axes[1].imshow(g, cmap='Greens')\n",
        "axes[1].set_title('Green Channel')\n",
        "axes[1].axis('off')\n",
        "\n",
        "axes[2].imshow(b, cmap='Blues')\n",
        "axes[2].set_title('Blue Channel')\n",
        "axes[2].axis('off')\n",
        "\n",
        "plt.show()"
      ]
    },
    {
      "cell_type": "markdown",
      "id": "8ca17bc3",
      "metadata": {
        "id": "8ca17bc3"
      },
      "source": [
        "### Converting to Grayscale\n",
        "\n",
        "Grayscale images contain only shades of gray and no color. The grayscale value is typically calculated as a weighted sum of the RGB components.\n",
        "\n",
        "When you convert an RGB image to grayscale using Pillow's convert('L') method, the mode changes from 'RGB' to 'L'. In 'L' mode, each pixel is represented by a single value, indicating luminance (or light intensity), which ranges from 0 (black) to 255 (white). This mode is used for grayscale images."
      ]
    },
    {
      "cell_type": "code",
      "execution_count": null,
      "id": "9ad37611",
      "metadata": {
        "id": "9ad37611"
      },
      "outputs": [],
      "source": [
        "gray_image = image.convert('L')\n",
        "print(gray_image.mode)  # Output: 'L'"
      ]
    },
    {
      "cell_type": "code",
      "execution_count": null,
      "id": "2b117126",
      "metadata": {
        "id": "2b117126"
      },
      "outputs": [],
      "source": [
        "plt.imshow(gray_image, cmap='gray')\n",
        "plt.axis('off')\n",
        "plt.show()"
      ]
    },
    {
      "cell_type": "markdown",
      "id": "fbbeb49a",
      "metadata": {
        "id": "fbbeb49a"
      },
      "source": [
        "# Basic Image Manipulation with Pillow\n",
        "\n",
        "Pillow provides a variety of methods for basic image manipulation. These include transposing (flipping and rotating) the image, cropping, and resizing. Understanding these operations is essential for image processing tasks.\n",
        "\n",
        "## Transposing an Image\n",
        "\n",
        "The `.transpose()` method in Pillow is used to flip or rotate an image in various ways. Here are some common transpositions:\n",
        "\n",
        "- `Image.FLIP_LEFT_RIGHT`: Flip the image horizontally (left to right).\n",
        "- `Image.FLIP_TOP_BOTTOM`: Flip the image vertically (top to bottom).\n",
        "- `Image.ROTATE_90`: Rotate the image by 90 degrees.\n",
        "- `Image.ROTATE_180`: Rotate the image by 180 degrees.\n",
        "- `Image.ROTATE_270`: Rotate the image by 270 degrees.\n",
        "- `Image.TRANSPOSE`: Transpose the image (flip over the main diagonal).\n",
        "- `Image.TRANSVERSE`: Transverse the image (flip over the secondary diagonal).\n"
      ]
    },
    {
      "cell_type": "code",
      "execution_count": null,
      "id": "6dcfc6db",
      "metadata": {
        "id": "6dcfc6db"
      },
      "outputs": [],
      "source": [
        "# Apply different transpositions and rotations\n",
        "flipped_lr = image.transpose(Image.FLIP_LEFT_RIGHT)\n",
        "flipped_tb = image.transpose(Image.FLIP_TOP_BOTTOM)\n",
        "rotated_90 = image.transpose(Image.ROTATE_90)\n",
        "rotated_180 = image.transpose(Image.ROTATE_180)\n",
        "rotated_270 = image.transpose(Image.ROTATE_270)\n",
        "transposed = image.transpose(Image.TRANSPOSE)\n",
        "transversed = image.transpose(Image.TRANSVERSE)\n",
        "\n",
        "# Plotting all the images with titles\n",
        "fig, axs = plt.subplots(3, 3, figsize=(12, 12))\n",
        "\n",
        "# Original Image\n",
        "axs[0, 0].imshow(image)\n",
        "axs[0, 0].set_title(\"Original\")\n",
        "axs[0, 0].axis('off')\n",
        "\n",
        "# Flipped Left-Right\n",
        "axs[0, 1].imshow(flipped_lr)\n",
        "axs[0, 1].set_title(\"Flip Left-Right\")\n",
        "axs[0, 1].axis('off')\n",
        "\n",
        "# Flipped Top-Bottom\n",
        "axs[0, 2].imshow(flipped_tb)\n",
        "axs[0, 2].set_title(\"Flip Top-Bottom\")\n",
        "axs[0, 2].axis('off')\n",
        "\n",
        "# Rotated 90°\n",
        "axs[1, 0].imshow(rotated_90)\n",
        "axs[1, 0].set_title(\"Rotate 90°\")\n",
        "axs[1, 0].axis('off')\n",
        "\n",
        "# Rotated 180°\n",
        "axs[1, 1].imshow(rotated_180)\n",
        "axs[1, 1].set_title(\"Rotate 180°\")\n",
        "axs[1, 1].axis('off')\n",
        "\n",
        "# Rotated 270°\n",
        "axs[1, 2].imshow(rotated_270)\n",
        "axs[1, 2].set_title(\"Rotate 270°\")\n",
        "axs[1, 2].axis('off')\n",
        "\n",
        "# Transpose\n",
        "axs[2, 0].imshow(transposed)\n",
        "axs[2, 0].set_title(\"Transpose\")\n",
        "axs[2, 0].axis('off')\n",
        "\n",
        "# Transverse\n",
        "axs[2, 1].imshow(transversed)\n",
        "axs[2, 1].set_title(\"Transverse\")\n",
        "axs[2, 1].axis('off')\n",
        "\n",
        "# Empty subplot (for layout purposes)\n",
        "axs[2, 2].axis('off')\n",
        "\n",
        "plt.tight_layout()\n",
        "plt.show()\n"
      ]
    },
    {
      "cell_type": "markdown",
      "id": "9620c007",
      "metadata": {
        "id": "9620c007"
      },
      "source": [
        "## Rotating an Image\n",
        "\n",
        "The `.rotate()` method allows for rotating the image by a specified number of degrees.\n"
      ]
    },
    {
      "cell_type": "code",
      "execution_count": null,
      "id": "3f8ec54b",
      "metadata": {
        "id": "3f8ec54b"
      },
      "outputs": [],
      "source": [
        "rotated_image = image.rotate(45)\n",
        "plt.imshow(rotated_image)\n",
        "plt.axis('off')\n",
        "plt.show()"
      ]
    },
    {
      "cell_type": "markdown",
      "id": "48eef9c5",
      "metadata": {
        "id": "48eef9c5"
      },
      "source": [
        "## Cropping an Image\n",
        "\n",
        "\n",
        "The `crop` method in Pillow is used to cut out a rectangular portion of an image. The method takes a single argument, which is a tuple defining the left, upper, right, and lower pixel coordinate.\n",
        "\n",
        "The tuple `(left, upper, right, lower)` represents:\n",
        "\n",
        "- `left`: The x-coordinate of the leftmost edge of the cropping box.\n",
        "- `upper`: The y-coordinate of the top edge of the cropping box.\n",
        "- `right`: The x-coordinate of the rightmost edge of the cropping box.\n",
        "- `lower`: The y-coordinate of the bottom edge of the cropping box.\n",
        "\n",
        "These coordinates are relative to the top-left corner of the image, which is considered the origin `(0, 0)`."
      ]
    },
    {
      "cell_type": "code",
      "execution_count": null,
      "id": "16b6ceaa",
      "metadata": {
        "id": "16b6ceaa"
      },
      "outputs": [],
      "source": [
        "import matplotlib.patches as patches\n",
        "\n",
        "crop_box = (100, 100, 300, 300)\n",
        "\n",
        "# Create a Rectangle patch\n",
        "rect = patches.Rectangle((crop_box[0], crop_box[1]), crop_box[2] - crop_box[0], crop_box[3] - crop_box[1], linewidth=2, edgecolor='r', facecolor='none')\n",
        "\n",
        "# Plot the original image and the rectangle\n",
        "fig, ax = plt.subplots()\n",
        "ax.imshow(image)\n",
        "ax.add_patch(rect)\n",
        "plt.show()"
      ]
    },
    {
      "cell_type": "code",
      "execution_count": null,
      "id": "32bfbcb6",
      "metadata": {
        "id": "32bfbcb6"
      },
      "outputs": [],
      "source": [
        "# Define the box to crop\n",
        "cropped_image = image.crop(crop_box)\n",
        "\n",
        "# Display the cropped image\n",
        "plt.imshow(cropped_image)\n",
        "plt.axis('off')\n",
        "plt.show()"
      ]
    },
    {
      "cell_type": "code",
      "execution_count": null,
      "id": "8a7c1fbe",
      "metadata": {
        "id": "8a7c1fbe"
      },
      "outputs": [],
      "source": [
        "print(image.size, cropped_image.size)"
      ]
    },
    {
      "cell_type": "markdown",
      "id": "008dcac1",
      "metadata": {
        "id": "008dcac1"
      },
      "source": [
        "## Resizing an Image\n",
        "\n",
        "The `resize` method in Pillow is used to change the size of an image. It takes two main arguments:\n",
        "\n",
        "1. `size`: A tuple `(width, height)` representing the new size of the image.\n",
        "2. `resample`: The resampling filter to use. This is optional and determines the quality and method of the resizing. Common filters include:\n",
        "   - `Image.NEAREST`: Fastest resizing filter but with lower quality.\n",
        "   - `Image.BILINEAR`: Bilinear interpolation.\n",
        "   - `Image.BICUBIC`: Bicubic interpolation.\n",
        "   - `Image.LANCZOS`: High-quality downsampling filter.\n"
      ]
    },
    {
      "cell_type": "code",
      "execution_count": null,
      "id": "fb46a046",
      "metadata": {
        "id": "fb46a046"
      },
      "outputs": [],
      "source": [
        "resized_image = image.resize((200, 200), Image.LANCZOS)\n",
        "print(image.size, resized_image.size)"
      ]
    },
    {
      "cell_type": "code",
      "execution_count": null,
      "id": "def035dc",
      "metadata": {
        "id": "def035dc"
      },
      "outputs": [],
      "source": [
        "# Resizing with different methods\n",
        "nearest = image.resize((200, 200), Image.NEAREST)\n",
        "bilinear = image.resize((200, 200), Image.BILINEAR)\n",
        "bicubic = image.resize((200, 200), Image.BICUBIC)\n",
        "lanczos = image.resize((200, 200), Image.LANCZOS)\n",
        "\n",
        "# Plotting the images\n",
        "fig, axes = plt.subplots(1, 4, figsize=(12, 3))\n",
        "axes[0].imshow(nearest)\n",
        "axes[0].set_title(\"NEAREST\")\n",
        "axes[0].axis('off')\n",
        "\n",
        "axes[1].imshow(bilinear)\n",
        "axes[1].set_title(\"BILINEAR\")\n",
        "axes[1].axis('off')\n",
        "\n",
        "axes[2].imshow(bicubic)\n",
        "axes[2].set_title(\"BICUBIC\")\n",
        "axes[2].axis('off')\n",
        "\n",
        "axes[3].imshow(lanczos)\n",
        "axes[3].set_title(\"LANCZOS\")\n",
        "axes[3].axis('off')\n",
        "\n",
        "plt.show()"
      ]
    },
    {
      "cell_type": "markdown",
      "id": "5a6f3823",
      "metadata": {
        "id": "5a6f3823"
      },
      "source": [
        "## Resizing a Cropped Image to Maintain Original Size\n",
        "\n",
        "Often, after cropping an image, you may want to resize it back to its original dimensions. This can be done by resizing the cropped image using the original image's dimensions.\n"
      ]
    },
    {
      "cell_type": "code",
      "execution_count": null,
      "id": "0a928286",
      "metadata": {
        "id": "0a928286"
      },
      "outputs": [],
      "source": [
        "original_size = image.size\n",
        "\n",
        "# Crop the image\n",
        "crop_box = (100, 100, 400, 400)\n",
        "cropped_image = image.crop(crop_box)\n",
        "\n",
        "# Resize the cropped image to the original size\n",
        "resized_cropped_image = cropped_image.resize(original_size, Image.LANCZOS)\n",
        "\n",
        "plt.imshow(resized_cropped_image)\n",
        "plt.axis('off')\n",
        "plt.show()"
      ]
    },
    {
      "cell_type": "markdown",
      "id": "b8de2f27",
      "metadata": {
        "id": "b8de2f27"
      },
      "source": [
        "# Image Transformations: Enhancing Contrast, Brightness, Color, and Sharpness with PIL\n",
        "\n",
        "\n",
        "The `ImageEnhance` class in PIL provides a high-level interface for modifying specific properties of an image. It allows for straightforward adjustments to an image's contrast, brightness, color balance, and sharpness, each crucial for refining the visual appeal and clarity of images in various applications.\n",
        "\n",
        "## Contrast Enhancement\n",
        "\n",
        "**What is Contrast?**\n",
        "Contrast refers to the difference in luminance or color that makes an object distinguishable from others in an image. High contrast images have a pronounced distinction between light and dark areas, while low contrast images have a more uniform brightness or color.\n",
        "\n",
        "- **Formula:** NewPixel = ((OriginalPixel - Midpoint) * Factor) + Midpoint\n",
        "- **Factor:** Values greater than 1 increase contrast; values less than 1 decrease it.\n",
        "\n",
        "\n",
        "![image.png](data:image/png;base64,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)"
      ]
    },
    {
      "cell_type": "code",
      "execution_count": null,
      "id": "ccc1d3d9",
      "metadata": {
        "id": "ccc1d3d9"
      },
      "outputs": [],
      "source": [
        "from PIL import ImageEnhance\n",
        "\n",
        "\n",
        "# Enhance contrast\n",
        "enhancer = ImageEnhance.Contrast(image)\n",
        "contrast_image = enhancer.enhance(2)  # Increase contrast\n",
        "\n",
        "plt.imshow(contrast_image)\n",
        "plt.axis('off')\n",
        "plt.show()"
      ]
    },
    {
      "cell_type": "code",
      "execution_count": null,
      "id": "5e473587",
      "metadata": {
        "id": "5e473587"
      },
      "outputs": [],
      "source": [
        "contrast_factors = [0.5, 1.5, 2.0]\n",
        "contrast_images = [ImageEnhance.Contrast(image).enhance(factor) for factor in contrast_factors]\n",
        "\n",
        "# Plot original and contrast-enhanced images\n",
        "plt.figure(figsize=(12, 8))\n",
        "plt.subplot(2, 2, 1)\n",
        "plt.imshow(image)\n",
        "plt.title('Original Image')\n",
        "plt.axis('off')\n",
        "\n",
        "for i, contrast_image in enumerate(contrast_images, start=2):\n",
        "    plt.subplot(2, 2, i)\n",
        "    plt.imshow(contrast_image)\n",
        "    plt.title(f'Contrast Factor: {contrast_factors[i-2]}')\n",
        "    plt.axis('off')\n",
        "\n",
        "plt.tight_layout()\n",
        "plt.show()"
      ]
    },
    {
      "cell_type": "markdown",
      "id": "621fd91a",
      "metadata": {
        "id": "621fd91a"
      },
      "source": [
        "## Brightness Enhancement\n",
        "\n",
        "**What is Brightness?**\n",
        "Brightness is a measure of light intensity in an image. Adjusting brightness changes how light or dark an image appears.\n",
        "\n",
        "\n",
        "- **Formula:** NewPixel = OriginalPixel * Factor\n",
        "- **Factor:** Values greater than 1 brighten the image; values less than 1 darken it.\n",
        "\n"
      ]
    },
    {
      "cell_type": "code",
      "execution_count": null,
      "id": "d9cf6c00",
      "metadata": {
        "id": "d9cf6c00"
      },
      "outputs": [],
      "source": [
        "enhancer = ImageEnhance.Brightness(image)\n",
        "bright_image = enhancer.enhance(1.5)  # Brighten the image\n",
        "\n",
        "plt.imshow(bright_image)\n",
        "plt.axis('off')\n",
        "plt.show()"
      ]
    },
    {
      "cell_type": "code",
      "execution_count": null,
      "id": "f7ff11bf-bd70-4834-8e43-f97bc04589ae",
      "metadata": {
        "id": "f7ff11bf-bd70-4834-8e43-f97bc04589ae"
      },
      "outputs": [],
      "source": [
        "bright_factors = [0.5, 1.5, 2.0]\n",
        "bright_images = [ImageEnhance.Brightness(image).enhance(factor) for factor in bright_factors]\n",
        "\n",
        "# Plot original and contrast-enhanced images\n",
        "plt.figure(figsize=(12, 8))\n",
        "plt.subplot(2, 2, 1)\n",
        "plt.imshow(image)\n",
        "plt.title('Original Image')\n",
        "plt.axis('off')\n",
        "\n",
        "for i, bright_image in enumerate(bright_images, start=2):\n",
        "    plt.subplot(2, 2, i)\n",
        "    plt.imshow(bright_image)\n",
        "    plt.title(f'Bright Factor: {bright_factors[i-2]}')\n",
        "    plt.axis('off')\n",
        "\n",
        "plt.tight_layout()\n",
        "plt.show()"
      ]
    },
    {
      "cell_type": "markdown",
      "id": "ec40c1db",
      "metadata": {
        "id": "ec40c1db"
      },
      "source": [
        "## Color Balance Enhancement\n",
        "\n",
        "**What is Color Balance?**\n",
        "Color balance adjustments affect the intensity and tone of colors in an image. This can be used to correct color casts or to enhance specific color tones.\n",
        "\n",
        "- **Factor:** An enhancement factor of 0.0 gives a black and white image. A factor of 1.0 gives the original image.\n",
        "\n",
        "**Algorithm**\n",
        "- Convert the image to the YIQ color space or a similar space where the luminance (intensity) and color information are separated.\n",
        "The Y channel represents the luminance, while the I and Q channels represent the chrominance (color information).\n",
        "\n",
        "- Modify the I and Q channels based on the given factor. A factor greater than 1 increases the color saturation, making the colors more vivid. A factor less than 1 decreases the color saturation, making the image more grayscale.\n"
      ]
    },
    {
      "cell_type": "code",
      "execution_count": null,
      "id": "3206c9d4",
      "metadata": {
        "id": "3206c9d4"
      },
      "outputs": [],
      "source": [
        "enhancer = ImageEnhance.Color(image)\n",
        "color_enhanced_image = enhancer.enhance(1.2)  # Enhance color\n",
        "\n",
        "plt.imshow(color_enhanced_image)\n",
        "plt.axis('off')\n",
        "plt.show()"
      ]
    },
    {
      "cell_type": "code",
      "execution_count": null,
      "id": "f5beca39-adb3-4f5a-ad3e-7e0d5eaf1949",
      "metadata": {
        "id": "f5beca39-adb3-4f5a-ad3e-7e0d5eaf1949"
      },
      "outputs": [],
      "source": [
        "color_factors = [0.25, 0.75, 1.5]\n",
        "color_images = [ImageEnhance.Color(image).enhance(factor) for factor in color_factors]\n",
        "\n",
        "# Plot original and contrast-enhanced images\n",
        "plt.figure(figsize=(12, 8))\n",
        "plt.subplot(2, 2, 1)\n",
        "plt.imshow(image)\n",
        "plt.title('Original Image')\n",
        "plt.axis('off')\n",
        "\n",
        "for i, color_image in enumerate(color_images, start=2):\n",
        "    plt.subplot(2, 2, i)\n",
        "    plt.imshow(color_image)\n",
        "    plt.title(f'Color Factor: {color_factors[i-2]}')\n",
        "    plt.axis('off')\n",
        "\n",
        "plt.tight_layout()\n",
        "plt.show()"
      ]
    },
    {
      "cell_type": "markdown",
      "id": "7705131a",
      "metadata": {
        "id": "7705131a"
      },
      "source": [
        "## Sharpness Enhancement\n",
        "\n",
        "**What is Sharpness?**\n",
        "Sharpness enhancement increases the clarity of detail in an image by emphasizing edges and fine details.\n",
        "\n",
        "\n",
        "- **Factor:** Values greater than 1 increase sharpness; values less than 1 decrease it."
      ]
    },
    {
      "cell_type": "code",
      "execution_count": null,
      "id": "33e59c67",
      "metadata": {
        "id": "33e59c67"
      },
      "outputs": [],
      "source": [
        "enhancer = ImageEnhance.Sharpness(image)\n",
        "sharp_image = enhancer.enhance(2)  # Sharpen the image\n",
        "\n",
        "plt.imshow(sharp_image)\n",
        "plt.axis('off')\n",
        "plt.show()"
      ]
    },
    {
      "cell_type": "code",
      "execution_count": null,
      "id": "e06b95c0-076d-4f20-85d1-6e0e50181c14",
      "metadata": {
        "id": "e06b95c0-076d-4f20-85d1-6e0e50181c14"
      },
      "outputs": [],
      "source": [
        "sharp_factors = [0, 2, 100]\n",
        "sharp_images = [ImageEnhance.Sharpness(image).enhance(factor) for factor in sharp_factors]\n",
        "\n",
        "# Plot original and contrast-enhanced images\n",
        "plt.figure(figsize=(12, 8))\n",
        "plt.subplot(2, 2, 1)\n",
        "plt.imshow(image)\n",
        "plt.title('Original Image')\n",
        "plt.axis('off')\n",
        "\n",
        "for i, sharp_image in enumerate(sharp_images, start=2):\n",
        "    plt.subplot(2, 2, i)\n",
        "    plt.imshow(sharp_image)\n",
        "    plt.title(f'Sharp Factor: {sharp_factors[i-2]}')\n",
        "    plt.axis('off')\n",
        "\n",
        "plt.tight_layout()\n",
        "plt.show()"
      ]
    },
    {
      "cell_type": "markdown",
      "id": "c033ed75",
      "metadata": {
        "id": "c033ed75"
      },
      "source": [
        "## Interactive Demonstration with ipywidgets\n"
      ]
    },
    {
      "cell_type": "code",
      "execution_count": null,
      "id": "2174dfdb",
      "metadata": {
        "id": "2174dfdb"
      },
      "outputs": [],
      "source": [
        "import ipywidgets as widgets\n",
        "from IPython.display import display\n",
        "import matplotlib.pyplot as plt\n",
        "\n",
        "def interactive_enhancements(brightness, contrast, color, sharpness):\n",
        "    enhancer = ImageEnhance.Brightness(image)\n",
        "    enhanced_image = enhancer.enhance(brightness)\n",
        "\n",
        "    enhancer = ImageEnhance.Contrast(enhanced_image)\n",
        "    enhanced_image = enhancer.enhance(contrast)\n",
        "\n",
        "    enhancer = ImageEnhance.Color(enhanced_image)\n",
        "    enhanced_image = enhancer.enhance(color)\n",
        "\n",
        "    enhancer = ImageEnhance.Sharpness(enhanced_image)\n",
        "    enhanced_image = enhancer.enhance(sharpness)\n",
        "\n",
        "    plt.imshow(enhanced_image)\n",
        "    plt.axis('off')\n",
        "    plt.show()\n",
        "\n",
        "brightness_slider = widgets.FloatSlider(min=0.1, max=2.0, step=0.1, value=1.0, description='Brightness:')\n",
        "contrast_slider = widgets.FloatSlider(min=0.1, max=2.0, step=0.1, value=1.0, description='Contrast:')\n",
        "color_slider = widgets.FloatSlider(min=0.1, max=2.0, step=0.1, value=1.0, description='Color:')\n",
        "sharpness_slider = widgets.FloatSlider(min=0.1, max=2.0, step=0.1, value=1.0, description='Sharpness:')\n",
        "\n",
        "widgets.interactive(interactive_enhancements, brightness=brightness_slider, contrast=contrast_slider, color=color_slider, sharpness=sharpness_slider)"
      ]
    },
    {
      "cell_type": "code",
      "source": [],
      "metadata": {
        "id": "oESEYJ_4NHu0"
      },
      "id": "oESEYJ_4NHu0",
      "execution_count": null,
      "outputs": []
    }
  ],
  "metadata": {
    "kernelspec": {
      "display_name": "Python 3",
      "name": "python3"
    },
    "language_info": {
      "codemirror_mode": {
        "name": "ipython",
        "version": 3
      },
      "file_extension": ".py",
      "mimetype": "text/x-python",
      "name": "python",
      "nbconvert_exporter": "python",
      "pygments_lexer": "ipython3",
      "version": "3.9.15"
    },
    "toc": {
      "base_numbering": 1,
      "nav_menu": {},
      "number_sections": true,
      "sideBar": true,
      "skip_h1_title": false,
      "title_cell": "Table of Contents",
      "title_sidebar": "Contents",
      "toc_cell": false,
      "toc_position": {},
      "toc_section_display": true,
      "toc_window_display": false
    },
    "colab": {
      "provenance": []
    }
  },
  "nbformat": 4,
  "nbformat_minor": 5
}