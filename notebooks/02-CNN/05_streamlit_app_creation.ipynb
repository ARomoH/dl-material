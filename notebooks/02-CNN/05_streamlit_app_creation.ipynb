{
  "nbformat": 4,
  "nbformat_minor": 0,
  "metadata": {
    "colab": {
      "provenance": [],
      "toc_visible": true
    },
    "kernelspec": {
      "name": "python3",
      "display_name": "Python 3"
    },
    "language_info": {
      "name": "python"
    }
  },
  "cells": [
    {
      "cell_type": "markdown",
      "source": [
        "[![Open In Colab](https://colab.research.google.com/assets/colab-badge.svg)](https://colab.research.google.com/drive/1buu-vp2jJh1ZufWefogJISuj9Xq1HG2P?usp=sharing)"
      ],
      "metadata": {
        "id": "FMwwpjKpAV34"
      }
    },
    {
      "cell_type": "markdown",
      "source": [
        "# Streamlit app\n",
        "\n",
        "Create streamlit apps, a faster way to build and share data apps:\n",
        "\n",
        "**Streamlit doc**:\n",
        "- documentation: https://docs.streamlit.io/\n",
        "- main concepts: https://docs.streamlit.io/get-started/fundamentals/main-concepts\n",
        "- app: https://docs.streamlit.io/get-started/tutorials/create-an-app\n",
        "\n",
        "\n",
        "**Huggingface doc**:\n",
        "\n",
        "- HF space tutorial: https://huggingface.co/docs/hub/spaces-overview\n",
        "- HF streamlit space tutorial: https://huggingface.co/docs/hub/spaces-sdks-streamlit\n",
        "- HF model: https://huggingface.co/julien-c/hotdog-not-hotdog\n"
      ],
      "metadata": {
        "id": "K4AeZHAauzkW"
      }
    },
    {
      "cell_type": "code",
      "execution_count": 1,
      "metadata": {
        "id": "IJYpHYyLn8qm"
      },
      "outputs": [],
      "source": [
        "!pip install -q transformers streamlit"
      ]
    },
    {
      "cell_type": "code",
      "source": [
        "!npm install localtunnel"
      ],
      "metadata": {
        "id": "adUXfTvKyIS0"
      },
      "execution_count": 17,
      "outputs": []
    },
    {
      "cell_type": "markdown",
      "source": [
        "## Create first streamlit app"
      ],
      "metadata": {
        "id": "SB3HYHasytTc"
      }
    },
    {
      "cell_type": "code",
      "source": [
        "%%writefile app.py\n",
        "# write the code in app.py file\n",
        "\n",
        "import streamlit as st\n",
        "import pandas as pd\n",
        "\n",
        "# Page title\n",
        "st.title('My First Streamlit App')\n",
        "\n",
        "# Write anithing within the page\n",
        "st.write('Welcome to my Streamlit app!')\n"
      ],
      "metadata": {
        "colab": {
          "base_uri": "https://localhost:8080/"
        },
        "id": "x8wX3_McysCU",
        "outputId": "3498e049-785d-4009-ff1b-349335066f84"
      },
      "execution_count": 3,
      "outputs": [
        {
          "output_type": "stream",
          "name": "stdout",
          "text": [
            "Overwriting app.py\n"
          ]
        }
      ]
    },
    {
      "cell_type": "code",
      "source": [
        "# Execute page\n",
        "!streamlit run app.py &>/content/logs.txt & npx localtunnel --port 8501 & curl ipv4.icanhazip.com"
      ],
      "metadata": {
        "id": "rtZj7TcIzjoy"
      },
      "execution_count": 16,
      "outputs": []
    },
    {
      "cell_type": "markdown",
      "source": [
        "## Interact with users"
      ],
      "metadata": {
        "id": "kwtYU9Fk0eNO"
      }
    },
    {
      "cell_type": "code",
      "source": [
        "%%writefile app.py\n",
        "\n",
        "import streamlit as st\n",
        "import pandas as pd\n",
        "\n",
        "# Ask user to insert data --> Hello, Streamlit! would be default value\n",
        "user_input = st.text_input('Enter a custom message:', 'Hello, Streamlit!')\n",
        "\n",
        "# Display user data\n",
        "st.write('Customized Message:', user_input)"
      ],
      "metadata": {
        "colab": {
          "base_uri": "https://localhost:8080/"
        },
        "id": "x9_ZVvgA0bOV",
        "outputId": "61d5831f-b009-4000-b79d-bdae5b01db18"
      },
      "execution_count": 5,
      "outputs": [
        {
          "output_type": "stream",
          "name": "stdout",
          "text": [
            "Overwriting app.py\n"
          ]
        }
      ]
    },
    {
      "cell_type": "code",
      "source": [
        "# Execute page\n",
        "!streamlit run app.py &>/content/logs.txt & npx localtunnel --port 8501 & curl ipv4.icanhazip.com"
      ],
      "metadata": {
        "id": "NmGB18Qv0hx4"
      },
      "execution_count": 15,
      "outputs": []
    },
    {
      "cell_type": "markdown",
      "source": [
        "## Interact and manipulate data"
      ],
      "metadata": {
        "id": "_n72otDQ0i7y"
      }
    },
    {
      "cell_type": "code",
      "source": [
        "%%writefile app.py\n",
        "\n",
        "import streamlit as st\n",
        "import pandas as pd\n",
        "import numpy as np\n",
        "\n",
        "# Write pandas dataframes\n",
        "st.write(\"Here's our first attempt at using data to create a table:\")\n",
        "st.write(pd.DataFrame({\n",
        "    'first column': [1, 2, 3, 4],\n",
        "    'second column': [10, 20, 30, 40]\n",
        "}))\n",
        "\n",
        "# Display line charts\n",
        "chart_data = pd.DataFrame(\n",
        "     np.random.randn(20, 3),\n",
        "     columns=['a', 'b', 'c'])\n",
        "\n",
        "st.line_chart(chart_data)\n",
        "\n",
        "# Display maps\n",
        "map_data = pd.DataFrame(\n",
        "    np.random.randn(1000, 2) / [50, 50] + [37.76, -122.4],\n",
        "    columns=['lat', 'lon'])\n",
        "\n",
        "st.map(map_data)"
      ],
      "metadata": {
        "colab": {
          "base_uri": "https://localhost:8080/"
        },
        "id": "1jNKUKJ10g7N",
        "outputId": "e703ba21-c45c-4a9a-e454-24224458006c"
      },
      "execution_count": 9,
      "outputs": [
        {
          "output_type": "stream",
          "name": "stdout",
          "text": [
            "Overwriting app.py\n"
          ]
        }
      ]
    },
    {
      "cell_type": "code",
      "source": [
        "# Execute page\n",
        "!streamlit run app.py &>/content/logs.txt & npx localtunnel --port 8501 & curl ipv4.icanhazip.com"
      ],
      "metadata": {
        "id": "J_14w4hF0lUL"
      },
      "execution_count": 14,
      "outputs": []
    },
    {
      "cell_type": "markdown",
      "source": [
        "## Create widgets"
      ],
      "metadata": {
        "id": "UVDcQs1R089s"
      }
    },
    {
      "cell_type": "code",
      "source": [
        "%%writefile app.py\n",
        "\n",
        "import streamlit as st\n",
        "\n",
        "x = st.slider('x')  # 👈 this is a widget\n",
        "st.write(x, 'squared is', x * x)"
      ],
      "metadata": {
        "colab": {
          "base_uri": "https://localhost:8080/"
        },
        "id": "ogyCKWV607O4",
        "outputId": "05602a87-5989-4d4c-aaf8-b0072f2c5b40"
      },
      "execution_count": 11,
      "outputs": [
        {
          "output_type": "stream",
          "name": "stdout",
          "text": [
            "Overwriting app.py\n"
          ]
        }
      ]
    },
    {
      "cell_type": "code",
      "source": [
        "# Execute page\n",
        "!streamlit run app.py &>/content/logs.txt & npx localtunnel --port 8501 & curl ipv4.icanhazip.com"
      ],
      "metadata": {
        "id": "boW4GbOz08Vq"
      },
      "execution_count": 13,
      "outputs": []
    },
    {
      "cell_type": "markdown",
      "source": [
        "## Create layout"
      ],
      "metadata": {
        "id": "PZ9QLNyvBhPF"
      }
    },
    {
      "cell_type": "code",
      "source": [
        "%%writefile app.py\n",
        "\n",
        "import streamlit as st\n",
        "\n",
        "left_column, right_column = st.columns(2)\n",
        "# You can use a column just like st.sidebar:\n",
        "left_column.button('Press me!')\n",
        "\n",
        "# Or even better, call Streamlit functions inside a \"with\" block:\n",
        "with right_column:\n",
        "    chosen = st.radio(\n",
        "        'Sorting hat',\n",
        "        (\"Gryffindor\", \"Ravenclaw\", \"Hufflepuff\", \"Slytherin\"))\n",
        "    st.write(f\"You are in {chosen} house!\")"
      ],
      "metadata": {
        "colab": {
          "base_uri": "https://localhost:8080/"
        },
        "id": "gYJjonIpBguG",
        "outputId": "530214f3-15d2-4da1-813f-edf424b0ad74"
      },
      "execution_count": 18,
      "outputs": [
        {
          "output_type": "stream",
          "name": "stdout",
          "text": [
            "Overwriting app.py\n"
          ]
        }
      ]
    },
    {
      "cell_type": "code",
      "source": [
        "# Execute page\n",
        "!streamlit run app.py &>/content/logs.txt & npx localtunnel --port 8501 & curl ipv4.icanhazip.com"
      ],
      "metadata": {
        "id": "2OGKvbaQBf_m"
      },
      "execution_count": 20,
      "outputs": []
    },
    {
      "cell_type": "markdown",
      "source": [
        "## Image model app to connect with checkpoint"
      ],
      "metadata": {
        "id": "t7XJOe5tyTeY"
      }
    },
    {
      "cell_type": "code",
      "source": [
        "%%writefile app.py\n",
        "\n",
        "import streamlit as st\n",
        "from transformers import pipeline\n",
        "from PIL import Image\n",
        "\n",
        "pipeline = pipeline(task=\"image-classification\", model=\"julien-c/hotdog-not-hotdog\")\n",
        "\n",
        "st.title(\"Hot Dog? Or Not?\")\n",
        "\n",
        "file_name = st.file_uploader(\"Upload a hot dog candidate image\")\n",
        "\n",
        "if file_name is not None:\n",
        "    col1, col2 = st.columns(2)\n",
        "\n",
        "    image = Image.open(file_name)\n",
        "    col1.image(image, use_column_width=True)\n",
        "    predictions = pipeline(image)\n",
        "\n",
        "    col2.header(\"Probabilities\")\n",
        "    for p in predictions:\n",
        "        col2.subheader(f\"{ p['label'] }: { round(p['score'] * 100, 1)}%\")"
      ],
      "metadata": {
        "colab": {
          "base_uri": "https://localhost:8080/"
        },
        "id": "Gyt7sE6_oTn8",
        "outputId": "ae58b0f8-ac94-4427-ac63-1277026f36f2"
      },
      "execution_count": 10,
      "outputs": [
        {
          "output_type": "stream",
          "name": "stdout",
          "text": [
            "Overwriting app.py\n"
          ]
        }
      ]
    },
    {
      "cell_type": "code",
      "source": [
        "# Execute page\n",
        "!streamlit run app.py &>/content/logs.txt & npx localtunnel --port 8501 & curl ipv4.icanhazip.com"
      ],
      "metadata": {
        "id": "VCddyJfVobvA"
      },
      "execution_count": 21,
      "outputs": []
    },
    {
      "cell_type": "code",
      "source": [],
      "metadata": {
        "id": "WhdwXXz0ub2l"
      },
      "execution_count": null,
      "outputs": []
    }
  ]
}