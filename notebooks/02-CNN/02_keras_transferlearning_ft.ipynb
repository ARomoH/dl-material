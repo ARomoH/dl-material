{
  "cells": [
    {
      "cell_type": "markdown",
      "metadata": {
        "id": "i1dM2WkSbKez"
      },
      "source": [
        "[![Open In Colab](https://colab.research.google.com/assets/colab-badge.svg)](https://colab.research.google.com/drive/1y7lGPSAkp9kooSlaKyFgzBllXhRmnReC?usp=sharing)"
      ]
    },
    {
      "cell_type": "markdown",
      "metadata": {
        "id": "cZIOuIN8bKfY"
      },
      "source": [
        "# Transfer learning\n",
        "\n",
        "With transfer learning, you benefit from both advanced convolutional neural network architectures developed by top researchers and from pre-training on a huge dataset of images. In our case we will be transfer learning from a network trained on ImageNet, a database of images containing many plants and outdoors scenes, which is close enough to flowers.\n",
        "\n",
        "<img src=\"https://i.ibb.co/KsLSGyt/transfer-learning.png\" alt=\"transfer-learning\" border=\"0\">"
      ]
    },
    {
      "cell_type": "markdown",
      "metadata": {
        "id": "ALLY2jihbKfY"
      },
      "source": [
        "[MobileNetV2](https://arxiv.org/abs/1801.04381) is a significant improvement over MobileNetV1 and pushes the state of the art for mobile visual recognition including classification, object detection and semantic segmentation.\n",
        "\n",
        "In [`tf.keras.applications`](https://www.tensorflow.org/api_docs/python/tf/keras/applications) you have many pre-trained models. You can compare them [here](https://keras.io/api/applications/#available-models).\n",
        "\n",
        "With the parameter `include_top=False`, you can delete the last `softmax` layer.\n",
        "\n",
        "With `pretrained_model.trainable = False`, you freeze the pre-trained model weights."
      ]
    },
    {
      "cell_type": "code",
      "source": [
        "%matplotlib inline\n",
        "\n",
        "import pathlib\n",
        "import tensorflow as tf\n",
        "from tensorflow.keras import layers\n",
        "from tensorflow import keras\n",
        "import pandas as pd\n",
        "import numpy as np\n",
        "import matplotlib.pyplot as plt"
      ],
      "metadata": {
        "id": "nHQFUbPmcJUC"
      },
      "execution_count": null,
      "outputs": []
    },
    {
      "cell_type": "code",
      "source": [
        "def show_loss_accuracy_evolution(history):\n",
        "\n",
        "    hist = pd.DataFrame(history.history)\n",
        "    hist['epoch'] = history.epoch\n",
        "\n",
        "    fig, (ax1, ax2) = plt.subplots(1, 2, figsize=(16, 6))\n",
        "\n",
        "    ax1.set_xlabel('Epoch')\n",
        "    ax1.set_ylabel('Sparse Categorical Crossentropy')\n",
        "    ax1.plot(hist['epoch'], hist['loss'], label='Train Error')\n",
        "    ax1.plot(hist['epoch'], hist['val_loss'], label = 'Val Error')\n",
        "    ax1.grid()\n",
        "    ax1.legend()\n",
        "\n",
        "    ax2.set_xlabel('Epoch')\n",
        "    ax2.set_ylabel('Accuracy')\n",
        "    ax2.plot(hist['epoch'], hist['accuracy'], label='Train Accuracy')\n",
        "    ax2.plot(hist['epoch'], hist['val_accuracy'], label = 'Val Accuracy')\n",
        "    ax2.grid()\n",
        "    ax2.legend()\n",
        "\n",
        "    plt.show()\n",
        "\n",
        "def show_errors(val_ds, model, class_names_list, n_images=10):\n",
        "    n_plots = 0\n",
        "    for images, labels in val_ds:\n",
        "        pred_probs = model.predict(images)\n",
        "        preds = pred_probs.argmax(axis=-1)\n",
        "        bad_pred_inds = np.where(preds != labels)[0]\n",
        "        for ind in list(bad_pred_inds):\n",
        "            n_plots += 1\n",
        "            real_class = class_names_list[labels[ind].numpy()]\n",
        "            pred_class = class_names_list[preds[ind]]\n",
        "            prob = pred_probs[ind].max()\n",
        "            prob_real = pred_probs[ind][[\n",
        "                i for i, c in enumerate(class_names_list) if c == real_class\n",
        "            ][0]]\n",
        "            plt.imshow(images[ind].numpy().astype(\"uint8\"))\n",
        "            plt.title(\n",
        "                'Predicted: {0}, prob: {1:.2f} \\n real: {2}, prob: {3:.2f}'\n",
        "                .format(pred_class, prob, real_class, prob_real))\n",
        "            plt.show()\n",
        "\n",
        "            if n_plots == n_images:\n",
        "                return\n",
        "    return"
      ],
      "metadata": {
        "id": "WCkgkKcBdiMa"
      },
      "execution_count": null,
      "outputs": []
    },
    {
      "cell_type": "code",
      "source": [
        "image_size = (96,96)\n",
        "dataset_url = 'https://storage.googleapis.com/download.tensorflow.org/example_images/flower_photos.tgz'\n",
        "data_dir = tf.keras.utils.get_file('flower_photos', origin=dataset_url, untar=True)\n",
        "data_dir = pathlib.Path(data_dir)\n",
        "\n",
        "train_ds = tf.keras.preprocessing.image_dataset_from_directory(\n",
        "  data_dir,\n",
        "  validation_split=0.2,  # 80%  train, 20% validation\n",
        "  subset='training',  # 'training' o 'validation', only  with 'validation_split'\n",
        "  seed=1,\n",
        "  image_size=image_size,  # Dimension (img_height, img_width) for rescaling\n",
        "  batch_size=64\n",
        ")\n",
        "\n",
        "val_ds = tf.keras.preprocessing.image_dataset_from_directory(\n",
        "  data_dir,\n",
        "  validation_split=0.2,\n",
        "  subset='validation',\n",
        "  seed=1,\n",
        "  image_size=image_size,\n",
        "  batch_size=64)\n",
        "\n",
        "class_names_list = train_ds.class_names"
      ],
      "metadata": {
        "id": "hLuaHduYcp73"
      },
      "execution_count": null,
      "outputs": []
    },
    {
      "cell_type": "code",
      "execution_count": null,
      "metadata": {
        "id": "ACSKPySGbKfY"
      },
      "outputs": [],
      "source": [
        "image_size = (96,96)\n",
        "\n",
        "pretrained_model = tf.keras.applications.MobileNetV2(input_shape=image_size+(3,), include_top=False)\n",
        "pretrained_model.trainable = False\n",
        "pretrained_model.summary()"
      ]
    },
    {
      "cell_type": "markdown",
      "metadata": {
        "id": "Q3tjWp6hbKfZ"
      },
      "source": [
        "We need to use the same **preprocessing** as in the model"
      ]
    },
    {
      "cell_type": "code",
      "execution_count": null,
      "metadata": {
        "id": "N1S5RTWmbKfZ"
      },
      "outputs": [],
      "source": [
        "preprocess_input = tf.keras.applications.mobilenet_v2.preprocess_input"
      ]
    },
    {
      "cell_type": "markdown",
      "metadata": {
        "id": "PHizL8lMbKfZ"
      },
      "source": [
        "You define your new model adding more layers"
      ]
    },
    {
      "cell_type": "code",
      "execution_count": null,
      "metadata": {
        "id": "cQwxxst-bKfZ"
      },
      "outputs": [],
      "source": [
        "inputs = tf.keras.Input(shape=image_size + (3, ), name='input')\n",
        "\n",
        "# pre-trained model\n",
        "x = preprocess_input(inputs)\n",
        "x = pretrained_model(x)\n",
        "\n",
        "# classifier\n",
        "flat = tf.keras.layers.Flatten()(x)\n",
        "flat = tf.keras.layers.Dropout(0.5)(flat)\n",
        "outputs = tf.keras.layers.Dense(5, activation='softmax')(flat)\n",
        "\n",
        "model_tl = tf.keras.Model(inputs, outputs)\n",
        "model_tl.summary()"
      ]
    },
    {
      "cell_type": "code",
      "execution_count": null,
      "metadata": {
        "id": "6J06lPnCbKfZ"
      },
      "outputs": [],
      "source": [
        "model_tl.compile(\n",
        "    optimizer='adam',\n",
        "    loss=tf.keras.losses.SparseCategoricalCrossentropy(),\n",
        "    metrics=['accuracy']\n",
        ")"
      ]
    },
    {
      "cell_type": "code",
      "execution_count": null,
      "metadata": {
        "id": "W8VUCp4YbKfZ"
      },
      "outputs": [],
      "source": [
        "epochs = 5\n",
        "history = model_tl.fit(\n",
        "  train_ds,\n",
        "  validation_data=val_ds,\n",
        "  epochs=epochs\n",
        ")"
      ]
    },
    {
      "cell_type": "code",
      "execution_count": null,
      "metadata": {
        "id": "LNugqanvbKfa"
      },
      "outputs": [],
      "source": [
        "show_loss_accuracy_evolution(history)"
      ]
    },
    {
      "cell_type": "code",
      "execution_count": null,
      "metadata": {
        "id": "wQM8cdKHbKfa"
      },
      "outputs": [],
      "source": [
        "show_errors(val_ds, model_tl, class_names_list, n_images=10)"
      ]
    },
    {
      "cell_type": "code",
      "execution_count": null,
      "metadata": {
        "id": "haRVjKSubKfa"
      },
      "outputs": [],
      "source": [
        "from tensorflow.keras.utils import plot_model\n",
        "plot_model(model_tl, show_shapes=True)"
      ]
    },
    {
      "cell_type": "code",
      "execution_count": null,
      "metadata": {
        "id": "cFTCqkrsbKfa"
      },
      "outputs": [],
      "source": [
        "inputs = tf.keras.Input(shape=image_size+(3, ), name='input')\n",
        "\n",
        "#data_aug = data_augmentation(inputs)\n",
        "reescaling = preprocess_input(inputs)\n",
        "\n",
        "# Conv Layer 1\n",
        "conv_1 = layers.Conv2D(16, 3, padding='valid',\n",
        "                       activation='relu', name='conv_1')(reescaling)\n",
        "pool_1 = layers.MaxPooling2D(pool_size=(\n",
        "    2, 2),  name='pool_1')(conv_1)\n",
        "pool_1 = layers.Dropout(0.4)(pool_1)\n",
        "\n",
        "# Conv Layer 2\n",
        "conv_2 = layers.Conv2D(16, 3, padding='valid',\n",
        "                       activation='relu', name='conv_2')(pool_1)\n",
        "pool_2 = layers.MaxPooling2D(name='pool_2')(conv_2)\n",
        "pool_2 = layers.Dropout(0.4)(pool_2)\n",
        "\n",
        "# Conv Layer 3\n",
        "conv_3 = layers.Conv2D(16, 3, padding='valid',\n",
        "                       activation='relu', name='conv_3')(pool_2)\n",
        "pool_3 = layers.MaxPooling2D(name='pool_3')(conv_3)\n",
        "pool_3 = layers.Dropout(0.4)(pool_3)\n",
        "\n",
        "# Fully-connected\n",
        "x1 = layers.Flatten(name='flatten')(pool_3)\n",
        "\n",
        "x2 = pretrained_model(reescaling, training=False)\n",
        "x2 = tf.keras.layers.Flatten()(x2)\n",
        "\n",
        "x = tf.keras.layers.Concatenate()([x1, x2])\n",
        "x = layers.Dropout(0.4)(x)\n",
        "x = layers.Dense(64, activation='relu', name='dense')(x)\n",
        "# A Dense classifier with a single unit (binary classification\n",
        "outputs = tf.keras.layers.Dense(5, activation='softmax')(x)\n",
        "model_tl = keras.Model(inputs, outputs)"
      ]
    },
    {
      "cell_type": "code",
      "execution_count": null,
      "metadata": {
        "id": "G21eOFeVbKfb"
      },
      "outputs": [],
      "source": [
        "from tensorflow.keras.utils import plot_model\n",
        "plot_model(model_tl, show_shapes=True)"
      ]
    },
    {
      "cell_type": "code",
      "execution_count": null,
      "metadata": {
        "id": "sHRZh2JlbKfb"
      },
      "outputs": [],
      "source": [
        "model_tl.compile(\n",
        "    optimizer='adam',\n",
        "    loss=tf.keras.losses.SparseCategoricalCrossentropy(),\n",
        "    metrics=['accuracy']\n",
        ")\n",
        "epochs = 10\n",
        "history = model_tl.fit(\n",
        "  train_ds,\n",
        "  validation_data=val_ds,\n",
        "  epochs=epochs\n",
        ")"
      ]
    },
    {
      "cell_type": "code",
      "execution_count": null,
      "metadata": {
        "id": "HQcimixKbKfb"
      },
      "outputs": [],
      "source": [
        "show_errors(val_ds, model_tl, class_names_list, n_images=10)"
      ]
    },
    {
      "cell_type": "markdown",
      "metadata": {
        "id": "c-Nz29_jbKfb"
      },
      "source": [
        "### Fine-tuning"
      ]
    },
    {
      "cell_type": "code",
      "execution_count": null,
      "metadata": {
        "id": "tEYiaMdsbKfc"
      },
      "outputs": [],
      "source": [
        "epochs = 20\n",
        "\n",
        "data_augmentation = keras.Sequential(\n",
        "  [\n",
        "    layers.RandomFlip(\"horizontal_and_vertical\"),\n",
        "    layers.RandomRotation(0.25),\n",
        "    layers.RandomZoom(0.25),\n",
        "    layers.RandomContrast(0.1),\n",
        "    layers.RandomBrightness(factor=0.2)\n",
        "  ]\n",
        ")\n",
        "\n",
        "model_tl = tf.keras.Sequential([\n",
        "    data_augmentation,\n",
        "    layers.Rescaling(1./255),\n",
        "    tf.keras.applications.MobileNetV2(input_shape=image_size+(3, ), include_top=False),\n",
        "    tf.keras.layers.Flatten(),\n",
        "    tf.keras.layers.Dropout(0.5),\n",
        "    tf.keras.layers.Dense(5, activation='softmax')\n",
        "])\n",
        "model_tl.compile(\n",
        "    optimizer=tf.keras.optimizers.Adam(learning_rate=0.0002),\n",
        "    loss=tf.keras.losses.SparseCategoricalCrossentropy(),\n",
        "    metrics=['accuracy']\n",
        ")\n",
        "history = model_tl.fit(\n",
        "  train_ds,\n",
        "  validation_data=val_ds,\n",
        "  epochs=epochs\n",
        ")"
      ]
    },
    {
      "cell_type": "markdown",
      "metadata": {
        "id": "CgnZqbTCbKfc"
      },
      "source": [
        "## Practice: Fashion MNIST Try to obtain  `Test Accuracy>0.89`!!\n",
        "\n",
        "Fashion MNIST dataset contains 70,000 grayscale images with 10 categories. The images show individual articles of clothing at low resolution (28 by 28 pixels).\n",
        "\n",
        "<table>\n",
        "  <tr><td>\n",
        "    <img src=\"https://tensorflow.org/images/fashion-mnist-sprite.png\"\n",
        "         alt=\"Fashion MNIST sprite\"  width=\"300\">\n",
        "  </td></tr>\n",
        "  <tr><td align=\"center\">\n",
        "    <b>Figure 1.</b> <a href=\"https://github.com/zalandoresearch/fashion-mnist\">Fashion-MNIST samples</a> (by Zalando, MIT License).<br/>&nbsp;\n",
        "  </td></tr>\n",
        "</table>\n",
        "\n",
        "**Categories**:\n",
        "<table>\n",
        "  <tr>\n",
        "    <th>Label</th>\n",
        "    <th>Class</th>\n",
        "  </tr>\n",
        "  <tr>\n",
        "    <td>0</td>\n",
        "    <td>T-shirt/top</td>\n",
        "  </tr>\n",
        "  <tr>\n",
        "    <td>1</td>\n",
        "    <td>Trouser</td>\n",
        "  </tr>\n",
        "    <tr>\n",
        "    <td>2</td>\n",
        "    <td>Pullover</td>\n",
        "  </tr>\n",
        "    <tr>\n",
        "    <td>3</td>\n",
        "    <td>Dress</td>\n",
        "  </tr>\n",
        "    <tr>\n",
        "    <td>4</td>\n",
        "    <td>Coat</td>\n",
        "  </tr>\n",
        "    <tr>\n",
        "    <td>5</td>\n",
        "    <td>Sandal</td>\n",
        "  </tr>\n",
        "    <tr>\n",
        "    <td>6</td>\n",
        "    <td>Shirt</td>\n",
        "  </tr>\n",
        "    <tr>\n",
        "    <td>7</td>\n",
        "    <td>Sneaker</td>\n",
        "  </tr>\n",
        "    <tr>\n",
        "    <td>8</td>\n",
        "    <td>Bag</td>\n",
        "  </tr>\n",
        "    <tr>\n",
        "    <td>9</td>\n",
        "    <td>Ankle boot</td>\n",
        "  </tr>\n",
        "</table>"
      ]
    },
    {
      "cell_type": "code",
      "execution_count": null,
      "metadata": {
        "id": "t1DTyW_nbKfc"
      },
      "outputs": [],
      "source": [
        "# Load the dataset\n",
        "fashion_mnist = tf.keras.datasets.fashion_mnist\n",
        "\n",
        "(train_images, train_labels), (test_images,\n",
        "                               test_labels) = fashion_mnist.load_data()\n",
        "\n",
        "print('train_images shape: {0}, test_images shape: {1}'.format(\n",
        "    train_images.shape, test_images.shape))"
      ]
    },
    {
      "cell_type": "code",
      "execution_count": null,
      "metadata": {
        "id": "1c-Qv0nlbKfd"
      },
      "outputs": [],
      "source": [
        "class_names = [\n",
        "    'T-shirt/top', 'Trouser', 'Pullover', 'Dress', 'Coat', 'Sandal', 'Shirt',\n",
        "    'Sneaker', 'Bag', 'Ankle boot'\n",
        "]"
      ]
    },
    {
      "cell_type": "code",
      "execution_count": null,
      "metadata": {
        "id": "w7OHl_v4bKfd"
      },
      "outputs": [],
      "source": [
        "plt.figure(figsize=(10,10))\n",
        "for i in range(25):\n",
        "    plt.subplot(5,5,i+1)\n",
        "    plt.xticks([])\n",
        "    plt.yticks([])\n",
        "    plt.grid(False)\n",
        "    plt.imshow(train_images[i], cmap='gray')\n",
        "    plt.xlabel(class_names[train_labels[i]])\n",
        "plt.show()"
      ]
    },
    {
      "cell_type": "code",
      "execution_count": null,
      "metadata": {
        "id": "gFgu_QvEbKfd"
      },
      "outputs": [],
      "source": [
        "data_augmentation = keras.Sequential(\n",
        "  [\n",
        "    layers.experimental.preprocessing.RandomFlip(),\n",
        "    layers.experimental.preprocessing.RandomRotation(0.25),\n",
        "  ]\n",
        ")\n",
        "\n",
        "data_augmentation = keras.Sequential(\n",
        "  [\n",
        "    layers.experimental.preprocessing.RandomFlip(),\n",
        "  ]\n",
        ")"
      ]
    },
    {
      "cell_type": "code",
      "execution_count": null,
      "metadata": {
        "id": "Muc74lC-bKfd"
      },
      "outputs": [],
      "source": [
        "inputs = tf.keras.Input(shape=(28, 28, 1), name='input')\n",
        "#aug = data_augmentation(inputs)\n",
        "reescaling = layers.Rescaling(1. / 255)(inputs)\n",
        "...\n",
        "model = keras.Model(inputs=inputs, outputs=outputs, name='cnn_mnist')"
      ]
    },
    {
      "cell_type": "code",
      "execution_count": null,
      "metadata": {
        "id": "F_HDKIzFbKfe"
      },
      "outputs": [],
      "source": [
        "### compile the model\n",
        "model.compile(optimizer='adam',\n",
        "              loss=tf.keras.losses.SparseCategoricalCrossentropy(),\n",
        "              metrics=['accuracy'])"
      ]
    },
    {
      "cell_type": "code",
      "execution_count": null,
      "metadata": {
        "id": "9CiI-EiJbKfe"
      },
      "outputs": [],
      "source": [
        "### train\n",
        "model.fit(train_images, train_labels,\n",
        "          epochs=7, batch_size=32, validation_split=0.2)"
      ]
    },
    {
      "cell_type": "code",
      "execution_count": null,
      "metadata": {
        "id": "FkioqLLhbKfe"
      },
      "outputs": [],
      "source": [
        "results = model.evaluate(test_images, test_labels, verbose=1)\n",
        "print('Test Loss: {}'.format(results[0]))\n",
        "print('Test Accuracy: {}'.format(results[1]))"
      ]
    },
    {
      "cell_type": "markdown",
      "metadata": {
        "id": "AwQ6N4WRbKfe"
      },
      "source": [
        "### Plotting predictions"
      ]
    },
    {
      "cell_type": "code",
      "execution_count": null,
      "metadata": {
        "id": "W9lhNMA2bKfe"
      },
      "outputs": [],
      "source": [
        "predictions = model.predict(test_images)\n",
        "predicted_classes = np.argmax(predictions, -1)\n",
        "predictions.shape, predicted_classes.shape\n",
        "predictions[i,:]"
      ]
    },
    {
      "cell_type": "code",
      "execution_count": null,
      "metadata": {
        "id": "QQNNQTG-bKff"
      },
      "outputs": [],
      "source": [
        "L = 5\n",
        "W = 5\n",
        "fig, axes = plt.subplots(L, W, figsize=(18, 18))\n",
        "axes = axes.ravel()\n",
        "\n",
        "for i in np.arange(0, L * W):\n",
        "    axes[i].imshow(test_images[i].reshape(28, 28))\n",
        "    prob_pred = np.max(predictions[i, :])\n",
        "    class_pred = class_names[int(predicted_classes[i])]\n",
        "    original_class = class_names[int(test_labels[i])]\n",
        "    if class_pred == original_class:\n",
        "        color = 'green'\n",
        "    else:\n",
        "        color = 'red'\n",
        "    title = \"Pred: {0} \\n Target: {1} \\n Prob: {2:.3f}\".format(\n",
        "    class_pred, original_class, prob_pred)\n",
        "    axes[i].set_title(title, color=color)\n",
        "    axes[i].axis('off')\n",
        "\n",
        "plt.subplots_adjust(wspace=0.5)"
      ]
    },
    {
      "cell_type": "code",
      "source": [],
      "metadata": {
        "id": "RtAbV9UxeWk_"
      },
      "execution_count": null,
      "outputs": []
    }
  ],
  "metadata": {
    "kernelspec": {
      "display_name": "Python 3.9 (tensorflow)",
      "language": "python",
      "name": "tensorflow"
    },
    "language_info": {
      "codemirror_mode": {
        "name": "ipython",
        "version": 3
      },
      "file_extension": ".py",
      "mimetype": "text/x-python",
      "name": "python",
      "nbconvert_exporter": "python",
      "pygments_lexer": "ipython3",
      "version": "3.9.7"
    },
    "latex_envs": {
      "LaTeX_envs_menu_present": true,
      "autoclose": false,
      "autocomplete": true,
      "bibliofile": "biblio.bib",
      "cite_by": "apalike",
      "current_citInitial": 1,
      "eqLabelWithNumbers": true,
      "eqNumInitial": 1,
      "hotkeys": {
        "equation": "Ctrl-E",
        "itemize": "Ctrl-I"
      },
      "labels_anchors": false,
      "latex_user_defs": false,
      "report_style_numbering": false,
      "user_envs_cfg": false
    },
    "toc": {
      "base_numbering": 1,
      "nav_menu": {},
      "number_sections": true,
      "sideBar": true,
      "skip_h1_title": false,
      "title_cell": "Table of Contents",
      "title_sidebar": "Contents",
      "toc_cell": false,
      "toc_position": {},
      "toc_section_display": true,
      "toc_window_display": false
    },
    "colab": {
      "provenance": [],
      "gpuType": "T4"
    },
    "accelerator": "GPU"
  },
  "nbformat": 4,
  "nbformat_minor": 0
}