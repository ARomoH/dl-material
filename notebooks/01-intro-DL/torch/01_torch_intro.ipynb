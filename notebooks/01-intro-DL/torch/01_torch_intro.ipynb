{
  "cells": [
    {
      "cell_type": "markdown",
      "source": [
        "[![Open In Colab](https://colab.research.google.com/assets/colab-badge.svg)](https://colab.research.google.com/drive/1sjr0InSVTUiccDi_0mnm5gWDbQGTfxfo?usp=sharing)"
      ],
      "metadata": {
        "id": "4HpBXo7_uVJY"
      }
    },
    {
      "cell_type": "markdown",
      "metadata": {
        "id": "rtdxyDSJs1Xo"
      },
      "source": [
        "# Tensors\n",
        "\n",
        "Tensors are n-dimensional arrays of numbers and serve as the foundational elements in machine learning. Their role is to represent data numerically..\n",
        "\n",
        "https://github.com/MinyoungHer/Pytorch-study\n",
        "\n",
        "<img src=\"https://raw.githubusercontent.com/mrdbourke/pytorch-deep-learning/main/images/00-scalar-vector-matrix-tensor.png\" alt=\"image\" style=\"max-width:100px; max-height:100px;\">"
      ]
    },
    {
      "cell_type": "code",
      "source": [
        "import torch"
      ],
      "metadata": {
        "id": "8ynBOQyrHCtx"
      },
      "execution_count": null,
      "outputs": []
    },
    {
      "cell_type": "code",
      "source": [
        "# scalar\n",
        "scalar = torch.tensor(17)\n",
        "print(scalar)\n",
        "print(scalar.ndim)\n",
        "print(scalar.item())"
      ],
      "metadata": {
        "colab": {
          "base_uri": "https://localhost:8080/"
        },
        "id": "gfyh84HMKLGd",
        "outputId": "b3d69278-3567-4f5f-d508-bbe45ca200b3"
      },
      "execution_count": null,
      "outputs": [
        {
          "output_type": "stream",
          "name": "stdout",
          "text": [
            "tensor(17)\n",
            "0\n",
            "17\n"
          ]
        }
      ]
    },
    {
      "cell_type": "code",
      "source": [
        "# vector\n",
        "vector = torch.tensor([17, 14])\n",
        "print(vector)\n",
        "print(vector.ndim)\n",
        "print(vector.shape)"
      ],
      "metadata": {
        "colab": {
          "base_uri": "https://localhost:8080/"
        },
        "id": "QE-jD0GnKSXX",
        "outputId": "4b220f9a-9007-4d2d-c98a-8d18d0756ad6"
      },
      "execution_count": null,
      "outputs": [
        {
          "output_type": "stream",
          "name": "stdout",
          "text": [
            "tensor([17, 14])\n",
            "1\n",
            "torch.Size([2])\n"
          ]
        }
      ]
    },
    {
      "cell_type": "code",
      "source": [
        "# matrix\n",
        "matrix = torch.tensor([[17, 14],\n",
        "                       [1, 2]])\n",
        "print(matrix)\n",
        "print(matrix.ndim)\n",
        "print(matrix.shape)"
      ],
      "metadata": {
        "colab": {
          "base_uri": "https://localhost:8080/"
        },
        "id": "LnzpGT9BKdFz",
        "outputId": "0fc4167d-c457-4cab-f68d-362fd2d09464"
      },
      "execution_count": null,
      "outputs": [
        {
          "output_type": "stream",
          "name": "stdout",
          "text": [
            "tensor([[17, 14],\n",
            "        [ 1,  2]])\n",
            "2\n",
            "torch.Size([2, 2])\n"
          ]
        }
      ]
    },
    {
      "cell_type": "code",
      "source": [
        "# tensors\n",
        "tensor = torch.tensor([[[1, 2, 3, 8],\n",
        "                        [3, 6, 9, 7],\n",
        "                        [2, 4, 5, 6]]])\n",
        "print(tensor)\n",
        "print(tensor.ndim)\n",
        "print(tensor.shape)"
      ],
      "metadata": {
        "colab": {
          "base_uri": "https://localhost:8080/"
        },
        "id": "2ffe9891KlR6",
        "outputId": "bbe888b1-84a5-4c3e-c3a0-9d6fcd7883b3"
      },
      "execution_count": null,
      "outputs": [
        {
          "output_type": "stream",
          "name": "stdout",
          "text": [
            "tensor([[[1, 2, 3, 8],\n",
            "         [3, 6, 9, 7],\n",
            "         [2, 4, 5, 6]]])\n",
            "3\n",
            "torch.Size([1, 3, 4])\n"
          ]
        }
      ]
    },
    {
      "cell_type": "markdown",
      "source": [
        "## Tensor creation"
      ],
      "metadata": {
        "id": "f70bNZf5PQl6"
      }
    },
    {
      "cell_type": "code",
      "source": [
        "# random tensors\n",
        "random_tensor = torch.rand(size=(3, 4))\n",
        "random_tensor"
      ],
      "metadata": {
        "colab": {
          "base_uri": "https://localhost:8080/"
        },
        "id": "C95fn9JQK1O6",
        "outputId": "1dca157b-02fe-4f10-fa55-a5e353e6f844"
      },
      "execution_count": null,
      "outputs": [
        {
          "output_type": "execute_result",
          "data": {
            "text/plain": [
              "tensor([[0.1050, 0.9233, 0.6787, 0.1013],\n",
              "        [0.1322, 0.7855, 0.8836, 0.8854],\n",
              "        [0.7250, 0.6160, 0.8540, 0.3937]])"
            ]
          },
          "metadata": {},
          "execution_count": 6
        }
      ]
    },
    {
      "cell_type": "code",
      "source": [
        "# zeros and ones\n",
        "zeros = torch.zeros(size=(1, 2, 4))\n",
        "print(zeros)\n",
        "ones = torch.ones(size=(2, 5, 4))\n",
        "print(ones)"
      ],
      "metadata": {
        "colab": {
          "base_uri": "https://localhost:8080/"
        },
        "id": "TBl16hxpPm0g",
        "outputId": "8874f154-075d-4bbd-fc9c-8c56e926417f"
      },
      "execution_count": null,
      "outputs": [
        {
          "output_type": "stream",
          "name": "stdout",
          "text": [
            "tensor([[[0., 0., 0., 0.],\n",
            "         [0., 0., 0., 0.]]])\n",
            "tensor([[[1., 1., 1., 1.],\n",
            "         [1., 1., 1., 1.],\n",
            "         [1., 1., 1., 1.],\n",
            "         [1., 1., 1., 1.],\n",
            "         [1., 1., 1., 1.]],\n",
            "\n",
            "        [[1., 1., 1., 1.],\n",
            "         [1., 1., 1., 1.],\n",
            "         [1., 1., 1., 1.],\n",
            "         [1., 1., 1., 1.],\n",
            "         [1., 1., 1., 1.]]])\n"
          ]
        }
      ]
    },
    {
      "cell_type": "code",
      "source": [
        "# create a range of values\n",
        "zero_to_ten = torch.arange(start=0, end=10, step=1)\n",
        "zero_to_ten"
      ],
      "metadata": {
        "colab": {
          "base_uri": "https://localhost:8080/"
        },
        "id": "DwJ6pIZiPtGm",
        "outputId": "3963869c-59a6-4002-99fe-726229051df1"
      },
      "execution_count": null,
      "outputs": [
        {
          "output_type": "execute_result",
          "data": {
            "text/plain": [
              "tensor([0, 1, 2, 3, 4, 5, 6, 7, 8, 9])"
            ]
          },
          "metadata": {},
          "execution_count": 8
        }
      ]
    },
    {
      "cell_type": "markdown",
      "source": [
        "## Tensor info"
      ],
      "metadata": {
        "id": "omLoEvoWQwcq"
      }
    },
    {
      "cell_type": "code",
      "source": [
        "# Default datatype for tensors is float32\n",
        "float_32_tensor = torch.tensor([3.0, 6.0, 9.0],\n",
        "                               dtype=None, # defaults to None, which is torch.float32 or whatever datatype is passed\n",
        "                               device=None) # defaults to None, which uses the default device\n",
        "\n",
        "float_32_tensor.shape, float_32_tensor.dtype, float_32_tensor.device"
      ],
      "metadata": {
        "colab": {
          "base_uri": "https://localhost:8080/"
        },
        "id": "Th4VzxUWQTgQ",
        "outputId": "73e213eb-9c2f-4058-96b6-c9b0fbfe261f"
      },
      "execution_count": null,
      "outputs": [
        {
          "output_type": "execute_result",
          "data": {
            "text/plain": [
              "(torch.Size([3]), torch.float32, device(type='cpu'))"
            ]
          },
          "metadata": {},
          "execution_count": 9
        }
      ]
    },
    {
      "cell_type": "code",
      "source": [
        "# change dtype\n",
        "float_16_tensor = torch.tensor([3.0, 6.0, 9.0],\n",
        "                               dtype=torch.float16)\n",
        "\n",
        "float_16_tensor.dtype"
      ],
      "metadata": {
        "colab": {
          "base_uri": "https://localhost:8080/"
        },
        "id": "u1Oryuo-RaGA",
        "outputId": "44250307-c233-4b62-e04b-930f2dc871ac"
      },
      "execution_count": null,
      "outputs": [
        {
          "output_type": "execute_result",
          "data": {
            "text/plain": [
              "torch.float16"
            ]
          },
          "metadata": {},
          "execution_count": 10
        }
      ]
    },
    {
      "cell_type": "code",
      "source": [
        "# check gpus stats\n",
        "!nvidia-smi"
      ],
      "metadata": {
        "colab": {
          "base_uri": "https://localhost:8080/"
        },
        "id": "TBR_f_siRv_H",
        "outputId": "d75c9f29-f8c3-48b0-ef8a-bed069a45edc"
      },
      "execution_count": null,
      "outputs": [
        {
          "output_type": "stream",
          "name": "stdout",
          "text": [
            "Wed Nov  6 10:02:44 2024       \n",
            "+---------------------------------------------------------------------------------------+\n",
            "| NVIDIA-SMI 535.104.05             Driver Version: 535.104.05   CUDA Version: 12.2     |\n",
            "|-----------------------------------------+----------------------+----------------------+\n",
            "| GPU  Name                 Persistence-M | Bus-Id        Disp.A | Volatile Uncorr. ECC |\n",
            "| Fan  Temp   Perf          Pwr:Usage/Cap |         Memory-Usage | GPU-Util  Compute M. |\n",
            "|                                         |                      |               MIG M. |\n",
            "|=========================================+======================+======================|\n",
            "|   0  Tesla T4                       Off | 00000000:00:04.0 Off |                    0 |\n",
            "| N/A   34C    P8               9W /  70W |      0MiB / 15360MiB |      0%      Default |\n",
            "|                                         |                      |                  N/A |\n",
            "+-----------------------------------------+----------------------+----------------------+\n",
            "                                                                                         \n",
            "+---------------------------------------------------------------------------------------+\n",
            "| Processes:                                                                            |\n",
            "|  GPU   GI   CI        PID   Type   Process name                            GPU Memory |\n",
            "|        ID   ID                                                             Usage      |\n",
            "|=======================================================================================|\n",
            "|  No running processes found                                                           |\n",
            "+---------------------------------------------------------------------------------------+\n"
          ]
        }
      ]
    },
    {
      "cell_type": "code",
      "source": [
        "# change device (if it is available)\n",
        "device = \"cuda\" if torch.cuda.is_available() else \"cpu\"\n",
        "float_16_tensor = torch.tensor([3.0, 6.0, 9.0],\n",
        "                               device=device)\n",
        "\n",
        "float_16_tensor.device"
      ],
      "metadata": {
        "colab": {
          "base_uri": "https://localhost:8080/"
        },
        "id": "q1XB-aKNRiPf",
        "outputId": "0a7a4ba9-1e95-4787-a4db-fbb1aa069060"
      },
      "execution_count": null,
      "outputs": [
        {
          "output_type": "execute_result",
          "data": {
            "text/plain": [
              "device(type='cuda', index=0)"
            ]
          },
          "metadata": {},
          "execution_count": 12
        }
      ]
    },
    {
      "cell_type": "code",
      "source": [
        "# move tensors to different devices\n",
        "tensor = torch.tensor([1, 2, 3])\n",
        "\n",
        "# tensor not on GPU\n",
        "print(tensor, tensor.device)\n",
        "\n",
        "# move tensor to GPU\n",
        "tensor_on_gpu = tensor.to(device)\n",
        "tensor_on_gpu"
      ],
      "metadata": {
        "colab": {
          "base_uri": "https://localhost:8080/"
        },
        "id": "DQ8NmF7V7GKF",
        "outputId": "043e34d9-e430-448f-c770-62c5457686ea"
      },
      "execution_count": null,
      "outputs": [
        {
          "output_type": "stream",
          "name": "stdout",
          "text": [
            "tensor([1, 2, 3]) cpu\n"
          ]
        },
        {
          "output_type": "execute_result",
          "data": {
            "text/plain": [
              "tensor([1, 2, 3], device='cuda:0')"
            ]
          },
          "metadata": {},
          "execution_count": 13
        }
      ]
    },
    {
      "cell_type": "code",
      "source": [
        "# pytorch tensors & numpy\n",
        "import numpy as np\n",
        "array = np.arange(1.0, 8.0)\n",
        "tensor = torch.from_numpy(array)\n",
        "tensor2array = tensor.numpy()\n",
        "\n",
        "print(array)\n",
        "print(tensor)\n",
        "print(tensor2array)"
      ],
      "metadata": {
        "colab": {
          "base_uri": "https://localhost:8080/"
        },
        "id": "WEP1aL9k8RKu",
        "outputId": "b768bbff-7ce5-46b0-8772-a9561e099906"
      },
      "execution_count": null,
      "outputs": [
        {
          "output_type": "stream",
          "name": "stdout",
          "text": [
            "[1. 2. 3. 4. 5. 6. 7.]\n",
            "tensor([1., 2., 3., 4., 5., 6., 7.], dtype=torch.float64)\n",
            "[1. 2. 3. 4. 5. 6. 7.]\n"
          ]
        }
      ]
    },
    {
      "cell_type": "code",
      "source": [
        "# if tensor is on GPU cannot transform to numpy\n",
        "\n",
        "try:\n",
        "  tensor_on_gpu.numpy()\n",
        "except TypeError as e:\n",
        "  print(e)\n",
        "\n",
        "# move to cpu, then convert to numpy\n",
        "tensor_back_on_cpu = tensor_on_gpu.cpu().numpy()\n",
        "print(f\"\\nTensor converted into numpy {tensor_back_on_cpu}\")"
      ],
      "metadata": {
        "colab": {
          "base_uri": "https://localhost:8080/"
        },
        "id": "F6ewuZ8c8ZB-",
        "outputId": "a39f58c9-fb02-4449-92ba-f4a7fc14a01a"
      },
      "execution_count": null,
      "outputs": [
        {
          "output_type": "stream",
          "name": "stdout",
          "text": [
            "can't convert cuda:0 device type tensor to numpy. Use Tensor.cpu() to copy the tensor to host memory first.\n",
            "\n",
            "Tensor converted into numpy [1 2 3]\n"
          ]
        }
      ]
    },
    {
      "cell_type": "markdown",
      "source": [
        "## Tensor operations"
      ],
      "metadata": {
        "id": "RClyVFW8SbHI"
      }
    },
    {
      "cell_type": "code",
      "source": [
        "# basic operations\n",
        "tensor = torch.tensor([1, 2, 3])\n",
        "print(f\"Sum {tensor + 10}\")\n",
        "print(f\"Substraction {tensor - 10}\")\n",
        "print(f\"Multiplication {tensor * 10}\")\n",
        "print(f\"Multiplication (torch function) {torch.multiply(tensor, 10)}\")\n",
        "print(f\"Element-wise multiplication {tensor * tensor}\")\n",
        "print(f\"Matrix multiplication {tensor @ tensor}\")\n",
        "print(f\"Original tensor is still unchanged  {tensor}\")"
      ],
      "metadata": {
        "colab": {
          "base_uri": "https://localhost:8080/"
        },
        "id": "3rb-5v3ORsAp",
        "outputId": "2b400ae5-1e1c-41c5-dfa0-039f78f82cb6"
      },
      "execution_count": null,
      "outputs": [
        {
          "output_type": "stream",
          "name": "stdout",
          "text": [
            "Sum tensor([11, 12, 13])\n",
            "Substraction tensor([-9, -8, -7])\n",
            "Multiplication tensor([10, 20, 30])\n",
            "Multiplication (torch function) tensor([10, 20, 30])\n",
            "Element-wise multiplication tensor([1, 4, 9])\n",
            "Matrix multiplication 14\n",
            "Original tensor is still unchanged  tensor([1, 2, 3])\n"
          ]
        }
      ]
    },
    {
      "cell_type": "code",
      "source": [
        "# deal with shape errors\n",
        "tensor_A = torch.tensor([[1, 2],\n",
        "                         [3, 4],\n",
        "                         [5, 6]], dtype=torch.float32)\n",
        "\n",
        "tensor_B = torch.tensor([[7, 10],\n",
        "                         [8, 11],\n",
        "                         [9, 12]], dtype=torch.float32)\n",
        "\n",
        "try:\n",
        "  torch.matmul(tensor_A, tensor_B)\n",
        "except RuntimeError as e:\n",
        "  print(e)"
      ],
      "metadata": {
        "colab": {
          "base_uri": "https://localhost:8080/"
        },
        "id": "aqbzYb1OSqC_",
        "outputId": "329f376f-75ae-4826-df6a-118f7b899682"
      },
      "execution_count": null,
      "outputs": [
        {
          "output_type": "stream",
          "name": "stdout",
          "text": [
            "mat1 and mat2 shapes cannot be multiplied (3x2 and 3x2)\n"
          ]
        }
      ]
    },
    {
      "cell_type": "code",
      "source": [
        "# The operation works when tensor_B is transposed\n",
        "print(f\"Original shapes: tensor_A = {tensor_A.shape}, tensor_B = {tensor_B.shape}\\n\")\n",
        "print(f\"New shapes: tensor_A = {tensor_A.shape} (same as above), tensor_B.T = {tensor_B.T.shape}\\n\")\n",
        "print(f\"Multiplying: {tensor_A.shape} * {tensor_B.T.shape} <- inner dimensions match\\n\")\n",
        "print(\"Output:\\n\")\n",
        "output = torch.matmul(tensor_A, tensor_B.T)\n",
        "print(output)\n",
        "print(f\"\\nOutput shape: {output.shape}\")"
      ],
      "metadata": {
        "colab": {
          "base_uri": "https://localhost:8080/"
        },
        "id": "n-sUCc_bWBU7",
        "outputId": "78e33222-edfb-4033-9d0f-3d8b3921a458"
      },
      "execution_count": null,
      "outputs": [
        {
          "output_type": "stream",
          "name": "stdout",
          "text": [
            "Original shapes: tensor_A = torch.Size([3, 2]), tensor_B = torch.Size([3, 2])\n",
            "\n",
            "New shapes: tensor_A = torch.Size([3, 2]) (same as above), tensor_B.T = torch.Size([2, 3])\n",
            "\n",
            "Multiplying: torch.Size([3, 2]) * torch.Size([2, 3]) <- inner dimensions match\n",
            "\n",
            "Output:\n",
            "\n",
            "tensor([[ 27.,  30.,  33.],\n",
            "        [ 61.,  68.,  75.],\n",
            "        [ 95., 106., 117.]])\n",
            "\n",
            "Output shape: torch.Size([3, 3])\n"
          ]
        }
      ]
    },
    {
      "cell_type": "code",
      "source": [
        "# aggregation operations\n",
        "x = torch.arange(0, 100, 10)\n",
        "print(f\"Minimum: {x.min()}\")\n",
        "print(f\"Maximum: {x.max()}\")\n",
        "# print(f\"Mean: {x.mean()}\") # this will error\n",
        "print(f\"Mean: {x.type(torch.float32).mean()}\") # won't work without float datatype\n",
        "print(f\"Sum: {x.sum()}\")"
      ],
      "metadata": {
        "colab": {
          "base_uri": "https://localhost:8080/"
        },
        "id": "DgCcciPqWxqG",
        "outputId": "44bacdaf-e35e-4cf8-8075-33b761e80213"
      },
      "execution_count": null,
      "outputs": [
        {
          "output_type": "stream",
          "name": "stdout",
          "text": [
            "Minimum: 0\n",
            "Maximum: 90\n",
            "Mean: 45.0\n",
            "Sum: 450\n"
          ]
        }
      ]
    },
    {
      "cell_type": "markdown",
      "source": [
        "## Tensor dimension change"
      ],
      "metadata": {
        "id": "bDPaQpsaXGtN"
      }
    },
    {
      "cell_type": "code",
      "source": [
        "x = torch.arange(1., 8.)\n",
        "x, x.shape"
      ],
      "metadata": {
        "colab": {
          "base_uri": "https://localhost:8080/"
        },
        "id": "AhGJcrxOW5dB",
        "outputId": "929ec663-bd0e-4ddd-f967-fdbc559485a6"
      },
      "execution_count": null,
      "outputs": [
        {
          "output_type": "execute_result",
          "data": {
            "text/plain": [
              "(tensor([1., 2., 3., 4., 5., 6., 7.]), torch.Size([7]))"
            ]
          },
          "metadata": {},
          "execution_count": 29
        }
      ]
    },
    {
      "cell_type": "code",
      "source": [
        "x_reshaped = x.reshape(1, 7)\n",
        "print(f\"Reshaped tensor {x_reshaped}, {x_reshaped.shape}\")\n",
        "print(f\"Remove extra dimension {x_reshaped.squeeze()}, {x_reshaped.squeeze().shape}\")\n",
        "print(f\"Add an extra dimension {x_reshaped.unsqueeze(dim=0)}, {x_reshaped.unsqueeze(dim=0).shape}\")\n",
        "print(f\"Stack our new tensor on top of itself five times {torch.stack([x_reshaped] * 5, dim=0)},  {torch.stack([x_reshaped] * 5, dim=0).shape}\")\n"
      ],
      "metadata": {
        "colab": {
          "base_uri": "https://localhost:8080/"
        },
        "id": "s84_u3W5XZ3e",
        "outputId": "6264667e-4837-4715-d564-7222b6d406a4"
      },
      "execution_count": null,
      "outputs": [
        {
          "output_type": "stream",
          "name": "stdout",
          "text": [
            "Reshaped tensor tensor([[1., 2., 3., 4., 5., 6., 7.]]), torch.Size([1, 7])\n",
            "Remove extra dimension tensor([1., 2., 3., 4., 5., 6., 7.]), torch.Size([7])\n",
            "Add an extra dimension tensor([[[1., 2., 3., 4., 5., 6., 7.]]]), torch.Size([1, 1, 7])\n",
            "Stack our new tensor on top of itself five times tensor([[[1., 2., 3., 4., 5., 6., 7.]],\n",
            "\n",
            "        [[1., 2., 3., 4., 5., 6., 7.]],\n",
            "\n",
            "        [[1., 2., 3., 4., 5., 6., 7.]],\n",
            "\n",
            "        [[1., 2., 3., 4., 5., 6., 7.]],\n",
            "\n",
            "        [[1., 2., 3., 4., 5., 6., 7.]]]),  torch.Size([5, 1, 7])\n"
          ]
        }
      ]
    },
    {
      "cell_type": "markdown",
      "source": [
        "## Tensor indexing"
      ],
      "metadata": {
        "id": "8HUv65EHmIRA"
      }
    },
    {
      "cell_type": "code",
      "source": [
        "rank_1_tensor = torch.tensor([0, 1, 1, 2, 3, 5, 8, 13, 21, 34])\n",
        "print(rank_1_tensor)\n",
        "print(\"First:\", rank_1_tensor[0])\n",
        "print(\"Second:\", rank_1_tensor[1])\n",
        "print(\"Last:\", rank_1_tensor[-1])\n",
        "print(\"Everything:\", rank_1_tensor[:])\n",
        "print(\"Before 4:\", rank_1_tensor[:4])\n",
        "print(\"From 4 to the end:\", rank_1_tensor[4:])\n",
        "print(\"From 2, before 7:\", rank_1_tensor[2:7])\n",
        "print(\"Every other item:\", rank_1_tensor[::2])\n",
        "print(\"Reversed:\", torch.flip(rank_1_tensor, [0]))"
      ],
      "metadata": {
        "colab": {
          "base_uri": "https://localhost:8080/"
        },
        "id": "1KXCRYjFmHnL",
        "outputId": "6db6db58-7ff6-45f2-f15a-54fa3dfaa8ca"
      },
      "execution_count": null,
      "outputs": [
        {
          "output_type": "stream",
          "name": "stdout",
          "text": [
            "tensor([ 0,  1,  1,  2,  3,  5,  8, 13, 21, 34])\n",
            "First: tensor(0)\n",
            "Second: tensor(1)\n",
            "Last: tensor(34)\n",
            "Everything: tensor([ 0,  1,  1,  2,  3,  5,  8, 13, 21, 34])\n",
            "Before 4: tensor([0, 1, 1, 2])\n",
            "From 4 to the end: tensor([ 3,  5,  8, 13, 21, 34])\n",
            "From 2, before 7: tensor([1, 2, 3, 5, 8])\n",
            "Every other item: tensor([ 0,  1,  3,  8, 21])\n",
            "Reversed: tensor([34, 21, 13,  8,  5,  3,  2,  1,  1,  0])\n"
          ]
        }
      ]
    },
    {
      "cell_type": "code",
      "source": [
        "# multi indexing\n",
        "rank_2_tensor = torch.tensor([[1, 2],\n",
        "                              [3, 4],\n",
        "                              [5, 6]], dtype=torch.float16)\n",
        "\n",
        "print(\"Second row:\", rank_2_tensor[1, :])\n",
        "print(\"Second column:\", rank_2_tensor[:, 1])\n",
        "print(\"Last row:\", rank_2_tensor[-1, :])\n",
        "print(\"First item in last column:\", rank_2_tensor[0, -1])\n",
        "print(\"Skip the first row:\")\n",
        "print(rank_2_tensor[1:, :], \"\\n\")"
      ],
      "metadata": {
        "colab": {
          "base_uri": "https://localhost:8080/"
        },
        "id": "LC1rQPS4mWEK",
        "outputId": "7af10a56-994a-4f58-c14c-c01fd2448139"
      },
      "execution_count": null,
      "outputs": [
        {
          "output_type": "stream",
          "name": "stdout",
          "text": [
            "Second row: tensor([3., 4.], dtype=torch.float16)\n",
            "Second column: tensor([2., 4., 6.], dtype=torch.float16)\n",
            "Last row: tensor([5., 6.], dtype=torch.float16)\n",
            "First item in last column: tensor(2., dtype=torch.float16)\n",
            "Skip the first row:\n",
            "tensor([[3., 4.],\n",
            "        [5., 6.]], dtype=torch.float16) \n",
            "\n"
          ]
        }
      ]
    },
    {
      "cell_type": "code",
      "source": [],
      "metadata": {
        "id": "zFE4Qu1zYxXR"
      },
      "execution_count": null,
      "outputs": []
    }
  ],
  "metadata": {
    "kernelspec": {
      "display_name": "Python 3.9 (tensorflow)",
      "language": "python",
      "name": "tensorflow"
    },
    "language_info": {
      "codemirror_mode": {
        "name": "ipython",
        "version": 3
      },
      "file_extension": ".py",
      "mimetype": "text/x-python",
      "name": "python",
      "nbconvert_exporter": "python",
      "pygments_lexer": "ipython3",
      "version": "3.9.7"
    },
    "toc": {
      "base_numbering": 1,
      "nav_menu": {},
      "number_sections": true,
      "sideBar": true,
      "skip_h1_title": false,
      "title_cell": "Table of Contents",
      "title_sidebar": "Contents",
      "toc_cell": false,
      "toc_position": {},
      "toc_section_display": true,
      "toc_window_display": false
    },
    "colab": {
      "provenance": [],
      "gpuType": "T4",
      "toc_visible": true
    },
    "accelerator": "GPU"
  },
  "nbformat": 4,
  "nbformat_minor": 0
}