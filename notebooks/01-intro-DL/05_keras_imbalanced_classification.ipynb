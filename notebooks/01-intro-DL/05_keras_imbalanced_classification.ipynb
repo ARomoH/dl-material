{
  "cells": [
    {
      "cell_type": "markdown",
      "source": [
        "[![Open In Colab](https://colab.research.google.com/assets/colab-badge.svg)](https://colab.research.google.com/drive/1d2kYPsvC9MLgBhpsRJfMS8SvpMlTmF4Q?usp=sharing)"
      ],
      "metadata": {
        "id": "NDIy003pvcWf"
      }
    },
    {
      "cell_type": "markdown",
      "metadata": {
        "id": "5PcNY5jmmYx5"
      },
      "source": [
        "# Imbalanced classification: credit card fraud detection\n",
        "\n",
        "https://keras.io/examples/structured_data/imbalanced_classification/"
      ]
    },
    {
      "cell_type": "markdown",
      "metadata": {
        "id": "8Mp3amP1mYx7"
      },
      "source": [
        "## Introduction\n",
        "\n",
        "This example looks at the\n",
        "[Kaggle Credit Card Fraud Detection](https://www.kaggle.com/mlg-ulb/creditcardfraud/)\n",
        "dataset to demonstrate how\n",
        "to train a classification model on data with highly imbalanced classes."
      ]
    },
    {
      "cell_type": "markdown",
      "metadata": {
        "id": "fobCaf4JmYx9"
      },
      "source": [
        "## First, vectorize the CSV data"
      ]
    },
    {
      "cell_type": "code",
      "source": [
        "from google.colab import drive\n",
        "drive.mount('/content/drive')"
      ],
      "metadata": {
        "colab": {
          "base_uri": "https://localhost:8080/"
        },
        "id": "us9xJjSwuNQG",
        "outputId": "d9a53848-857f-4abe-ad46-5191f77bb0a7"
      },
      "execution_count": 3,
      "outputs": [
        {
          "output_type": "stream",
          "name": "stdout",
          "text": [
            "Mounted at /content/drive\n"
          ]
        }
      ]
    },
    {
      "cell_type": "code",
      "source": [
        "!ls drive/MyDrive/data"
      ],
      "metadata": {
        "colab": {
          "base_uri": "https://localhost:8080/"
        },
        "id": "2e6FB0ZpuQAd",
        "outputId": "a1f2003b-8ed4-4d29-d4e2-c9538d5e5920"
      },
      "execution_count": 4,
      "outputs": [
        {
          "output_type": "stream",
          "name": "stdout",
          "text": [
            "creditcard.csv\n"
          ]
        }
      ]
    },
    {
      "cell_type": "code",
      "execution_count": 5,
      "metadata": {
        "id": "6otUhpxomYx9",
        "outputId": "543cf2d2-9558-4ff5-9541-4861eef6d38d",
        "colab": {
          "base_uri": "https://localhost:8080/"
        }
      },
      "outputs": [
        {
          "output_type": "stream",
          "name": "stdout",
          "text": [
            "HEADER: \"Time\",\"V1\",\"V2\",\"V3\",\"V4\",\"V5\",\"V6\",\"V7\",\"V8\",\"V9\",\"V10\",\"V11\",\"V12\",\"V13\",\"V14\",\"V15\",\"V16\",\"V17\",\"V18\",\"V19\",\"V20\",\"V21\",\"V22\",\"V23\",\"V24\",\"V25\",\"V26\",\"V27\",\"V28\",\"Amount\",\"Class\"\n",
            "EXAMPLE FEATURES: [0.0, -1.3598071336738, -0.0727811733098497, 2.53634673796914, 1.37815522427443, -0.338320769942518, 0.462387777762292, 0.239598554061257, 0.0986979012610507, 0.363786969611213, 0.0907941719789316, -0.551599533260813, -0.617800855762348, -0.991389847235408, -0.311169353699879, 1.46817697209427, -0.470400525259478, 0.207971241929242, 0.0257905801985591, 0.403992960255733, 0.251412098239705, -0.018306777944153, 0.277837575558899, -0.110473910188767, 0.0669280749146731, 0.128539358273528, -0.189114843888824, 0.133558376740387, -0.0210530534538215, 149.62]\n",
            "features.shape: (284807, 30)\n",
            "targets.shape: (284807, 1)\n"
          ]
        }
      ],
      "source": [
        "import csv\n",
        "import numpy as np\n",
        "\n",
        "# Get the real data from --> https://www.kaggle.com/mlg-ulb/creditcardfraud/\n",
        "fname = \"/content/drive/MyDrive/data/creditcard.csv\"\n",
        "\n",
        "all_features = []\n",
        "all_targets = []\n",
        "with open(fname) as f:\n",
        "    for i, line in enumerate(f):\n",
        "        if i == 0:\n",
        "            print(\"HEADER:\", line.strip())\n",
        "            continue  # Skip header\n",
        "        fields = line.strip().split(\",\")\n",
        "        all_features.append([float(v.replace('\"', \"\")) for v in fields[:-1]])\n",
        "        all_targets.append([int(fields[-1].replace('\"', \"\"))])\n",
        "        if i == 1:\n",
        "            print(\"EXAMPLE FEATURES:\", all_features[-1])\n",
        "\n",
        "features = np.array(all_features, dtype=\"float32\")\n",
        "targets = np.array(all_targets, dtype=\"uint8\")\n",
        "print(\"features.shape:\", features.shape)\n",
        "print(\"targets.shape:\", targets.shape)"
      ]
    },
    {
      "cell_type": "markdown",
      "metadata": {
        "id": "54Jn5yBCmYx_"
      },
      "source": [
        "## Prepare a validation set"
      ]
    },
    {
      "cell_type": "code",
      "execution_count": 6,
      "metadata": {
        "id": "z3vaUw0ymYx_",
        "colab": {
          "base_uri": "https://localhost:8080/"
        },
        "outputId": "80b269c2-c1f5-4e7b-d211-cad67554850e"
      },
      "outputs": [
        {
          "output_type": "stream",
          "name": "stdout",
          "text": [
            "Number of training samples: 227846\n",
            "Number of validation samples: 56961\n"
          ]
        }
      ],
      "source": [
        "num_val_samples = int(len(features) * 0.2)\n",
        "train_features = features[:-num_val_samples].squeeze()\n",
        "train_targets = targets[:-num_val_samples]\n",
        "test_features = features[-num_val_samples:].squeeze()\n",
        "test_targets = targets[-num_val_samples:]\n",
        "\n",
        "print(\"Number of training samples:\", len(train_targets))\n",
        "print(\"Number of validation samples:\", len(test_features))"
      ]
    },
    {
      "cell_type": "markdown",
      "metadata": {
        "id": "1Cd1crUpmYyC"
      },
      "source": [
        "## [Recommended] Normalize the data"
      ]
    },
    {
      "cell_type": "code",
      "execution_count": 7,
      "metadata": {
        "id": "cuv0jyuDmYyD"
      },
      "outputs": [],
      "source": [
        "from sklearn.preprocessing import StandardScaler\n",
        "\n",
        "scaler = StandardScaler()\n",
        "\n",
        "train_features = scaler.fit_transform(train_features)\n",
        "test_features = scaler.transform(test_features)"
      ]
    },
    {
      "cell_type": "markdown",
      "metadata": {
        "id": "2nED2hxvmYyD"
      },
      "source": [
        "## Build a binary classification model"
      ]
    },
    {
      "cell_type": "code",
      "execution_count": 8,
      "metadata": {
        "id": "k-l5Sp7umYyE",
        "colab": {
          "base_uri": "https://localhost:8080/"
        },
        "outputId": "3395a59c-4df5-4088-d9fe-98f3dfcfad35"
      },
      "outputs": [
        {
          "output_type": "stream",
          "name": "stdout",
          "text": [
            "Model: \"sequential\"\n",
            "_________________________________________________________________\n",
            " Layer (type)                Output Shape              Param #   \n",
            "=================================================================\n",
            " dense (Dense)               (None, 8)                 248       \n",
            "                                                                 \n",
            " dropout (Dropout)           (None, 8)                 0         \n",
            "                                                                 \n",
            " dense_1 (Dense)             (None, 8)                 72        \n",
            "                                                                 \n",
            " dropout_1 (Dropout)         (None, 8)                 0         \n",
            "                                                                 \n",
            " dense_2 (Dense)             (None, 1)                 9         \n",
            "                                                                 \n",
            "=================================================================\n",
            "Total params: 329 (1.29 KB)\n",
            "Trainable params: 329 (1.29 KB)\n",
            "Non-trainable params: 0 (0.00 Byte)\n",
            "_________________________________________________________________\n"
          ]
        }
      ],
      "source": [
        "import keras\n",
        "\n",
        "model = keras.Sequential(\n",
        "    [\n",
        "        keras.Input(shape=train_features.shape[1:]),\n",
        "        keras.layers.Dense(8, activation=\"relu\"),\n",
        "        keras.layers.Dropout(0.3),\n",
        "        keras.layers.Dense(8, activation=\"relu\"),\n",
        "        keras.layers.Dropout(0.3),\n",
        "        keras.layers.Dense(1, activation=\"sigmoid\"),\n",
        "    ]\n",
        ")\n",
        "model.summary()"
      ]
    },
    {
      "cell_type": "markdown",
      "metadata": {
        "id": "QaCr4ISpmYyF"
      },
      "source": [
        "## Exercise: detects 90% of frauds in test dataset (TP >= 68)\n",
        "\n",
        "**Tips**: check the following documentation (class weight parameter): https://keras.io/api/models/model_training_apis/#fit-method"
      ]
    },
    {
      "cell_type": "code",
      "source": [
        "print(train_targets.shape)\n",
        "print(train_features.shape)"
      ],
      "metadata": {
        "colab": {
          "base_uri": "https://localhost:8080/"
        },
        "id": "5uBG6-B0yJTq",
        "outputId": "db3fa443-9a02-4f27-b564-d0d43b0f23ed"
      },
      "execution_count": 9,
      "outputs": [
        {
          "output_type": "stream",
          "name": "stdout",
          "text": [
            "(227846, 1)\n",
            "(227846, 30)\n"
          ]
        }
      ]
    },
    {
      "cell_type": "code",
      "execution_count": 10,
      "metadata": {
        "id": "KFNCP9bSmYyG",
        "colab": {
          "base_uri": "https://localhost:8080/"
        },
        "outputId": "74ee8274-5c4b-41a2-fe17-e4929aeec046"
      },
      "outputs": [
        {
          "output_type": "stream",
          "name": "stdout",
          "text": [
            "Number of positive samples in training data: 417 (0.18% of total)\n",
            "{0: 0.500916769629203, 1: 273.1966426858513}\n",
            "Epoch 1/200\n",
            "145/145 - 5s - loss: 0.5027 - tp: 200.0000 - tn: 126254.0000 - fn: 85.0000 - fp: 21560.0000 - precision: 0.0092 - recall: 0.7018 - val_loss: 0.4863 - val_tp: 115.0000 - val_tn: 75826.0000 - val_fn: 17.0000 - val_fp: 3789.0000 - val_precision: 0.0295 - val_recall: 0.8712 - 5s/epoch - 37ms/step\n",
            "Epoch 2/200\n",
            "145/145 - 1s - loss: 0.3323 - tp: 217.0000 - tn: 144371.0000 - fn: 68.0000 - fp: 3443.0000 - precision: 0.0593 - recall: 0.7614 - val_loss: 0.3479 - val_tp: 120.0000 - val_tn: 76443.0000 - val_fn: 12.0000 - val_fp: 3172.0000 - val_precision: 0.0365 - val_recall: 0.9091 - 789ms/epoch - 5ms/step\n",
            "Epoch 3/200\n",
            "145/145 - 1s - loss: 0.2768 - tp: 234.0000 - tn: 144873.0000 - fn: 51.0000 - fp: 2941.0000 - precision: 0.0737 - recall: 0.8211 - val_loss: 0.3325 - val_tp: 121.0000 - val_tn: 74579.0000 - val_fn: 11.0000 - val_fp: 5036.0000 - val_precision: 0.0235 - val_recall: 0.9167 - 645ms/epoch - 4ms/step\n",
            "Epoch 4/200\n",
            "145/145 - 1s - loss: 0.2398 - tp: 242.0000 - tn: 144452.0000 - fn: 43.0000 - fp: 3362.0000 - precision: 0.0671 - recall: 0.8491 - val_loss: 0.2767 - val_tp: 120.0000 - val_tn: 76574.0000 - val_fn: 12.0000 - val_fp: 3041.0000 - val_precision: 0.0380 - val_recall: 0.9091 - 811ms/epoch - 6ms/step\n",
            "Epoch 5/200\n",
            "145/145 - 1s - loss: 0.2287 - tp: 247.0000 - tn: 144578.0000 - fn: 38.0000 - fp: 3236.0000 - precision: 0.0709 - recall: 0.8667 - val_loss: 0.2827 - val_tp: 119.0000 - val_tn: 75588.0000 - val_fn: 13.0000 - val_fp: 4027.0000 - val_precision: 0.0287 - val_recall: 0.9015 - 808ms/epoch - 6ms/step\n",
            "Epoch 6/200\n",
            "145/145 - 1s - loss: 0.2396 - tp: 242.0000 - tn: 144832.0000 - fn: 43.0000 - fp: 2982.0000 - precision: 0.0751 - recall: 0.8491 - val_loss: 0.2605 - val_tp: 119.0000 - val_tn: 77050.0000 - val_fn: 13.0000 - val_fp: 2565.0000 - val_precision: 0.0443 - val_recall: 0.9015 - 680ms/epoch - 5ms/step\n",
            "Epoch 7/200\n",
            "145/145 - 1s - loss: 0.2152 - tp: 246.0000 - tn: 144875.0000 - fn: 39.0000 - fp: 2939.0000 - precision: 0.0772 - recall: 0.8632 - val_loss: 0.2817 - val_tp: 122.0000 - val_tn: 75487.0000 - val_fn: 10.0000 - val_fp: 4128.0000 - val_precision: 0.0287 - val_recall: 0.9242 - 801ms/epoch - 6ms/step\n",
            "Epoch 8/200\n",
            "145/145 - 1s - loss: 0.1974 - tp: 248.0000 - tn: 144534.0000 - fn: 37.0000 - fp: 3280.0000 - precision: 0.0703 - recall: 0.8702 - val_loss: 0.2457 - val_tp: 122.0000 - val_tn: 76207.0000 - val_fn: 10.0000 - val_fp: 3408.0000 - val_precision: 0.0346 - val_recall: 0.9242 - 763ms/epoch - 5ms/step\n",
            "Epoch 9/200\n",
            "145/145 - 1s - loss: 0.2000 - tp: 244.0000 - tn: 144946.0000 - fn: 41.0000 - fp: 2868.0000 - precision: 0.0784 - recall: 0.8561 - val_loss: 0.2838 - val_tp: 121.0000 - val_tn: 73743.0000 - val_fn: 11.0000 - val_fp: 5872.0000 - val_precision: 0.0202 - val_recall: 0.9167 - 958ms/epoch - 7ms/step\n",
            "Epoch 10/200\n",
            "145/145 - 1s - loss: 0.1957 - tp: 242.0000 - tn: 143728.0000 - fn: 43.0000 - fp: 4086.0000 - precision: 0.0559 - recall: 0.8491 - val_loss: 0.3407 - val_tp: 125.0000 - val_tn: 71194.0000 - val_fn: 7.0000 - val_fp: 8421.0000 - val_precision: 0.0146 - val_recall: 0.9470 - 958ms/epoch - 7ms/step\n",
            "Epoch 11/200\n",
            "145/145 - 1s - loss: 0.1739 - tp: 260.0000 - tn: 143254.0000 - fn: 25.0000 - fp: 4560.0000 - precision: 0.0539 - recall: 0.9123 - val_loss: 0.3076 - val_tp: 124.0000 - val_tn: 72051.0000 - val_fn: 8.0000 - val_fp: 7564.0000 - val_precision: 0.0161 - val_recall: 0.9394 - 1s/epoch - 7ms/step\n",
            "Epoch 12/200\n",
            "145/145 - 1s - loss: 0.1733 - tp: 253.0000 - tn: 143310.0000 - fn: 32.0000 - fp: 4504.0000 - precision: 0.0532 - recall: 0.8877 - val_loss: 0.2855 - val_tp: 124.0000 - val_tn: 72215.0000 - val_fn: 8.0000 - val_fp: 7400.0000 - val_precision: 0.0165 - val_recall: 0.9394 - 848ms/epoch - 6ms/step\n",
            "Epoch 13/200\n",
            "145/145 - 1s - loss: 0.1715 - tp: 254.0000 - tn: 143054.0000 - fn: 31.0000 - fp: 4760.0000 - precision: 0.0507 - recall: 0.8912 - val_loss: 0.2882 - val_tp: 125.0000 - val_tn: 70948.0000 - val_fn: 7.0000 - val_fp: 8667.0000 - val_precision: 0.0142 - val_recall: 0.9470 - 810ms/epoch - 6ms/step\n",
            "Epoch 14/200\n",
            "145/145 - 1s - loss: 0.1657 - tp: 256.0000 - tn: 142950.0000 - fn: 29.0000 - fp: 4864.0000 - precision: 0.0500 - recall: 0.8982 - val_loss: 0.2892 - val_tp: 125.0000 - val_tn: 70913.0000 - val_fn: 7.0000 - val_fp: 8702.0000 - val_precision: 0.0142 - val_recall: 0.9470 - 814ms/epoch - 6ms/step\n",
            "Epoch 15/200\n",
            "145/145 - 1s - loss: 0.1561 - tp: 259.0000 - tn: 142967.0000 - fn: 26.0000 - fp: 4847.0000 - precision: 0.0507 - recall: 0.9088 - val_loss: 0.2704 - val_tp: 125.0000 - val_tn: 71260.0000 - val_fn: 7.0000 - val_fp: 8355.0000 - val_precision: 0.0147 - val_recall: 0.9470 - 665ms/epoch - 5ms/step\n",
            "Epoch 16/200\n",
            "145/145 - 1s - loss: 0.1477 - tp: 258.0000 - tn: 143394.0000 - fn: 27.0000 - fp: 4420.0000 - precision: 0.0552 - recall: 0.9053 - val_loss: 0.2786 - val_tp: 125.0000 - val_tn: 70282.0000 - val_fn: 7.0000 - val_fp: 9333.0000 - val_precision: 0.0132 - val_recall: 0.9470 - 669ms/epoch - 5ms/step\n",
            "Epoch 17/200\n",
            "145/145 - 1s - loss: 0.1513 - tp: 256.0000 - tn: 142756.0000 - fn: 29.0000 - fp: 5058.0000 - precision: 0.0482 - recall: 0.8982 - val_loss: 0.2713 - val_tp: 125.0000 - val_tn: 70490.0000 - val_fn: 7.0000 - val_fp: 9125.0000 - val_precision: 0.0135 - val_recall: 0.9470 - 840ms/epoch - 6ms/step\n",
            "Epoch 18/200\n",
            "145/145 - 1s - loss: 0.1495 - tp: 259.0000 - tn: 142929.0000 - fn: 26.0000 - fp: 4885.0000 - precision: 0.0503 - recall: 0.9088 - val_loss: 0.2750 - val_tp: 126.0000 - val_tn: 69827.0000 - val_fn: 6.0000 - val_fp: 9788.0000 - val_precision: 0.0127 - val_recall: 0.9545 - 817ms/epoch - 6ms/step\n",
            "Epoch 19/200\n",
            "145/145 - 1s - loss: 0.1390 - tp: 262.0000 - tn: 143213.0000 - fn: 23.0000 - fp: 4601.0000 - precision: 0.0539 - recall: 0.9193 - val_loss: 0.3091 - val_tp: 126.0000 - val_tn: 68271.0000 - val_fn: 6.0000 - val_fp: 11344.0000 - val_precision: 0.0110 - val_recall: 0.9545 - 666ms/epoch - 5ms/step\n",
            "Epoch 20/200\n",
            "145/145 - 1s - loss: 0.1549 - tp: 260.0000 - tn: 142994.0000 - fn: 25.0000 - fp: 4820.0000 - precision: 0.0512 - recall: 0.9123 - val_loss: 0.2669 - val_tp: 126.0000 - val_tn: 70635.0000 - val_fn: 6.0000 - val_fp: 8980.0000 - val_precision: 0.0138 - val_recall: 0.9545 - 830ms/epoch - 6ms/step\n",
            "Epoch 21/200\n",
            "145/145 - 1s - loss: 0.1444 - tp: 260.0000 - tn: 143597.0000 - fn: 25.0000 - fp: 4217.0000 - precision: 0.0581 - recall: 0.9123 - val_loss: 0.3069 - val_tp: 126.0000 - val_tn: 68380.0000 - val_fn: 6.0000 - val_fp: 11235.0000 - val_precision: 0.0111 - val_recall: 0.9545 - 680ms/epoch - 5ms/step\n",
            "Epoch 22/200\n",
            "145/145 - 1s - loss: 0.1427 - tp: 262.0000 - tn: 142819.0000 - fn: 23.0000 - fp: 4995.0000 - precision: 0.0498 - recall: 0.9193 - val_loss: 0.2515 - val_tp: 126.0000 - val_tn: 71012.0000 - val_fn: 6.0000 - val_fp: 8603.0000 - val_precision: 0.0144 - val_recall: 0.9545 - 688ms/epoch - 5ms/step\n",
            "Epoch 23/200\n",
            "145/145 - 1s - loss: 0.1461 - tp: 259.0000 - tn: 143006.0000 - fn: 26.0000 - fp: 4808.0000 - precision: 0.0511 - recall: 0.9088 - val_loss: 0.2581 - val_tp: 126.0000 - val_tn: 70184.0000 - val_fn: 6.0000 - val_fp: 9431.0000 - val_precision: 0.0132 - val_recall: 0.9545 - 668ms/epoch - 5ms/step\n",
            "Epoch 23: early stopping\n"
          ]
        },
        {
          "output_type": "execute_result",
          "data": {
            "text/plain": [
              "<keras.src.callbacks.History at 0x78491296f310>"
            ]
          },
          "metadata": {},
          "execution_count": 10
        }
      ],
      "source": [
        "metrics = [\n",
        "    keras.metrics.TruePositives(name=\"tp\"),\n",
        "    keras.metrics.TrueNegatives(name=\"tn\"),\n",
        "    keras.metrics.FalseNegatives(name=\"fn\"),\n",
        "    keras.metrics.FalsePositives(name=\"fp\"),\n",
        "    keras.metrics.Precision(name=\"precision\"),\n",
        "    keras.metrics.Recall(name=\"recall\"),\n",
        "]\n",
        "\n",
        "model.compile(\n",
        "    optimizer=keras.optimizers.Adam(learning_rate=5e-3),\n",
        "    loss=\"binary_crossentropy\",\n",
        "    metrics=metrics\n",
        ")\n",
        "\n",
        "# callbacks\n",
        "es_callback = keras.callbacks.EarlyStopping(\n",
        "    monitor='val_loss',\n",
        "    # mode='max',\n",
        "    patience=15,\n",
        "    verbose=1)\n",
        "\n",
        "# class weights\n",
        "counts = np.bincount(train_targets[:, 0])\n",
        "print(\n",
        "    \"Number of positive samples in training data: {} ({:.2f}% of total)\".format(\n",
        "        counts[1], 100 * float(counts[1]) / len(train_targets)\n",
        "    )\n",
        ")\n",
        "# https://scikit-learn.org/stable/modules/generated/sklearn.utils.class_weight.compute_class_weight.html\n",
        "weight_for_0 = train_features.shape[0] / (2 * counts[0])\n",
        "weight_for_1 = train_features.shape[0] / (2 * counts[1])\n",
        "class_weight = {0: weight_for_0, 1: weight_for_1}\n",
        "print(class_weight)\n",
        "\n",
        "# train the model\n",
        "model.fit(\n",
        "    train_features,\n",
        "    train_targets,\n",
        "    batch_size=1024,\n",
        "    epochs=200,\n",
        "    callbacks=[es_callback],\n",
        "    verbose=2,\n",
        "    validation_split=0.35,\n",
        "    class_weight=class_weight,\n",
        ")"
      ]
    },
    {
      "cell_type": "code",
      "source": [
        "results = model.evaluate(test_features, test_targets, verbose=0)\n",
        "print('Test Loss: {}'.format(results[0]))\n",
        "print('Test TP: {}'.format(results[1]))"
      ],
      "metadata": {
        "id": "b9FKSB3GqpBb",
        "colab": {
          "base_uri": "https://localhost:8080/"
        },
        "outputId": "c5062ac9-3bf8-4c2d-cc2a-8d0f63278969"
      },
      "execution_count": 12,
      "outputs": [
        {
          "output_type": "stream",
          "name": "stdout",
          "text": [
            "Test Loss: 0.27626708149909973\n",
            "Test TP: 71.0\n"
          ]
        }
      ]
    },
    {
      "cell_type": "code",
      "source": [
        "# improve results changing threshold\n",
        "import matplotlib.pyplot as plt\n",
        "import seaborn as sns\n",
        "from sklearn.metrics import confusion_matrix\n",
        "\n",
        "test_predictions_baseline = model.predict(test_features)\n",
        "\n",
        "def plot_cm(labels, predictions, threshold=0.5):\n",
        "  cm = confusion_matrix(labels, predictions > threshold)\n",
        "  plt.figure(figsize=(5,5))\n",
        "  sns.heatmap(cm, annot=True, fmt=\"d\")\n",
        "  plt.title('Confusion matrix @{:.2f}'.format(threshold))\n",
        "  plt.ylabel('Actual label')\n",
        "  plt.xlabel('Predicted label')\n",
        "\n",
        "  print('Legitimate Transactions Detected (True Negatives): ', cm[0][0])\n",
        "  print('Legitimate Transactions Incorrectly Detected (False Positives): ', cm[0][1])\n",
        "  print('Fraudulent Transactions Missed (False Negatives): ', cm[1][0])\n",
        "  print('Fraudulent Transactions Detected (True Positives): ', cm[1][1])\n",
        "  print('Total Fraudulent Transactions: ', np.sum(cm[1]))\n",
        "\n",
        "plot_cm(test_targets, test_predictions_baseline, threshold=0.5)\n",
        "plot_cm(test_targets, test_predictions_baseline, threshold=0.1)"
      ],
      "metadata": {
        "id": "9b4nrti_47c0",
        "colab": {
          "base_uri": "https://localhost:8080/",
          "height": 1000
        },
        "outputId": "64c8e179-5ad5-45ae-8867-79dce120a295"
      },
      "execution_count": 17,
      "outputs": [
        {
          "output_type": "stream",
          "name": "stdout",
          "text": [
            "1781/1781 [==============================] - 3s 2ms/step\n",
            "Legitimate Transactions Detected (True Negatives):  49364\n",
            "Legitimate Transactions Incorrectly Detected (False Positives):  7522\n",
            "Fraudulent Transactions Missed (False Negatives):  4\n",
            "Fraudulent Transactions Detected (True Positives):  71\n",
            "Total Fraudulent Transactions:  75\n",
            "Legitimate Transactions Detected (True Negatives):  32657\n",
            "Legitimate Transactions Incorrectly Detected (False Positives):  24229\n",
            "Fraudulent Transactions Missed (False Negatives):  1\n",
            "Fraudulent Transactions Detected (True Positives):  74\n",
            "Total Fraudulent Transactions:  75\n"
          ]
        },
        {
          "output_type": "display_data",
          "data": {
            "text/plain": [
              "<Figure size 500x500 with 2 Axes>"
            ],
            "image/png": "[encoded data removed]"
          },
          "metadata": {}
        },
        {
          "output_type": "display_data",
          "data": {
            "text/plain": [
              "<Figure size 500x500 with 2 Axes>"
            ],
            "image/png": "[encoded data removed]"
          },
          "metadata": {}
        }
      ]
    },
    {
      "cell_type": "code",
      "source": [],
      "metadata": {
        "id": "vyNebFQB6jWf"
      },
      "execution_count": null,
      "outputs": []
    }
  ],
  "metadata": {
    "accelerator": "GPU",
    "colab": {
      "provenance": [],
      "toc_visible": true
    },
    "kernelspec": {
      "display_name": "Python 3",
      "language": "python",
      "name": "python3"
    },
    "language_info": {
      "codemirror_mode": {
        "name": "ipython",
        "version": 3
      },
      "file_extension": ".py",
      "mimetype": "text/x-python",
      "name": "python",
      "nbconvert_exporter": "python",
      "pygments_lexer": "ipython3",
      "version": "3.7.0"
    }
  },
  "nbformat": 4,
  "nbformat_minor": 0
}