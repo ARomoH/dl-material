{
  "cells": [
    {
      "cell_type": "markdown",
      "source": [
        "[![Open In Colab](https://colab.research.google.com/assets/colab-badge.svg)](https://colab.research.google.com/drive/1d2kYPsvC9MLgBhpsRJfMS8SvpMlTmF4Q?usp=sharing)"
      ],
      "metadata": {
        "id": "NDIy003pvcWf"
      }
    },
    {
      "cell_type": "markdown",
      "metadata": {
        "id": "5PcNY5jmmYx5"
      },
      "source": [
        "# Imbalanced classification: credit card fraud detection\n",
        "\n",
        "https://keras.io/examples/structured_data/imbalanced_classification/"
      ]
    },
    {
      "cell_type": "markdown",
      "metadata": {
        "id": "8Mp3amP1mYx7"
      },
      "source": [
        "## Introduction\n",
        "\n",
        "This example looks at the\n",
        "[Kaggle Credit Card Fraud Detection](https://www.kaggle.com/mlg-ulb/creditcardfraud/)\n",
        "dataset to demonstrate how\n",
        "to train a classification model on data with highly imbalanced classes."
      ]
    },
    {
      "cell_type": "markdown",
      "metadata": {
        "id": "fobCaf4JmYx9"
      },
      "source": [
        "## First, vectorize the CSV data"
      ]
    },
    {
      "cell_type": "code",
      "source": [
        "from google.colab import drive\n",
        "drive.mount('/content/drive')"
      ],
      "metadata": {
        "colab": {
          "base_uri": "https://localhost:8080/"
        },
        "id": "us9xJjSwuNQG",
        "outputId": "72a9b5a6-0db9-456b-cf1b-14c79898b5df"
      },
      "execution_count": null,
      "outputs": [
        {
          "output_type": "stream",
          "name": "stdout",
          "text": [
            "Mounted at /content/drive\n"
          ]
        }
      ]
    },
    {
      "cell_type": "code",
      "source": [
        "!ls drive/MyDrive/data"
      ],
      "metadata": {
        "colab": {
          "base_uri": "https://localhost:8080/"
        },
        "id": "2e6FB0ZpuQAd",
        "outputId": "9bafe355-8a17-4aaa-b94e-96343ee36865"
      },
      "execution_count": null,
      "outputs": [
        {
          "output_type": "stream",
          "name": "stdout",
          "text": [
            "creditcard.csv\n"
          ]
        }
      ]
    },
    {
      "cell_type": "code",
      "execution_count": null,
      "metadata": {
        "id": "6otUhpxomYx9",
        "outputId": "fd01babb-809f-4d24-9f57-5214fdb8bfad",
        "colab": {
          "base_uri": "https://localhost:8080/"
        }
      },
      "outputs": [
        {
          "output_type": "stream",
          "name": "stdout",
          "text": [
            "HEADER: \"Time\",\"V1\",\"V2\",\"V3\",\"V4\",\"V5\",\"V6\",\"V7\",\"V8\",\"V9\",\"V10\",\"V11\",\"V12\",\"V13\",\"V14\",\"V15\",\"V16\",\"V17\",\"V18\",\"V19\",\"V20\",\"V21\",\"V22\",\"V23\",\"V24\",\"V25\",\"V26\",\"V27\",\"V28\",\"Amount\",\"Class\"\n",
            "EXAMPLE FEATURES: [0.0, -1.3598071336738, -0.0727811733098497, 2.53634673796914, 1.37815522427443, -0.338320769942518, 0.462387777762292, 0.239598554061257, 0.0986979012610507, 0.363786969611213, 0.0907941719789316, -0.551599533260813, -0.617800855762348, -0.991389847235408, -0.311169353699879, 1.46817697209427, -0.470400525259478, 0.207971241929242, 0.0257905801985591, 0.403992960255733, 0.251412098239705, -0.018306777944153, 0.277837575558899, -0.110473910188767, 0.0669280749146731, 0.128539358273528, -0.189114843888824, 0.133558376740387, -0.0210530534538215, 149.62]\n",
            "features.shape: (284807, 30)\n",
            "targets.shape: (284807, 1)\n"
          ]
        }
      ],
      "source": [
        "import csv\n",
        "import numpy as np\n",
        "\n",
        "# Get the real data from --> https://www.kaggle.com/mlg-ulb/creditcardfraud/\n",
        "fname = \"/content/drive/MyDrive/data/creditcard.csv\"\n",
        "\n",
        "all_features = []\n",
        "all_targets = []\n",
        "with open(fname) as f:\n",
        "    for i, line in enumerate(f):\n",
        "        if i == 0:\n",
        "            print(\"HEADER:\", line.strip())\n",
        "            continue  # Skip header\n",
        "        fields = line.strip().split(\",\")\n",
        "        all_features.append([float(v.replace('\"', \"\")) for v in fields[:-1]])\n",
        "        all_targets.append([int(fields[-1].replace('\"', \"\"))])\n",
        "        if i == 1:\n",
        "            print(\"EXAMPLE FEATURES:\", all_features[-1])\n",
        "\n",
        "features = np.array(all_features, dtype=\"float32\")\n",
        "targets = np.array(all_targets, dtype=\"uint8\")\n",
        "print(\"features.shape:\", features.shape)\n",
        "print(\"targets.shape:\", targets.shape)"
      ]
    },
    {
      "cell_type": "markdown",
      "metadata": {
        "id": "54Jn5yBCmYx_"
      },
      "source": [
        "## Prepare a validation set"
      ]
    },
    {
      "cell_type": "code",
      "execution_count": null,
      "metadata": {
        "id": "z3vaUw0ymYx_",
        "colab": {
          "base_uri": "https://localhost:8080/"
        },
        "outputId": "0223cfa4-ef52-491b-b6cf-54849aa7407d"
      },
      "outputs": [
        {
          "output_type": "stream",
          "name": "stdout",
          "text": [
            "Number of training samples: 56961\n",
            "Number of validation samples: 56961\n"
          ]
        }
      ],
      "source": [
        "num_val_samples = int(len(features) * 0.2)\n",
        "train_features = features[:-num_val_samples]\n",
        "train_targets = targets[:-num_val_samples]\n",
        "test_features = features[-num_val_samples:]\n",
        "test_targets = targets[-num_val_samples:]\n",
        "\n",
        "print(\"Number of training samples:\", len(train_targets))\n",
        "print(\"Number of validation samples:\", len(test_features))"
      ]
    },
    {
      "cell_type": "markdown",
      "metadata": {
        "id": "1Cd1crUpmYyC"
      },
      "source": [
        "## [Recommended] Normalize the data"
      ]
    },
    {
      "cell_type": "code",
      "execution_count": null,
      "metadata": {
        "id": "cuv0jyuDmYyD"
      },
      "outputs": [],
      "source": [
        "train_features = ...\n",
        "test_features = ..."
      ]
    },
    {
      "cell_type": "markdown",
      "metadata": {
        "id": "2nED2hxvmYyD"
      },
      "source": [
        "## Build a binary classification model"
      ]
    },
    {
      "cell_type": "code",
      "execution_count": null,
      "metadata": {
        "id": "k-l5Sp7umYyE"
      },
      "outputs": [],
      "source": [
        "import keras\n",
        "\n",
        "model = ...\n",
        "model.summary()"
      ]
    },
    {
      "cell_type": "markdown",
      "metadata": {
        "id": "QaCr4ISpmYyF"
      },
      "source": [
        "## Exercise: detects 90% of frauds in test dataset (TP >= 68)\n",
        "\n",
        "**Tips**: check the following documentation (class weight parameter): https://keras.io/api/models/model_training_apis/#fit-method"
      ]
    },
    {
      "cell_type": "code",
      "execution_count": null,
      "metadata": {
        "id": "KFNCP9bSmYyG"
      },
      "outputs": [],
      "source": [
        "metrics = [\n",
        "  keras.metrics.TruePositives(name=\"tp\"),\n",
        "  ...\n",
        "]\n",
        "\n",
        "model.compile(\n",
        "    ...\n",
        ")\n",
        "\n",
        "model.fit(\n",
        "    train_features,\n",
        "    train_targets,\n",
        "    batch_size=...,\n",
        "    epochs=...,\n",
        "    callbacks=...,\n",
        "    verbose=2,\n",
        "    validation_split=...,\n",
        "    class_weight=...,\n",
        ")"
      ]
    },
    {
      "cell_type": "code",
      "source": [
        "results = model.evaluate(test_features, test_targets, verbose=0)\n",
        "print('Test Loss: {}'.format(results[0]))\n",
        "print('Test TP: {}'.format(results[1]))"
      ],
      "metadata": {
        "id": "b9FKSB3GqpBb"
      },
      "execution_count": null,
      "outputs": []
    }
  ],
  "metadata": {
    "accelerator": "GPU",
    "colab": {
      "provenance": [],
      "toc_visible": true
    },
    "kernelspec": {
      "display_name": "Python 3",
      "language": "python",
      "name": "python3"
    },
    "language_info": {
      "codemirror_mode": {
        "name": "ipython",
        "version": 3
      },
      "file_extension": ".py",
      "mimetype": "text/x-python",
      "name": "python",
      "nbconvert_exporter": "python",
      "pygments_lexer": "ipython3",
      "version": "3.7.0"
    }
  },
  "nbformat": 4,
  "nbformat_minor": 0
}