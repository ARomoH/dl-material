{
  "cells": [
    {
      "cell_type": "markdown",
      "metadata": {
        "id": "c_7YU02C3OYF"
      },
      "source": [
        "[![Open In Colab](https://colab.research.google.com/assets/colab-badge.svg)](https://colab.research.google.com/drive/1zW_IcmclqmgacxpqdvXamv37fhElCTZJ?usp=sharing)\n",
        "\n",
        "Source: https://github.com/ezponda/intro_deep_learning/blob/main/class/Fundamentals/Prevent_Overfitting.ipynb"
      ]
    },
    {
      "cell_type": "markdown",
      "metadata": {
        "id": "6PZJGTFJ3OYL"
      },
      "source": [
        "# Prevent Overfitting: Regularization\n"
      ]
    },
    {
      "cell_type": "code",
      "execution_count": null,
      "metadata": {
        "id": "FpNUYjlB3OYM"
      },
      "outputs": [],
      "source": [
        "import tensorflow as tf\n",
        "import matplotlib.pyplot as plt\n",
        "import pandas as pd\n",
        "from tensorflow import keras\n",
        "from tensorflow.keras import layers\n",
        "tf.keras.utils.set_random_seed(0)"
      ]
    },
    {
      "cell_type": "markdown",
      "metadata": {
        "id": "hRHNqdZi3OYO"
      },
      "source": [
        "We will use the [MNIST dataset](https://en.wikipedia.org/wiki/MNIST_database), consisting of a collection of 28x28 pixel images corresponding in digits from 0 to 9 manuscripts. The purpose of this data set is to train models that recognize handwritten numbers.\n",
        "\n",
        "We will train, therefore, an [OCR (Optical Character Recognition)](https://en.wikipedia.org/wiki/Optical_character_recognition) model for multiclass classification (numbers from 0 to 9)."
      ]
    },
    {
      "cell_type": "code",
      "execution_count": null,
      "metadata": {
        "id": "N2ygDPx13OYP",
        "colab": {
          "base_uri": "https://localhost:8080/"
        },
        "outputId": "9a756b5d-b47a-40a4-f1c8-8dc5888324f2"
      },
      "outputs": [
        {
          "output_type": "stream",
          "name": "stdout",
          "text": [
            "Downloading data from https://storage.googleapis.com/tensorflow/tf-keras-datasets/mnist.npz\n",
            "11490434/11490434 [==============================] - 2s 0us/step\n"
          ]
        }
      ],
      "source": [
        "mnist = tf.keras.datasets.mnist\n",
        "(x_train, y_train),(x_test, y_test) = mnist.load_data()"
      ]
    },
    {
      "cell_type": "code",
      "execution_count": null,
      "metadata": {
        "id": "YBbn20_a3OYP",
        "colab": {
          "base_uri": "https://localhost:8080/"
        },
        "outputId": "dbcabcd9-d68e-4abb-c515-b51bd689a3c0"
      },
      "outputs": [
        {
          "output_type": "execute_result",
          "data": {
            "text/plain": [
              "(28, 28)"
            ]
          },
          "metadata": {},
          "execution_count": 3
        }
      ],
      "source": [
        "x_train[0].shape"
      ]
    },
    {
      "cell_type": "markdown",
      "metadata": {
        "id": "41AdadXs3OYQ"
      },
      "source": [
        "As they are 8-bit images, the colors (in this case only one channel, the gray channel) of each pixel are encoded with a value between 0 and 255, with 0 being black and 255 being white. It is usual to normalize the values to work with a range between 0.0 and 1.0."
      ]
    },
    {
      "cell_type": "code",
      "execution_count": null,
      "metadata": {
        "id": "4E7HfFvi3OYQ"
      },
      "outputs": [],
      "source": [
        "x_train, x_test = x_train / 255.0, x_test / 255.0"
      ]
    },
    {
      "cell_type": "markdown",
      "metadata": {
        "id": "Vc8_WxL03OYR"
      },
      "source": [
        "We visualize a random image of the training set."
      ]
    },
    {
      "cell_type": "code",
      "execution_count": null,
      "metadata": {
        "id": "YJR0dmk53OYS",
        "colab": {
          "base_uri": "https://localhost:8080/",
          "height": 430
        },
        "outputId": "9f10b88d-6fa5-4ca9-9287-bf867e7daba6"
      },
      "outputs": [
        {
          "output_type": "display_data",
          "data": {
            "text/plain": [
              "<Figure size 640x480 with 1 Axes>"
            ],
            "image/png": "[encoded data removed]"
          },
          "metadata": {}
        }
      ],
      "source": [
        "import numpy as np\n",
        "\n",
        "i = np.random.randint(0, len(x_train))\n",
        "plt.imshow(x_train[i], cmap='gray')\n",
        "plt.show()"
      ]
    },
    {
      "cell_type": "markdown",
      "metadata": {
        "id": "7iZldKdZ3OYS"
      },
      "source": [
        "We reduce the dataset for  inducing more overfitting"
      ]
    },
    {
      "cell_type": "code",
      "execution_count": null,
      "metadata": {
        "scrolled": true,
        "id": "2Y1nrs043OYT",
        "colab": {
          "base_uri": "https://localhost:8080/"
        },
        "outputId": "429144d9-3bde-44be-b248-20dc9c56ca27"
      },
      "outputs": [
        {
          "output_type": "execute_result",
          "data": {
            "text/plain": [
              "((1200, 28, 28),\n",
              " (1200,),\n",
              " Counter({2: 119,\n",
              "          8: 117,\n",
              "          6: 118,\n",
              "          9: 119,\n",
              "          3: 123,\n",
              "          4: 117,\n",
              "          0: 119,\n",
              "          7: 125,\n",
              "          5: 108,\n",
              "          1: 135}))"
            ]
          },
          "metadata": {},
          "execution_count": 6
        }
      ],
      "source": [
        "from sklearn.model_selection import train_test_split\n",
        "# split into train test sets\n",
        "_, x, _, y = train_test_split(\n",
        "    x_train, y_train, test_size=0.02, random_state=1, stratify=y_train)\n",
        "\n",
        "num_classes = 10\n",
        "from collections import Counter\n",
        "x.shape, y.shape, Counter(y)"
      ]
    },
    {
      "cell_type": "markdown",
      "metadata": {
        "id": "mWCkISrx3OYT"
      },
      "source": [
        "#### Why do we need to use regularization?\n",
        "\n",
        "We are going to assign the classes randomly to each image with random shuffle."
      ]
    },
    {
      "cell_type": "code",
      "execution_count": null,
      "metadata": {
        "id": "3jC3XcIG3OYU",
        "colab": {
          "base_uri": "https://localhost:8080/"
        },
        "outputId": "fdb3233f-f6f9-4c3f-e78b-faa3bdf5bc63"
      },
      "outputs": [
        {
          "output_type": "execute_result",
          "data": {
            "text/plain": [
              "(array([2, 8, 6, 9, 3], dtype=uint8), array([3, 9, 4, 3, 0], dtype=uint8))"
            ]
          },
          "metadata": {},
          "execution_count": 8
        }
      ],
      "source": [
        "y_shuffle = np.copy(y)\n",
        "np.random.shuffle(y_shuffle)\n",
        "y[:5], y_shuffle[:5]"
      ]
    },
    {
      "cell_type": "code",
      "execution_count": null,
      "metadata": {
        "id": "zRNwWyIZ3OYU",
        "colab": {
          "base_uri": "https://localhost:8080/",
          "height": 742
        },
        "outputId": "2f125b36-f747-4131-953a-d8f39c406a9e"
      },
      "outputs": [
        {
          "output_type": "display_data",
          "data": {
            "text/plain": [
              "<Figure size 900x900 with 9 Axes>"
            ],
            "image/png": "[encoded data removed]"
          },
          "metadata": {}
        }
      ],
      "source": [
        "fig, axes = plt.subplots(3, 3, figsize=(9, 9))\n",
        "axes = axes.ravel()\n",
        "\n",
        "for i in np.arange(0, 9):\n",
        "    ind = np.random.randint(len(y_shuffle))\n",
        "    axes[i].imshow(x[ind].reshape(28, 28))\n",
        "    axes[i].set_title(\n",
        "        f\"Digit = {y_shuffle[ind]}\")\n",
        "    axes[i].axis('off')\n",
        "\n",
        "plt.subplots_adjust(wspace=0.3)"
      ]
    },
    {
      "cell_type": "markdown",
      "metadata": {
        "id": "B-rIuA4w3OYU"
      },
      "source": [
        "Lets build a model for learning the new random classes"
      ]
    },
    {
      "cell_type": "code",
      "execution_count": null,
      "metadata": {
        "id": "bN6MbjnH3OYV"
      },
      "outputs": [],
      "source": [
        "# Input\n",
        "inputs = tf.keras.Input(shape=(28, 28))\n",
        "# Convert the 2D image to a vector\n",
        "flat = layers.Flatten()(inputs)\n",
        "\n",
        "# hidden layer 1\n",
        "l_1 = layers.Dense(64, activation='relu')(flat)\n",
        "# hidden layer 2\n",
        "l_2 = layers.Dense(64, activation='relu')(l_1)\n",
        "# hidden layer 3\n",
        "l_3 = layers.Dense(64, activation='relu')(l_2)\n",
        "\n",
        "# Outputs\n",
        "outputs = layers.Dense(10, activation='softmax')(l_3)\n",
        "\n",
        "# Model definition\n",
        "model = keras.Model(inputs=inputs, outputs=outputs)"
      ]
    },
    {
      "cell_type": "code",
      "execution_count": null,
      "metadata": {
        "id": "9LtvPX5p3OYV",
        "colab": {
          "base_uri": "https://localhost:8080/"
        },
        "outputId": "c9a52ec2-053d-430e-ada8-220408d46042"
      },
      "outputs": [
        {
          "output_type": "stream",
          "name": "stdout",
          "text": [
            "Epoch 1/100\n",
            "19/19 [==============================] - 6s 4ms/step - loss: 2.3156 - accuracy: 0.0967\n",
            "Epoch 2/100\n",
            "19/19 [==============================] - 0s 4ms/step - loss: 2.2819 - accuracy: 0.1425\n",
            "Epoch 3/100\n",
            "19/19 [==============================] - 0s 4ms/step - loss: 2.2500 - accuracy: 0.1750\n",
            "Epoch 4/100\n",
            "19/19 [==============================] - 0s 4ms/step - loss: 2.2070 - accuracy: 0.2342\n",
            "Epoch 5/100\n",
            "19/19 [==============================] - 0s 4ms/step - loss: 2.1541 - accuracy: 0.2483\n",
            "Epoch 6/100\n",
            "19/19 [==============================] - 0s 4ms/step - loss: 2.0932 - accuracy: 0.2750\n",
            "Epoch 7/100\n",
            "19/19 [==============================] - 0s 4ms/step - loss: 2.0258 - accuracy: 0.3042\n",
            "Epoch 8/100\n",
            "19/19 [==============================] - 0s 4ms/step - loss: 1.9561 - accuracy: 0.3325\n",
            "Epoch 9/100\n",
            "19/19 [==============================] - 0s 4ms/step - loss: 1.8625 - accuracy: 0.3683\n",
            "Epoch 10/100\n",
            "19/19 [==============================] - 0s 4ms/step - loss: 1.7714 - accuracy: 0.4125\n",
            "Epoch 11/100\n",
            "19/19 [==============================] - 0s 4ms/step - loss: 1.6683 - accuracy: 0.4667\n",
            "Epoch 12/100\n",
            "19/19 [==============================] - 0s 4ms/step - loss: 1.5671 - accuracy: 0.5058\n",
            "Epoch 13/100\n",
            "19/19 [==============================] - 0s 4ms/step - loss: 1.4455 - accuracy: 0.5583\n",
            "Epoch 14/100\n",
            "19/19 [==============================] - 0s 4ms/step - loss: 1.3549 - accuracy: 0.5675\n",
            "Epoch 15/100\n",
            "19/19 [==============================] - 0s 4ms/step - loss: 1.2637 - accuracy: 0.6083\n",
            "Epoch 16/100\n",
            "19/19 [==============================] - 0s 4ms/step - loss: 1.1905 - accuracy: 0.6167\n",
            "Epoch 17/100\n",
            "19/19 [==============================] - 0s 4ms/step - loss: 1.0765 - accuracy: 0.6833\n",
            "Epoch 18/100\n",
            "19/19 [==============================] - 0s 4ms/step - loss: 0.9674 - accuracy: 0.7192\n",
            "Epoch 19/100\n",
            "19/19 [==============================] - 0s 4ms/step - loss: 0.9100 - accuracy: 0.7400\n",
            "Epoch 20/100\n",
            "19/19 [==============================] - 0s 4ms/step - loss: 0.7969 - accuracy: 0.7808\n",
            "Epoch 21/100\n",
            "19/19 [==============================] - 0s 3ms/step - loss: 0.7176 - accuracy: 0.8058\n",
            "Epoch 22/100\n",
            "19/19 [==============================] - 0s 3ms/step - loss: 0.6386 - accuracy: 0.8442\n",
            "Epoch 23/100\n",
            "19/19 [==============================] - 0s 3ms/step - loss: 0.5915 - accuracy: 0.8467\n",
            "Epoch 24/100\n",
            "19/19 [==============================] - 0s 4ms/step - loss: 0.5423 - accuracy: 0.8675\n",
            "Epoch 25/100\n",
            "19/19 [==============================] - 0s 4ms/step - loss: 0.4707 - accuracy: 0.8908\n",
            "Epoch 26/100\n",
            "19/19 [==============================] - 0s 3ms/step - loss: 0.4215 - accuracy: 0.9108\n",
            "Epoch 27/100\n",
            "19/19 [==============================] - 0s 4ms/step - loss: 0.3862 - accuracy: 0.9217\n",
            "Epoch 28/100\n",
            "19/19 [==============================] - 0s 4ms/step - loss: 0.3505 - accuracy: 0.9275\n",
            "Epoch 29/100\n",
            "19/19 [==============================] - 0s 5ms/step - loss: 0.2954 - accuracy: 0.9450\n",
            "Epoch 30/100\n",
            "19/19 [==============================] - 0s 6ms/step - loss: 0.2641 - accuracy: 0.9558\n",
            "Epoch 31/100\n",
            "19/19 [==============================] - 0s 5ms/step - loss: 0.2558 - accuracy: 0.9483\n",
            "Epoch 32/100\n",
            "19/19 [==============================] - 0s 5ms/step - loss: 0.2200 - accuracy: 0.9608\n",
            "Epoch 33/100\n",
            "19/19 [==============================] - 0s 5ms/step - loss: 0.1996 - accuracy: 0.9633\n",
            "Epoch 34/100\n",
            "19/19 [==============================] - 0s 5ms/step - loss: 0.1846 - accuracy: 0.9708\n",
            "Epoch 35/100\n",
            "19/19 [==============================] - 0s 5ms/step - loss: 0.1637 - accuracy: 0.9750\n",
            "Epoch 36/100\n",
            "19/19 [==============================] - 0s 5ms/step - loss: 0.1460 - accuracy: 0.9775\n",
            "Epoch 37/100\n",
            "19/19 [==============================] - 0s 5ms/step - loss: 0.1316 - accuracy: 0.9842\n",
            "Epoch 38/100\n",
            "19/19 [==============================] - 0s 5ms/step - loss: 0.1223 - accuracy: 0.9842\n",
            "Epoch 39/100\n",
            "19/19 [==============================] - 0s 5ms/step - loss: 0.1140 - accuracy: 0.9817\n",
            "Epoch 40/100\n",
            "19/19 [==============================] - 0s 5ms/step - loss: 0.1009 - accuracy: 0.9875\n",
            "Epoch 41/100\n",
            "19/19 [==============================] - 0s 5ms/step - loss: 0.0848 - accuracy: 0.9883\n",
            "Epoch 42/100\n",
            "19/19 [==============================] - 0s 5ms/step - loss: 0.0871 - accuracy: 0.9908\n",
            "Epoch 43/100\n",
            "19/19 [==============================] - 0s 5ms/step - loss: 0.0758 - accuracy: 0.9950\n",
            "Epoch 44/100\n",
            "19/19 [==============================] - 0s 4ms/step - loss: 0.0656 - accuracy: 0.9950\n",
            "Epoch 45/100\n",
            "19/19 [==============================] - 0s 4ms/step - loss: 0.0590 - accuracy: 0.9950\n",
            "Epoch 46/100\n",
            "19/19 [==============================] - 0s 3ms/step - loss: 0.0567 - accuracy: 0.9942\n",
            "Epoch 47/100\n",
            "19/19 [==============================] - 0s 4ms/step - loss: 0.0569 - accuracy: 0.9917\n",
            "Epoch 48/100\n",
            "19/19 [==============================] - 0s 4ms/step - loss: 0.0481 - accuracy: 0.9975\n",
            "Epoch 49/100\n",
            "19/19 [==============================] - 0s 3ms/step - loss: 0.0431 - accuracy: 0.9958\n",
            "Epoch 50/100\n",
            "19/19 [==============================] - 0s 3ms/step - loss: 0.0420 - accuracy: 0.9983\n",
            "Epoch 51/100\n",
            "19/19 [==============================] - 0s 3ms/step - loss: 0.0401 - accuracy: 0.9992\n",
            "Epoch 52/100\n",
            "19/19 [==============================] - 0s 3ms/step - loss: 0.0351 - accuracy: 0.9967\n",
            "Epoch 53/100\n",
            "19/19 [==============================] - 0s 3ms/step - loss: 0.0361 - accuracy: 0.9967\n",
            "Epoch 54/100\n",
            "19/19 [==============================] - 0s 3ms/step - loss: 0.0300 - accuracy: 0.9958\n",
            "Epoch 55/100\n",
            "19/19 [==============================] - 0s 3ms/step - loss: 0.0291 - accuracy: 0.9983\n",
            "Epoch 56/100\n",
            "19/19 [==============================] - 0s 3ms/step - loss: 0.0269 - accuracy: 0.9992\n",
            "Epoch 57/100\n",
            "19/19 [==============================] - 0s 4ms/step - loss: 0.0280 - accuracy: 0.9975\n",
            "Epoch 58/100\n",
            "19/19 [==============================] - 0s 3ms/step - loss: 0.0250 - accuracy: 0.9983\n",
            "Epoch 59/100\n",
            "19/19 [==============================] - 0s 4ms/step - loss: 0.0219 - accuracy: 0.9992\n",
            "Epoch 60/100\n",
            "19/19 [==============================] - 0s 3ms/step - loss: 0.0184 - accuracy: 1.0000\n",
            "Epoch 61/100\n",
            "19/19 [==============================] - 0s 4ms/step - loss: 0.0167 - accuracy: 1.0000\n",
            "Epoch 62/100\n",
            "19/19 [==============================] - 0s 4ms/step - loss: 0.0177 - accuracy: 1.0000\n",
            "Epoch 63/100\n",
            "19/19 [==============================] - 0s 4ms/step - loss: 0.0155 - accuracy: 1.0000\n",
            "Epoch 64/100\n",
            "19/19 [==============================] - 0s 3ms/step - loss: 0.0139 - accuracy: 1.0000\n",
            "Epoch 65/100\n",
            "19/19 [==============================] - 0s 4ms/step - loss: 0.0140 - accuracy: 1.0000\n",
            "Epoch 66/100\n",
            "19/19 [==============================] - 0s 3ms/step - loss: 0.0126 - accuracy: 1.0000\n",
            "Epoch 67/100\n",
            "19/19 [==============================] - 0s 3ms/step - loss: 0.0120 - accuracy: 1.0000\n",
            "Epoch 68/100\n",
            "19/19 [==============================] - 0s 4ms/step - loss: 0.0123 - accuracy: 1.0000\n",
            "Epoch 69/100\n",
            "19/19 [==============================] - 0s 3ms/step - loss: 0.0117 - accuracy: 1.0000\n",
            "Epoch 70/100\n",
            "19/19 [==============================] - 0s 3ms/step - loss: 0.0111 - accuracy: 1.0000\n",
            "Epoch 71/100\n",
            "19/19 [==============================] - 0s 4ms/step - loss: 0.0103 - accuracy: 1.0000\n",
            "Epoch 72/100\n",
            "19/19 [==============================] - 0s 3ms/step - loss: 0.0092 - accuracy: 1.0000\n",
            "Epoch 73/100\n",
            "19/19 [==============================] - 0s 3ms/step - loss: 0.0089 - accuracy: 1.0000\n",
            "Epoch 74/100\n",
            "19/19 [==============================] - 0s 3ms/step - loss: 0.0082 - accuracy: 1.0000\n",
            "Epoch 75/100\n",
            "19/19 [==============================] - 0s 4ms/step - loss: 0.0077 - accuracy: 1.0000\n",
            "Epoch 76/100\n",
            "19/19 [==============================] - 0s 4ms/step - loss: 0.0075 - accuracy: 1.0000\n",
            "Epoch 77/100\n",
            "19/19 [==============================] - 0s 4ms/step - loss: 0.0072 - accuracy: 1.0000\n",
            "Epoch 78/100\n",
            "19/19 [==============================] - 0s 3ms/step - loss: 0.0067 - accuracy: 1.0000\n",
            "Epoch 79/100\n",
            "19/19 [==============================] - 0s 4ms/step - loss: 0.0072 - accuracy: 1.0000\n",
            "Epoch 80/100\n",
            "19/19 [==============================] - 0s 4ms/step - loss: 0.0063 - accuracy: 1.0000\n",
            "Epoch 81/100\n",
            "19/19 [==============================] - 0s 3ms/step - loss: 0.0064 - accuracy: 1.0000\n",
            "Epoch 82/100\n",
            "19/19 [==============================] - 0s 4ms/step - loss: 0.0058 - accuracy: 1.0000\n",
            "Epoch 83/100\n",
            "19/19 [==============================] - 0s 4ms/step - loss: 0.0058 - accuracy: 1.0000\n",
            "Epoch 84/100\n",
            "19/19 [==============================] - 0s 4ms/step - loss: 0.0058 - accuracy: 1.0000\n",
            "Epoch 85/100\n",
            "19/19 [==============================] - 0s 4ms/step - loss: 0.0051 - accuracy: 1.0000\n",
            "Epoch 86/100\n",
            "19/19 [==============================] - 0s 3ms/step - loss: 0.0050 - accuracy: 1.0000\n",
            "Epoch 87/100\n",
            "19/19 [==============================] - 0s 4ms/step - loss: 0.0049 - accuracy: 1.0000\n",
            "Epoch 88/100\n",
            "19/19 [==============================] - 0s 4ms/step - loss: 0.0047 - accuracy: 1.0000\n",
            "Epoch 89/100\n",
            "19/19 [==============================] - 0s 4ms/step - loss: 0.0045 - accuracy: 1.0000\n",
            "Epoch 90/100\n",
            "19/19 [==============================] - 0s 3ms/step - loss: 0.0043 - accuracy: 1.0000\n",
            "Epoch 91/100\n",
            "19/19 [==============================] - 0s 4ms/step - loss: 0.0041 - accuracy: 1.0000\n",
            "Epoch 92/100\n",
            "19/19 [==============================] - 0s 4ms/step - loss: 0.0040 - accuracy: 1.0000\n",
            "Epoch 93/100\n",
            "19/19 [==============================] - 0s 4ms/step - loss: 0.0039 - accuracy: 1.0000\n",
            "Epoch 94/100\n",
            "19/19 [==============================] - 0s 4ms/step - loss: 0.0038 - accuracy: 1.0000\n",
            "Epoch 95/100\n",
            "19/19 [==============================] - 0s 4ms/step - loss: 0.0037 - accuracy: 1.0000\n",
            "Epoch 96/100\n",
            "19/19 [==============================] - 0s 4ms/step - loss: 0.0034 - accuracy: 1.0000\n",
            "Epoch 97/100\n",
            "19/19 [==============================] - 0s 3ms/step - loss: 0.0034 - accuracy: 1.0000\n",
            "Epoch 98/100\n",
            "19/19 [==============================] - 0s 4ms/step - loss: 0.0033 - accuracy: 1.0000\n",
            "Epoch 99/100\n",
            "19/19 [==============================] - 0s 4ms/step - loss: 0.0031 - accuracy: 1.0000\n",
            "Epoch 100/100\n",
            "19/19 [==============================] - 0s 3ms/step - loss: 0.0031 - accuracy: 1.0000\n"
          ]
        }
      ],
      "source": [
        "model.compile(optimizer='adam',\n",
        "              loss='sparse_categorical_crossentropy',\n",
        "              metrics=['accuracy'])\n",
        "history = model.fit(\n",
        "    x,\n",
        "    y_shuffle,\n",
        "    batch_size=64,\n",
        "    epochs=100,\n",
        "    shuffle=True\n",
        ")"
      ]
    },
    {
      "cell_type": "code",
      "execution_count": null,
      "metadata": {
        "id": "OGiG_R1B3OYW",
        "colab": {
          "base_uri": "https://localhost:8080/"
        },
        "outputId": "c99bdd4f-459e-4062-af07-1222daf32e26"
      },
      "outputs": [
        {
          "output_type": "stream",
          "name": "stdout",
          "text": [
            "Train Accuracy: 1.0\n"
          ]
        }
      ],
      "source": [
        "results = model.evaluate(x, y_shuffle, verbose=0)\n",
        "print('Train Accuracy: {}'.format(results[1]))"
      ]
    },
    {
      "cell_type": "code",
      "execution_count": null,
      "metadata": {
        "id": "S0zsJrtF3OYW",
        "colab": {
          "base_uri": "https://localhost:8080/",
          "height": 907
        },
        "outputId": "ae8dad90-6f57-4d08-e021-dd47928accf9"
      },
      "outputs": [
        {
          "output_type": "stream",
          "name": "stdout",
          "text": [
            "1/1 [==============================] - 0s 96ms/step\n",
            "1/1 [==============================] - 0s 19ms/step\n",
            "1/1 [==============================] - 0s 19ms/step\n",
            "1/1 [==============================] - 0s 28ms/step\n",
            "1/1 [==============================] - 0s 22ms/step\n",
            "1/1 [==============================] - 0s 20ms/step\n",
            "1/1 [==============================] - 0s 18ms/step\n",
            "1/1 [==============================] - 0s 18ms/step\n",
            "1/1 [==============================] - 0s 19ms/step\n"
          ]
        },
        {
          "output_type": "display_data",
          "data": {
            "text/plain": [
              "<Figure size 900x900 with 9 Axes>"
            ],
            "image/png": "[encoded data removed]"
          },
          "metadata": {}
        }
      ],
      "source": [
        "fig, axes = plt.subplots(3, 3, figsize=(9, 9))\n",
        "axes = axes.ravel()\n",
        "\n",
        "for i in np.arange(0, 9):\n",
        "    ind = np.random.randint(len(y_shuffle))\n",
        "    pred_pobs = model.predict(np.expand_dims(x[ind], 0)).flatten()\n",
        "    pred_class = np.argmax(pred_pobs)\n",
        "    prob = np.max(pred_pobs)\n",
        "    axes[i].imshow(x[ind].reshape(28, 28))\n",
        "    axes[i].set_title(\n",
        "        f\"Digit = {y_shuffle[ind]} \\n Prediction={pred_class} , Prob={prob:.4f}\")\n",
        "    axes[i].axis('off')\n",
        "\n",
        "plt.subplots_adjust(wspace=0.5)"
      ]
    },
    {
      "cell_type": "markdown",
      "metadata": {
        "id": "A5EC6O8K3OYX"
      },
      "source": [
        "We can see that the model has fully fitted the training set. It practically does not matter what data you introduce into the neural network, it will almost always fit. The objective is not to fit the training set, it is to **GENERALIZE**."
      ]
    },
    {
      "cell_type": "markdown",
      "metadata": {
        "id": "Wkt3eGa33OYX"
      },
      "source": [
        "#### Regularization for preventing overfitting\n",
        "\n",
        "To get the model to **generalize**, we can use one of the numerous regularization techniques"
      ]
    },
    {
      "cell_type": "markdown",
      "metadata": {
        "id": "ZWC4tzLH3OYX"
      },
      "source": [
        "We build a model consisting of:\n",
        "\n",
        "- Input with dimension (28,28)\n",
        "- Flatten layer\n",
        "- Dense hidden  layer with 256 neurons and ReLU as activation function\n",
        "- Second dense hidden layer with 128 neurons and ReLU as activation function\n",
        "- Third dense  hidden layer with 128 neurons and ReLU as activation function\n",
        "- Output layer with a single neuron that implements the sigmoid function."
      ]
    },
    {
      "cell_type": "code",
      "execution_count": null,
      "metadata": {
        "id": "7GKOdU1F3OYY"
      },
      "outputs": [],
      "source": [
        "# Input\n",
        "inputs = tf.keras.Input(shape=(28,28), name='input_layer')\n",
        "# Convert the 2D image to a vector\n",
        "flat = layers.Flatten()(inputs)\n",
        "\n",
        "# hidden layer 1\n",
        "l_1 = layers.Dense(256, activation='relu', name='layer_1')(flat)\n",
        "# hidden layer 2\n",
        "l_2 = layers.Dense(128, activation='relu', name='layer_2')(l_1)\n",
        "# hidden layer 3\n",
        "l_3 = layers.Dense(128, activation='relu', name='layer_3')(l_2)\n",
        "\n",
        "# Outputs\n",
        "outputs = layers.Dense(num_classes, activation='softmax', name='output_layer')(l_3)\n",
        "\n",
        "# Model definition\n",
        "model = keras.Model(inputs=inputs, outputs=outputs, name='dont_overfit_model')"
      ]
    },
    {
      "cell_type": "code",
      "execution_count": null,
      "metadata": {
        "id": "xTOOs8ab3OYY",
        "colab": {
          "base_uri": "https://localhost:8080/"
        },
        "outputId": "5e10a499-9037-4c91-d3de-d1ac90ee2bda"
      },
      "outputs": [
        {
          "output_type": "stream",
          "name": "stdout",
          "text": [
            "Model: \"dont_overfit_model\"\n",
            "_________________________________________________________________\n",
            " Layer (type)                Output Shape              Param #   \n",
            "=================================================================\n",
            " input_layer (InputLayer)    [(None, 28, 28)]          0         \n",
            "                                                                 \n",
            " flatten_2 (Flatten)         (None, 784)               0         \n",
            "                                                                 \n",
            " layer_1 (Dense)             (None, 256)               200960    \n",
            "                                                                 \n",
            " layer_2 (Dense)             (None, 128)               32896     \n",
            "                                                                 \n",
            " layer_3 (Dense)             (None, 128)               16512     \n",
            "                                                                 \n",
            " output_layer (Dense)        (None, 10)                1290      \n",
            "                                                                 \n",
            "=================================================================\n",
            "Total params: 251658 (983.04 KB)\n",
            "Trainable params: 251658 (983.04 KB)\n",
            "Non-trainable params: 0 (0.00 Byte)\n",
            "_________________________________________________________________\n"
          ]
        }
      ],
      "source": [
        "model.summary()"
      ]
    },
    {
      "cell_type": "markdown",
      "metadata": {
        "id": "pIXnZgIz3OYY"
      },
      "source": [
        "We define the following configuration for training:\n",
        "- **optimizer**: adam\n",
        "- **loss function**: binary crossentropy\n",
        "- **metrics**: accuracy"
      ]
    },
    {
      "cell_type": "code",
      "execution_count": null,
      "metadata": {
        "id": "uYaUHX6w3OYY"
      },
      "outputs": [],
      "source": [
        "model.compile(optimizer='adam',\n",
        "              loss='sparse_categorical_crossentropy',\n",
        "              metrics=['accuracy'])"
      ]
    },
    {
      "cell_type": "code",
      "execution_count": null,
      "metadata": {
        "id": "zePth3HE3OYZ",
        "colab": {
          "base_uri": "https://localhost:8080/"
        },
        "outputId": "f0b85b15-b9df-41d5-932d-38dddcd10af8"
      },
      "outputs": [
        {
          "output_type": "stream",
          "name": "stdout",
          "text": [
            "Epoch 1/100\n",
            "15/15 [==============================] - 2s 33ms/step - loss: 1.7887 - accuracy: 0.4708 - val_loss: 1.0166 - val_accuracy: 0.7917\n",
            "Epoch 2/100\n",
            "15/15 [==============================] - 0s 5ms/step - loss: 0.6667 - accuracy: 0.8302 - val_loss: 0.4488 - val_accuracy: 0.8542\n",
            "Epoch 3/100\n",
            "15/15 [==============================] - 0s 5ms/step - loss: 0.3531 - accuracy: 0.8865 - val_loss: 0.4575 - val_accuracy: 0.8708\n",
            "Epoch 4/100\n",
            "15/15 [==============================] - 0s 5ms/step - loss: 0.2204 - accuracy: 0.9302 - val_loss: 0.3976 - val_accuracy: 0.8875\n",
            "Epoch 5/100\n",
            "15/15 [==============================] - 0s 5ms/step - loss: 0.1273 - accuracy: 0.9698 - val_loss: 0.3437 - val_accuracy: 0.9042\n",
            "Epoch 6/100\n",
            "15/15 [==============================] - 0s 5ms/step - loss: 0.0856 - accuracy: 0.9875 - val_loss: 0.3597 - val_accuracy: 0.9000\n",
            "Epoch 7/100\n",
            "15/15 [==============================] - 0s 6ms/step - loss: 0.0568 - accuracy: 0.9927 - val_loss: 0.3385 - val_accuracy: 0.8958\n",
            "Epoch 8/100\n",
            "15/15 [==============================] - 0s 6ms/step - loss: 0.0389 - accuracy: 0.9969 - val_loss: 0.3352 - val_accuracy: 0.9083\n",
            "Epoch 9/100\n",
            "15/15 [==============================] - 0s 5ms/step - loss: 0.0253 - accuracy: 0.9979 - val_loss: 0.3944 - val_accuracy: 0.9042\n",
            "Epoch 10/100\n",
            "15/15 [==============================] - 0s 6ms/step - loss: 0.0180 - accuracy: 1.0000 - val_loss: 0.3633 - val_accuracy: 0.9083\n",
            "Epoch 11/100\n",
            "15/15 [==============================] - 0s 7ms/step - loss: 0.0123 - accuracy: 1.0000 - val_loss: 0.3835 - val_accuracy: 0.9083\n",
            "Epoch 12/100\n",
            "15/15 [==============================] - 0s 5ms/step - loss: 0.0095 - accuracy: 1.0000 - val_loss: 0.3769 - val_accuracy: 0.9167\n",
            "Epoch 13/100\n",
            "15/15 [==============================] - 0s 5ms/step - loss: 0.0072 - accuracy: 1.0000 - val_loss: 0.3933 - val_accuracy: 0.9042\n",
            "Epoch 14/100\n",
            "15/15 [==============================] - 0s 5ms/step - loss: 0.0059 - accuracy: 1.0000 - val_loss: 0.3924 - val_accuracy: 0.9167\n",
            "Epoch 15/100\n",
            "15/15 [==============================] - 0s 5ms/step - loss: 0.0052 - accuracy: 1.0000 - val_loss: 0.4001 - val_accuracy: 0.9125\n",
            "Epoch 16/100\n",
            "15/15 [==============================] - 0s 5ms/step - loss: 0.0045 - accuracy: 1.0000 - val_loss: 0.4072 - val_accuracy: 0.9125\n",
            "Epoch 17/100\n",
            "15/15 [==============================] - 0s 5ms/step - loss: 0.0037 - accuracy: 1.0000 - val_loss: 0.4151 - val_accuracy: 0.9083\n",
            "Epoch 18/100\n",
            "15/15 [==============================] - 0s 6ms/step - loss: 0.0033 - accuracy: 1.0000 - val_loss: 0.4120 - val_accuracy: 0.9125\n",
            "Epoch 19/100\n",
            "15/15 [==============================] - 0s 7ms/step - loss: 0.0028 - accuracy: 1.0000 - val_loss: 0.4233 - val_accuracy: 0.9042\n",
            "Epoch 20/100\n",
            "15/15 [==============================] - 0s 6ms/step - loss: 0.0026 - accuracy: 1.0000 - val_loss: 0.4211 - val_accuracy: 0.9125\n",
            "Epoch 21/100\n",
            "15/15 [==============================] - 0s 5ms/step - loss: 0.0023 - accuracy: 1.0000 - val_loss: 0.4248 - val_accuracy: 0.9125\n",
            "Epoch 22/100\n",
            "15/15 [==============================] - 0s 6ms/step - loss: 0.0021 - accuracy: 1.0000 - val_loss: 0.4305 - val_accuracy: 0.9083\n",
            "Epoch 23/100\n",
            "15/15 [==============================] - 0s 6ms/step - loss: 0.0019 - accuracy: 1.0000 - val_loss: 0.4377 - val_accuracy: 0.9125\n",
            "Epoch 24/100\n",
            "15/15 [==============================] - 0s 6ms/step - loss: 0.0018 - accuracy: 1.0000 - val_loss: 0.4336 - val_accuracy: 0.9083\n",
            "Epoch 25/100\n",
            "15/15 [==============================] - 0s 7ms/step - loss: 0.0016 - accuracy: 1.0000 - val_loss: 0.4458 - val_accuracy: 0.9125\n",
            "Epoch 26/100\n",
            "15/15 [==============================] - 0s 7ms/step - loss: 0.0015 - accuracy: 1.0000 - val_loss: 0.4402 - val_accuracy: 0.9083\n",
            "Epoch 27/100\n",
            "15/15 [==============================] - 0s 6ms/step - loss: 0.0013 - accuracy: 1.0000 - val_loss: 0.4510 - val_accuracy: 0.9125\n",
            "Epoch 28/100\n",
            "15/15 [==============================] - 0s 6ms/step - loss: 0.0012 - accuracy: 1.0000 - val_loss: 0.4491 - val_accuracy: 0.9042\n",
            "Epoch 29/100\n",
            "15/15 [==============================] - 0s 6ms/step - loss: 0.0011 - accuracy: 1.0000 - val_loss: 0.4530 - val_accuracy: 0.9083\n",
            "Epoch 30/100\n",
            "15/15 [==============================] - 0s 5ms/step - loss: 0.0010 - accuracy: 1.0000 - val_loss: 0.4566 - val_accuracy: 0.9083\n",
            "Epoch 31/100\n",
            "15/15 [==============================] - 0s 5ms/step - loss: 9.6352e-04 - accuracy: 1.0000 - val_loss: 0.4592 - val_accuracy: 0.9083\n",
            "Epoch 32/100\n",
            "15/15 [==============================] - 0s 5ms/step - loss: 8.9785e-04 - accuracy: 1.0000 - val_loss: 0.4622 - val_accuracy: 0.9083\n",
            "Epoch 33/100\n",
            "15/15 [==============================] - 0s 6ms/step - loss: 8.3936e-04 - accuracy: 1.0000 - val_loss: 0.4614 - val_accuracy: 0.9042\n",
            "Epoch 34/100\n",
            "15/15 [==============================] - 0s 6ms/step - loss: 7.8817e-04 - accuracy: 1.0000 - val_loss: 0.4672 - val_accuracy: 0.9083\n",
            "Epoch 35/100\n",
            "15/15 [==============================] - 0s 6ms/step - loss: 7.3771e-04 - accuracy: 1.0000 - val_loss: 0.4698 - val_accuracy: 0.9083\n",
            "Epoch 36/100\n",
            "15/15 [==============================] - 0s 5ms/step - loss: 6.8922e-04 - accuracy: 1.0000 - val_loss: 0.4707 - val_accuracy: 0.9083\n",
            "Epoch 37/100\n",
            "15/15 [==============================] - 0s 6ms/step - loss: 6.5069e-04 - accuracy: 1.0000 - val_loss: 0.4743 - val_accuracy: 0.9083\n",
            "Epoch 38/100\n",
            "15/15 [==============================] - 0s 5ms/step - loss: 6.1051e-04 - accuracy: 1.0000 - val_loss: 0.4754 - val_accuracy: 0.9083\n",
            "Epoch 39/100\n",
            "15/15 [==============================] - 0s 6ms/step - loss: 5.7893e-04 - accuracy: 1.0000 - val_loss: 0.4783 - val_accuracy: 0.9083\n",
            "Epoch 40/100\n",
            "15/15 [==============================] - 0s 6ms/step - loss: 5.4323e-04 - accuracy: 1.0000 - val_loss: 0.4784 - val_accuracy: 0.9083\n",
            "Epoch 41/100\n",
            "15/15 [==============================] - 0s 5ms/step - loss: 5.1605e-04 - accuracy: 1.0000 - val_loss: 0.4818 - val_accuracy: 0.9083\n",
            "Epoch 42/100\n",
            "15/15 [==============================] - 0s 5ms/step - loss: 4.8999e-04 - accuracy: 1.0000 - val_loss: 0.4853 - val_accuracy: 0.9083\n",
            "Epoch 43/100\n",
            "15/15 [==============================] - 0s 6ms/step - loss: 4.6488e-04 - accuracy: 1.0000 - val_loss: 0.4860 - val_accuracy: 0.9083\n",
            "Epoch 44/100\n",
            "15/15 [==============================] - 0s 7ms/step - loss: 4.4179e-04 - accuracy: 1.0000 - val_loss: 0.4860 - val_accuracy: 0.9083\n",
            "Epoch 45/100\n",
            "15/15 [==============================] - 0s 6ms/step - loss: 4.1956e-04 - accuracy: 1.0000 - val_loss: 0.4909 - val_accuracy: 0.9125\n",
            "Epoch 46/100\n",
            "15/15 [==============================] - 0s 6ms/step - loss: 4.0173e-04 - accuracy: 1.0000 - val_loss: 0.4929 - val_accuracy: 0.9042\n",
            "Epoch 47/100\n",
            "15/15 [==============================] - 0s 6ms/step - loss: 3.8325e-04 - accuracy: 1.0000 - val_loss: 0.4943 - val_accuracy: 0.9125\n",
            "Epoch 48/100\n",
            "15/15 [==============================] - 0s 5ms/step - loss: 3.6326e-04 - accuracy: 1.0000 - val_loss: 0.4958 - val_accuracy: 0.9083\n",
            "Epoch 49/100\n",
            "15/15 [==============================] - 0s 6ms/step - loss: 3.5018e-04 - accuracy: 1.0000 - val_loss: 0.4967 - val_accuracy: 0.9125\n",
            "Epoch 50/100\n",
            "15/15 [==============================] - 0s 9ms/step - loss: 3.3160e-04 - accuracy: 1.0000 - val_loss: 0.4985 - val_accuracy: 0.9125\n",
            "Epoch 51/100\n",
            "15/15 [==============================] - 0s 6ms/step - loss: 3.1762e-04 - accuracy: 1.0000 - val_loss: 0.5011 - val_accuracy: 0.9083\n",
            "Epoch 52/100\n",
            "15/15 [==============================] - 0s 5ms/step - loss: 3.0393e-04 - accuracy: 1.0000 - val_loss: 0.5033 - val_accuracy: 0.9125\n",
            "Epoch 53/100\n",
            "15/15 [==============================] - 0s 6ms/step - loss: 2.9172e-04 - accuracy: 1.0000 - val_loss: 0.5051 - val_accuracy: 0.9125\n",
            "Epoch 54/100\n",
            "15/15 [==============================] - 0s 5ms/step - loss: 2.8024e-04 - accuracy: 1.0000 - val_loss: 0.5064 - val_accuracy: 0.9083\n",
            "Epoch 55/100\n",
            "15/15 [==============================] - 0s 6ms/step - loss: 2.6839e-04 - accuracy: 1.0000 - val_loss: 0.5082 - val_accuracy: 0.9125\n",
            "Epoch 56/100\n",
            "15/15 [==============================] - 0s 6ms/step - loss: 2.6017e-04 - accuracy: 1.0000 - val_loss: 0.5089 - val_accuracy: 0.9125\n",
            "Epoch 57/100\n",
            "15/15 [==============================] - 0s 6ms/step - loss: 2.4806e-04 - accuracy: 1.0000 - val_loss: 0.5114 - val_accuracy: 0.9125\n",
            "Epoch 58/100\n",
            "15/15 [==============================] - 0s 6ms/step - loss: 2.3935e-04 - accuracy: 1.0000 - val_loss: 0.5126 - val_accuracy: 0.9125\n",
            "Epoch 59/100\n",
            "15/15 [==============================] - 0s 5ms/step - loss: 2.2924e-04 - accuracy: 1.0000 - val_loss: 0.5142 - val_accuracy: 0.9083\n",
            "Epoch 60/100\n",
            "15/15 [==============================] - 0s 6ms/step - loss: 2.2108e-04 - accuracy: 1.0000 - val_loss: 0.5164 - val_accuracy: 0.9125\n",
            "Epoch 61/100\n",
            "15/15 [==============================] - 0s 6ms/step - loss: 2.1299e-04 - accuracy: 1.0000 - val_loss: 0.5172 - val_accuracy: 0.9083\n",
            "Epoch 62/100\n",
            "15/15 [==============================] - 0s 8ms/step - loss: 2.0574e-04 - accuracy: 1.0000 - val_loss: 0.5197 - val_accuracy: 0.9083\n",
            "Epoch 63/100\n",
            "15/15 [==============================] - 0s 6ms/step - loss: 1.9796e-04 - accuracy: 1.0000 - val_loss: 0.5198 - val_accuracy: 0.9125\n",
            "Epoch 64/100\n",
            "15/15 [==============================] - 0s 6ms/step - loss: 1.9198e-04 - accuracy: 1.0000 - val_loss: 0.5213 - val_accuracy: 0.9042\n",
            "Epoch 65/100\n",
            "15/15 [==============================] - 0s 5ms/step - loss: 1.8538e-04 - accuracy: 1.0000 - val_loss: 0.5246 - val_accuracy: 0.9083\n",
            "Epoch 66/100\n",
            "15/15 [==============================] - 0s 6ms/step - loss: 1.7863e-04 - accuracy: 1.0000 - val_loss: 0.5242 - val_accuracy: 0.9125\n",
            "Epoch 67/100\n",
            "15/15 [==============================] - 0s 6ms/step - loss: 1.7256e-04 - accuracy: 1.0000 - val_loss: 0.5289 - val_accuracy: 0.9083\n",
            "Epoch 68/100\n",
            "15/15 [==============================] - 0s 7ms/step - loss: 1.6727e-04 - accuracy: 1.0000 - val_loss: 0.5266 - val_accuracy: 0.9083\n",
            "Epoch 69/100\n",
            "15/15 [==============================] - 0s 6ms/step - loss: 1.6171e-04 - accuracy: 1.0000 - val_loss: 0.5281 - val_accuracy: 0.9083\n",
            "Epoch 70/100\n",
            "15/15 [==============================] - 0s 6ms/step - loss: 1.5702e-04 - accuracy: 1.0000 - val_loss: 0.5289 - val_accuracy: 0.9125\n",
            "Epoch 71/100\n",
            "15/15 [==============================] - 0s 6ms/step - loss: 1.5129e-04 - accuracy: 1.0000 - val_loss: 0.5325 - val_accuracy: 0.9083\n",
            "Epoch 72/100\n",
            "15/15 [==============================] - 0s 7ms/step - loss: 1.4656e-04 - accuracy: 1.0000 - val_loss: 0.5331 - val_accuracy: 0.9083\n",
            "Epoch 73/100\n",
            "15/15 [==============================] - 0s 6ms/step - loss: 1.4207e-04 - accuracy: 1.0000 - val_loss: 0.5347 - val_accuracy: 0.9083\n",
            "Epoch 74/100\n",
            "15/15 [==============================] - 0s 6ms/step - loss: 1.3855e-04 - accuracy: 1.0000 - val_loss: 0.5382 - val_accuracy: 0.9083\n",
            "Epoch 75/100\n",
            "15/15 [==============================] - 0s 7ms/step - loss: 1.3448e-04 - accuracy: 1.0000 - val_loss: 0.5354 - val_accuracy: 0.9083\n",
            "Epoch 76/100\n",
            "15/15 [==============================] - 0s 5ms/step - loss: 1.2986e-04 - accuracy: 1.0000 - val_loss: 0.5388 - val_accuracy: 0.9083\n",
            "Epoch 77/100\n",
            "15/15 [==============================] - 0s 6ms/step - loss: 1.2566e-04 - accuracy: 1.0000 - val_loss: 0.5387 - val_accuracy: 0.9083\n",
            "Epoch 78/100\n",
            "15/15 [==============================] - 0s 13ms/step - loss: 1.2247e-04 - accuracy: 1.0000 - val_loss: 0.5428 - val_accuracy: 0.9083\n",
            "Epoch 79/100\n",
            "15/15 [==============================] - 0s 9ms/step - loss: 1.1852e-04 - accuracy: 1.0000 - val_loss: 0.5424 - val_accuracy: 0.9083\n",
            "Epoch 80/100\n",
            "15/15 [==============================] - 0s 9ms/step - loss: 1.1493e-04 - accuracy: 1.0000 - val_loss: 0.5432 - val_accuracy: 0.9083\n",
            "Epoch 81/100\n",
            "15/15 [==============================] - 0s 9ms/step - loss: 1.1194e-04 - accuracy: 1.0000 - val_loss: 0.5447 - val_accuracy: 0.9083\n",
            "Epoch 82/100\n",
            "15/15 [==============================] - 0s 9ms/step - loss: 1.0884e-04 - accuracy: 1.0000 - val_loss: 0.5465 - val_accuracy: 0.9083\n",
            "Epoch 83/100\n",
            "15/15 [==============================] - 0s 8ms/step - loss: 1.0597e-04 - accuracy: 1.0000 - val_loss: 0.5472 - val_accuracy: 0.9083\n",
            "Epoch 84/100\n",
            "15/15 [==============================] - 0s 9ms/step - loss: 1.0309e-04 - accuracy: 1.0000 - val_loss: 0.5490 - val_accuracy: 0.9083\n",
            "Epoch 85/100\n",
            "15/15 [==============================] - 0s 9ms/step - loss: 1.0015e-04 - accuracy: 1.0000 - val_loss: 0.5488 - val_accuracy: 0.9083\n",
            "Epoch 86/100\n",
            "15/15 [==============================] - 0s 9ms/step - loss: 9.7474e-05 - accuracy: 1.0000 - val_loss: 0.5518 - val_accuracy: 0.9083\n",
            "Epoch 87/100\n",
            "15/15 [==============================] - 0s 9ms/step - loss: 9.4826e-05 - accuracy: 1.0000 - val_loss: 0.5521 - val_accuracy: 0.9083\n",
            "Epoch 88/100\n",
            "15/15 [==============================] - 0s 9ms/step - loss: 9.2190e-05 - accuracy: 1.0000 - val_loss: 0.5531 - val_accuracy: 0.9083\n",
            "Epoch 89/100\n",
            "15/15 [==============================] - 0s 8ms/step - loss: 9.0106e-05 - accuracy: 1.0000 - val_loss: 0.5547 - val_accuracy: 0.9083\n",
            "Epoch 90/100\n",
            "15/15 [==============================] - 0s 9ms/step - loss: 8.7328e-05 - accuracy: 1.0000 - val_loss: 0.5566 - val_accuracy: 0.9083\n",
            "Epoch 91/100\n",
            "15/15 [==============================] - 0s 6ms/step - loss: 8.5456e-05 - accuracy: 1.0000 - val_loss: 0.5577 - val_accuracy: 0.9083\n",
            "Epoch 92/100\n",
            "15/15 [==============================] - 0s 6ms/step - loss: 8.3554e-05 - accuracy: 1.0000 - val_loss: 0.5577 - val_accuracy: 0.9083\n",
            "Epoch 93/100\n",
            "15/15 [==============================] - 0s 6ms/step - loss: 8.1048e-05 - accuracy: 1.0000 - val_loss: 0.5591 - val_accuracy: 0.9083\n",
            "Epoch 94/100\n",
            "15/15 [==============================] - 0s 6ms/step - loss: 7.9250e-05 - accuracy: 1.0000 - val_loss: 0.5605 - val_accuracy: 0.9083\n",
            "Epoch 95/100\n",
            "15/15 [==============================] - 0s 6ms/step - loss: 7.7075e-05 - accuracy: 1.0000 - val_loss: 0.5607 - val_accuracy: 0.9083\n",
            "Epoch 96/100\n",
            "15/15 [==============================] - 0s 6ms/step - loss: 7.5279e-05 - accuracy: 1.0000 - val_loss: 0.5632 - val_accuracy: 0.9083\n",
            "Epoch 97/100\n",
            "15/15 [==============================] - 0s 6ms/step - loss: 7.3207e-05 - accuracy: 1.0000 - val_loss: 0.5636 - val_accuracy: 0.9083\n",
            "Epoch 98/100\n",
            "15/15 [==============================] - 0s 6ms/step - loss: 7.1485e-05 - accuracy: 1.0000 - val_loss: 0.5642 - val_accuracy: 0.9083\n",
            "Epoch 99/100\n",
            "15/15 [==============================] - 0s 5ms/step - loss: 6.9850e-05 - accuracy: 1.0000 - val_loss: 0.5659 - val_accuracy: 0.9083\n",
            "Epoch 100/100\n",
            "15/15 [==============================] - 0s 5ms/step - loss: 6.8198e-05 - accuracy: 1.0000 - val_loss: 0.5669 - val_accuracy: 0.9083\n"
          ]
        }
      ],
      "source": [
        "history = model.fit(\n",
        "    x,\n",
        "    y,\n",
        "    batch_size=64,\n",
        "    epochs=100,\n",
        "    validation_split=0.2,\n",
        "    shuffle=True\n",
        ")"
      ]
    },
    {
      "cell_type": "code",
      "execution_count": null,
      "metadata": {
        "id": "-mxCdX7y3OYZ",
        "colab": {
          "base_uri": "https://localhost:8080/"
        },
        "outputId": "c190db1d-cd00-4257-e6c9-c0ab5ecc3070"
      },
      "outputs": [
        {
          "output_type": "stream",
          "name": "stdout",
          "text": [
            "Test Loss: 0.5553760528564453\n",
            "Test Accuracy: 0.9079999923706055\n"
          ]
        }
      ],
      "source": [
        "results = model.evaluate(x_test, y_test, verbose=0)\n",
        "print('Test Loss: {}'.format(results[0]))\n",
        "print('Test Accuracy: {}'.format(results[1]))"
      ]
    },
    {
      "cell_type": "markdown",
      "metadata": {
        "id": "w9rUiXiZ3OYZ"
      },
      "source": [
        "We visualize the evolution of the values in each epoch of the loss function and accuracy."
      ]
    },
    {
      "cell_type": "code",
      "execution_count": null,
      "metadata": {
        "id": "3l4oaVzH3OYa"
      },
      "outputs": [],
      "source": [
        "hist = pd.DataFrame(history.history)\n",
        "hist['epoch'] = history.epoch"
      ]
    },
    {
      "cell_type": "code",
      "execution_count": null,
      "metadata": {
        "id": "uIOTYfZF3OYa",
        "colab": {
          "base_uri": "https://localhost:8080/",
          "height": 206
        },
        "outputId": "404fc05d-1787-4c37-f21f-673ca7b717ba"
      },
      "outputs": [
        {
          "output_type": "execute_result",
          "data": {
            "text/plain": [
              "       loss  accuracy  val_loss  val_accuracy  epoch\n",
              "0  1.788694  0.470833  1.016618      0.791667      0\n",
              "1  0.666682  0.830208  0.448835      0.854167      1\n",
              "2  0.353123  0.886458  0.457514      0.870833      2\n",
              "3  0.220378  0.930208  0.397566      0.887500      3\n",
              "4  0.127266  0.969792  0.343674      0.904167      4"
            ],
            "text/html": [
              "\n",
              "  <div id=\"df-52f7ee97-fec1-4f7c-bbb6-1d8c09e5b3fb\" class=\"colab-df-container\">\n",
              "    <div>\n",
              "<style scoped>\n",
              "    .dataframe tbody tr th:only-of-type {\n",
              "        vertical-align: middle;\n",
              "    }\n",
              "\n",
              "    .dataframe tbody tr th {\n",
              "        vertical-align: top;\n",
              "    }\n",
              "\n",
              "    .dataframe thead th {\n",
              "        text-align: right;\n",
              "    }\n",
              "</style>\n",
              "<table border=\"1\" class=\"dataframe\">\n",
              "  <thead>\n",
              "    <tr style=\"text-align: right;\">\n",
              "      <th></th>\n",
              "      <th>loss</th>\n",
              "      <th>accuracy</th>\n",
              "      <th>val_loss</th>\n",
              "      <th>val_accuracy</th>\n",
              "      <th>epoch</th>\n",
              "    </tr>\n",
              "  </thead>\n",
              "  <tbody>\n",
              "    <tr>\n",
              "      <th>0</th>\n",
              "      <td>1.788694</td>\n",
              "      <td>0.470833</td>\n",
              "      <td>1.016618</td>\n",
              "      <td>0.791667</td>\n",
              "      <td>0</td>\n",
              "    </tr>\n",
              "    <tr>\n",
              "      <th>1</th>\n",
              "      <td>0.666682</td>\n",
              "      <td>0.830208</td>\n",
              "      <td>0.448835</td>\n",
              "      <td>0.854167</td>\n",
              "      <td>1</td>\n",
              "    </tr>\n",
              "    <tr>\n",
              "      <th>2</th>\n",
              "      <td>0.353123</td>\n",
              "      <td>0.886458</td>\n",
              "      <td>0.457514</td>\n",
              "      <td>0.870833</td>\n",
              "      <td>2</td>\n",
              "    </tr>\n",
              "    <tr>\n",
              "      <th>3</th>\n",
              "      <td>0.220378</td>\n",
              "      <td>0.930208</td>\n",
              "      <td>0.397566</td>\n",
              "      <td>0.887500</td>\n",
              "      <td>3</td>\n",
              "    </tr>\n",
              "    <tr>\n",
              "      <th>4</th>\n",
              "      <td>0.127266</td>\n",
              "      <td>0.969792</td>\n",
              "      <td>0.343674</td>\n",
              "      <td>0.904167</td>\n",
              "      <td>4</td>\n",
              "    </tr>\n",
              "  </tbody>\n",
              "</table>\n",
              "</div>\n",
              "    <div class=\"colab-df-buttons\">\n",
              "\n",
              "  <div class=\"colab-df-container\">\n",
              "    <button class=\"colab-df-convert\" onclick=\"convertToInteractive('df-52f7ee97-fec1-4f7c-bbb6-1d8c09e5b3fb')\"\n",
              "            title=\"Convert this dataframe to an interactive table.\"\n",
              "            style=\"display:none;\">\n",
              "\n",
              "  <svg xmlns=\"http://www.w3.org/2000/svg\" height=\"24px\" viewBox=\"0 -960 960 960\">\n",
              "    <path d=\"M120-120v-720h720v720H120Zm60-500h600v-160H180v160Zm220 220h160v-160H400v160Zm0 220h160v-160H400v160ZM180-400h160v-160H180v160Zm440 0h160v-160H620v160ZM180-180h160v-160H180v160Zm440 0h160v-160H620v160Z\"/>\n",
              "  </svg>\n",
              "    </button>\n",
              "\n",
              "  <style>\n",
              "    .colab-df-container {\n",
              "      display:flex;\n",
              "      gap: 12px;\n",
              "    }\n",
              "\n",
              "    .colab-df-convert {\n",
              "      background-color: #E8F0FE;\n",
              "      border: none;\n",
              "      border-radius: 50%;\n",
              "      cursor: pointer;\n",
              "      display: none;\n",
              "      fill: #1967D2;\n",
              "      height: 32px;\n",
              "      padding: 0 0 0 0;\n",
              "      width: 32px;\n",
              "    }\n",
              "\n",
              "    .colab-df-convert:hover {\n",
              "      background-color: #E2EBFA;\n",
              "      box-shadow: 0px 1px 2px rgba(60, 64, 67, 0.3), 0px 1px 3px 1px rgba(60, 64, 67, 0.15);\n",
              "      fill: #174EA6;\n",
              "    }\n",
              "\n",
              "    .colab-df-buttons div {\n",
              "      margin-bottom: 4px;\n",
              "    }\n",
              "\n",
              "    [theme=dark] .colab-df-convert {\n",
              "      background-color: #3B4455;\n",
              "      fill: #D2E3FC;\n",
              "    }\n",
              "\n",
              "    [theme=dark] .colab-df-convert:hover {\n",
              "      background-color: #434B5C;\n",
              "      box-shadow: 0px 1px 3px 1px rgba(0, 0, 0, 0.15);\n",
              "      filter: drop-shadow(0px 1px 2px rgba(0, 0, 0, 0.3));\n",
              "      fill: #FFFFFF;\n",
              "    }\n",
              "  </style>\n",
              "\n",
              "    <script>\n",
              "      const buttonEl =\n",
              "        document.querySelector('#df-52f7ee97-fec1-4f7c-bbb6-1d8c09e5b3fb button.colab-df-convert');\n",
              "      buttonEl.style.display =\n",
              "        google.colab.kernel.accessAllowed ? 'block' : 'none';\n",
              "\n",
              "      async function convertToInteractive(key) {\n",
              "        const element = document.querySelector('#df-52f7ee97-fec1-4f7c-bbb6-1d8c09e5b3fb');\n",
              "        const dataTable =\n",
              "          await google.colab.kernel.invokeFunction('convertToInteractive',\n",
              "                                                    [key], {});\n",
              "        if (!dataTable) return;\n",
              "\n",
              "        const docLinkHtml = 'Like what you see? Visit the ' +\n",
              "          '<a target=\"_blank\" href=https://colab.research.google.com/notebooks/data_table.ipynb>data table notebook</a>'\n",
              "          + ' to learn more about interactive tables.';\n",
              "        element.innerHTML = '';\n",
              "        dataTable['output_type'] = 'display_data';\n",
              "        await google.colab.output.renderOutput(dataTable, element);\n",
              "        const docLink = document.createElement('div');\n",
              "        docLink.innerHTML = docLinkHtml;\n",
              "        element.appendChild(docLink);\n",
              "      }\n",
              "    </script>\n",
              "  </div>\n",
              "\n",
              "\n",
              "<div id=\"df-ad75ed6f-cdcb-48fb-88ee-97b5a6038184\">\n",
              "  <button class=\"colab-df-quickchart\" onclick=\"quickchart('df-ad75ed6f-cdcb-48fb-88ee-97b5a6038184')\"\n",
              "            title=\"Suggest charts.\"\n",
              "            style=\"display:none;\">\n",
              "\n",
              "<svg xmlns=\"http://www.w3.org/2000/svg\" height=\"24px\"viewBox=\"0 0 24 24\"\n",
              "     width=\"24px\">\n",
              "    <g>\n",
              "        <path d=\"M19 3H5c-1.1 0-2 .9-2 2v14c0 1.1.9 2 2 2h14c1.1 0 2-.9 2-2V5c0-1.1-.9-2-2-2zM9 17H7v-7h2v7zm4 0h-2V7h2v10zm4 0h-2v-4h2v4z\"/>\n",
              "    </g>\n",
              "</svg>\n",
              "  </button>\n",
              "\n",
              "<style>\n",
              "  .colab-df-quickchart {\n",
              "      --bg-color: #E8F0FE;\n",
              "      --fill-color: #1967D2;\n",
              "      --hover-bg-color: #E2EBFA;\n",
              "      --hover-fill-color: #174EA6;\n",
              "      --disabled-fill-color: #AAA;\n",
              "      --disabled-bg-color: #DDD;\n",
              "  }\n",
              "\n",
              "  [theme=dark] .colab-df-quickchart {\n",
              "      --bg-color: #3B4455;\n",
              "      --fill-color: #D2E3FC;\n",
              "      --hover-bg-color: #434B5C;\n",
              "      --hover-fill-color: #FFFFFF;\n",
              "      --disabled-bg-color: #3B4455;\n",
              "      --disabled-fill-color: #666;\n",
              "  }\n",
              "\n",
              "  .colab-df-quickchart {\n",
              "    background-color: var(--bg-color);\n",
              "    border: none;\n",
              "    border-radius: 50%;\n",
              "    cursor: pointer;\n",
              "    display: none;\n",
              "    fill: var(--fill-color);\n",
              "    height: 32px;\n",
              "    padding: 0;\n",
              "    width: 32px;\n",
              "  }\n",
              "\n",
              "  .colab-df-quickchart:hover {\n",
              "    background-color: var(--hover-bg-color);\n",
              "    box-shadow: 0 1px 2px rgba(60, 64, 67, 0.3), 0 1px 3px 1px rgba(60, 64, 67, 0.15);\n",
              "    fill: var(--button-hover-fill-color);\n",
              "  }\n",
              "\n",
              "  .colab-df-quickchart-complete:disabled,\n",
              "  .colab-df-quickchart-complete:disabled:hover {\n",
              "    background-color: var(--disabled-bg-color);\n",
              "    fill: var(--disabled-fill-color);\n",
              "    box-shadow: none;\n",
              "  }\n",
              "\n",
              "  .colab-df-spinner {\n",
              "    border: 2px solid var(--fill-color);\n",
              "    border-color: transparent;\n",
              "    border-bottom-color: var(--fill-color);\n",
              "    animation:\n",
              "      spin 1s steps(1) infinite;\n",
              "  }\n",
              "\n",
              "  @keyframes spin {\n",
              "    0% {\n",
              "      border-color: transparent;\n",
              "      border-bottom-color: var(--fill-color);\n",
              "      border-left-color: var(--fill-color);\n",
              "    }\n",
              "    20% {\n",
              "      border-color: transparent;\n",
              "      border-left-color: var(--fill-color);\n",
              "      border-top-color: var(--fill-color);\n",
              "    }\n",
              "    30% {\n",
              "      border-color: transparent;\n",
              "      border-left-color: var(--fill-color);\n",
              "      border-top-color: var(--fill-color);\n",
              "      border-right-color: var(--fill-color);\n",
              "    }\n",
              "    40% {\n",
              "      border-color: transparent;\n",
              "      border-right-color: var(--fill-color);\n",
              "      border-top-color: var(--fill-color);\n",
              "    }\n",
              "    60% {\n",
              "      border-color: transparent;\n",
              "      border-right-color: var(--fill-color);\n",
              "    }\n",
              "    80% {\n",
              "      border-color: transparent;\n",
              "      border-right-color: var(--fill-color);\n",
              "      border-bottom-color: var(--fill-color);\n",
              "    }\n",
              "    90% {\n",
              "      border-color: transparent;\n",
              "      border-bottom-color: var(--fill-color);\n",
              "    }\n",
              "  }\n",
              "</style>\n",
              "\n",
              "  <script>\n",
              "    async function quickchart(key) {\n",
              "      const quickchartButtonEl =\n",
              "        document.querySelector('#' + key + ' button');\n",
              "      quickchartButtonEl.disabled = true;  // To prevent multiple clicks.\n",
              "      quickchartButtonEl.classList.add('colab-df-spinner');\n",
              "      try {\n",
              "        const charts = await google.colab.kernel.invokeFunction(\n",
              "            'suggestCharts', [key], {});\n",
              "      } catch (error) {\n",
              "        console.error('Error during call to suggestCharts:', error);\n",
              "      }\n",
              "      quickchartButtonEl.classList.remove('colab-df-spinner');\n",
              "      quickchartButtonEl.classList.add('colab-df-quickchart-complete');\n",
              "    }\n",
              "    (() => {\n",
              "      let quickchartButtonEl =\n",
              "        document.querySelector('#df-ad75ed6f-cdcb-48fb-88ee-97b5a6038184 button');\n",
              "      quickchartButtonEl.style.display =\n",
              "        google.colab.kernel.accessAllowed ? 'block' : 'none';\n",
              "    })();\n",
              "  </script>\n",
              "</div>\n",
              "    </div>\n",
              "  </div>\n"
            ]
          },
          "metadata": {},
          "execution_count": 20
        }
      ],
      "source": [
        "hist.head()"
      ]
    },
    {
      "cell_type": "markdown",
      "metadata": {
        "id": "eDvoCIOf3OYa"
      },
      "source": [
        "<a id='overfitting_results'></a>\n",
        "When interpreting both graphs, it is evident that the model over-fits the training values and is not able to generalize well for the validation values. **It is a clear example of overfitting**.\n",
        "\n",
        "The following function will be useful throughout the different practical examples."
      ]
    },
    {
      "cell_type": "code",
      "execution_count": null,
      "metadata": {
        "id": "swBENOfM3OYa"
      },
      "outputs": [],
      "source": [
        "import matplotlib.pyplot as plt\n",
        "\n",
        "def show_loss_accuracy_evolution(history):\n",
        "\n",
        "    hist = pd.DataFrame(history.history)\n",
        "    hist['epoch'] = history.epoch\n",
        "\n",
        "    fig, (ax1, ax2) = plt.subplots(1, 2, figsize=(16, 6))\n",
        "\n",
        "    ax1.set_xlabel('Epoch')\n",
        "    ax1.set_ylabel('Categorical Crossentropy')\n",
        "    ax1.plot(hist['epoch'], hist['loss'], label='Train Error')\n",
        "    ax1.plot(hist['epoch'], hist['val_loss'], label = 'Val Error')\n",
        "    ax1.grid()\n",
        "    ax1.legend()\n",
        "\n",
        "    ax2.set_xlabel('Epoch')\n",
        "    ax2.set_ylabel('Accuracy')\n",
        "    ax2.plot(hist['epoch'], hist['accuracy'], label='Train Accuracy')\n",
        "    ax2.plot(hist['epoch'], hist['val_accuracy'], label = 'Val Accuracy')\n",
        "    ax2.grid()\n",
        "    ax2.legend()\n",
        "\n",
        "    plt.show()\n",
        "\n",
        "def show_samples(x_test, y_test, model):\n",
        "    predictions = model.predict(x_test)\n",
        "    predicted_classes = np.argmax(predictions, -1)\n",
        "\n",
        "    L = 5\n",
        "    W = 5\n",
        "    fig, axes = plt.subplots(L, W, figsize=(14, 14))\n",
        "    axes = axes.ravel()\n",
        "\n",
        "    for i in np.arange(0, L * W):\n",
        "        ind = np.random.randint(len(y_test))\n",
        "        axes[i].imshow(x_test[ind].reshape(28, 28))\n",
        "        prob_pred = np.max(predictions[ind, :])\n",
        "        class_pred = int(predicted_classes[ind])\n",
        "        original_class = int(y_test[ind])\n",
        "        if class_pred == original_class:\n",
        "            color = 'green'\n",
        "        else:\n",
        "            color = 'red'\n",
        "        title = \"Pred: {0} \\n Target: {1} \\n Prob: {2:.3f}\".format(\n",
        "        class_pred, original_class, prob_pred)\n",
        "        axes[i].set_title(title, color=color)\n",
        "        axes[i].axis('off')\n",
        "\n",
        "    plt.subplots_adjust(wspace=0.5)"
      ]
    },
    {
      "cell_type": "code",
      "execution_count": null,
      "metadata": {
        "id": "WRF3_oea3OYb",
        "colab": {
          "base_uri": "https://localhost:8080/",
          "height": 460
        },
        "outputId": "a2a96ba5-9be5-429c-b533-739277ce4939"
      },
      "outputs": [
        {
          "output_type": "display_data",
          "data": {
            "text/plain": [
              "<Figure size 1600x600 with 2 Axes>"
            ],
            "image/png": "[encoded data removed]"
          },
          "metadata": {}
        }
      ],
      "source": [
        "show_loss_accuracy_evolution(history)"
      ]
    },
    {
      "cell_type": "code",
      "execution_count": null,
      "metadata": {
        "id": "lvFmDK623OYb",
        "colab": {
          "base_uri": "https://localhost:8080/"
        },
        "outputId": "c99dc29d-82b0-48b1-8313-45c67c2c5019"
      },
      "outputs": [
        {
          "output_type": "stream",
          "name": "stdout",
          "text": [
            "Test Loss: 0.5553760528564453\n",
            "Test Accuracy: 0.9079999923706055\n"
          ]
        }
      ],
      "source": [
        "results = model.evaluate(x_test, y_test, verbose=0)\n",
        "print('Test Loss: {}'.format(results[0]))\n",
        "print('Test Accuracy: {}'.format(results[1]))"
      ]
    },
    {
      "cell_type": "code",
      "execution_count": null,
      "metadata": {
        "id": "EQsxCIhU3OYb",
        "colab": {
          "base_uri": "https://localhost:8080/",
          "height": 1000
        },
        "outputId": "8b79d0fa-230c-4ab1-c58d-b3e79617dcf2"
      },
      "outputs": [
        {
          "output_type": "stream",
          "name": "stdout",
          "text": [
            "313/313 [==============================] - 1s 2ms/step\n"
          ]
        },
        {
          "output_type": "display_data",
          "data": {
            "text/plain": [
              "<Figure size 1400x1400 with 25 Axes>"
            ],
            "image/png": "[encoded data removed]"
          },
          "metadata": {}
        }
      ],
      "source": [
        "show_samples(x_test, y_test, model)"
      ]
    },
    {
      "cell_type": "markdown",
      "metadata": {
        "id": "-G_slG7N3OYb"
      },
      "source": [
        "## Create a simpler model\n",
        "\n",
        "The simplest way to prevent overfitting is to create  a simple model: A model with less number of  parameters (which is determined by the number of layers and the number of units per layer).\n",
        "\n",
        "A more complex model with more parameters will have much more capacity and will be able to learn almost any training set. Deep learning models tend to be good at fitting to the training data, but the real challenge is generalization, not fitting."
      ]
    },
    {
      "cell_type": "code",
      "execution_count": null,
      "metadata": {
        "id": "qnKFIUQg3OYc",
        "colab": {
          "base_uri": "https://localhost:8080/"
        },
        "outputId": "983cdf43-c3ef-4640-f38d-08b421dade7f"
      },
      "outputs": [
        {
          "output_type": "stream",
          "name": "stdout",
          "text": [
            "Model: \"simpler_model\"\n",
            "_________________________________________________________________\n",
            " Layer (type)                Output Shape              Param #   \n",
            "=================================================================\n",
            " input_layer (InputLayer)    [(None, 28, 28)]          0         \n",
            "                                                                 \n",
            " flatten_3 (Flatten)         (None, 784)               0         \n",
            "                                                                 \n",
            " layer_1 (Dense)             (None, 8)                 6280      \n",
            "                                                                 \n",
            " output_layer (Dense)        (None, 10)                90        \n",
            "                                                                 \n",
            "=================================================================\n",
            "Total params: 6370 (24.88 KB)\n",
            "Trainable params: 6370 (24.88 KB)\n",
            "Non-trainable params: 0 (0.00 Byte)\n",
            "_________________________________________________________________\n"
          ]
        }
      ],
      "source": [
        "# Input layer\n",
        "inputs = tf.keras.Input(shape=(28, 28), name='input_layer')\n",
        "flat = layers.Flatten()(inputs)\n",
        "\n",
        "# First hidden layer\n",
        "l_1 = layers.Dense(8, activation='relu', name='layer_1')(flat)\n",
        "\n",
        "# Output layer\n",
        "outputs = layers.Dense(num_classes, activation='softmax',\n",
        "                       name='output_layer')(l_1)\n",
        "model_simpler = keras.Model(\n",
        "    inputs=inputs, outputs=outputs, name='simpler_model')\n",
        "\n",
        "model_simpler.summary()"
      ]
    },
    {
      "cell_type": "code",
      "execution_count": null,
      "metadata": {
        "id": "zuLaV7rg3OYe",
        "colab": {
          "base_uri": "https://localhost:8080/"
        },
        "outputId": "55500c98-87d3-44c3-fe50-bd4c88c0a87a"
      },
      "outputs": [
        {
          "output_type": "stream",
          "name": "stdout",
          "text": [
            "Epoch 1/100\n",
            "15/15 [==============================] - 1s 14ms/step - loss: 2.2910 - accuracy: 0.1411 - val_loss: 2.2395 - val_accuracy: 0.1500\n",
            "Epoch 2/100\n",
            "15/15 [==============================] - 0s 6ms/step - loss: 2.1538 - accuracy: 0.2167 - val_loss: 2.0945 - val_accuracy: 0.2667\n",
            "Epoch 3/100\n",
            "15/15 [==============================] - 0s 6ms/step - loss: 2.0028 - accuracy: 0.3289 - val_loss: 1.9450 - val_accuracy: 0.3400\n",
            "Epoch 4/100\n",
            "15/15 [==============================] - 0s 6ms/step - loss: 1.8518 - accuracy: 0.3989 - val_loss: 1.8185 - val_accuracy: 0.3933\n",
            "Epoch 5/100\n",
            "15/15 [==============================] - 0s 5ms/step - loss: 1.7352 - accuracy: 0.4411 - val_loss: 1.7181 - val_accuracy: 0.4467\n",
            "Epoch 6/100\n",
            "15/15 [==============================] - 0s 5ms/step - loss: 1.6289 - accuracy: 0.5200 - val_loss: 1.6182 - val_accuracy: 0.5367\n",
            "Epoch 7/100\n",
            "15/15 [==============================] - 0s 5ms/step - loss: 1.5276 - accuracy: 0.5711 - val_loss: 1.5266 - val_accuracy: 0.5800\n",
            "Epoch 8/100\n",
            "15/15 [==============================] - 0s 6ms/step - loss: 1.4373 - accuracy: 0.6011 - val_loss: 1.4497 - val_accuracy: 0.6133\n",
            "Epoch 9/100\n",
            "15/15 [==============================] - 0s 6ms/step - loss: 1.3534 - accuracy: 0.6267 - val_loss: 1.3767 - val_accuracy: 0.6667\n",
            "Epoch 10/100\n",
            "15/15 [==============================] - 0s 5ms/step - loss: 1.2720 - accuracy: 0.6644 - val_loss: 1.3017 - val_accuracy: 0.6900\n",
            "Epoch 11/100\n",
            "15/15 [==============================] - 0s 5ms/step - loss: 1.1859 - accuracy: 0.6789 - val_loss: 1.2140 - val_accuracy: 0.6900\n",
            "Epoch 12/100\n",
            "15/15 [==============================] - 0s 5ms/step - loss: 1.0995 - accuracy: 0.6933 - val_loss: 1.1376 - val_accuracy: 0.6900\n",
            "Epoch 13/100\n",
            "15/15 [==============================] - 0s 5ms/step - loss: 1.0075 - accuracy: 0.7078 - val_loss: 1.0556 - val_accuracy: 0.7133\n",
            "Epoch 14/100\n",
            "15/15 [==============================] - 0s 6ms/step - loss: 0.9316 - accuracy: 0.7478 - val_loss: 1.0087 - val_accuracy: 0.7100\n",
            "Epoch 15/100\n",
            "15/15 [==============================] - 0s 5ms/step - loss: 0.8584 - accuracy: 0.7811 - val_loss: 0.9352 - val_accuracy: 0.7600\n",
            "Epoch 16/100\n",
            "15/15 [==============================] - 0s 5ms/step - loss: 0.7879 - accuracy: 0.7944 - val_loss: 0.8782 - val_accuracy: 0.7767\n",
            "Epoch 17/100\n",
            "15/15 [==============================] - 0s 6ms/step - loss: 0.7255 - accuracy: 0.8300 - val_loss: 0.8243 - val_accuracy: 0.8000\n",
            "Epoch 18/100\n",
            "15/15 [==============================] - 0s 7ms/step - loss: 0.6726 - accuracy: 0.8367 - val_loss: 0.7796 - val_accuracy: 0.8100\n",
            "Epoch 19/100\n",
            "15/15 [==============================] - 0s 6ms/step - loss: 0.6219 - accuracy: 0.8511 - val_loss: 0.7492 - val_accuracy: 0.8267\n",
            "Epoch 20/100\n",
            "15/15 [==============================] - 0s 7ms/step - loss: 0.5887 - accuracy: 0.8622 - val_loss: 0.7207 - val_accuracy: 0.8200\n",
            "Epoch 21/100\n",
            "15/15 [==============================] - 0s 6ms/step - loss: 0.5487 - accuracy: 0.8644 - val_loss: 0.6811 - val_accuracy: 0.8200\n",
            "Epoch 22/100\n",
            "15/15 [==============================] - 0s 5ms/step - loss: 0.5194 - accuracy: 0.8744 - val_loss: 0.6713 - val_accuracy: 0.8333\n",
            "Epoch 23/100\n",
            "15/15 [==============================] - 0s 6ms/step - loss: 0.4919 - accuracy: 0.8778 - val_loss: 0.6482 - val_accuracy: 0.8400\n",
            "Epoch 24/100\n",
            "15/15 [==============================] - 0s 5ms/step - loss: 0.4702 - accuracy: 0.8844 - val_loss: 0.6374 - val_accuracy: 0.8333\n",
            "Epoch 25/100\n",
            "15/15 [==============================] - 0s 5ms/step - loss: 0.4528 - accuracy: 0.8922 - val_loss: 0.6178 - val_accuracy: 0.8267\n",
            "Epoch 26/100\n",
            "15/15 [==============================] - 0s 6ms/step - loss: 0.4379 - accuracy: 0.8911 - val_loss: 0.5998 - val_accuracy: 0.8333\n",
            "Epoch 27/100\n",
            "15/15 [==============================] - 0s 6ms/step - loss: 0.4154 - accuracy: 0.8967 - val_loss: 0.5867 - val_accuracy: 0.8467\n",
            "Epoch 28/100\n",
            "15/15 [==============================] - 0s 5ms/step - loss: 0.4018 - accuracy: 0.8967 - val_loss: 0.5928 - val_accuracy: 0.8400\n",
            "Epoch 29/100\n",
            "15/15 [==============================] - 0s 5ms/step - loss: 0.3863 - accuracy: 0.8989 - val_loss: 0.5771 - val_accuracy: 0.8500\n",
            "Epoch 30/100\n",
            "15/15 [==============================] - 0s 5ms/step - loss: 0.3724 - accuracy: 0.9044 - val_loss: 0.5670 - val_accuracy: 0.8500\n",
            "Epoch 31/100\n",
            "15/15 [==============================] - 0s 6ms/step - loss: 0.3605 - accuracy: 0.9056 - val_loss: 0.5582 - val_accuracy: 0.8533\n",
            "Epoch 32/100\n",
            "15/15 [==============================] - 0s 6ms/step - loss: 0.3523 - accuracy: 0.9078 - val_loss: 0.5511 - val_accuracy: 0.8533\n",
            "Epoch 33/100\n",
            "15/15 [==============================] - 0s 5ms/step - loss: 0.3426 - accuracy: 0.9156 - val_loss: 0.5546 - val_accuracy: 0.8533\n",
            "Epoch 34/100\n",
            "15/15 [==============================] - 0s 6ms/step - loss: 0.3339 - accuracy: 0.9189 - val_loss: 0.5215 - val_accuracy: 0.8567\n",
            "Epoch 35/100\n",
            "15/15 [==============================] - 0s 7ms/step - loss: 0.3220 - accuracy: 0.9256 - val_loss: 0.5197 - val_accuracy: 0.8633\n",
            "Epoch 36/100\n",
            "15/15 [==============================] - 0s 5ms/step - loss: 0.3166 - accuracy: 0.9200 - val_loss: 0.5352 - val_accuracy: 0.8667\n",
            "Epoch 37/100\n",
            "15/15 [==============================] - 0s 6ms/step - loss: 0.3126 - accuracy: 0.9222 - val_loss: 0.5293 - val_accuracy: 0.8533\n",
            "Epoch 38/100\n",
            "15/15 [==============================] - 0s 5ms/step - loss: 0.2975 - accuracy: 0.9233 - val_loss: 0.5250 - val_accuracy: 0.8567\n",
            "Epoch 39/100\n",
            "15/15 [==============================] - 0s 5ms/step - loss: 0.2878 - accuracy: 0.9289 - val_loss: 0.5202 - val_accuracy: 0.8633\n",
            "Epoch 40/100\n",
            "15/15 [==============================] - 0s 5ms/step - loss: 0.2801 - accuracy: 0.9311 - val_loss: 0.5208 - val_accuracy: 0.8633\n",
            "Epoch 41/100\n",
            "15/15 [==============================] - 0s 7ms/step - loss: 0.2766 - accuracy: 0.9344 - val_loss: 0.5151 - val_accuracy: 0.8567\n",
            "Epoch 42/100\n",
            "15/15 [==============================] - 0s 12ms/step - loss: 0.2677 - accuracy: 0.9344 - val_loss: 0.4980 - val_accuracy: 0.8667\n",
            "Epoch 43/100\n",
            "15/15 [==============================] - 0s 8ms/step - loss: 0.2600 - accuracy: 0.9322 - val_loss: 0.4994 - val_accuracy: 0.8733\n",
            "Epoch 44/100\n",
            "15/15 [==============================] - 0s 8ms/step - loss: 0.2527 - accuracy: 0.9411 - val_loss: 0.4918 - val_accuracy: 0.8733\n",
            "Epoch 45/100\n",
            "15/15 [==============================] - 0s 8ms/step - loss: 0.2476 - accuracy: 0.9400 - val_loss: 0.4926 - val_accuracy: 0.8667\n",
            "Epoch 46/100\n",
            "15/15 [==============================] - 0s 8ms/step - loss: 0.2412 - accuracy: 0.9411 - val_loss: 0.4951 - val_accuracy: 0.8700\n",
            "Epoch 47/100\n",
            "15/15 [==============================] - 0s 8ms/step - loss: 0.2362 - accuracy: 0.9467 - val_loss: 0.4891 - val_accuracy: 0.8733\n",
            "Epoch 48/100\n",
            "15/15 [==============================] - 0s 7ms/step - loss: 0.2303 - accuracy: 0.9422 - val_loss: 0.4906 - val_accuracy: 0.8733\n",
            "Epoch 49/100\n",
            "15/15 [==============================] - 0s 8ms/step - loss: 0.2262 - accuracy: 0.9433 - val_loss: 0.4918 - val_accuracy: 0.8733\n",
            "Epoch 50/100\n",
            "15/15 [==============================] - 0s 9ms/step - loss: 0.2203 - accuracy: 0.9522 - val_loss: 0.4824 - val_accuracy: 0.8733\n",
            "Epoch 51/100\n",
            "15/15 [==============================] - 0s 8ms/step - loss: 0.2187 - accuracy: 0.9544 - val_loss: 0.4820 - val_accuracy: 0.8767\n",
            "Epoch 52/100\n",
            "15/15 [==============================] - 0s 8ms/step - loss: 0.2124 - accuracy: 0.9544 - val_loss: 0.4645 - val_accuracy: 0.8700\n",
            "Epoch 53/100\n",
            "15/15 [==============================] - 0s 8ms/step - loss: 0.2085 - accuracy: 0.9578 - val_loss: 0.4818 - val_accuracy: 0.8700\n",
            "Epoch 54/100\n",
            "15/15 [==============================] - 0s 5ms/step - loss: 0.2043 - accuracy: 0.9556 - val_loss: 0.4788 - val_accuracy: 0.8733\n",
            "Epoch 55/100\n",
            "15/15 [==============================] - 0s 5ms/step - loss: 0.1983 - accuracy: 0.9611 - val_loss: 0.4782 - val_accuracy: 0.8767\n",
            "Epoch 56/100\n",
            "15/15 [==============================] - 0s 6ms/step - loss: 0.1935 - accuracy: 0.9611 - val_loss: 0.4739 - val_accuracy: 0.8800\n",
            "Epoch 57/100\n",
            "15/15 [==============================] - 0s 6ms/step - loss: 0.1893 - accuracy: 0.9611 - val_loss: 0.4732 - val_accuracy: 0.8800\n",
            "Epoch 58/100\n",
            "15/15 [==============================] - 0s 6ms/step - loss: 0.1857 - accuracy: 0.9622 - val_loss: 0.4803 - val_accuracy: 0.8733\n",
            "Epoch 59/100\n",
            "15/15 [==============================] - 0s 6ms/step - loss: 0.1822 - accuracy: 0.9644 - val_loss: 0.4750 - val_accuracy: 0.8733\n",
            "Epoch 60/100\n",
            "15/15 [==============================] - 0s 6ms/step - loss: 0.1811 - accuracy: 0.9656 - val_loss: 0.4680 - val_accuracy: 0.8800\n",
            "Epoch 61/100\n",
            "15/15 [==============================] - 0s 6ms/step - loss: 0.1776 - accuracy: 0.9644 - val_loss: 0.4785 - val_accuracy: 0.8733\n",
            "Epoch 62/100\n",
            "15/15 [==============================] - 0s 5ms/step - loss: 0.1754 - accuracy: 0.9667 - val_loss: 0.4670 - val_accuracy: 0.8700\n",
            "Epoch 63/100\n",
            "15/15 [==============================] - 0s 6ms/step - loss: 0.1710 - accuracy: 0.9667 - val_loss: 0.4959 - val_accuracy: 0.8600\n",
            "Epoch 64/100\n",
            "15/15 [==============================] - 0s 6ms/step - loss: 0.1715 - accuracy: 0.9644 - val_loss: 0.4698 - val_accuracy: 0.8633\n",
            "Epoch 65/100\n",
            "15/15 [==============================] - 0s 6ms/step - loss: 0.1620 - accuracy: 0.9689 - val_loss: 0.4681 - val_accuracy: 0.8767\n",
            "Epoch 66/100\n",
            "15/15 [==============================] - 0s 7ms/step - loss: 0.1582 - accuracy: 0.9733 - val_loss: 0.4696 - val_accuracy: 0.8733\n",
            "Epoch 67/100\n",
            "15/15 [==============================] - 0s 6ms/step - loss: 0.1540 - accuracy: 0.9756 - val_loss: 0.4686 - val_accuracy: 0.8733\n",
            "Epoch 68/100\n",
            "15/15 [==============================] - 0s 6ms/step - loss: 0.1523 - accuracy: 0.9744 - val_loss: 0.4636 - val_accuracy: 0.8767\n",
            "Epoch 69/100\n",
            "15/15 [==============================] - 0s 6ms/step - loss: 0.1504 - accuracy: 0.9767 - val_loss: 0.4631 - val_accuracy: 0.8767\n",
            "Epoch 70/100\n",
            "15/15 [==============================] - 0s 7ms/step - loss: 0.1463 - accuracy: 0.9789 - val_loss: 0.4536 - val_accuracy: 0.8800\n",
            "Epoch 71/100\n",
            "15/15 [==============================] - 0s 5ms/step - loss: 0.1441 - accuracy: 0.9767 - val_loss: 0.4624 - val_accuracy: 0.8733\n",
            "Epoch 72/100\n",
            "15/15 [==============================] - 0s 5ms/step - loss: 0.1405 - accuracy: 0.9811 - val_loss: 0.4649 - val_accuracy: 0.8733\n",
            "Epoch 73/100\n",
            "15/15 [==============================] - 0s 5ms/step - loss: 0.1375 - accuracy: 0.9811 - val_loss: 0.4591 - val_accuracy: 0.8700\n",
            "Epoch 74/100\n",
            "15/15 [==============================] - 0s 6ms/step - loss: 0.1348 - accuracy: 0.9822 - val_loss: 0.4598 - val_accuracy: 0.8733\n",
            "Epoch 75/100\n",
            "15/15 [==============================] - 0s 6ms/step - loss: 0.1323 - accuracy: 0.9811 - val_loss: 0.4623 - val_accuracy: 0.8700\n",
            "Epoch 76/100\n",
            "15/15 [==============================] - 0s 6ms/step - loss: 0.1303 - accuracy: 0.9833 - val_loss: 0.4606 - val_accuracy: 0.8700\n",
            "Epoch 77/100\n",
            "15/15 [==============================] - 0s 6ms/step - loss: 0.1279 - accuracy: 0.9833 - val_loss: 0.4668 - val_accuracy: 0.8667\n",
            "Epoch 78/100\n",
            "15/15 [==============================] - 0s 6ms/step - loss: 0.1260 - accuracy: 0.9833 - val_loss: 0.4585 - val_accuracy: 0.8733\n",
            "Epoch 79/100\n",
            "15/15 [==============================] - 0s 5ms/step - loss: 0.1234 - accuracy: 0.9844 - val_loss: 0.4634 - val_accuracy: 0.8700\n",
            "Epoch 80/100\n",
            "15/15 [==============================] - 0s 6ms/step - loss: 0.1216 - accuracy: 0.9833 - val_loss: 0.4656 - val_accuracy: 0.8700\n",
            "Epoch 81/100\n",
            "15/15 [==============================] - 0s 7ms/step - loss: 0.1206 - accuracy: 0.9811 - val_loss: 0.4822 - val_accuracy: 0.8600\n",
            "Epoch 82/100\n",
            "15/15 [==============================] - 0s 6ms/step - loss: 0.1185 - accuracy: 0.9856 - val_loss: 0.4676 - val_accuracy: 0.8633\n",
            "Epoch 83/100\n",
            "15/15 [==============================] - 0s 5ms/step - loss: 0.1159 - accuracy: 0.9856 - val_loss: 0.4596 - val_accuracy: 0.8667\n",
            "Epoch 84/100\n",
            "15/15 [==============================] - 0s 6ms/step - loss: 0.1141 - accuracy: 0.9878 - val_loss: 0.4564 - val_accuracy: 0.8733\n",
            "Epoch 85/100\n",
            "15/15 [==============================] - 0s 6ms/step - loss: 0.1109 - accuracy: 0.9867 - val_loss: 0.4628 - val_accuracy: 0.8633\n",
            "Epoch 86/100\n",
            "15/15 [==============================] - 0s 6ms/step - loss: 0.1087 - accuracy: 0.9878 - val_loss: 0.4652 - val_accuracy: 0.8633\n",
            "Epoch 87/100\n",
            "15/15 [==============================] - 0s 5ms/step - loss: 0.1069 - accuracy: 0.9867 - val_loss: 0.4626 - val_accuracy: 0.8633\n",
            "Epoch 88/100\n",
            "15/15 [==============================] - 0s 6ms/step - loss: 0.1044 - accuracy: 0.9867 - val_loss: 0.4666 - val_accuracy: 0.8667\n",
            "Epoch 89/100\n",
            "15/15 [==============================] - 0s 6ms/step - loss: 0.1044 - accuracy: 0.9867 - val_loss: 0.4672 - val_accuracy: 0.8633\n",
            "Epoch 90/100\n",
            "15/15 [==============================] - 0s 6ms/step - loss: 0.1014 - accuracy: 0.9878 - val_loss: 0.4666 - val_accuracy: 0.8633\n",
            "Epoch 91/100\n",
            "15/15 [==============================] - 0s 5ms/step - loss: 0.1001 - accuracy: 0.9900 - val_loss: 0.4670 - val_accuracy: 0.8633\n",
            "Epoch 92/100\n",
            "15/15 [==============================] - 0s 7ms/step - loss: 0.0981 - accuracy: 0.9878 - val_loss: 0.4660 - val_accuracy: 0.8600\n",
            "Epoch 93/100\n",
            "15/15 [==============================] - 0s 5ms/step - loss: 0.0986 - accuracy: 0.9856 - val_loss: 0.4724 - val_accuracy: 0.8600\n",
            "Epoch 94/100\n",
            "15/15 [==============================] - 0s 6ms/step - loss: 0.0947 - accuracy: 0.9889 - val_loss: 0.4699 - val_accuracy: 0.8633\n",
            "Epoch 95/100\n",
            "15/15 [==============================] - 0s 6ms/step - loss: 0.0931 - accuracy: 0.9900 - val_loss: 0.4656 - val_accuracy: 0.8633\n",
            "Epoch 96/100\n",
            "15/15 [==============================] - 0s 5ms/step - loss: 0.0916 - accuracy: 0.9900 - val_loss: 0.4673 - val_accuracy: 0.8633\n",
            "Epoch 97/100\n",
            "15/15 [==============================] - 0s 6ms/step - loss: 0.0901 - accuracy: 0.9889 - val_loss: 0.4672 - val_accuracy: 0.8633\n",
            "Epoch 98/100\n",
            "15/15 [==============================] - 0s 5ms/step - loss: 0.0888 - accuracy: 0.9911 - val_loss: 0.4748 - val_accuracy: 0.8667\n",
            "Epoch 99/100\n",
            "15/15 [==============================] - 0s 7ms/step - loss: 0.0865 - accuracy: 0.9922 - val_loss: 0.4686 - val_accuracy: 0.8667\n",
            "Epoch 100/100\n",
            "15/15 [==============================] - 0s 6ms/step - loss: 0.0858 - accuracy: 0.9922 - val_loss: 0.4732 - val_accuracy: 0.8667\n"
          ]
        }
      ],
      "source": [
        "model_simpler.compile(optimizer='adam',\n",
        "                      loss='sparse_categorical_crossentropy',\n",
        "                      metrics=['accuracy'])\n",
        "history_simpler = model_simpler.fit(x,\n",
        "                                    y,\n",
        "                                    batch_size=64,\n",
        "                                    epochs=100,\n",
        "                                    validation_split=0.25,\n",
        "                                    shuffle=True)"
      ]
    },
    {
      "cell_type": "code",
      "execution_count": null,
      "metadata": {
        "id": "BbBDIzoi3OYe",
        "colab": {
          "base_uri": "https://localhost:8080/",
          "height": 463
        },
        "outputId": "5194d1e8-9f22-45b2-e5ec-deaa4ea54ea3"
      },
      "outputs": [
        {
          "output_type": "display_data",
          "data": {
            "text/plain": [
              "<Figure size 1600x600 with 2 Axes>"
            ],
            "image/png": "[encoded data removed]"
          },
          "metadata": {}
        }
      ],
      "source": [
        "show_loss_accuracy_evolution(history_simpler)"
      ]
    },
    {
      "cell_type": "code",
      "execution_count": null,
      "metadata": {
        "id": "OAquK94j3OYe",
        "colab": {
          "base_uri": "https://localhost:8080/"
        },
        "outputId": "9c9cf0db-3505-47a9-d38d-6e0ecda6c92e"
      },
      "outputs": [
        {
          "output_type": "stream",
          "name": "stdout",
          "text": [
            "Test Loss: 0.5051917433738708\n",
            "Test Accuracy: 0.8582000136375427\n"
          ]
        }
      ],
      "source": [
        "results = model_simpler.evaluate(x_test, y_test, verbose=0)\n",
        "print('Test Loss: {}'.format(results[0]))\n",
        "print('Test Accuracy: {}'.format(results[1]))"
      ]
    },
    {
      "cell_type": "markdown",
      "metadata": {
        "id": "vaDZdAub3OYf"
      },
      "source": [
        "## Reduce batch_size\n",
        "\n",
        "Other method is decreasing the `batch_size`during the gradient descend to add more uncertainty to the estimation of the parameter gradients, thus reducing the capacity of the model"
      ]
    },
    {
      "cell_type": "code",
      "execution_count": null,
      "metadata": {
        "id": "BuHwbbNG3OYf",
        "colab": {
          "base_uri": "https://localhost:8080/"
        },
        "outputId": "7a0d7acd-fed7-4eed-dfd8-1db1787accf7"
      },
      "outputs": [
        {
          "output_type": "stream",
          "name": "stdout",
          "text": [
            "Model: \"dont_overfit_model\"\n",
            "_________________________________________________________________\n",
            " Layer (type)                Output Shape              Param #   \n",
            "=================================================================\n",
            " input_layer (InputLayer)    [(None, 28, 28)]          0         \n",
            "                                                                 \n",
            " flatten_5 (Flatten)         (None, 784)               0         \n",
            "                                                                 \n",
            " layer_1 (Dense)             (None, 256)               200960    \n",
            "                                                                 \n",
            " layer_2 (Dense)             (None, 128)               32896     \n",
            "                                                                 \n",
            " layer_3 (Dense)             (None, 128)               16512     \n",
            "                                                                 \n",
            " output_layer (Dense)        (None, 10)                1290      \n",
            "                                                                 \n",
            "=================================================================\n",
            "Total params: 251658 (983.04 KB)\n",
            "Trainable params: 251658 (983.04 KB)\n",
            "Non-trainable params: 0 (0.00 Byte)\n",
            "_________________________________________________________________\n"
          ]
        }
      ],
      "source": [
        "# Input\n",
        "inputs = tf.keras.Input(shape=(28,28), name='input_layer')\n",
        "# Convert the 2D image to a vector\n",
        "flat = layers.Flatten()(inputs)\n",
        "\n",
        "# hidden layer 1\n",
        "l_1 = layers.Dense(256, activation='relu', name='layer_1')(flat)\n",
        "# hidden layer 2\n",
        "l_2 = layers.Dense(128, activation='relu', name='layer_2')(l_1)\n",
        "# hidden layer 3\n",
        "l_3 = layers.Dense(128, activation='relu', name='layer_3')(l_2)\n",
        "\n",
        "# Outputs\n",
        "outputs = layers.Dense(num_classes, activation='softmax', name='output_layer')(l_3)\n",
        "\n",
        "# Model definition\n",
        "model = keras.Model(inputs=inputs, outputs=outputs, name='dont_overfit_model')\n",
        "## same model\n",
        "model.summary()"
      ]
    },
    {
      "cell_type": "code",
      "execution_count": null,
      "metadata": {
        "id": "ADoBEHbr3OYf",
        "colab": {
          "base_uri": "https://localhost:8080/"
        },
        "outputId": "fc00f063-f00b-43e0-f2ee-c8f42a14f736"
      },
      "outputs": [
        {
          "output_type": "stream",
          "name": "stdout",
          "text": [
            "Epoch 1/100\n",
            "60/60 [==============================] - 2s 6ms/step - loss: 1.2286 - accuracy: 0.6469 - val_loss: 0.5138 - val_accuracy: 0.8375\n",
            "Epoch 2/100\n",
            "60/60 [==============================] - 0s 4ms/step - loss: 0.3459 - accuracy: 0.8875 - val_loss: 0.4469 - val_accuracy: 0.8625\n",
            "Epoch 3/100\n",
            "60/60 [==============================] - 0s 4ms/step - loss: 0.2340 - accuracy: 0.9302 - val_loss: 0.3761 - val_accuracy: 0.8917\n",
            "Epoch 4/100\n",
            "60/60 [==============================] - 0s 4ms/step - loss: 0.1145 - accuracy: 0.9698 - val_loss: 0.4390 - val_accuracy: 0.8625\n",
            "Epoch 5/100\n",
            "60/60 [==============================] - 0s 4ms/step - loss: 0.0912 - accuracy: 0.9760 - val_loss: 0.3431 - val_accuracy: 0.9042\n",
            "Epoch 6/100\n",
            "60/60 [==============================] - 0s 5ms/step - loss: 0.0307 - accuracy: 0.9948 - val_loss: 0.3700 - val_accuracy: 0.9083\n",
            "Epoch 7/100\n",
            "60/60 [==============================] - 0s 4ms/step - loss: 0.0161 - accuracy: 0.9990 - val_loss: 0.3714 - val_accuracy: 0.9083\n",
            "Epoch 8/100\n",
            "60/60 [==============================] - 0s 4ms/step - loss: 0.0084 - accuracy: 1.0000 - val_loss: 0.4243 - val_accuracy: 0.9000\n",
            "Epoch 9/100\n",
            "60/60 [==============================] - 0s 4ms/step - loss: 0.0036 - accuracy: 1.0000 - val_loss: 0.4157 - val_accuracy: 0.9083\n",
            "Epoch 10/100\n",
            "60/60 [==============================] - 0s 4ms/step - loss: 0.0025 - accuracy: 1.0000 - val_loss: 0.4197 - val_accuracy: 0.9000\n",
            "Epoch 11/100\n",
            "60/60 [==============================] - 0s 4ms/step - loss: 0.0019 - accuracy: 1.0000 - val_loss: 0.4244 - val_accuracy: 0.9083\n",
            "Epoch 12/100\n",
            "60/60 [==============================] - 0s 4ms/step - loss: 0.0016 - accuracy: 1.0000 - val_loss: 0.4312 - val_accuracy: 0.9083\n",
            "Epoch 13/100\n",
            "60/60 [==============================] - 0s 4ms/step - loss: 0.0013 - accuracy: 1.0000 - val_loss: 0.4384 - val_accuracy: 0.9042\n",
            "Epoch 14/100\n",
            "60/60 [==============================] - 0s 4ms/step - loss: 0.0011 - accuracy: 1.0000 - val_loss: 0.4412 - val_accuracy: 0.9083\n",
            "Epoch 15/100\n",
            "60/60 [==============================] - 0s 4ms/step - loss: 9.6725e-04 - accuracy: 1.0000 - val_loss: 0.4480 - val_accuracy: 0.9125\n",
            "Epoch 16/100\n",
            "60/60 [==============================] - 0s 4ms/step - loss: 8.2902e-04 - accuracy: 1.0000 - val_loss: 0.4557 - val_accuracy: 0.9042\n",
            "Epoch 17/100\n",
            "60/60 [==============================] - 0s 4ms/step - loss: 7.2981e-04 - accuracy: 1.0000 - val_loss: 0.4623 - val_accuracy: 0.9042\n",
            "Epoch 18/100\n",
            "60/60 [==============================] - 0s 4ms/step - loss: 6.3828e-04 - accuracy: 1.0000 - val_loss: 0.4645 - val_accuracy: 0.9042\n",
            "Epoch 19/100\n",
            "60/60 [==============================] - 0s 4ms/step - loss: 5.6787e-04 - accuracy: 1.0000 - val_loss: 0.4705 - val_accuracy: 0.9042\n",
            "Epoch 20/100\n",
            "60/60 [==============================] - 0s 4ms/step - loss: 5.0855e-04 - accuracy: 1.0000 - val_loss: 0.4743 - val_accuracy: 0.9000\n",
            "Epoch 21/100\n",
            "60/60 [==============================] - 0s 4ms/step - loss: 4.5393e-04 - accuracy: 1.0000 - val_loss: 0.4765 - val_accuracy: 0.9000\n",
            "Epoch 22/100\n",
            "60/60 [==============================] - 0s 5ms/step - loss: 4.1269e-04 - accuracy: 1.0000 - val_loss: 0.4793 - val_accuracy: 0.9000\n",
            "Epoch 23/100\n",
            "60/60 [==============================] - 0s 6ms/step - loss: 3.7280e-04 - accuracy: 1.0000 - val_loss: 0.4891 - val_accuracy: 0.9000\n",
            "Epoch 24/100\n",
            "60/60 [==============================] - 0s 6ms/step - loss: 3.3827e-04 - accuracy: 1.0000 - val_loss: 0.4895 - val_accuracy: 0.9000\n",
            "Epoch 25/100\n",
            "60/60 [==============================] - 0s 6ms/step - loss: 3.1092e-04 - accuracy: 1.0000 - val_loss: 0.4934 - val_accuracy: 0.9042\n",
            "Epoch 26/100\n",
            "60/60 [==============================] - 0s 5ms/step - loss: 2.8222e-04 - accuracy: 1.0000 - val_loss: 0.4948 - val_accuracy: 0.9000\n",
            "Epoch 27/100\n",
            "60/60 [==============================] - 0s 4ms/step - loss: 2.5892e-04 - accuracy: 1.0000 - val_loss: 0.4998 - val_accuracy: 0.9042\n",
            "Epoch 28/100\n",
            "60/60 [==============================] - 0s 4ms/step - loss: 2.3770e-04 - accuracy: 1.0000 - val_loss: 0.5023 - val_accuracy: 0.9042\n",
            "Epoch 29/100\n",
            "60/60 [==============================] - 0s 5ms/step - loss: 2.1952e-04 - accuracy: 1.0000 - val_loss: 0.5043 - val_accuracy: 0.9000\n",
            "Epoch 30/100\n",
            "60/60 [==============================] - 0s 4ms/step - loss: 2.0131e-04 - accuracy: 1.0000 - val_loss: 0.5078 - val_accuracy: 0.9000\n",
            "Epoch 31/100\n",
            "60/60 [==============================] - 0s 4ms/step - loss: 1.8656e-04 - accuracy: 1.0000 - val_loss: 0.5111 - val_accuracy: 0.9042\n",
            "Epoch 32/100\n",
            "60/60 [==============================] - 0s 4ms/step - loss: 1.7299e-04 - accuracy: 1.0000 - val_loss: 0.5122 - val_accuracy: 0.9042\n",
            "Epoch 33/100\n",
            "60/60 [==============================] - 0s 4ms/step - loss: 1.6135e-04 - accuracy: 1.0000 - val_loss: 0.5139 - val_accuracy: 0.9000\n",
            "Epoch 34/100\n",
            "60/60 [==============================] - 0s 4ms/step - loss: 1.4952e-04 - accuracy: 1.0000 - val_loss: 0.5182 - val_accuracy: 0.9000\n",
            "Epoch 35/100\n",
            "60/60 [==============================] - 0s 4ms/step - loss: 1.3880e-04 - accuracy: 1.0000 - val_loss: 0.5201 - val_accuracy: 0.9042\n",
            "Epoch 36/100\n",
            "60/60 [==============================] - 0s 4ms/step - loss: 1.3088e-04 - accuracy: 1.0000 - val_loss: 0.5230 - val_accuracy: 0.9042\n",
            "Epoch 37/100\n",
            "60/60 [==============================] - 0s 4ms/step - loss: 1.2112e-04 - accuracy: 1.0000 - val_loss: 0.5248 - val_accuracy: 0.9042\n",
            "Epoch 38/100\n",
            "60/60 [==============================] - 0s 4ms/step - loss: 1.1275e-04 - accuracy: 1.0000 - val_loss: 0.5252 - val_accuracy: 0.9042\n",
            "Epoch 39/100\n",
            "60/60 [==============================] - 0s 4ms/step - loss: 1.0601e-04 - accuracy: 1.0000 - val_loss: 0.5298 - val_accuracy: 0.9042\n",
            "Epoch 40/100\n",
            "60/60 [==============================] - 0s 4ms/step - loss: 9.8876e-05 - accuracy: 1.0000 - val_loss: 0.5314 - val_accuracy: 0.9083\n",
            "Epoch 41/100\n",
            "60/60 [==============================] - 0s 4ms/step - loss: 9.2450e-05 - accuracy: 1.0000 - val_loss: 0.5345 - val_accuracy: 0.9083\n",
            "Epoch 42/100\n",
            "60/60 [==============================] - 0s 4ms/step - loss: 8.7312e-05 - accuracy: 1.0000 - val_loss: 0.5339 - val_accuracy: 0.9083\n",
            "Epoch 43/100\n",
            "60/60 [==============================] - 0s 4ms/step - loss: 8.1579e-05 - accuracy: 1.0000 - val_loss: 0.5378 - val_accuracy: 0.9083\n",
            "Epoch 44/100\n",
            "60/60 [==============================] - 0s 4ms/step - loss: 7.6639e-05 - accuracy: 1.0000 - val_loss: 0.5389 - val_accuracy: 0.9083\n",
            "Epoch 45/100\n",
            "60/60 [==============================] - 0s 5ms/step - loss: 7.2424e-05 - accuracy: 1.0000 - val_loss: 0.5427 - val_accuracy: 0.9083\n",
            "Epoch 46/100\n",
            "60/60 [==============================] - 0s 4ms/step - loss: 6.8531e-05 - accuracy: 1.0000 - val_loss: 0.5439 - val_accuracy: 0.9083\n",
            "Epoch 47/100\n",
            "60/60 [==============================] - 0s 4ms/step - loss: 6.4743e-05 - accuracy: 1.0000 - val_loss: 0.5472 - val_accuracy: 0.9083\n",
            "Epoch 48/100\n",
            "60/60 [==============================] - 0s 4ms/step - loss: 6.1090e-05 - accuracy: 1.0000 - val_loss: 0.5466 - val_accuracy: 0.9125\n",
            "Epoch 49/100\n",
            "60/60 [==============================] - 0s 4ms/step - loss: 5.7583e-05 - accuracy: 1.0000 - val_loss: 0.5502 - val_accuracy: 0.9083\n",
            "Epoch 50/100\n",
            "60/60 [==============================] - 0s 4ms/step - loss: 5.4492e-05 - accuracy: 1.0000 - val_loss: 0.5518 - val_accuracy: 0.9125\n",
            "Epoch 51/100\n",
            "60/60 [==============================] - 0s 4ms/step - loss: 5.1582e-05 - accuracy: 1.0000 - val_loss: 0.5542 - val_accuracy: 0.9083\n",
            "Epoch 52/100\n",
            "60/60 [==============================] - 0s 4ms/step - loss: 4.8527e-05 - accuracy: 1.0000 - val_loss: 0.5565 - val_accuracy: 0.9125\n",
            "Epoch 53/100\n",
            "60/60 [==============================] - 0s 4ms/step - loss: 4.5995e-05 - accuracy: 1.0000 - val_loss: 0.5594 - val_accuracy: 0.9083\n",
            "Epoch 54/100\n",
            "60/60 [==============================] - 0s 4ms/step - loss: 4.3654e-05 - accuracy: 1.0000 - val_loss: 0.5602 - val_accuracy: 0.9125\n",
            "Epoch 55/100\n",
            "60/60 [==============================] - 0s 4ms/step - loss: 4.1450e-05 - accuracy: 1.0000 - val_loss: 0.5625 - val_accuracy: 0.9083\n",
            "Epoch 56/100\n",
            "60/60 [==============================] - 0s 4ms/step - loss: 3.9563e-05 - accuracy: 1.0000 - val_loss: 0.5622 - val_accuracy: 0.9083\n",
            "Epoch 57/100\n",
            "60/60 [==============================] - 0s 4ms/step - loss: 3.7636e-05 - accuracy: 1.0000 - val_loss: 0.5662 - val_accuracy: 0.9125\n",
            "Epoch 58/100\n",
            "60/60 [==============================] - 0s 4ms/step - loss: 3.5577e-05 - accuracy: 1.0000 - val_loss: 0.5692 - val_accuracy: 0.9042\n",
            "Epoch 59/100\n",
            "60/60 [==============================] - 0s 4ms/step - loss: 3.3654e-05 - accuracy: 1.0000 - val_loss: 0.5723 - val_accuracy: 0.9042\n",
            "Epoch 60/100\n",
            "60/60 [==============================] - 0s 4ms/step - loss: 3.1948e-05 - accuracy: 1.0000 - val_loss: 0.5738 - val_accuracy: 0.9042\n",
            "Epoch 61/100\n",
            "60/60 [==============================] - 0s 4ms/step - loss: 3.0305e-05 - accuracy: 1.0000 - val_loss: 0.5749 - val_accuracy: 0.9083\n",
            "Epoch 62/100\n",
            "60/60 [==============================] - 0s 4ms/step - loss: 2.8946e-05 - accuracy: 1.0000 - val_loss: 0.5788 - val_accuracy: 0.9125\n",
            "Epoch 63/100\n",
            "60/60 [==============================] - 0s 4ms/step - loss: 2.7561e-05 - accuracy: 1.0000 - val_loss: 0.5797 - val_accuracy: 0.9083\n",
            "Epoch 64/100\n",
            "60/60 [==============================] - 0s 4ms/step - loss: 2.6192e-05 - accuracy: 1.0000 - val_loss: 0.5819 - val_accuracy: 0.9083\n",
            "Epoch 65/100\n",
            "60/60 [==============================] - 0s 4ms/step - loss: 2.5019e-05 - accuracy: 1.0000 - val_loss: 0.5834 - val_accuracy: 0.9083\n",
            "Epoch 66/100\n",
            "60/60 [==============================] - 0s 4ms/step - loss: 2.3740e-05 - accuracy: 1.0000 - val_loss: 0.5852 - val_accuracy: 0.9083\n",
            "Epoch 67/100\n",
            "60/60 [==============================] - 0s 5ms/step - loss: 2.2658e-05 - accuracy: 1.0000 - val_loss: 0.5898 - val_accuracy: 0.9125\n",
            "Epoch 68/100\n",
            "60/60 [==============================] - 0s 5ms/step - loss: 2.1706e-05 - accuracy: 1.0000 - val_loss: 0.5903 - val_accuracy: 0.9125\n",
            "Epoch 69/100\n",
            "60/60 [==============================] - 0s 6ms/step - loss: 2.0625e-05 - accuracy: 1.0000 - val_loss: 0.5914 - val_accuracy: 0.9125\n",
            "Epoch 70/100\n",
            "60/60 [==============================] - 0s 6ms/step - loss: 1.9657e-05 - accuracy: 1.0000 - val_loss: 0.5945 - val_accuracy: 0.9125\n",
            "Epoch 71/100\n",
            "60/60 [==============================] - 0s 4ms/step - loss: 1.8720e-05 - accuracy: 1.0000 - val_loss: 0.5978 - val_accuracy: 0.9125\n",
            "Epoch 72/100\n",
            "60/60 [==============================] - 0s 4ms/step - loss: 1.7824e-05 - accuracy: 1.0000 - val_loss: 0.5970 - val_accuracy: 0.9125\n",
            "Epoch 73/100\n",
            "60/60 [==============================] - 0s 4ms/step - loss: 1.6958e-05 - accuracy: 1.0000 - val_loss: 0.6009 - val_accuracy: 0.9125\n",
            "Epoch 74/100\n",
            "60/60 [==============================] - 0s 4ms/step - loss: 1.6242e-05 - accuracy: 1.0000 - val_loss: 0.6042 - val_accuracy: 0.9125\n",
            "Epoch 75/100\n",
            "60/60 [==============================] - 0s 4ms/step - loss: 1.5483e-05 - accuracy: 1.0000 - val_loss: 0.6054 - val_accuracy: 0.9125\n",
            "Epoch 76/100\n",
            "60/60 [==============================] - 0s 4ms/step - loss: 1.4754e-05 - accuracy: 1.0000 - val_loss: 0.6077 - val_accuracy: 0.9125\n",
            "Epoch 77/100\n",
            "60/60 [==============================] - 0s 4ms/step - loss: 1.4049e-05 - accuracy: 1.0000 - val_loss: 0.6102 - val_accuracy: 0.9125\n",
            "Epoch 78/100\n",
            "60/60 [==============================] - 0s 4ms/step - loss: 1.3466e-05 - accuracy: 1.0000 - val_loss: 0.6138 - val_accuracy: 0.9125\n",
            "Epoch 79/100\n",
            "60/60 [==============================] - 0s 4ms/step - loss: 1.2840e-05 - accuracy: 1.0000 - val_loss: 0.6142 - val_accuracy: 0.9125\n",
            "Epoch 80/100\n",
            "60/60 [==============================] - 0s 4ms/step - loss: 1.2262e-05 - accuracy: 1.0000 - val_loss: 0.6165 - val_accuracy: 0.9125\n",
            "Epoch 81/100\n",
            "60/60 [==============================] - 0s 4ms/step - loss: 1.1843e-05 - accuracy: 1.0000 - val_loss: 0.6189 - val_accuracy: 0.9125\n",
            "Epoch 82/100\n",
            "60/60 [==============================] - 0s 5ms/step - loss: 1.1208e-05 - accuracy: 1.0000 - val_loss: 0.6214 - val_accuracy: 0.9125\n",
            "Epoch 83/100\n",
            "60/60 [==============================] - 0s 4ms/step - loss: 1.0778e-05 - accuracy: 1.0000 - val_loss: 0.6223 - val_accuracy: 0.9125\n",
            "Epoch 84/100\n",
            "60/60 [==============================] - 0s 4ms/step - loss: 1.0269e-05 - accuracy: 1.0000 - val_loss: 0.6255 - val_accuracy: 0.9125\n",
            "Epoch 85/100\n",
            "60/60 [==============================] - 0s 4ms/step - loss: 9.8048e-06 - accuracy: 1.0000 - val_loss: 0.6258 - val_accuracy: 0.9125\n",
            "Epoch 86/100\n",
            "60/60 [==============================] - 0s 4ms/step - loss: 9.3788e-06 - accuracy: 1.0000 - val_loss: 0.6306 - val_accuracy: 0.9125\n",
            "Epoch 87/100\n",
            "60/60 [==============================] - 0s 4ms/step - loss: 8.9973e-06 - accuracy: 1.0000 - val_loss: 0.6317 - val_accuracy: 0.9125\n",
            "Epoch 88/100\n",
            "60/60 [==============================] - 0s 4ms/step - loss: 8.6115e-06 - accuracy: 1.0000 - val_loss: 0.6348 - val_accuracy: 0.9125\n",
            "Epoch 89/100\n",
            "60/60 [==============================] - 0s 4ms/step - loss: 8.2626e-06 - accuracy: 1.0000 - val_loss: 0.6368 - val_accuracy: 0.9125\n",
            "Epoch 90/100\n",
            "60/60 [==============================] - 0s 4ms/step - loss: 7.8937e-06 - accuracy: 1.0000 - val_loss: 0.6391 - val_accuracy: 0.9125\n",
            "Epoch 91/100\n",
            "60/60 [==============================] - 0s 4ms/step - loss: 7.6040e-06 - accuracy: 1.0000 - val_loss: 0.6395 - val_accuracy: 0.9125\n",
            "Epoch 92/100\n",
            "60/60 [==============================] - 0s 4ms/step - loss: 7.2445e-06 - accuracy: 1.0000 - val_loss: 0.6428 - val_accuracy: 0.9125\n",
            "Epoch 93/100\n",
            "60/60 [==============================] - 0s 4ms/step - loss: 7.0106e-06 - accuracy: 1.0000 - val_loss: 0.6434 - val_accuracy: 0.9125\n",
            "Epoch 94/100\n",
            "60/60 [==============================] - 0s 4ms/step - loss: 6.7033e-06 - accuracy: 1.0000 - val_loss: 0.6451 - val_accuracy: 0.9125\n",
            "Epoch 95/100\n",
            "60/60 [==============================] - 0s 4ms/step - loss: 6.3490e-06 - accuracy: 1.0000 - val_loss: 0.6498 - val_accuracy: 0.9125\n",
            "Epoch 96/100\n",
            "60/60 [==============================] - 0s 4ms/step - loss: 6.1112e-06 - accuracy: 1.0000 - val_loss: 0.6512 - val_accuracy: 0.9125\n",
            "Epoch 97/100\n",
            "60/60 [==============================] - 0s 4ms/step - loss: 5.8433e-06 - accuracy: 1.0000 - val_loss: 0.6521 - val_accuracy: 0.9125\n",
            "Epoch 98/100\n",
            "60/60 [==============================] - 0s 4ms/step - loss: 5.5886e-06 - accuracy: 1.0000 - val_loss: 0.6545 - val_accuracy: 0.9125\n",
            "Epoch 99/100\n",
            "60/60 [==============================] - 0s 4ms/step - loss: 5.3749e-06 - accuracy: 1.0000 - val_loss: 0.6580 - val_accuracy: 0.9125\n",
            "Epoch 100/100\n",
            "60/60 [==============================] - 0s 4ms/step - loss: 5.1501e-06 - accuracy: 1.0000 - val_loss: 0.6610 - val_accuracy: 0.9125\n"
          ]
        }
      ],
      "source": [
        "model.compile(optimizer='adam',\n",
        "              loss='sparse_categorical_crossentropy',\n",
        "              metrics=['accuracy'])\n",
        "history_2 = model.fit(\n",
        "    x,\n",
        "    y,\n",
        "    batch_size=16,\n",
        "    epochs=100,\n",
        "    validation_split=0.2,\n",
        "    shuffle=True\n",
        ")\n"
      ]
    },
    {
      "cell_type": "code",
      "execution_count": null,
      "metadata": {
        "id": "TcBN1Zx-3OYg",
        "colab": {
          "base_uri": "https://localhost:8080/",
          "height": 531
        },
        "outputId": "248bdf3b-c378-40c9-db52-69e34601d010"
      },
      "outputs": [
        {
          "output_type": "display_data",
          "data": {
            "text/plain": [
              "<Figure size 1600x600 with 2 Axes>"
            ],
            "image/png": "[encoded data removed]"
          },
          "metadata": {}
        }
      ],
      "source": [
        "show_loss_accuracy_evolution(history_2)"
      ]
    },
    {
      "cell_type": "code",
      "execution_count": null,
      "metadata": {
        "id": "8C6n-e-k3OYg",
        "colab": {
          "base_uri": "https://localhost:8080/"
        },
        "outputId": "b5f2d28c-c48a-43ff-b4e6-ea29c6223c65"
      },
      "outputs": [
        {
          "output_type": "stream",
          "name": "stdout",
          "text": [
            "Test Loss: 0.6229918003082275\n",
            "Test Accuracy: 0.9096999764442444\n"
          ]
        }
      ],
      "source": [
        "results = model.evaluate(x_test, y_test, verbose=0)\n",
        "print('Test Loss: {}'.format(results[0]))\n",
        "print('Test Accuracy: {}'.format(results[1]))"
      ]
    },
    {
      "cell_type": "markdown",
      "metadata": {
        "id": "jFcC18G93OYg"
      },
      "source": [
        "### Question 1:\n",
        "#### What differences do you see if you change the batch_size to a lower or higher value? For example to 1 and to 512"
      ]
    },
    {
      "cell_type": "code",
      "execution_count": null,
      "metadata": {
        "id": "thfr2NKc3OYg"
      },
      "outputs": [],
      "source": []
    },
    {
      "cell_type": "markdown",
      "metadata": {
        "id": "-zclThbN3OYg"
      },
      "source": [
        "<a id='dropout'></a>\n",
        "## Dropout\n",
        "\n",
        "Dropout, applied to a layer, consists of randomly \"dropping out\" (set to zero) a number of output features of the layer during training with a probability **p** (`dropout rate`).\n",
        "\n",
        "In `keras` you can introduce dropout in a network via the [Dropout layer](https://www.tensorflow.org/api_docs/python/tf/keras/layers/Dropout), which gets applied to the output of layer right before.\n",
        "\n",
        "```python\n",
        "tf.keras.layers.Dropout(\n",
        "    rate, noise_shape=None, seed=None, **kwargs\n",
        ")\n",
        "```\n",
        "\n",
        "With Functional API:\n",
        "```python\n",
        "next_layer = layers.Dropout(0.4)(prev_layer)\n",
        "```\n",
        "With Sequential:\n",
        "```python\n",
        "model.add(layers.Dropout(0.4))\n",
        "```"
      ]
    },
    {
      "cell_type": "code",
      "execution_count": null,
      "metadata": {
        "id": "ZX7nGDB73OYh"
      },
      "outputs": [],
      "source": [
        "# Input\n",
        "inputs = tf.keras.Input(shape=(28, 28), name='input_layer')\n",
        "# Convert the 2D image to a vector\n",
        "flat = layers.Flatten()(inputs)\n",
        "\n",
        "flat = layers.Dropout(0.5, name='dropout_flat')(flat)\n",
        "# hidden layer 1\n",
        "l_1 = layers.Dense(256, activation='relu', name='layer_1')(flat)\n",
        "l_1 = layers.Dropout(0.5, name='dropout_l1')(l_1)\n",
        "# hidden layer 2\n",
        "l_2 = layers.Dense(128, activation='relu', name='layer_2')(l_1)\n",
        "l_2 = layers.Dropout(0.5, name='dropout_l2')(l_2)\n",
        "# hidden layer 3\n",
        "l_3 = layers.Dense(128, activation='relu', name='layer_3')(l_2)\n",
        "l_3 = layers.Dropout(0.5, name='dropout_l3')(l_3)\n",
        "\n",
        "# Outputs\n",
        "outputs = layers.Dense(num_classes, activation='softmax',\n",
        "                       name='output_layer')(l_3)\n",
        "\n",
        "\n",
        "model_dropout = keras.Model(\n",
        "    inputs=inputs, outputs=outputs, name='dont_overfit_model_dropout')"
      ]
    },
    {
      "cell_type": "code",
      "execution_count": null,
      "metadata": {
        "id": "pNRnE_pq3OYh",
        "colab": {
          "base_uri": "https://localhost:8080/"
        },
        "outputId": "8018d2e7-034b-4ef5-f0c2-6c7389314b21"
      },
      "outputs": [
        {
          "output_type": "stream",
          "name": "stdout",
          "text": [
            "Model: \"dont_overfit_model_dropout\"\n",
            "_________________________________________________________________\n",
            " Layer (type)                Output Shape              Param #   \n",
            "=================================================================\n",
            " input_layer (InputLayer)    [(None, 28, 28)]          0         \n",
            "                                                                 \n",
            " flatten_4 (Flatten)         (None, 784)               0         \n",
            "                                                                 \n",
            " dropout_flat (Dropout)      (None, 784)               0         \n",
            "                                                                 \n",
            " layer_1 (Dense)             (None, 256)               200960    \n",
            "                                                                 \n",
            " dropout_l1 (Dropout)        (None, 256)               0         \n",
            "                                                                 \n",
            " layer_2 (Dense)             (None, 128)               32896     \n",
            "                                                                 \n",
            " dropout_l2 (Dropout)        (None, 128)               0         \n",
            "                                                                 \n",
            " layer_3 (Dense)             (None, 128)               16512     \n",
            "                                                                 \n",
            " dropout_l3 (Dropout)        (None, 128)               0         \n",
            "                                                                 \n",
            " output_layer (Dense)        (None, 10)                1290      \n",
            "                                                                 \n",
            "=================================================================\n",
            "Total params: 251658 (983.04 KB)\n",
            "Trainable params: 251658 (983.04 KB)\n",
            "Non-trainable params: 0 (0.00 Byte)\n",
            "_________________________________________________________________\n"
          ]
        }
      ],
      "source": [
        "model_dropout.summary()"
      ]
    },
    {
      "cell_type": "code",
      "execution_count": null,
      "metadata": {
        "id": "rAuqM_ef3OYh"
      },
      "outputs": [],
      "source": [
        "model_dropout.compile(optimizer='adam',\n",
        "                      loss='sparse_categorical_crossentropy',\n",
        "                      metrics=['accuracy'])"
      ]
    },
    {
      "cell_type": "code",
      "execution_count": null,
      "metadata": {
        "id": "Mt8BTrKO3OYh",
        "colab": {
          "base_uri": "https://localhost:8080/"
        },
        "outputId": "379b37b1-27ba-42ca-fe69-d860d7fbd631"
      },
      "outputs": [
        {
          "output_type": "stream",
          "name": "stdout",
          "text": [
            "Epoch 1/100\n",
            "15/15 [==============================] - 3s 24ms/step - loss: 2.4881 - accuracy: 0.1063 - val_loss: 2.2461 - val_accuracy: 0.2792\n",
            "Epoch 2/100\n",
            "15/15 [==============================] - 0s 8ms/step - loss: 2.3052 - accuracy: 0.1427 - val_loss: 2.1995 - val_accuracy: 0.4250\n",
            "Epoch 3/100\n",
            "15/15 [==============================] - 0s 7ms/step - loss: 2.2202 - accuracy: 0.1833 - val_loss: 2.1208 - val_accuracy: 0.5000\n",
            "Epoch 4/100\n",
            "15/15 [==============================] - 0s 5ms/step - loss: 2.1133 - accuracy: 0.2365 - val_loss: 1.9765 - val_accuracy: 0.5625\n",
            "Epoch 5/100\n",
            "15/15 [==============================] - 0s 6ms/step - loss: 2.0430 - accuracy: 0.2562 - val_loss: 1.7701 - val_accuracy: 0.6375\n",
            "Epoch 6/100\n",
            "15/15 [==============================] - 0s 6ms/step - loss: 1.9144 - accuracy: 0.3187 - val_loss: 1.5173 - val_accuracy: 0.6708\n",
            "Epoch 7/100\n",
            "15/15 [==============================] - 0s 5ms/step - loss: 1.7225 - accuracy: 0.4208 - val_loss: 1.2588 - val_accuracy: 0.7292\n",
            "Epoch 8/100\n",
            "15/15 [==============================] - 0s 6ms/step - loss: 1.5823 - accuracy: 0.4396 - val_loss: 1.0633 - val_accuracy: 0.7750\n",
            "Epoch 9/100\n",
            "15/15 [==============================] - 0s 5ms/step - loss: 1.4024 - accuracy: 0.4958 - val_loss: 0.9062 - val_accuracy: 0.7500\n",
            "Epoch 10/100\n",
            "15/15 [==============================] - 0s 6ms/step - loss: 1.3539 - accuracy: 0.5240 - val_loss: 0.7656 - val_accuracy: 0.8125\n",
            "Epoch 11/100\n",
            "15/15 [==============================] - 0s 5ms/step - loss: 1.2344 - accuracy: 0.5729 - val_loss: 0.7219 - val_accuracy: 0.7917\n",
            "Epoch 12/100\n",
            "15/15 [==============================] - 0s 6ms/step - loss: 1.1558 - accuracy: 0.6135 - val_loss: 0.6433 - val_accuracy: 0.8333\n",
            "Epoch 13/100\n",
            "15/15 [==============================] - 0s 5ms/step - loss: 1.1288 - accuracy: 0.6229 - val_loss: 0.6200 - val_accuracy: 0.8500\n",
            "Epoch 14/100\n",
            "15/15 [==============================] - 0s 6ms/step - loss: 1.0368 - accuracy: 0.6448 - val_loss: 0.5717 - val_accuracy: 0.8500\n",
            "Epoch 15/100\n",
            "15/15 [==============================] - 0s 6ms/step - loss: 0.9839 - accuracy: 0.6552 - val_loss: 0.5218 - val_accuracy: 0.8750\n",
            "Epoch 16/100\n",
            "15/15 [==============================] - 0s 5ms/step - loss: 0.8797 - accuracy: 0.6719 - val_loss: 0.4950 - val_accuracy: 0.8625\n",
            "Epoch 17/100\n",
            "15/15 [==============================] - 0s 6ms/step - loss: 0.8416 - accuracy: 0.7083 - val_loss: 0.4774 - val_accuracy: 0.8667\n",
            "Epoch 18/100\n",
            "15/15 [==============================] - 0s 6ms/step - loss: 0.8388 - accuracy: 0.7344 - val_loss: 0.4527 - val_accuracy: 0.8750\n",
            "Epoch 19/100\n",
            "15/15 [==============================] - 0s 5ms/step - loss: 0.7753 - accuracy: 0.7240 - val_loss: 0.4607 - val_accuracy: 0.8750\n",
            "Epoch 20/100\n",
            "15/15 [==============================] - 0s 5ms/step - loss: 0.7758 - accuracy: 0.7437 - val_loss: 0.4302 - val_accuracy: 0.8792\n",
            "Epoch 21/100\n",
            "15/15 [==============================] - 0s 5ms/step - loss: 0.7395 - accuracy: 0.7510 - val_loss: 0.4142 - val_accuracy: 0.8917\n",
            "Epoch 22/100\n",
            "15/15 [==============================] - 0s 6ms/step - loss: 0.6537 - accuracy: 0.7833 - val_loss: 0.4093 - val_accuracy: 0.8833\n",
            "Epoch 23/100\n",
            "15/15 [==============================] - 0s 5ms/step - loss: 0.7143 - accuracy: 0.7563 - val_loss: 0.3952 - val_accuracy: 0.8792\n",
            "Epoch 24/100\n",
            "15/15 [==============================] - 0s 5ms/step - loss: 0.6217 - accuracy: 0.7833 - val_loss: 0.3924 - val_accuracy: 0.8917\n",
            "Epoch 25/100\n",
            "15/15 [==============================] - 0s 5ms/step - loss: 0.6408 - accuracy: 0.7937 - val_loss: 0.3782 - val_accuracy: 0.8875\n",
            "Epoch 26/100\n",
            "15/15 [==============================] - 0s 7ms/step - loss: 0.6455 - accuracy: 0.7885 - val_loss: 0.3765 - val_accuracy: 0.8875\n",
            "Epoch 27/100\n",
            "15/15 [==============================] - 0s 5ms/step - loss: 0.6353 - accuracy: 0.7969 - val_loss: 0.3930 - val_accuracy: 0.8750\n",
            "Epoch 28/100\n",
            "15/15 [==============================] - 0s 6ms/step - loss: 0.5730 - accuracy: 0.8146 - val_loss: 0.3697 - val_accuracy: 0.8917\n",
            "Epoch 29/100\n",
            "15/15 [==============================] - 0s 5ms/step - loss: 0.5558 - accuracy: 0.8260 - val_loss: 0.3605 - val_accuracy: 0.8958\n",
            "Epoch 30/100\n",
            "15/15 [==============================] - 0s 5ms/step - loss: 0.5865 - accuracy: 0.8188 - val_loss: 0.3713 - val_accuracy: 0.8917\n",
            "Epoch 31/100\n",
            "15/15 [==============================] - 0s 6ms/step - loss: 0.5847 - accuracy: 0.8083 - val_loss: 0.3431 - val_accuracy: 0.9042\n",
            "Epoch 32/100\n",
            "15/15 [==============================] - 0s 6ms/step - loss: 0.5100 - accuracy: 0.8333 - val_loss: 0.3397 - val_accuracy: 0.9083\n",
            "Epoch 33/100\n",
            "15/15 [==============================] - 0s 6ms/step - loss: 0.5164 - accuracy: 0.8490 - val_loss: 0.3478 - val_accuracy: 0.9042\n",
            "Epoch 34/100\n",
            "15/15 [==============================] - 0s 6ms/step - loss: 0.5032 - accuracy: 0.8323 - val_loss: 0.3548 - val_accuracy: 0.9000\n",
            "Epoch 35/100\n",
            "15/15 [==============================] - 0s 5ms/step - loss: 0.5317 - accuracy: 0.8323 - val_loss: 0.3347 - val_accuracy: 0.8958\n",
            "Epoch 36/100\n",
            "15/15 [==============================] - 0s 5ms/step - loss: 0.4589 - accuracy: 0.8573 - val_loss: 0.3487 - val_accuracy: 0.9042\n",
            "Epoch 37/100\n",
            "15/15 [==============================] - 0s 7ms/step - loss: 0.4932 - accuracy: 0.8375 - val_loss: 0.3410 - val_accuracy: 0.9000\n",
            "Epoch 38/100\n",
            "15/15 [==============================] - 0s 6ms/step - loss: 0.4491 - accuracy: 0.8542 - val_loss: 0.3374 - val_accuracy: 0.9167\n",
            "Epoch 39/100\n",
            "15/15 [==============================] - 0s 5ms/step - loss: 0.4257 - accuracy: 0.8604 - val_loss: 0.3443 - val_accuracy: 0.9000\n",
            "Epoch 40/100\n",
            "15/15 [==============================] - 0s 6ms/step - loss: 0.4564 - accuracy: 0.8531 - val_loss: 0.3380 - val_accuracy: 0.9042\n",
            "Epoch 41/100\n",
            "15/15 [==============================] - 0s 6ms/step - loss: 0.4569 - accuracy: 0.8583 - val_loss: 0.3229 - val_accuracy: 0.9083\n",
            "Epoch 42/100\n",
            "15/15 [==============================] - 0s 6ms/step - loss: 0.4104 - accuracy: 0.8594 - val_loss: 0.3353 - val_accuracy: 0.9083\n",
            "Epoch 43/100\n",
            "15/15 [==============================] - 0s 6ms/step - loss: 0.3860 - accuracy: 0.8823 - val_loss: 0.3261 - val_accuracy: 0.9042\n",
            "Epoch 44/100\n",
            "15/15 [==============================] - 0s 8ms/step - loss: 0.4298 - accuracy: 0.8552 - val_loss: 0.3124 - val_accuracy: 0.9042\n",
            "Epoch 45/100\n",
            "15/15 [==============================] - 0s 7ms/step - loss: 0.4275 - accuracy: 0.8573 - val_loss: 0.3171 - val_accuracy: 0.9250\n",
            "Epoch 46/100\n",
            "15/15 [==============================] - 0s 7ms/step - loss: 0.4099 - accuracy: 0.8792 - val_loss: 0.3352 - val_accuracy: 0.9167\n",
            "Epoch 47/100\n",
            "15/15 [==============================] - 0s 8ms/step - loss: 0.4120 - accuracy: 0.8687 - val_loss: 0.3417 - val_accuracy: 0.8917\n",
            "Epoch 48/100\n",
            "15/15 [==============================] - 0s 6ms/step - loss: 0.3658 - accuracy: 0.8844 - val_loss: 0.3275 - val_accuracy: 0.9083\n",
            "Epoch 49/100\n",
            "15/15 [==============================] - 0s 5ms/step - loss: 0.4154 - accuracy: 0.8656 - val_loss: 0.3115 - val_accuracy: 0.9250\n",
            "Epoch 50/100\n",
            "15/15 [==============================] - 0s 6ms/step - loss: 0.3815 - accuracy: 0.8760 - val_loss: 0.3013 - val_accuracy: 0.9250\n",
            "Epoch 51/100\n",
            "15/15 [==============================] - 0s 6ms/step - loss: 0.3853 - accuracy: 0.8823 - val_loss: 0.3086 - val_accuracy: 0.9083\n",
            "Epoch 52/100\n",
            "15/15 [==============================] - 0s 6ms/step - loss: 0.3666 - accuracy: 0.8854 - val_loss: 0.3015 - val_accuracy: 0.9125\n",
            "Epoch 53/100\n",
            "15/15 [==============================] - 0s 7ms/step - loss: 0.3702 - accuracy: 0.8792 - val_loss: 0.2809 - val_accuracy: 0.9375\n",
            "Epoch 54/100\n",
            "15/15 [==============================] - 0s 5ms/step - loss: 0.3137 - accuracy: 0.8990 - val_loss: 0.2902 - val_accuracy: 0.9167\n",
            "Epoch 55/100\n",
            "15/15 [==============================] - 0s 5ms/step - loss: 0.3642 - accuracy: 0.8813 - val_loss: 0.2917 - val_accuracy: 0.9125\n",
            "Epoch 56/100\n",
            "15/15 [==============================] - 0s 6ms/step - loss: 0.3437 - accuracy: 0.9010 - val_loss: 0.3143 - val_accuracy: 0.9042\n",
            "Epoch 57/100\n",
            "15/15 [==============================] - 0s 7ms/step - loss: 0.3438 - accuracy: 0.8896 - val_loss: 0.3061 - val_accuracy: 0.9208\n",
            "Epoch 58/100\n",
            "15/15 [==============================] - 0s 6ms/step - loss: 0.3257 - accuracy: 0.8969 - val_loss: 0.3142 - val_accuracy: 0.9250\n",
            "Epoch 59/100\n",
            "15/15 [==============================] - 0s 6ms/step - loss: 0.2900 - accuracy: 0.9062 - val_loss: 0.3029 - val_accuracy: 0.9250\n",
            "Epoch 60/100\n",
            "15/15 [==============================] - 0s 5ms/step - loss: 0.3378 - accuracy: 0.8979 - val_loss: 0.2998 - val_accuracy: 0.9208\n",
            "Epoch 61/100\n",
            "15/15 [==============================] - 0s 6ms/step - loss: 0.3287 - accuracy: 0.8938 - val_loss: 0.3001 - val_accuracy: 0.9208\n",
            "Epoch 62/100\n",
            "15/15 [==============================] - 0s 5ms/step - loss: 0.2713 - accuracy: 0.9125 - val_loss: 0.3134 - val_accuracy: 0.9125\n",
            "Epoch 63/100\n",
            "15/15 [==============================] - 0s 6ms/step - loss: 0.3013 - accuracy: 0.9135 - val_loss: 0.3096 - val_accuracy: 0.9208\n",
            "Epoch 64/100\n",
            "15/15 [==============================] - 0s 6ms/step - loss: 0.3292 - accuracy: 0.8979 - val_loss: 0.3031 - val_accuracy: 0.9167\n",
            "Epoch 65/100\n",
            "15/15 [==============================] - 0s 5ms/step - loss: 0.3133 - accuracy: 0.9083 - val_loss: 0.2792 - val_accuracy: 0.9250\n",
            "Epoch 66/100\n",
            "15/15 [==============================] - 0s 5ms/step - loss: 0.3056 - accuracy: 0.9073 - val_loss: 0.3058 - val_accuracy: 0.9167\n",
            "Epoch 67/100\n",
            "15/15 [==============================] - 0s 5ms/step - loss: 0.2755 - accuracy: 0.9125 - val_loss: 0.3116 - val_accuracy: 0.9375\n",
            "Epoch 68/100\n",
            "15/15 [==============================] - 0s 6ms/step - loss: 0.2894 - accuracy: 0.9115 - val_loss: 0.2799 - val_accuracy: 0.9375\n",
            "Epoch 69/100\n",
            "15/15 [==============================] - 0s 6ms/step - loss: 0.2537 - accuracy: 0.9094 - val_loss: 0.2865 - val_accuracy: 0.9208\n",
            "Epoch 70/100\n",
            "15/15 [==============================] - 0s 6ms/step - loss: 0.2634 - accuracy: 0.9146 - val_loss: 0.3050 - val_accuracy: 0.9167\n",
            "Epoch 71/100\n",
            "15/15 [==============================] - 0s 5ms/step - loss: 0.2791 - accuracy: 0.9073 - val_loss: 0.3168 - val_accuracy: 0.9250\n",
            "Epoch 72/100\n",
            "15/15 [==============================] - 0s 6ms/step - loss: 0.2562 - accuracy: 0.9146 - val_loss: 0.2967 - val_accuracy: 0.9250\n",
            "Epoch 73/100\n",
            "15/15 [==============================] - 0s 5ms/step - loss: 0.2874 - accuracy: 0.9083 - val_loss: 0.2980 - val_accuracy: 0.9250\n",
            "Epoch 74/100\n",
            "15/15 [==============================] - 0s 5ms/step - loss: 0.2619 - accuracy: 0.9219 - val_loss: 0.3304 - val_accuracy: 0.9125\n",
            "Epoch 75/100\n",
            "15/15 [==============================] - 0s 6ms/step - loss: 0.2532 - accuracy: 0.9250 - val_loss: 0.3129 - val_accuracy: 0.9292\n",
            "Epoch 76/100\n",
            "15/15 [==============================] - 0s 5ms/step - loss: 0.2321 - accuracy: 0.9354 - val_loss: 0.3163 - val_accuracy: 0.9333\n",
            "Epoch 77/100\n",
            "15/15 [==============================] - 0s 6ms/step - loss: 0.2284 - accuracy: 0.9312 - val_loss: 0.3240 - val_accuracy: 0.9208\n",
            "Epoch 78/100\n",
            "15/15 [==============================] - 0s 6ms/step - loss: 0.2097 - accuracy: 0.9271 - val_loss: 0.3220 - val_accuracy: 0.9250\n",
            "Epoch 79/100\n",
            "15/15 [==============================] - 0s 6ms/step - loss: 0.2734 - accuracy: 0.9115 - val_loss: 0.3065 - val_accuracy: 0.9333\n",
            "Epoch 80/100\n",
            "15/15 [==============================] - 0s 7ms/step - loss: 0.2574 - accuracy: 0.9208 - val_loss: 0.3059 - val_accuracy: 0.9333\n",
            "Epoch 81/100\n",
            "15/15 [==============================] - 0s 6ms/step - loss: 0.2313 - accuracy: 0.9240 - val_loss: 0.2809 - val_accuracy: 0.9417\n",
            "Epoch 82/100\n",
            "15/15 [==============================] - 0s 6ms/step - loss: 0.2144 - accuracy: 0.9323 - val_loss: 0.2917 - val_accuracy: 0.9292\n",
            "Epoch 83/100\n",
            "15/15 [==============================] - 0s 5ms/step - loss: 0.2466 - accuracy: 0.9427 - val_loss: 0.3059 - val_accuracy: 0.9250\n",
            "Epoch 84/100\n",
            "15/15 [==============================] - 0s 6ms/step - loss: 0.2025 - accuracy: 0.9406 - val_loss: 0.3250 - val_accuracy: 0.9250\n",
            "Epoch 85/100\n",
            "15/15 [==============================] - 0s 6ms/step - loss: 0.1959 - accuracy: 0.9365 - val_loss: 0.3170 - val_accuracy: 0.9250\n",
            "Epoch 86/100\n",
            "15/15 [==============================] - 0s 6ms/step - loss: 0.2314 - accuracy: 0.9229 - val_loss: 0.3021 - val_accuracy: 0.9250\n",
            "Epoch 87/100\n",
            "15/15 [==============================] - 0s 6ms/step - loss: 0.2383 - accuracy: 0.9281 - val_loss: 0.2834 - val_accuracy: 0.9292\n",
            "Epoch 88/100\n",
            "15/15 [==============================] - 0s 6ms/step - loss: 0.2169 - accuracy: 0.9354 - val_loss: 0.2916 - val_accuracy: 0.9333\n",
            "Epoch 89/100\n",
            "15/15 [==============================] - 0s 6ms/step - loss: 0.2207 - accuracy: 0.9427 - val_loss: 0.2922 - val_accuracy: 0.9333\n",
            "Epoch 90/100\n",
            "15/15 [==============================] - 0s 7ms/step - loss: 0.2455 - accuracy: 0.9292 - val_loss: 0.3344 - val_accuracy: 0.9292\n",
            "Epoch 91/100\n",
            "15/15 [==============================] - 0s 6ms/step - loss: 0.2441 - accuracy: 0.9187 - val_loss: 0.2910 - val_accuracy: 0.9375\n",
            "Epoch 92/100\n",
            "15/15 [==============================] - 0s 6ms/step - loss: 0.2319 - accuracy: 0.9354 - val_loss: 0.3009 - val_accuracy: 0.9250\n",
            "Epoch 93/100\n",
            "15/15 [==============================] - 0s 7ms/step - loss: 0.1958 - accuracy: 0.9375 - val_loss: 0.2966 - val_accuracy: 0.9208\n",
            "Epoch 94/100\n",
            "15/15 [==============================] - 0s 6ms/step - loss: 0.2109 - accuracy: 0.9333 - val_loss: 0.2928 - val_accuracy: 0.9250\n",
            "Epoch 95/100\n",
            "15/15 [==============================] - 0s 5ms/step - loss: 0.1844 - accuracy: 0.9417 - val_loss: 0.3024 - val_accuracy: 0.9333\n",
            "Epoch 96/100\n",
            "15/15 [==============================] - 0s 6ms/step - loss: 0.1976 - accuracy: 0.9375 - val_loss: 0.2933 - val_accuracy: 0.9375\n",
            "Epoch 97/100\n",
            "15/15 [==============================] - 0s 5ms/step - loss: 0.1925 - accuracy: 0.9417 - val_loss: 0.3017 - val_accuracy: 0.9208\n",
            "Epoch 98/100\n",
            "15/15 [==============================] - 0s 6ms/step - loss: 0.2114 - accuracy: 0.9354 - val_loss: 0.3013 - val_accuracy: 0.9292\n",
            "Epoch 99/100\n",
            "15/15 [==============================] - 0s 6ms/step - loss: 0.2008 - accuracy: 0.9500 - val_loss: 0.2885 - val_accuracy: 0.9417\n",
            "Epoch 100/100\n",
            "15/15 [==============================] - 0s 6ms/step - loss: 0.1832 - accuracy: 0.9479 - val_loss: 0.3076 - val_accuracy: 0.9250\n"
          ]
        }
      ],
      "source": [
        "history_dropout = model_dropout.fit(\n",
        "    x,\n",
        "    y,\n",
        "    batch_size=64,\n",
        "    epochs=100,\n",
        "    validation_split=0.2,\n",
        "    shuffle=True\n",
        ")"
      ]
    },
    {
      "cell_type": "code",
      "execution_count": null,
      "metadata": {
        "id": "9RfBiVeZ3OYi",
        "colab": {
          "base_uri": "https://localhost:8080/",
          "height": 531
        },
        "outputId": "2adb18c9-ca0f-4c4c-da4c-2666d624dea4"
      },
      "outputs": [
        {
          "output_type": "display_data",
          "data": {
            "text/plain": [
              "<Figure size 1600x600 with 2 Axes>"
            ],
            "image/png": "[encoded data removed]"
          },
          "metadata": {}
        }
      ],
      "source": [
        "show_loss_accuracy_evolution(history_dropout)"
      ]
    },
    {
      "cell_type": "code",
      "execution_count": null,
      "metadata": {
        "id": "XojHrVhy3OYi",
        "colab": {
          "base_uri": "https://localhost:8080/"
        },
        "outputId": "2da9f7a9-da1b-48d3-cfbe-977c8449b8f1"
      },
      "outputs": [
        {
          "output_type": "stream",
          "name": "stdout",
          "text": [
            "Test Loss: 0.3209829032421112\n",
            "Test Accuracy: 0.9212999939918518\n"
          ]
        }
      ],
      "source": [
        "results = model_dropout.evaluate(x_test, y_test, verbose=0)\n",
        "print('Test Loss: {}'.format(results[0]))\n",
        "print('Test Accuracy: {}'.format(results[1]))"
      ]
    },
    {
      "cell_type": "markdown",
      "metadata": {
        "id": "gWxAZ3dn3OYi"
      },
      "source": [
        "### Question 2:\n",
        "#### What happens if you change the dropout to 0.1 or 0.9? And what if you put it only on one layer?\n",
        "#### What happens if we delete the flatten first dropout?"
      ]
    },
    {
      "cell_type": "code",
      "execution_count": null,
      "metadata": {
        "id": "PDuMP7np3OYi"
      },
      "outputs": [],
      "source": []
    },
    {
      "cell_type": "markdown",
      "metadata": {
        "id": "B1S1Jlrc3OYj"
      },
      "source": [
        "## Batch Normalization\n",
        "\n",
        "[Batch normalization](https://www.tensorflow.org/api_docs/python/tf/keras/layers/BatchNormalization) applies a transformation that maintains the mean output close to 0 and the output standard deviation close to 1.\n",
        "\n",
        "\n",
        "With Functional API:\n",
        "```python\n",
        "next_layer = layers.BatchNormalization()(prev_layer)\n",
        "```\n",
        "With Sequential:\n",
        "```python\n",
        "model.add(layers.BatchNormalization())\n",
        "```"
      ]
    },
    {
      "cell_type": "code",
      "execution_count": null,
      "metadata": {
        "id": "2ELx-VHG3OYj"
      },
      "outputs": [],
      "source": [
        "# Input\n",
        "inputs = tf.keras.Input(shape=(28, 28), name='input_layer')\n",
        "# Convert the 2D image to a vector\n",
        "flat = layers.Flatten()(inputs)\n",
        "\n",
        "# hidden layer 1\n",
        "l_1 = layers.Dense(256, activation='relu', name='layer_1')(flat)\n",
        "l_1 = layers.BatchNormalization()(l_1)\n",
        "# hidden layer 2\n",
        "l_2 = layers.Dense(128, activation='relu', name='layer_2')(l_1)\n",
        "l_2 = layers.BatchNormalization()(l_2)\n",
        "# hidden layer 3\n",
        "l_3 = layers.Dense(128, activation='relu', name='layer_3')(l_2)\n",
        "\n",
        "# Outputs\n",
        "outputs = layers.Dense(num_classes, activation='softmax',\n",
        "                       name='output_layer')(l_3)\n",
        "\n",
        "\n",
        "\n",
        "\n",
        "model_batch_norm = keras.Model(inputs=inputs, outputs=outputs, name='dont_overfit_model_batch_norm')"
      ]
    },
    {
      "cell_type": "code",
      "execution_count": null,
      "metadata": {
        "scrolled": true,
        "id": "dzzg_ot23OYj",
        "colab": {
          "base_uri": "https://localhost:8080/"
        },
        "outputId": "eef98b74-971a-4c71-b674-bd91a1380e6f"
      },
      "outputs": [
        {
          "output_type": "stream",
          "name": "stdout",
          "text": [
            "Model: \"dont_overfit_model_batch_norm\"\n",
            "_________________________________________________________________\n",
            " Layer (type)                Output Shape              Param #   \n",
            "=================================================================\n",
            " input_layer (InputLayer)    [(None, 28, 28)]          0         \n",
            "                                                                 \n",
            " flatten_5 (Flatten)         (None, 784)               0         \n",
            "                                                                 \n",
            " layer_1 (Dense)             (None, 256)               200960    \n",
            "                                                                 \n",
            " batch_normalization (Batch  (None, 256)               1024      \n",
            " Normalization)                                                  \n",
            "                                                                 \n",
            " layer_2 (Dense)             (None, 128)               32896     \n",
            "                                                                 \n",
            " batch_normalization_1 (Bat  (None, 128)               512       \n",
            " chNormalization)                                                \n",
            "                                                                 \n",
            " layer_3 (Dense)             (None, 128)               16512     \n",
            "                                                                 \n",
            " output_layer (Dense)        (None, 10)                1290      \n",
            "                                                                 \n",
            "=================================================================\n",
            "Total params: 253194 (989.04 KB)\n",
            "Trainable params: 252426 (986.04 KB)\n",
            "Non-trainable params: 768 (3.00 KB)\n",
            "_________________________________________________________________\n"
          ]
        }
      ],
      "source": [
        "model_batch_norm.summary()"
      ]
    },
    {
      "cell_type": "code",
      "execution_count": null,
      "metadata": {
        "id": "Agh0beK63OYj"
      },
      "outputs": [],
      "source": [
        "model_batch_norm.compile(\n",
        "    optimizer='adam', loss='sparse_categorical_crossentropy', metrics=['accuracy'])"
      ]
    },
    {
      "cell_type": "code",
      "execution_count": null,
      "metadata": {
        "id": "VpkMM6943OYk",
        "colab": {
          "base_uri": "https://localhost:8080/"
        },
        "outputId": "7f75d5ae-4034-4a17-99e8-3c57a669d5f5"
      },
      "outputs": [
        {
          "output_type": "stream",
          "name": "stdout",
          "text": [
            "Epoch 1/100\n",
            "15/15 [==============================] - 3s 20ms/step - loss: 1.4054 - accuracy: 0.5552 - val_loss: 1.7604 - val_accuracy: 0.6792\n",
            "Epoch 2/100\n",
            "15/15 [==============================] - 0s 6ms/step - loss: 0.3941 - accuracy: 0.9146 - val_loss: 1.4560 - val_accuracy: 0.7833\n",
            "Epoch 3/100\n",
            "15/15 [==============================] - 0s 6ms/step - loss: 0.1836 - accuracy: 0.9708 - val_loss: 1.2032 - val_accuracy: 0.8958\n",
            "Epoch 4/100\n",
            "15/15 [==============================] - 0s 6ms/step - loss: 0.0874 - accuracy: 0.9958 - val_loss: 1.0342 - val_accuracy: 0.8958\n",
            "Epoch 5/100\n",
            "15/15 [==============================] - 0s 7ms/step - loss: 0.0504 - accuracy: 0.9948 - val_loss: 0.8971 - val_accuracy: 0.9083\n",
            "Epoch 6/100\n",
            "15/15 [==============================] - 0s 7ms/step - loss: 0.0304 - accuracy: 0.9990 - val_loss: 0.7896 - val_accuracy: 0.9042\n",
            "Epoch 7/100\n",
            "15/15 [==============================] - 0s 7ms/step - loss: 0.0204 - accuracy: 1.0000 - val_loss: 0.6848 - val_accuracy: 0.9083\n",
            "Epoch 8/100\n",
            "15/15 [==============================] - 0s 7ms/step - loss: 0.0168 - accuracy: 1.0000 - val_loss: 0.5945 - val_accuracy: 0.9167\n",
            "Epoch 9/100\n",
            "15/15 [==============================] - 0s 7ms/step - loss: 0.0109 - accuracy: 1.0000 - val_loss: 0.5280 - val_accuracy: 0.9208\n",
            "Epoch 10/100\n",
            "15/15 [==============================] - 0s 7ms/step - loss: 0.0090 - accuracy: 1.0000 - val_loss: 0.4725 - val_accuracy: 0.9208\n",
            "Epoch 11/100\n",
            "15/15 [==============================] - 0s 7ms/step - loss: 0.0073 - accuracy: 1.0000 - val_loss: 0.4297 - val_accuracy: 0.9208\n",
            "Epoch 12/100\n",
            "15/15 [==============================] - 0s 7ms/step - loss: 0.0066 - accuracy: 1.0000 - val_loss: 0.4014 - val_accuracy: 0.9292\n",
            "Epoch 13/100\n",
            "15/15 [==============================] - 0s 6ms/step - loss: 0.0053 - accuracy: 1.0000 - val_loss: 0.3740 - val_accuracy: 0.9292\n",
            "Epoch 14/100\n",
            "15/15 [==============================] - 0s 7ms/step - loss: 0.0044 - accuracy: 1.0000 - val_loss: 0.3486 - val_accuracy: 0.9250\n",
            "Epoch 15/100\n",
            "15/15 [==============================] - 0s 7ms/step - loss: 0.0045 - accuracy: 1.0000 - val_loss: 0.3296 - val_accuracy: 0.9250\n",
            "Epoch 16/100\n",
            "15/15 [==============================] - 0s 7ms/step - loss: 0.0040 - accuracy: 1.0000 - val_loss: 0.3179 - val_accuracy: 0.9292\n",
            "Epoch 17/100\n",
            "15/15 [==============================] - 0s 6ms/step - loss: 0.0034 - accuracy: 1.0000 - val_loss: 0.3086 - val_accuracy: 0.9250\n",
            "Epoch 18/100\n",
            "15/15 [==============================] - 0s 6ms/step - loss: 0.0027 - accuracy: 1.0000 - val_loss: 0.3019 - val_accuracy: 0.9292\n",
            "Epoch 19/100\n",
            "15/15 [==============================] - 0s 8ms/step - loss: 0.0026 - accuracy: 1.0000 - val_loss: 0.2977 - val_accuracy: 0.9292\n",
            "Epoch 20/100\n",
            "15/15 [==============================] - 0s 6ms/step - loss: 0.0024 - accuracy: 1.0000 - val_loss: 0.2952 - val_accuracy: 0.9292\n",
            "Epoch 21/100\n",
            "15/15 [==============================] - 0s 7ms/step - loss: 0.0023 - accuracy: 1.0000 - val_loss: 0.2936 - val_accuracy: 0.9292\n",
            "Epoch 22/100\n",
            "15/15 [==============================] - 0s 7ms/step - loss: 0.0023 - accuracy: 1.0000 - val_loss: 0.2941 - val_accuracy: 0.9292\n",
            "Epoch 23/100\n",
            "15/15 [==============================] - 0s 6ms/step - loss: 0.0018 - accuracy: 1.0000 - val_loss: 0.2940 - val_accuracy: 0.9292\n",
            "Epoch 24/100\n",
            "15/15 [==============================] - 0s 7ms/step - loss: 0.0018 - accuracy: 1.0000 - val_loss: 0.2956 - val_accuracy: 0.9292\n",
            "Epoch 25/100\n",
            "15/15 [==============================] - 0s 7ms/step - loss: 0.0017 - accuracy: 1.0000 - val_loss: 0.2964 - val_accuracy: 0.9292\n",
            "Epoch 26/100\n",
            "15/15 [==============================] - 0s 6ms/step - loss: 0.0015 - accuracy: 1.0000 - val_loss: 0.2965 - val_accuracy: 0.9292\n",
            "Epoch 27/100\n",
            "15/15 [==============================] - 0s 7ms/step - loss: 0.0012 - accuracy: 1.0000 - val_loss: 0.2974 - val_accuracy: 0.9292\n",
            "Epoch 28/100\n",
            "15/15 [==============================] - 0s 7ms/step - loss: 0.0015 - accuracy: 1.0000 - val_loss: 0.2992 - val_accuracy: 0.9292\n",
            "Epoch 29/100\n",
            "15/15 [==============================] - 0s 7ms/step - loss: 0.0012 - accuracy: 1.0000 - val_loss: 0.3012 - val_accuracy: 0.9292\n",
            "Epoch 30/100\n",
            "15/15 [==============================] - 0s 7ms/step - loss: 0.0012 - accuracy: 1.0000 - val_loss: 0.3043 - val_accuracy: 0.9292\n",
            "Epoch 31/100\n",
            "15/15 [==============================] - 0s 7ms/step - loss: 0.0010 - accuracy: 1.0000 - val_loss: 0.3078 - val_accuracy: 0.9250\n",
            "Epoch 32/100\n",
            "15/15 [==============================] - 0s 6ms/step - loss: 0.0011 - accuracy: 1.0000 - val_loss: 0.3115 - val_accuracy: 0.9250\n",
            "Epoch 33/100\n",
            "15/15 [==============================] - 0s 7ms/step - loss: 8.9837e-04 - accuracy: 1.0000 - val_loss: 0.3148 - val_accuracy: 0.9250\n",
            "Epoch 34/100\n",
            "15/15 [==============================] - 0s 6ms/step - loss: 8.3327e-04 - accuracy: 1.0000 - val_loss: 0.3167 - val_accuracy: 0.9250\n",
            "Epoch 35/100\n",
            "15/15 [==============================] - 0s 7ms/step - loss: 7.3830e-04 - accuracy: 1.0000 - val_loss: 0.3190 - val_accuracy: 0.9250\n",
            "Epoch 36/100\n",
            "15/15 [==============================] - 0s 7ms/step - loss: 8.1173e-04 - accuracy: 1.0000 - val_loss: 0.3214 - val_accuracy: 0.9208\n",
            "Epoch 37/100\n",
            "15/15 [==============================] - 0s 6ms/step - loss: 9.0678e-04 - accuracy: 1.0000 - val_loss: 0.3209 - val_accuracy: 0.9250\n",
            "Epoch 38/100\n",
            "15/15 [==============================] - 0s 6ms/step - loss: 6.9109e-04 - accuracy: 1.0000 - val_loss: 0.3229 - val_accuracy: 0.9208\n",
            "Epoch 39/100\n",
            "15/15 [==============================] - 0s 9ms/step - loss: 7.0544e-04 - accuracy: 1.0000 - val_loss: 0.3252 - val_accuracy: 0.9208\n",
            "Epoch 40/100\n",
            "15/15 [==============================] - 0s 7ms/step - loss: 6.8519e-04 - accuracy: 1.0000 - val_loss: 0.3268 - val_accuracy: 0.9208\n",
            "Epoch 41/100\n",
            "15/15 [==============================] - 0s 6ms/step - loss: 7.0632e-04 - accuracy: 1.0000 - val_loss: 0.3276 - val_accuracy: 0.9208\n",
            "Epoch 42/100\n",
            "15/15 [==============================] - 0s 7ms/step - loss: 7.7463e-04 - accuracy: 1.0000 - val_loss: 0.3287 - val_accuracy: 0.9250\n",
            "Epoch 43/100\n",
            "15/15 [==============================] - 0s 6ms/step - loss: 0.0010 - accuracy: 1.0000 - val_loss: 0.3283 - val_accuracy: 0.9250\n",
            "Epoch 44/100\n",
            "15/15 [==============================] - 0s 6ms/step - loss: 6.5581e-04 - accuracy: 1.0000 - val_loss: 0.3245 - val_accuracy: 0.9167\n",
            "Epoch 45/100\n",
            "15/15 [==============================] - 0s 7ms/step - loss: 8.9635e-04 - accuracy: 1.0000 - val_loss: 0.3234 - val_accuracy: 0.9333\n",
            "Epoch 46/100\n",
            "15/15 [==============================] - 0s 8ms/step - loss: 6.2327e-04 - accuracy: 1.0000 - val_loss: 0.3255 - val_accuracy: 0.9333\n",
            "Epoch 47/100\n",
            "15/15 [==============================] - 0s 7ms/step - loss: 5.8995e-04 - accuracy: 1.0000 - val_loss: 0.3273 - val_accuracy: 0.9250\n",
            "Epoch 48/100\n",
            "15/15 [==============================] - 0s 7ms/step - loss: 6.6952e-04 - accuracy: 1.0000 - val_loss: 0.3321 - val_accuracy: 0.9292\n",
            "Epoch 49/100\n",
            "15/15 [==============================] - 0s 7ms/step - loss: 4.4554e-04 - accuracy: 1.0000 - val_loss: 0.3369 - val_accuracy: 0.9292\n",
            "Epoch 50/100\n",
            "15/15 [==============================] - 0s 6ms/step - loss: 4.0589e-04 - accuracy: 1.0000 - val_loss: 0.3383 - val_accuracy: 0.9292\n",
            "Epoch 51/100\n",
            "15/15 [==============================] - 0s 7ms/step - loss: 4.1336e-04 - accuracy: 1.0000 - val_loss: 0.3410 - val_accuracy: 0.9292\n",
            "Epoch 52/100\n",
            "15/15 [==============================] - 0s 7ms/step - loss: 4.5926e-04 - accuracy: 1.0000 - val_loss: 0.3423 - val_accuracy: 0.9292\n",
            "Epoch 53/100\n",
            "15/15 [==============================] - 0s 7ms/step - loss: 4.0342e-04 - accuracy: 1.0000 - val_loss: 0.3432 - val_accuracy: 0.9333\n",
            "Epoch 54/100\n",
            "15/15 [==============================] - 0s 7ms/step - loss: 3.6825e-04 - accuracy: 1.0000 - val_loss: 0.3430 - val_accuracy: 0.9333\n",
            "Epoch 55/100\n",
            "15/15 [==============================] - 0s 7ms/step - loss: 3.3690e-04 - accuracy: 1.0000 - val_loss: 0.3448 - val_accuracy: 0.9333\n",
            "Epoch 56/100\n",
            "15/15 [==============================] - 0s 7ms/step - loss: 3.6834e-04 - accuracy: 1.0000 - val_loss: 0.3469 - val_accuracy: 0.9333\n",
            "Epoch 57/100\n",
            "15/15 [==============================] - 0s 7ms/step - loss: 2.9573e-04 - accuracy: 1.0000 - val_loss: 0.3477 - val_accuracy: 0.9333\n",
            "Epoch 58/100\n",
            "15/15 [==============================] - 0s 7ms/step - loss: 3.4260e-04 - accuracy: 1.0000 - val_loss: 0.3489 - val_accuracy: 0.9292\n",
            "Epoch 59/100\n",
            "15/15 [==============================] - 0s 6ms/step - loss: 3.1875e-04 - accuracy: 1.0000 - val_loss: 0.3498 - val_accuracy: 0.9292\n",
            "Epoch 60/100\n",
            "15/15 [==============================] - 0s 7ms/step - loss: 3.9757e-04 - accuracy: 1.0000 - val_loss: 0.3500 - val_accuracy: 0.9292\n",
            "Epoch 61/100\n",
            "15/15 [==============================] - 0s 7ms/step - loss: 3.0027e-04 - accuracy: 1.0000 - val_loss: 0.3500 - val_accuracy: 0.9292\n",
            "Epoch 62/100\n",
            "15/15 [==============================] - 0s 7ms/step - loss: 3.1486e-04 - accuracy: 1.0000 - val_loss: 0.3503 - val_accuracy: 0.9292\n",
            "Epoch 63/100\n",
            "15/15 [==============================] - 0s 8ms/step - loss: 2.2271e-04 - accuracy: 1.0000 - val_loss: 0.3517 - val_accuracy: 0.9292\n",
            "Epoch 64/100\n",
            "15/15 [==============================] - 0s 7ms/step - loss: 3.0015e-04 - accuracy: 1.0000 - val_loss: 0.3528 - val_accuracy: 0.9292\n",
            "Epoch 65/100\n",
            "15/15 [==============================] - 0s 7ms/step - loss: 2.2660e-04 - accuracy: 1.0000 - val_loss: 0.3536 - val_accuracy: 0.9292\n",
            "Epoch 66/100\n",
            "15/15 [==============================] - 0s 8ms/step - loss: 2.5307e-04 - accuracy: 1.0000 - val_loss: 0.3517 - val_accuracy: 0.9292\n",
            "Epoch 67/100\n",
            "15/15 [==============================] - 0s 6ms/step - loss: 2.2288e-04 - accuracy: 1.0000 - val_loss: 0.3526 - val_accuracy: 0.9333\n",
            "Epoch 68/100\n",
            "15/15 [==============================] - 0s 6ms/step - loss: 2.1110e-04 - accuracy: 1.0000 - val_loss: 0.3545 - val_accuracy: 0.9333\n",
            "Epoch 69/100\n",
            "15/15 [==============================] - 0s 8ms/step - loss: 2.7118e-04 - accuracy: 1.0000 - val_loss: 0.3594 - val_accuracy: 0.9292\n",
            "Epoch 70/100\n",
            "15/15 [==============================] - 0s 7ms/step - loss: 2.2038e-04 - accuracy: 1.0000 - val_loss: 0.3607 - val_accuracy: 0.9208\n",
            "Epoch 71/100\n",
            "15/15 [==============================] - 0s 8ms/step - loss: 1.8944e-04 - accuracy: 1.0000 - val_loss: 0.3610 - val_accuracy: 0.9208\n",
            "Epoch 72/100\n",
            "15/15 [==============================] - 0s 8ms/step - loss: 1.8707e-04 - accuracy: 1.0000 - val_loss: 0.3614 - val_accuracy: 0.9167\n",
            "Epoch 73/100\n",
            "15/15 [==============================] - 0s 7ms/step - loss: 1.9160e-04 - accuracy: 1.0000 - val_loss: 0.3624 - val_accuracy: 0.9167\n",
            "Epoch 74/100\n",
            "15/15 [==============================] - 0s 7ms/step - loss: 1.6996e-04 - accuracy: 1.0000 - val_loss: 0.3630 - val_accuracy: 0.9167\n",
            "Epoch 75/100\n",
            "15/15 [==============================] - 0s 10ms/step - loss: 1.7281e-04 - accuracy: 1.0000 - val_loss: 0.3636 - val_accuracy: 0.9167\n",
            "Epoch 76/100\n",
            "15/15 [==============================] - 0s 12ms/step - loss: 2.2188e-04 - accuracy: 1.0000 - val_loss: 0.3653 - val_accuracy: 0.9208\n",
            "Epoch 77/100\n",
            "15/15 [==============================] - 0s 9ms/step - loss: 1.8448e-04 - accuracy: 1.0000 - val_loss: 0.3650 - val_accuracy: 0.9167\n",
            "Epoch 78/100\n",
            "15/15 [==============================] - 0s 9ms/step - loss: 1.5644e-04 - accuracy: 1.0000 - val_loss: 0.3659 - val_accuracy: 0.9167\n",
            "Epoch 79/100\n",
            "15/15 [==============================] - 0s 10ms/step - loss: 1.8608e-04 - accuracy: 1.0000 - val_loss: 0.3666 - val_accuracy: 0.9167\n",
            "Epoch 80/100\n",
            "15/15 [==============================] - 0s 8ms/step - loss: 1.7761e-04 - accuracy: 1.0000 - val_loss: 0.3677 - val_accuracy: 0.9208\n",
            "Epoch 81/100\n",
            "15/15 [==============================] - 0s 8ms/step - loss: 1.5222e-04 - accuracy: 1.0000 - val_loss: 0.3685 - val_accuracy: 0.9208\n",
            "Epoch 82/100\n",
            "15/15 [==============================] - 0s 10ms/step - loss: 1.5393e-04 - accuracy: 1.0000 - val_loss: 0.3686 - val_accuracy: 0.9167\n",
            "Epoch 83/100\n",
            "15/15 [==============================] - 0s 9ms/step - loss: 1.4605e-04 - accuracy: 1.0000 - val_loss: 0.3691 - val_accuracy: 0.9167\n",
            "Epoch 84/100\n",
            "15/15 [==============================] - 0s 9ms/step - loss: 1.5189e-04 - accuracy: 1.0000 - val_loss: 0.3709 - val_accuracy: 0.9167\n",
            "Epoch 85/100\n",
            "15/15 [==============================] - 0s 8ms/step - loss: 1.9882e-04 - accuracy: 1.0000 - val_loss: 0.3710 - val_accuracy: 0.9250\n",
            "Epoch 86/100\n",
            "15/15 [==============================] - 0s 7ms/step - loss: 1.4887e-04 - accuracy: 1.0000 - val_loss: 0.3722 - val_accuracy: 0.9250\n",
            "Epoch 87/100\n",
            "15/15 [==============================] - 0s 7ms/step - loss: 1.2756e-04 - accuracy: 1.0000 - val_loss: 0.3723 - val_accuracy: 0.9250\n",
            "Epoch 88/100\n",
            "15/15 [==============================] - 0s 8ms/step - loss: 1.2598e-04 - accuracy: 1.0000 - val_loss: 0.3725 - val_accuracy: 0.9250\n",
            "Epoch 89/100\n",
            "15/15 [==============================] - 0s 6ms/step - loss: 1.2738e-04 - accuracy: 1.0000 - val_loss: 0.3733 - val_accuracy: 0.9250\n",
            "Epoch 90/100\n",
            "15/15 [==============================] - 0s 6ms/step - loss: 1.3795e-04 - accuracy: 1.0000 - val_loss: 0.3724 - val_accuracy: 0.9250\n",
            "Epoch 91/100\n",
            "15/15 [==============================] - 0s 8ms/step - loss: 1.2599e-04 - accuracy: 1.0000 - val_loss: 0.3722 - val_accuracy: 0.9292\n",
            "Epoch 92/100\n",
            "15/15 [==============================] - 0s 7ms/step - loss: 1.4139e-04 - accuracy: 1.0000 - val_loss: 0.3721 - val_accuracy: 0.9292\n",
            "Epoch 93/100\n",
            "15/15 [==============================] - 0s 6ms/step - loss: 1.5354e-04 - accuracy: 1.0000 - val_loss: 0.3720 - val_accuracy: 0.9292\n",
            "Epoch 94/100\n",
            "15/15 [==============================] - 0s 7ms/step - loss: 1.5662e-04 - accuracy: 1.0000 - val_loss: 0.3737 - val_accuracy: 0.9250\n",
            "Epoch 95/100\n",
            "15/15 [==============================] - 0s 7ms/step - loss: 1.3242e-04 - accuracy: 1.0000 - val_loss: 0.3754 - val_accuracy: 0.9208\n",
            "Epoch 96/100\n",
            "15/15 [==============================] - 0s 8ms/step - loss: 1.1750e-04 - accuracy: 1.0000 - val_loss: 0.3766 - val_accuracy: 0.9208\n",
            "Epoch 97/100\n",
            "15/15 [==============================] - 0s 7ms/step - loss: 1.2004e-04 - accuracy: 1.0000 - val_loss: 0.3776 - val_accuracy: 0.9208\n",
            "Epoch 98/100\n",
            "15/15 [==============================] - 0s 7ms/step - loss: 1.0132e-04 - accuracy: 1.0000 - val_loss: 0.3780 - val_accuracy: 0.9250\n",
            "Epoch 99/100\n",
            "15/15 [==============================] - 0s 6ms/step - loss: 1.0250e-04 - accuracy: 1.0000 - val_loss: 0.3777 - val_accuracy: 0.9250\n",
            "Epoch 100/100\n",
            "15/15 [==============================] - 0s 7ms/step - loss: 1.2012e-04 - accuracy: 1.0000 - val_loss: 0.3775 - val_accuracy: 0.9250\n"
          ]
        }
      ],
      "source": [
        "history_batch_norm = model_batch_norm.fit(\n",
        "    x,\n",
        "    y,\n",
        "    batch_size=64,\n",
        "    epochs=100,\n",
        "    validation_split=0.2,\n",
        "    shuffle=True\n",
        ")"
      ]
    },
    {
      "cell_type": "code",
      "execution_count": null,
      "metadata": {
        "scrolled": true,
        "id": "opAKrkjx3OYk",
        "colab": {
          "base_uri": "https://localhost:8080/",
          "height": 528
        },
        "outputId": "2fee37d1-e3dc-4d43-80a4-ef443f30e99b"
      },
      "outputs": [
        {
          "output_type": "display_data",
          "data": {
            "text/plain": [
              "<Figure size 1600x600 with 2 Axes>"
            ],
            "image/png": "[encoded data removed]"
          },
          "metadata": {}
        }
      ],
      "source": [
        "show_loss_accuracy_evolution(history_batch_norm)"
      ]
    },
    {
      "cell_type": "code",
      "execution_count": null,
      "metadata": {
        "id": "fPqtBjeq3OYm",
        "colab": {
          "base_uri": "https://localhost:8080/"
        },
        "outputId": "7dfc5075-7a3d-4995-962b-255a6708bbf9"
      },
      "outputs": [
        {
          "output_type": "stream",
          "name": "stdout",
          "text": [
            "Test Loss: 0.3952188491821289\n",
            "Test Accuracy: 0.9103999733924866\n"
          ]
        }
      ],
      "source": [
        "results = model_batch_norm.evaluate(x_test, y_test, verbose=0)\n",
        "print('Test Loss: {}'.format(results[0]))\n",
        "print('Test Accuracy: {}'.format(results[1]))"
      ]
    },
    {
      "cell_type": "markdown",
      "metadata": {
        "id": "nlDM-dCa3OYm"
      },
      "source": [
        "<a id='l1_l2_elasticnet'></a>\n",
        "## L1, L2 and ElasticNet\n",
        "\n",
        "Recordemos que durante el entrenamiento de la red se aprende la configuración de pesos y biases que permita mejorar los resultados para una determinada función de pérdida.\n",
        "\n",
        "* [L1 regularization](https://developers.google.com/machine-learning/glossary/#L1_regularization), where the cost added is proportional to the absolute value of the weights coefficients (\"L1 norm\" of the weights).\n",
        "\n",
        "```python\n",
        "tf.keras.regularizers.l1(l1=0.01)\n",
        "\n",
        "layers.Dense(3, kernel_regularizer='l1')\n",
        "\n",
        "```\n",
        "\n",
        "\n",
        "* [L2 regularization](https://developers.google.com/machine-learning/glossary/#L2_regularization), where the cost added is proportional to the square of the value of the weights coefficients ( \"L2 norm\" of the weights).\n",
        "\n",
        "```python\n",
        "tf.keras.regularizers.l2(l2=0.01)\n",
        "\n",
        "layers.Dense(3, kernel_regularizer='l2')\n",
        "\n",
        "```\n",
        "* L1_L2 or Elastic Net.\n",
        "\n",
        "```python\n",
        "tf.keras.regularizers.l1_l2(\n",
        "    l1=0.01, l2=0.01\n",
        ")\n",
        "\n",
        "layers.Dense(3, kernel_regularizer='l1_l2')\n",
        "\n",
        "```\n",
        "\n",
        "Furthermore, it is possible to choose whether to include the penalty in the cost function on the weights, the biases or on the activation, with the following arguments:\n",
        "- `kernel_regularizer`: only on weights.\n",
        "- `bias_regularizer`: only on biases.\n",
        "- `activity_regularizer`: on full output.\n",
        "\n",
        "[link to documentation](https://keras.io/api/layers/regularizers/)."
      ]
    },
    {
      "cell_type": "code",
      "execution_count": null,
      "metadata": {
        "id": "EAbNAmxX3OYn"
      },
      "outputs": [],
      "source": [
        "from tensorflow.keras import regularizers"
      ]
    },
    {
      "cell_type": "code",
      "execution_count": null,
      "metadata": {
        "id": "GbXrPxqa3OYn"
      },
      "outputs": [],
      "source": [
        "kerner_regularizer_l1 = regularizers.l1_l2(l1=1e-5, l2=5e-4)\n",
        "kerner_regularizer_l2 = regularizers.l2(5e-4)\n",
        "kerner_regularizer_l3 = regularizers.l1(1e-5)"
      ]
    },
    {
      "cell_type": "code",
      "execution_count": null,
      "metadata": {
        "id": "UNsA0j643OYn"
      },
      "outputs": [],
      "source": [
        "\n",
        "# Input\n",
        "inputs = tf.keras.Input(shape=(28, 28), name='input_layer')\n",
        "# Convert the 2D image to a vector\n",
        "flat = layers.Flatten()(inputs)\n",
        "\n",
        "# hidden layer 1\n",
        "l_1 = layers.Dense(256, activation='relu',\n",
        "                   kernel_regularizer=kerner_regularizer_l1, name='layer_1')(flat)\n",
        "# hidden layer 2\n",
        "l_2 = layers.Dense(128, activation='relu',\n",
        "                   kernel_regularizer=kerner_regularizer_l2, name='layer_2')(l_1)\n",
        "# hidden layer 3\n",
        "l_3 = layers.Dense(128, activation='relu',\n",
        "                   kernel_regularizer=kerner_regularizer_l3, name='layer_3')(l_2)\n",
        "\n",
        "# Outputs\n",
        "outputs = layers.Dense(num_classes, activation='softmax',\n",
        "                       name='output_layer')(l_3)\n",
        "\n",
        "\n",
        "model_regularizers = keras.Model(inputs=inputs,\n",
        "                                 outputs=outputs,\n",
        "                                 name='dont_overfit_model_regularizers')"
      ]
    },
    {
      "cell_type": "code",
      "execution_count": null,
      "metadata": {
        "id": "jr4zca0V3OYn",
        "colab": {
          "base_uri": "https://localhost:8080/"
        },
        "outputId": "f130975d-b5cd-4f83-cae8-263f9fb1885c"
      },
      "outputs": [
        {
          "output_type": "stream",
          "name": "stdout",
          "text": [
            "Model: \"dont_overfit_model_regularizers\"\n",
            "_________________________________________________________________\n",
            " Layer (type)                Output Shape              Param #   \n",
            "=================================================================\n",
            " input_layer (InputLayer)    [(None, 28, 28)]          0         \n",
            "                                                                 \n",
            " flatten_6 (Flatten)         (None, 784)               0         \n",
            "                                                                 \n",
            " layer_1 (Dense)             (None, 256)               200960    \n",
            "                                                                 \n",
            " layer_2 (Dense)             (None, 128)               32896     \n",
            "                                                                 \n",
            " layer_3 (Dense)             (None, 128)               16512     \n",
            "                                                                 \n",
            " output_layer (Dense)        (None, 10)                1290      \n",
            "                                                                 \n",
            "=================================================================\n",
            "Total params: 251658 (983.04 KB)\n",
            "Trainable params: 251658 (983.04 KB)\n",
            "Non-trainable params: 0 (0.00 Byte)\n",
            "_________________________________________________________________\n"
          ]
        }
      ],
      "source": [
        "model_regularizers.summary()"
      ]
    },
    {
      "cell_type": "code",
      "execution_count": null,
      "metadata": {
        "id": "S3lvKJAd3OYn"
      },
      "outputs": [],
      "source": [
        "model_regularizers.compile(optimizer='adam', loss='sparse_categorical_crossentropy', metrics=['accuracy'])"
      ]
    },
    {
      "cell_type": "code",
      "execution_count": null,
      "metadata": {
        "id": "10xmvmdV3OYo",
        "colab": {
          "base_uri": "https://localhost:8080/"
        },
        "outputId": "b678436a-bf51-4a10-ac81-63cfa2332e3a"
      },
      "outputs": [
        {
          "output_type": "stream",
          "name": "stdout",
          "text": [
            "Epoch 1/100\n",
            "15/15 [==============================] - 2s 18ms/step - loss: 2.1706 - accuracy: 0.4969 - val_loss: 1.4431 - val_accuracy: 0.7667\n",
            "Epoch 2/100\n",
            "15/15 [==============================] - 0s 6ms/step - loss: 1.0265 - accuracy: 0.8135 - val_loss: 0.7908 - val_accuracy: 0.8500\n",
            "Epoch 3/100\n",
            "15/15 [==============================] - 0s 7ms/step - loss: 0.6721 - accuracy: 0.8802 - val_loss: 0.6911 - val_accuracy: 0.8792\n",
            "Epoch 4/100\n",
            "15/15 [==============================] - 0s 5ms/step - loss: 0.4960 - accuracy: 0.9385 - val_loss: 0.6373 - val_accuracy: 0.8875\n",
            "Epoch 5/100\n",
            "15/15 [==============================] - 0s 5ms/step - loss: 0.4146 - accuracy: 0.9594 - val_loss: 0.5872 - val_accuracy: 0.9042\n",
            "Epoch 6/100\n",
            "15/15 [==============================] - 0s 6ms/step - loss: 0.3659 - accuracy: 0.9781 - val_loss: 0.6090 - val_accuracy: 0.8958\n",
            "Epoch 7/100\n",
            "15/15 [==============================] - 0s 6ms/step - loss: 0.3249 - accuracy: 0.9885 - val_loss: 0.5741 - val_accuracy: 0.9083\n",
            "Epoch 8/100\n",
            "15/15 [==============================] - 0s 7ms/step - loss: 0.2930 - accuracy: 0.9917 - val_loss: 0.5597 - val_accuracy: 0.8958\n",
            "Epoch 9/100\n",
            "15/15 [==============================] - 0s 6ms/step - loss: 0.2665 - accuracy: 0.9990 - val_loss: 0.5662 - val_accuracy: 0.8875\n",
            "Epoch 10/100\n",
            "15/15 [==============================] - 0s 6ms/step - loss: 0.2537 - accuracy: 0.9990 - val_loss: 0.5478 - val_accuracy: 0.8917\n",
            "Epoch 11/100\n",
            "15/15 [==============================] - 0s 6ms/step - loss: 0.2401 - accuracy: 1.0000 - val_loss: 0.5686 - val_accuracy: 0.8917\n",
            "Epoch 12/100\n",
            "15/15 [==============================] - 0s 6ms/step - loss: 0.2312 - accuracy: 1.0000 - val_loss: 0.5567 - val_accuracy: 0.8917\n",
            "Epoch 13/100\n",
            "15/15 [==============================] - 0s 5ms/step - loss: 0.2232 - accuracy: 1.0000 - val_loss: 0.5542 - val_accuracy: 0.9000\n",
            "Epoch 14/100\n",
            "15/15 [==============================] - 0s 7ms/step - loss: 0.2166 - accuracy: 1.0000 - val_loss: 0.5599 - val_accuracy: 0.8792\n",
            "Epoch 15/100\n",
            "15/15 [==============================] - 0s 6ms/step - loss: 0.2104 - accuracy: 1.0000 - val_loss: 0.5571 - val_accuracy: 0.8833\n",
            "Epoch 16/100\n",
            "15/15 [==============================] - 0s 6ms/step - loss: 0.2051 - accuracy: 1.0000 - val_loss: 0.5592 - val_accuracy: 0.8875\n",
            "Epoch 17/100\n",
            "15/15 [==============================] - 0s 6ms/step - loss: 0.1996 - accuracy: 1.0000 - val_loss: 0.5612 - val_accuracy: 0.8833\n",
            "Epoch 18/100\n",
            "15/15 [==============================] - 0s 6ms/step - loss: 0.1944 - accuracy: 1.0000 - val_loss: 0.5605 - val_accuracy: 0.8833\n",
            "Epoch 19/100\n",
            "15/15 [==============================] - 0s 5ms/step - loss: 0.1897 - accuracy: 1.0000 - val_loss: 0.5441 - val_accuracy: 0.8875\n",
            "Epoch 20/100\n",
            "15/15 [==============================] - 0s 6ms/step - loss: 0.1849 - accuracy: 1.0000 - val_loss: 0.5466 - val_accuracy: 0.8833\n",
            "Epoch 21/100\n",
            "15/15 [==============================] - 0s 6ms/step - loss: 0.1805 - accuracy: 1.0000 - val_loss: 0.5527 - val_accuracy: 0.8833\n",
            "Epoch 22/100\n",
            "15/15 [==============================] - 0s 6ms/step - loss: 0.1762 - accuracy: 1.0000 - val_loss: 0.5389 - val_accuracy: 0.8875\n",
            "Epoch 23/100\n",
            "15/15 [==============================] - 0s 6ms/step - loss: 0.1722 - accuracy: 1.0000 - val_loss: 0.5638 - val_accuracy: 0.8833\n",
            "Epoch 24/100\n",
            "15/15 [==============================] - 0s 7ms/step - loss: 0.1685 - accuracy: 1.0000 - val_loss: 0.5564 - val_accuracy: 0.8875\n",
            "Epoch 25/100\n",
            "15/15 [==============================] - 0s 6ms/step - loss: 0.1643 - accuracy: 1.0000 - val_loss: 0.5372 - val_accuracy: 0.8917\n",
            "Epoch 26/100\n",
            "15/15 [==============================] - 0s 6ms/step - loss: 0.1606 - accuracy: 1.0000 - val_loss: 0.5666 - val_accuracy: 0.8792\n",
            "Epoch 27/100\n",
            "15/15 [==============================] - 0s 7ms/step - loss: 0.1574 - accuracy: 1.0000 - val_loss: 0.5360 - val_accuracy: 0.8875\n",
            "Epoch 28/100\n",
            "15/15 [==============================] - 0s 5ms/step - loss: 0.1537 - accuracy: 1.0000 - val_loss: 0.5330 - val_accuracy: 0.8875\n",
            "Epoch 29/100\n",
            "15/15 [==============================] - 0s 6ms/step - loss: 0.1502 - accuracy: 1.0000 - val_loss: 0.5223 - val_accuracy: 0.9000\n",
            "Epoch 30/100\n",
            "15/15 [==============================] - 0s 7ms/step - loss: 0.1469 - accuracy: 1.0000 - val_loss: 0.5479 - val_accuracy: 0.8833\n",
            "Epoch 31/100\n",
            "15/15 [==============================] - 0s 6ms/step - loss: 0.1441 - accuracy: 1.0000 - val_loss: 0.5512 - val_accuracy: 0.8833\n",
            "Epoch 32/100\n",
            "15/15 [==============================] - 0s 6ms/step - loss: 0.1408 - accuracy: 1.0000 - val_loss: 0.5078 - val_accuracy: 0.8917\n",
            "Epoch 33/100\n",
            "15/15 [==============================] - 0s 7ms/step - loss: 0.1375 - accuracy: 1.0000 - val_loss: 0.5217 - val_accuracy: 0.8917\n",
            "Epoch 34/100\n",
            "15/15 [==============================] - 0s 6ms/step - loss: 0.1344 - accuracy: 1.0000 - val_loss: 0.5222 - val_accuracy: 0.8875\n",
            "Epoch 35/100\n",
            "15/15 [==============================] - 0s 7ms/step - loss: 0.1316 - accuracy: 1.0000 - val_loss: 0.5279 - val_accuracy: 0.8792\n",
            "Epoch 36/100\n",
            "15/15 [==============================] - 0s 7ms/step - loss: 0.1286 - accuracy: 1.0000 - val_loss: 0.5140 - val_accuracy: 0.8917\n",
            "Epoch 37/100\n",
            "15/15 [==============================] - 0s 7ms/step - loss: 0.1259 - accuracy: 1.0000 - val_loss: 0.4871 - val_accuracy: 0.8875\n",
            "Epoch 38/100\n",
            "15/15 [==============================] - 0s 6ms/step - loss: 0.1231 - accuracy: 1.0000 - val_loss: 0.5157 - val_accuracy: 0.8833\n",
            "Epoch 39/100\n",
            "15/15 [==============================] - 0s 7ms/step - loss: 0.1205 - accuracy: 1.0000 - val_loss: 0.5070 - val_accuracy: 0.8875\n",
            "Epoch 40/100\n",
            "15/15 [==============================] - 0s 5ms/step - loss: 0.1180 - accuracy: 1.0000 - val_loss: 0.5001 - val_accuracy: 0.8917\n",
            "Epoch 41/100\n",
            "15/15 [==============================] - 0s 6ms/step - loss: 0.1154 - accuracy: 1.0000 - val_loss: 0.5168 - val_accuracy: 0.8792\n",
            "Epoch 42/100\n",
            "15/15 [==============================] - 0s 6ms/step - loss: 0.1129 - accuracy: 1.0000 - val_loss: 0.5201 - val_accuracy: 0.8875\n",
            "Epoch 43/100\n",
            "15/15 [==============================] - 0s 7ms/step - loss: 0.1107 - accuracy: 1.0000 - val_loss: 0.4975 - val_accuracy: 0.8875\n",
            "Epoch 44/100\n",
            "15/15 [==============================] - 0s 5ms/step - loss: 0.1083 - accuracy: 1.0000 - val_loss: 0.5216 - val_accuracy: 0.8875\n",
            "Epoch 45/100\n",
            "15/15 [==============================] - 0s 5ms/step - loss: 0.1061 - accuracy: 1.0000 - val_loss: 0.5135 - val_accuracy: 0.8792\n",
            "Epoch 46/100\n",
            "15/15 [==============================] - 0s 6ms/step - loss: 0.1037 - accuracy: 1.0000 - val_loss: 0.5124 - val_accuracy: 0.8750\n",
            "Epoch 47/100\n",
            "15/15 [==============================] - 0s 6ms/step - loss: 0.1016 - accuracy: 1.0000 - val_loss: 0.4939 - val_accuracy: 0.8833\n",
            "Epoch 48/100\n",
            "15/15 [==============================] - 0s 6ms/step - loss: 0.0995 - accuracy: 1.0000 - val_loss: 0.4874 - val_accuracy: 0.8875\n",
            "Epoch 49/100\n",
            "15/15 [==============================] - 0s 6ms/step - loss: 0.0973 - accuracy: 1.0000 - val_loss: 0.4983 - val_accuracy: 0.8833\n",
            "Epoch 50/100\n",
            "15/15 [==============================] - 0s 6ms/step - loss: 0.0957 - accuracy: 1.0000 - val_loss: 0.4909 - val_accuracy: 0.8792\n",
            "Epoch 51/100\n",
            "15/15 [==============================] - 0s 6ms/step - loss: 0.0946 - accuracy: 1.0000 - val_loss: 0.4845 - val_accuracy: 0.8917\n",
            "Epoch 52/100\n",
            "15/15 [==============================] - 0s 6ms/step - loss: 0.0922 - accuracy: 1.0000 - val_loss: 0.5092 - val_accuracy: 0.8792\n",
            "Epoch 53/100\n",
            "15/15 [==============================] - 0s 6ms/step - loss: 0.0900 - accuracy: 1.0000 - val_loss: 0.5013 - val_accuracy: 0.8833\n",
            "Epoch 54/100\n",
            "15/15 [==============================] - 0s 6ms/step - loss: 0.0880 - accuracy: 1.0000 - val_loss: 0.4852 - val_accuracy: 0.8875\n",
            "Epoch 55/100\n",
            "15/15 [==============================] - 0s 6ms/step - loss: 0.0866 - accuracy: 1.0000 - val_loss: 0.5001 - val_accuracy: 0.8917\n",
            "Epoch 56/100\n",
            "15/15 [==============================] - 0s 5ms/step - loss: 0.0850 - accuracy: 1.0000 - val_loss: 0.4885 - val_accuracy: 0.8833\n",
            "Epoch 57/100\n",
            "15/15 [==============================] - 0s 6ms/step - loss: 0.0833 - accuracy: 1.0000 - val_loss: 0.4812 - val_accuracy: 0.8833\n",
            "Epoch 58/100\n",
            "15/15 [==============================] - 0s 5ms/step - loss: 0.0818 - accuracy: 1.0000 - val_loss: 0.4841 - val_accuracy: 0.8875\n",
            "Epoch 59/100\n",
            "15/15 [==============================] - 0s 6ms/step - loss: 0.0816 - accuracy: 1.0000 - val_loss: 0.5637 - val_accuracy: 0.8750\n",
            "Epoch 60/100\n",
            "15/15 [==============================] - 0s 5ms/step - loss: 0.0815 - accuracy: 1.0000 - val_loss: 0.5123 - val_accuracy: 0.8958\n",
            "Epoch 61/100\n",
            "15/15 [==============================] - 0s 7ms/step - loss: 0.2377 - accuracy: 0.9521 - val_loss: 0.9500 - val_accuracy: 0.8167\n",
            "Epoch 62/100\n",
            "15/15 [==============================] - 0s 6ms/step - loss: 0.2679 - accuracy: 0.9396 - val_loss: 0.6023 - val_accuracy: 0.8875\n",
            "Epoch 63/100\n",
            "15/15 [==============================] - 0s 6ms/step - loss: 0.1867 - accuracy: 0.9750 - val_loss: 0.6605 - val_accuracy: 0.8542\n",
            "Epoch 64/100\n",
            "15/15 [==============================] - 0s 6ms/step - loss: 0.1725 - accuracy: 0.9781 - val_loss: 0.6967 - val_accuracy: 0.8625\n",
            "Epoch 65/100\n",
            "15/15 [==============================] - 0s 5ms/step - loss: 0.1298 - accuracy: 0.9979 - val_loss: 0.5870 - val_accuracy: 0.8750\n",
            "Epoch 66/100\n",
            "15/15 [==============================] - 0s 6ms/step - loss: 0.1148 - accuracy: 1.0000 - val_loss: 0.5804 - val_accuracy: 0.9042\n",
            "Epoch 67/100\n",
            "15/15 [==============================] - 0s 6ms/step - loss: 0.1087 - accuracy: 1.0000 - val_loss: 0.5561 - val_accuracy: 0.8917\n",
            "Epoch 68/100\n",
            "15/15 [==============================] - 0s 7ms/step - loss: 0.1049 - accuracy: 1.0000 - val_loss: 0.5587 - val_accuracy: 0.8833\n",
            "Epoch 69/100\n",
            "15/15 [==============================] - 0s 6ms/step - loss: 0.1020 - accuracy: 1.0000 - val_loss: 0.5539 - val_accuracy: 0.8875\n",
            "Epoch 70/100\n",
            "15/15 [==============================] - 0s 6ms/step - loss: 0.0993 - accuracy: 1.0000 - val_loss: 0.5483 - val_accuracy: 0.8875\n",
            "Epoch 71/100\n",
            "15/15 [==============================] - 0s 7ms/step - loss: 0.0968 - accuracy: 1.0000 - val_loss: 0.5512 - val_accuracy: 0.8875\n",
            "Epoch 72/100\n",
            "15/15 [==============================] - 0s 6ms/step - loss: 0.0944 - accuracy: 1.0000 - val_loss: 0.5483 - val_accuracy: 0.8875\n",
            "Epoch 73/100\n",
            "15/15 [==============================] - 0s 6ms/step - loss: 0.0923 - accuracy: 1.0000 - val_loss: 0.5528 - val_accuracy: 0.8875\n",
            "Epoch 74/100\n",
            "15/15 [==============================] - 0s 5ms/step - loss: 0.0902 - accuracy: 1.0000 - val_loss: 0.5493 - val_accuracy: 0.8833\n",
            "Epoch 75/100\n",
            "15/15 [==============================] - 0s 5ms/step - loss: 0.0882 - accuracy: 1.0000 - val_loss: 0.5468 - val_accuracy: 0.8792\n",
            "Epoch 76/100\n",
            "15/15 [==============================] - 0s 6ms/step - loss: 0.0864 - accuracy: 1.0000 - val_loss: 0.5453 - val_accuracy: 0.8750\n",
            "Epoch 77/100\n",
            "15/15 [==============================] - 0s 6ms/step - loss: 0.0846 - accuracy: 1.0000 - val_loss: 0.5413 - val_accuracy: 0.8792\n",
            "Epoch 78/100\n",
            "15/15 [==============================] - 0s 6ms/step - loss: 0.0829 - accuracy: 1.0000 - val_loss: 0.5454 - val_accuracy: 0.8833\n",
            "Epoch 79/100\n",
            "15/15 [==============================] - 0s 5ms/step - loss: 0.0813 - accuracy: 1.0000 - val_loss: 0.5454 - val_accuracy: 0.8792\n",
            "Epoch 80/100\n",
            "15/15 [==============================] - 0s 7ms/step - loss: 0.0797 - accuracy: 1.0000 - val_loss: 0.5350 - val_accuracy: 0.8750\n",
            "Epoch 81/100\n",
            "15/15 [==============================] - 0s 6ms/step - loss: 0.0783 - accuracy: 1.0000 - val_loss: 0.5362 - val_accuracy: 0.8750\n",
            "Epoch 82/100\n",
            "15/15 [==============================] - 0s 5ms/step - loss: 0.0768 - accuracy: 1.0000 - val_loss: 0.5352 - val_accuracy: 0.8750\n",
            "Epoch 83/100\n",
            "15/15 [==============================] - 0s 6ms/step - loss: 0.0754 - accuracy: 1.0000 - val_loss: 0.5305 - val_accuracy: 0.8792\n",
            "Epoch 84/100\n",
            "15/15 [==============================] - 0s 6ms/step - loss: 0.0741 - accuracy: 1.0000 - val_loss: 0.5312 - val_accuracy: 0.8792\n",
            "Epoch 85/100\n",
            "15/15 [==============================] - 0s 8ms/step - loss: 0.0729 - accuracy: 1.0000 - val_loss: 0.5216 - val_accuracy: 0.8833\n",
            "Epoch 86/100\n",
            "15/15 [==============================] - 0s 8ms/step - loss: 0.0716 - accuracy: 1.0000 - val_loss: 0.5253 - val_accuracy: 0.8792\n",
            "Epoch 87/100\n",
            "15/15 [==============================] - 0s 9ms/step - loss: 0.0704 - accuracy: 1.0000 - val_loss: 0.5202 - val_accuracy: 0.8792\n",
            "Epoch 88/100\n",
            "15/15 [==============================] - 0s 8ms/step - loss: 0.0693 - accuracy: 1.0000 - val_loss: 0.5168 - val_accuracy: 0.8833\n",
            "Epoch 89/100\n",
            "15/15 [==============================] - 0s 8ms/step - loss: 0.0683 - accuracy: 1.0000 - val_loss: 0.5176 - val_accuracy: 0.8792\n",
            "Epoch 90/100\n",
            "15/15 [==============================] - 0s 9ms/step - loss: 0.0672 - accuracy: 1.0000 - val_loss: 0.5137 - val_accuracy: 0.8792\n",
            "Epoch 91/100\n",
            "15/15 [==============================] - 0s 8ms/step - loss: 0.0661 - accuracy: 1.0000 - val_loss: 0.5028 - val_accuracy: 0.8833\n",
            "Epoch 92/100\n",
            "15/15 [==============================] - 0s 9ms/step - loss: 0.0652 - accuracy: 1.0000 - val_loss: 0.5100 - val_accuracy: 0.8792\n",
            "Epoch 93/100\n",
            "15/15 [==============================] - 0s 9ms/step - loss: 0.0642 - accuracy: 1.0000 - val_loss: 0.5021 - val_accuracy: 0.8792\n",
            "Epoch 94/100\n",
            "15/15 [==============================] - 0s 8ms/step - loss: 0.0633 - accuracy: 1.0000 - val_loss: 0.4970 - val_accuracy: 0.8750\n",
            "Epoch 95/100\n",
            "15/15 [==============================] - 0s 8ms/step - loss: 0.0624 - accuracy: 1.0000 - val_loss: 0.5058 - val_accuracy: 0.8750\n",
            "Epoch 96/100\n",
            "15/15 [==============================] - 0s 9ms/step - loss: 0.0616 - accuracy: 1.0000 - val_loss: 0.4982 - val_accuracy: 0.8750\n",
            "Epoch 97/100\n",
            "15/15 [==============================] - 0s 8ms/step - loss: 0.0607 - accuracy: 1.0000 - val_loss: 0.4960 - val_accuracy: 0.8750\n",
            "Epoch 98/100\n",
            "15/15 [==============================] - 0s 5ms/step - loss: 0.0600 - accuracy: 1.0000 - val_loss: 0.4782 - val_accuracy: 0.8750\n",
            "Epoch 99/100\n",
            "15/15 [==============================] - 0s 7ms/step - loss: 0.0592 - accuracy: 1.0000 - val_loss: 0.4997 - val_accuracy: 0.8750\n",
            "Epoch 100/100\n",
            "15/15 [==============================] - 0s 6ms/step - loss: 0.0584 - accuracy: 1.0000 - val_loss: 0.4853 - val_accuracy: 0.8750\n"
          ]
        }
      ],
      "source": [
        "history_regularizers = model_regularizers.fit(\n",
        "    x,\n",
        "    y,\n",
        "    batch_size=64,\n",
        "    epochs=100,\n",
        "    validation_split=0.2,\n",
        "    shuffle=True\n",
        ")"
      ]
    },
    {
      "cell_type": "markdown",
      "metadata": {
        "id": "kIvaheyQ3OYo"
      },
      "source": [
        "Lets compare the weights norms of the model without regularization and with regularization."
      ]
    },
    {
      "cell_type": "code",
      "execution_count": null,
      "metadata": {
        "id": "QwhxqPG03OYo",
        "colab": {
          "base_uri": "https://localhost:8080/"
        },
        "outputId": "150ac681-e193-4dae-8d67-cb6db94e73d7"
      },
      "outputs": [
        {
          "output_type": "stream",
          "name": "stdout",
          "text": [
            "L2 norm layer_1 weights: 22.35462748777504, shape:(784, 256), sparsity:0.0\n",
            "L2 norm layer_2 weights: 14.847956846306014, shape:(256, 128), sparsity:0.0\n",
            "L2 norm layer_3 weights: 12.514636816286547, shape:(128, 128), sparsity:0.0\n"
          ]
        }
      ],
      "source": [
        "for ly in model.layers:\n",
        "    if 'layer_' in ly.name:\n",
        "        W, b = ly.get_weights()\n",
        "        l2_norm = np.sum(W**2)**0.5\n",
        "        zero_elems = len(W[np.abs(W) < 1e-14])\n",
        "        sparsity = zero_elems / np.prod(W.shape)\n",
        "        sparsity = np.round(100 * sparsity, 2)\n",
        "        print('L2 norm {0} weights: {1}, shape:{2}, sparsity:{3}'.format(\n",
        "            ly.name, l2_norm, W.shape,sparsity))"
      ]
    },
    {
      "cell_type": "code",
      "execution_count": null,
      "metadata": {
        "id": "5Mpda7Rd3OYo",
        "colab": {
          "base_uri": "https://localhost:8080/"
        },
        "outputId": "6472820a-3f18-4371-8286-95274a6d0aa9"
      },
      "outputs": [
        {
          "output_type": "stream",
          "name": "stdout",
          "text": [
            "L2 norm layer_1 weights: 5.515832826843254, shape:(784, 256), sparsity:0.0\n",
            "L2 norm layer_2 weights: 6.229506195239189, shape:(256, 128), sparsity:8.58\n",
            "L2 norm layer_3 weights: 11.263912837991734, shape:(128, 128), sparsity:0.0\n"
          ]
        }
      ],
      "source": [
        "for ly in model_regularizers.layers:\n",
        "    if 'layer_' in ly.name:\n",
        "        W, b = ly.get_weights()\n",
        "        l2_norm = np.sum(W**2)**0.5\n",
        "        zero_elems = len(W[np.abs(W) < 1e-14])\n",
        "        sparsity = zero_elems / np.prod(W.shape)\n",
        "        sparsity = np.round(100 * sparsity, 2)\n",
        "        print('L2 norm {0} weights: {1}, shape:{2}, sparsity:{3}'.format(\n",
        "            ly.name, l2_norm, W.shape,sparsity))"
      ]
    },
    {
      "cell_type": "code",
      "execution_count": null,
      "metadata": {
        "id": "cwuiXWtN3OYo",
        "colab": {
          "base_uri": "https://localhost:8080/"
        },
        "outputId": "5a0a3efa-01a1-45f2-9e3d-b7358c189fe5"
      },
      "outputs": [
        {
          "output_type": "stream",
          "name": "stdout",
          "text": [
            "L2 norm layer_1 weights: 20.001322893260554, shape:(784, 256), sparsity:0.0\n",
            "L2 norm layer_2 weights: 13.112509751657182, shape:(256, 128), sparsity:0.0\n",
            "L2 norm layer_3 weights: 12.335154493436761, shape:(128, 128), sparsity:0.0\n"
          ]
        }
      ],
      "source": [
        "for ly in model_batch_norm.layers:\n",
        "    if 'layer_' in ly.name:\n",
        "        W, b = ly.get_weights()\n",
        "        l2_norm = np.sum(W**2)**0.5\n",
        "        zero_elems = len(W[np.abs(W) < 1e-14])\n",
        "        sparsity = zero_elems / np.prod(W.shape)\n",
        "        sparsity = np.round(100 * sparsity, 2)\n",
        "        print('L2 norm {0} weights: {1}, shape:{2}, sparsity:{3}'.format(\n",
        "            ly.name, l2_norm, W.shape,sparsity))"
      ]
    },
    {
      "cell_type": "code",
      "execution_count": null,
      "metadata": {
        "scrolled": true,
        "id": "_5_UxN3G3OYp",
        "colab": {
          "base_uri": "https://localhost:8080/",
          "height": 531
        },
        "outputId": "615785a3-19ed-417f-c9ec-7357412c8b82"
      },
      "outputs": [
        {
          "output_type": "display_data",
          "data": {
            "text/plain": [
              "<Figure size 1600x600 with 2 Axes>"
            ],
            "image/png": "[encoded data removed]"
          },
          "metadata": {}
        }
      ],
      "source": [
        "show_loss_accuracy_evolution(history_regularizers)"
      ]
    },
    {
      "cell_type": "code",
      "execution_count": null,
      "metadata": {
        "id": "hSDWsxL03OYp",
        "colab": {
          "base_uri": "https://localhost:8080/"
        },
        "outputId": "8e0f5077-111c-4a2e-d5b2-15dab8730cf5"
      },
      "outputs": [
        {
          "output_type": "stream",
          "name": "stdout",
          "text": [
            "Test Loss: 0.488131582736969\n",
            "Test Accuracy: 0.9004999995231628\n"
          ]
        }
      ],
      "source": [
        "results = model_regularizers.evaluate(x_test, y_test, verbose=0)\n",
        "print('Test Loss: {}'.format(results[0]))\n",
        "print('Test Accuracy: {}'.format(results[1]))"
      ]
    },
    {
      "cell_type": "markdown",
      "metadata": {
        "id": "iqX1zVzc3OYq"
      },
      "source": [
        "### Question 3:\n",
        "#### What happens if you change the regularizers?\n"
      ]
    },
    {
      "cell_type": "code",
      "execution_count": null,
      "metadata": {
        "id": "YTO9REa83OYq"
      },
      "outputs": [],
      "source": []
    },
    {
      "cell_type": "markdown",
      "metadata": {
        "id": "-jVecDe93OYq"
      },
      "source": [
        "## Combine L2 Regularization and Dropout\n",
        "\n",
        "Use L2:\n",
        "```python\n",
        "kerner_regularizer_l2 = regularizers.l2(5e-4)\n",
        "```\n",
        "And Dropout:\n",
        "\n",
        "```python\n",
        "next_layer = layers.Dropout(0.4)(prev_layer)\n",
        "```"
      ]
    },
    {
      "cell_type": "code",
      "execution_count": null,
      "metadata": {
        "id": "v6UnozT63OYq"
      },
      "outputs": [],
      "source": [
        "kerner_regularizer_l2 = ..."
      ]
    },
    {
      "cell_type": "code",
      "execution_count": null,
      "metadata": {
        "id": "tppm0Evq3OYr",
        "colab": {
          "base_uri": "https://localhost:8080/",
          "height": 144
        },
        "outputId": "5188af27-4056-426a-a9e3-e38d9f8bf016"
      },
      "outputs": [
        {
          "output_type": "error",
          "ename": "SyntaxError",
          "evalue": "ignored",
          "traceback": [
            "\u001b[0;36m  File \u001b[0;32m\"<ipython-input-56-0efa11246e5a>\"\u001b[0;36m, line \u001b[0;32m4\u001b[0m\n\u001b[0;31m    flat = layers....()(inputs)\u001b[0m\n\u001b[0m                 ^\u001b[0m\n\u001b[0;31mSyntaxError\u001b[0m\u001b[0;31m:\u001b[0m invalid syntax\n"
          ]
        }
      ],
      "source": [
        "inputs = tf.keras.Input(shape=(..., ), name='input_layer')\n",
        "\n",
        "# Convert the 2D image to a vector\n",
        "flat = layers....()(inputs)\n",
        "\n",
        "\n",
        "# Add L2-normalization\n",
        "l_1 = layers.Dense(128, activation='relu',\n",
        "                   kernel_regularizer=...,\n",
        "                   name='layer_1')(flat)\n",
        "\n",
        "# Add dropout\n",
        "l_1 = ...(l_1)\n",
        "\n",
        "\n",
        "# Add L2-normalization\n",
        "l_2 = layers.Dense(64,\n",
        "                   activation='relu',\n",
        "                   kernel_regularizer=...,\n",
        "                   name='layer_2')(l_1)\n",
        "# Add dropout\n",
        "l_2 = ...(l_2)\n",
        "\n",
        "\n",
        "# Add L2-normalization\n",
        "l_3 = layers.Dense(32,\n",
        "                   activation='relu',\n",
        "                   kernel_regularizer=...,\n",
        "                   name='layer_3')(l_2)\n",
        "\n",
        "# Add dropout\n",
        "l_3 = ...(l_3)\n",
        "\n",
        "\n",
        "outputs = layers.Dense(..., activation=...,\n",
        "                       name='output_layer')(l_3)\n",
        "\n",
        "model_combination = keras.Model(inputs=inputs,\n",
        "                                 outputs=outputs,\n",
        "                                 name='dont_overfit_model_regularizers')"
      ]
    },
    {
      "cell_type": "code",
      "execution_count": null,
      "metadata": {
        "id": "biU4LJZf3OYr"
      },
      "outputs": [],
      "source": [
        "model_combination.compile(\n",
        "    optimizer='adam', loss='sparse_categorical_crossentropy', metrics=['accuracy']\n",
        ")"
      ]
    },
    {
      "cell_type": "code",
      "execution_count": null,
      "metadata": {
        "id": "WjR9ew203OYr"
      },
      "outputs": [],
      "source": [
        "history_combination = model_combination.fit(\n",
        "    x,\n",
        "    y,\n",
        "    batch_size=64,\n",
        "    epochs=100,\n",
        "    validation_split=0.2,\n",
        "    shuffle=True\n",
        ")"
      ]
    },
    {
      "cell_type": "code",
      "execution_count": null,
      "metadata": {
        "id": "k3ZN5y3H3OYr"
      },
      "outputs": [],
      "source": [
        "show_loss_accuracy_evolution(history_combination)"
      ]
    },
    {
      "cell_type": "code",
      "execution_count": null,
      "metadata": {
        "id": "-Wh5F3ax3OYr"
      },
      "outputs": [],
      "source": [
        "results = model_combination.evaluate(x_test, y_test, verbose=0)\n",
        "print('Test Loss: {}'.format(results[0]))\n",
        "print('Test Accuracy: {}'.format(results[1]))"
      ]
    },
    {
      "cell_type": "markdown",
      "metadata": {
        "id": "QmU0JxNh3OYs"
      },
      "source": [
        "## Noise injection\n",
        "\n",
        "Apply additive zero-mean Gaussian noise.\n",
        "\n",
        "With Functional API:\n",
        "```python\n",
        "next_layer = layers.GaussianNoise(stddev)(prev_layer)\n",
        "```\n",
        "With Sequential:\n",
        "```python\n",
        "model.add(layers.GaussianNoise(stddev)())\n",
        "```"
      ]
    },
    {
      "cell_type": "code",
      "execution_count": null,
      "metadata": {
        "id": "hdRQfUGL3OYs"
      },
      "outputs": [],
      "source": [
        "stddev = 2\n",
        "\n",
        "# Input\n",
        "inputs = tf.keras.Input(shape=(28,28), name='input_layer')\n",
        "# Convert the 2D image to a vector\n",
        "flat = layers.Flatten()(inputs)\n",
        "\n",
        "# hidden layer 1\n",
        "l_1 = layers.Dense(256, activation='relu', name='layer_1')(flat)\n",
        "l_1 = layers.GaussianNoise(stddev, name='noise_l1')(l_1)\n",
        "# hidden layer 2\n",
        "l_2 = layers.Dense(128, activation='relu', name='layer_2')(l_1)\n",
        "l_2 = layers.GaussianNoise(stddev, name='noise_l2')(l_2)\n",
        "# hidden layer 3\n",
        "l_3 = layers.Dense(128, activation='relu', name='layer_3')(l_2)\n",
        "l_3 = layers.GaussianNoise(stddev, name='noise_l3')(l_3)\n",
        "\n",
        "# Outputs\n",
        "outputs = layers.Dense(num_classes, activation='softmax', name='output_layer')(l_3)\n",
        "\n",
        "model_noise = keras.Model(inputs=inputs, outputs=outputs, name='dont_overfit_model_noise')"
      ]
    },
    {
      "cell_type": "code",
      "execution_count": null,
      "metadata": {
        "scrolled": true,
        "id": "fkEXUHb33OYs"
      },
      "outputs": [],
      "source": [
        "model_noise.summary()"
      ]
    },
    {
      "cell_type": "code",
      "execution_count": null,
      "metadata": {
        "id": "7BfQH4nj3OYs"
      },
      "outputs": [],
      "source": [
        "model_noise.compile(\n",
        "    optimizer='adam', loss='sparse_categorical_crossentropy', metrics=['accuracy'])"
      ]
    },
    {
      "cell_type": "code",
      "execution_count": null,
      "metadata": {
        "id": "Kd-2dp-F3OYs"
      },
      "outputs": [],
      "source": [
        "history_noise = model_noise.fit(\n",
        "    x,\n",
        "    y,\n",
        "    batch_size=64,\n",
        "    epochs=100,\n",
        "    validation_split=0.2,\n",
        "    shuffle=True\n",
        ")"
      ]
    },
    {
      "cell_type": "code",
      "execution_count": null,
      "metadata": {
        "scrolled": true,
        "id": "bVKHt0ye3OYt"
      },
      "outputs": [],
      "source": [
        "show_loss_accuracy_evolution(history_noise)"
      ]
    },
    {
      "cell_type": "code",
      "execution_count": null,
      "metadata": {
        "id": "-ST_waVY3OYt"
      },
      "outputs": [],
      "source": [
        "results = model_noise.evaluate(x_test, y_test, verbose=0)\n",
        "print('Test Loss: {}'.format(results[0]))\n",
        "print('Test Accuracy: {}'.format(results[1]))"
      ]
    },
    {
      "cell_type": "markdown",
      "metadata": {
        "id": "jjMmAvbn3OYt"
      },
      "source": [
        "<a id='early_stopping'></a>\n",
        "## Early Stopping\n",
        "\n",
        "Another of the most used techniques in neural network training is **early stopping**. It basically consists of stopping the training process in an Epoch prior to the one defined in the compilation.\n",
        "\n",
        "This, in addition to resulting in a model with less overfitting, saves unnecessary computation time.\n",
        "\n",
        "To do this, we can use the [Keras callbacks](https://keras.io/api/callbacks/), objects that perform actions at different times during training. Specifically, we will make use of [`EarlyStopping`](https://keras.io/api/callbacks/early_stopping/).\n",
        "\n",
        "```python\n",
        "tf.keras.callbacks.EarlyStopping(\n",
        "    monitor=\"val_loss\",\n",
        "    min_delta=0,\n",
        "    patience=0,\n",
        "    restore_best_weights=False,\n",
        "    verbose=0,\n",
        ")\n",
        "```\n",
        "\n",
        "- **monitor**: Quantity to be monitored. Depending on the evolution, it will be decided to stop training.\n",
        "\n",
        "- **min_delta**: Minimum change in the monitored quantity to qualify as an improvement, i.e. an absolute change of less than min_delta, will count as no improvement.\n",
        "\n",
        "- **patience**: Number of epochs with no improvement after which training will be stopped.\n",
        "\n",
        "- **restor_best_weights**: Whether to restore model weights from the epoch with the best value of the monitored quantity\n",
        "\n",
        "- **verbose**: verbosity mode.\n",
        "\n",
        "There are other callbacks that can be very useful such as:\n",
        "- [`ModelCheckpoint`](https://keras.io/api/callbacks/model_checkpoint/), which allows storing the state of a model at different times of training. This is very useful in trainings that can take hours or days.\n",
        "- [`TensorBoard`](https://keras.io/api/callbacks/tensorboard/), which allows the use of [TensorBoard](https://www.tensorflow.org/tensorboard?hl=es-419), framework TensorFlow for visualizing metrics and evaluating models."
      ]
    },
    {
      "cell_type": "code",
      "execution_count": null,
      "metadata": {
        "id": "k6zeKAEN3OYt"
      },
      "outputs": [],
      "source": [
        "es_callback = keras.callbacks.EarlyStopping(\n",
        "    monitor='val_loss',  # can be 'val_accuracy'\n",
        "    patience=5,  # if during 5 epochs there is no improvement in `val_loss`, the execution will stop\n",
        "    restore_best_weights=True,\n",
        "    verbose=1)"
      ]
    },
    {
      "cell_type": "markdown",
      "metadata": {
        "id": "D2rA89iF3OYt"
      },
      "source": [
        "Lets create the same model:"
      ]
    },
    {
      "cell_type": "code",
      "execution_count": null,
      "metadata": {
        "id": "v85E5eS43OYu"
      },
      "outputs": [],
      "source": [
        "# Input\n",
        "inputs = tf.keras.Input(shape=(28,28), name='input_layer')\n",
        "# Convert the 2D image to a vector\n",
        "flat = layers.Flatten()(inputs)\n",
        "\n",
        "# hidden layer 1\n",
        "l_1 = layers.Dense(256, activation='relu', name='layer_1')(flat)\n",
        "# hidden layer 2\n",
        "l_2 = layers.Dense(128, activation='relu', name='layer_2')(l_1)\n",
        "# hidden layer 3\n",
        "l_3 = layers.Dense(128, activation='relu', name='layer_3')(l_2)\n",
        "\n",
        "# Outputs\n",
        "outputs = layers.Dense(num_classes, activation='softmax', name='output_layer')(l_3)\n",
        "\n",
        "model_early_stopping = keras.Model(inputs=inputs, outputs=outputs, name='dont_overfit_model_early_stopping')"
      ]
    },
    {
      "cell_type": "code",
      "execution_count": null,
      "metadata": {
        "id": "1MQYj5Dm3OYu"
      },
      "outputs": [],
      "source": [
        "model_early_stopping.summary()"
      ]
    },
    {
      "cell_type": "code",
      "execution_count": null,
      "metadata": {
        "id": "6E61RKXr3OYu"
      },
      "outputs": [],
      "source": [
        "model_early_stopping.compile(optimizer='adam',\n",
        "                             loss='sparse_categorical_crossentropy',\n",
        "                             metrics=['accuracy'])"
      ]
    },
    {
      "cell_type": "code",
      "execution_count": null,
      "metadata": {
        "scrolled": true,
        "id": "YkfU5lZv3OYu"
      },
      "outputs": [],
      "source": [
        "history_early_stopping = model_early_stopping.fit(\n",
        "    x,\n",
        "    y,\n",
        "    batch_size=64,\n",
        "    epochs=100,\n",
        "    validation_split=0.2,\n",
        "    shuffle=True,\n",
        "    callbacks=[es_callback]\n",
        ")"
      ]
    },
    {
      "cell_type": "code",
      "execution_count": null,
      "metadata": {
        "id": "MNF5NU2X3OYu"
      },
      "outputs": [],
      "source": [
        "show_loss_accuracy_evolution(history_early_stopping)"
      ]
    },
    {
      "cell_type": "code",
      "execution_count": null,
      "metadata": {
        "id": "8rhoc1-43OYv"
      },
      "outputs": [],
      "source": [
        "results = model_early_stopping.evaluate(x_test, y_test, verbose=0)\n",
        "print('Test Loss: {}'.format(results[0]))\n",
        "print('Test Accuracy: {}'.format(results[1]))"
      ]
    },
    {
      "cell_type": "markdown",
      "source": [
        "<a id='learning_rate'></a>\n",
        "## Adjusting the learning of learning\n",
        "\n",
        "By adjusting the learning rate we can obtain better results and avoid falling into local minimums.\n",
        "\n",
        "```python\n",
        "keras.optimizers.Adam(learning_rate=0.001)\n",
        "```\n",
        "\n",
        "We can use alsa `SGD` optimizer or any other optimizer."
      ],
      "metadata": {
        "id": "sCeFGv0bIQUW"
      }
    },
    {
      "cell_type": "code",
      "source": [
        "# Input\n",
        "inputs = tf.keras.Input(shape=(28,28), name='input_layer')\n",
        "# Convert the 2D image to a vector\n",
        "flat = layers.Flatten()(inputs)\n",
        "\n",
        "# hidden layer 1\n",
        "l_1 = layers.Dense(256, activation='relu', name='layer_1')(flat)\n",
        "# hidden layer 2\n",
        "l_2 = layers.Dense(128, activation='relu', name='layer_2')(l_1)\n",
        "# hidden layer 3\n",
        "l_3 = layers.Dense(128, activation='relu', name='layer_3')(l_2)\n",
        "\n",
        "# Outputs\n",
        "outputs = layers.Dense(num_classes, activation='softmax', name='output_layer')(l_3)\n",
        "\n",
        "model_learning_rate = keras.Model(inputs=inputs, outputs=outputs, name='dont_overfit_model_learning_rate')"
      ],
      "metadata": {
        "id": "H2SkAholIPtN"
      },
      "execution_count": null,
      "outputs": []
    },
    {
      "cell_type": "code",
      "source": [
        "model_learning_rate.compile(optimizer=keras.optimizers.Adam(learning_rate=0.0003),\n",
        "                             loss='sparse_categorical_crossentropy',\n",
        "                             metrics=['accuracy'])"
      ],
      "metadata": {
        "id": "HHz2FWwnLerl"
      },
      "execution_count": null,
      "outputs": []
    },
    {
      "cell_type": "code",
      "source": [
        "history_learning_rate = model_learning_rate.fit(\n",
        "    x,\n",
        "    y,\n",
        "    batch_size=64,\n",
        "    epochs=100,\n",
        "    validation_split=0.2,\n",
        "    shuffle=True,\n",
        ")"
      ],
      "metadata": {
        "id": "dNf1aygMLuu_"
      },
      "execution_count": null,
      "outputs": []
    },
    {
      "cell_type": "code",
      "source": [
        "show_loss_accuracy_evolution(history_learning_rate)"
      ],
      "metadata": {
        "id": "5AfgOlfoLxMp"
      },
      "execution_count": null,
      "outputs": []
    },
    {
      "cell_type": "code",
      "source": [
        "results = model_learning_rate.evaluate(x_test, y_test, verbose=0)\n",
        "print('Test Loss: {}'.format(results[0]))\n",
        "print('Test Accuracy: {}'.format(results[1]))"
      ],
      "metadata": {
        "id": "b9mECyL_LxwA"
      },
      "execution_count": null,
      "outputs": []
    },
    {
      "cell_type": "markdown",
      "source": [
        "<a id='weight_decay'></a>\n",
        "## Weight decay\n",
        "\n",
        "By adding a penalty to the loss function through weight decay, we allow the network to be optimized while its weights do not increase too much.\n",
        "\n",
        "```python\n",
        "keras.optimizers.Adam(weight_decay=None)\n",
        "```\n",
        "\n",
        "We can use alsa `SGD` optimizer or any other optimizer.\n"
      ],
      "metadata": {
        "id": "ngGzHwCXL-bS"
      }
    },
    {
      "cell_type": "code",
      "source": [
        "# Input\n",
        "inputs = tf.keras.Input(shape=(28,28), name='input_layer')\n",
        "# Convert the 2D image to a vector\n",
        "flat = layers.Flatten()(inputs)\n",
        "\n",
        "# hidden layer 1\n",
        "l_1 = layers.Dense(256, activation='relu', name='layer_1')(flat)\n",
        "# hidden layer 2\n",
        "l_2 = layers.Dense(128, activation='relu', name='layer_2')(l_1)\n",
        "# hidden layer 3\n",
        "l_3 = layers.Dense(128, activation='relu', name='layer_3')(l_2)\n",
        "\n",
        "# Outputs\n",
        "outputs = layers.Dense(num_classes, activation='softmax', name='output_layer')(l_3)\n",
        "\n",
        "model_weight_decay = keras.Model(inputs=inputs, outputs=outputs, name='dont_overfit_model_weight_decay')"
      ],
      "metadata": {
        "id": "Jq8PHHt6L8M0"
      },
      "execution_count": null,
      "outputs": []
    },
    {
      "cell_type": "code",
      "source": [
        "model_weight_decay.compile(optimizer=keras.optimizers.Adam(weight_decay=1e-4),\n",
        "                           loss='sparse_categorical_crossentropy',\n",
        "                           metrics=['accuracy'])"
      ],
      "metadata": {
        "id": "LTl-0xpmMhx4"
      },
      "execution_count": null,
      "outputs": []
    },
    {
      "cell_type": "code",
      "source": [
        "history_weight_decay = model_weight_decay.fit(\n",
        "    x,\n",
        "    y,\n",
        "    batch_size=64,\n",
        "    epochs=100,\n",
        "    validation_split=0.2,\n",
        "    shuffle=True,\n",
        ")"
      ],
      "metadata": {
        "id": "ayu54ECOMoOA"
      },
      "execution_count": null,
      "outputs": []
    },
    {
      "cell_type": "code",
      "source": [
        "show_loss_accuracy_evolution(history_weight_decay)"
      ],
      "metadata": {
        "id": "Ow6e-IiEMqU7"
      },
      "execution_count": null,
      "outputs": []
    },
    {
      "cell_type": "code",
      "source": [
        "results = model_weight_decay.evaluate(x_test, y_test, verbose=0)\n",
        "print('Test Loss: {}'.format(results[0]))\n",
        "print('Test Accuracy: {}'.format(results[1]))"
      ],
      "metadata": {
        "id": "fisU3yB2Mr5R"
      },
      "execution_count": null,
      "outputs": []
    },
    {
      "cell_type": "markdown",
      "metadata": {
        "id": "jAR4CniU3OYv"
      },
      "source": [
        "<a id='tensorboard'></a>\n",
        "# TensorBoard\n",
        "\n",
        "\n",
        "\n",
        "[TensorBoard](https://www.tensorflow.org/tensorboard) is a set of TensorFlow tools that allows us to represent the evolution and results of the training.\n",
        "\n",
        "In order to introduce this tool, the following is a notebook from the [TensorFlow tutorial on TensorBoard](https://www.tensorflow.org/tensorboard/get_started)."
      ]
    },
    {
      "cell_type": "markdown",
      "metadata": {
        "id": "VMaG5BMB3OYv"
      },
      "source": [
        "Load TensorBoard notebook extension."
      ]
    },
    {
      "cell_type": "code",
      "execution_count": null,
      "metadata": {
        "id": "hiYjZktN3OYv"
      },
      "outputs": [],
      "source": [
        "%load_ext tensorboard"
      ]
    },
    {
      "cell_type": "code",
      "execution_count": null,
      "metadata": {
        "id": "3EC4m0AR3OYv"
      },
      "outputs": [],
      "source": [
        "import tensorflow as tf\n",
        "import datetime"
      ]
    },
    {
      "cell_type": "markdown",
      "metadata": {
        "id": "mjR2aASs3OYv"
      },
      "source": [
        "\n",
        "We build the model. The input layer will have a dimension of `28x28`. The output layer, in a multiclass classification problem with 10 possible classes, will be made up of 10 neurons with [softmax activation function](https://keras.io/api/layers/activations/#softmax-function ).\n"
      ]
    },
    {
      "cell_type": "code",
      "execution_count": null,
      "metadata": {
        "id": "bB2q74T33OYv"
      },
      "outputs": [],
      "source": [
        "kernel_regularizer_l2 = keras.regularizers.l2(5e-4)\n",
        "\n",
        "model = tf.keras.models.Sequential(name=\"tensorboard_model\")\n",
        "model.add(layers.Flatten(input_shape=(28, 28)))\n",
        "\n",
        "# Hidden Layer + regularization\n",
        "model.add(layers.Dense(64, activation='relu', name='layer_1'))\n",
        "model.add(layers.Dense(64, activation='relu',\n",
        "                       kernel_regularizer=kernel_regularizer_l2, name='layer_2'))\n",
        "# output layer\n",
        "model.add(layers.Dense(10, activation='softmax', name='output_layer'))"
      ]
    },
    {
      "cell_type": "code",
      "execution_count": null,
      "metadata": {
        "id": "L7e6SMP83OYw"
      },
      "outputs": [],
      "source": [
        "model.compile(\n",
        "    optimizer='adam',\n",
        "    loss='sparse_categorical_crossentropy',\n",
        "    metrics=['accuracy']\n",
        ")"
      ]
    },
    {
      "cell_type": "markdown",
      "metadata": {
        "id": "TSRRt6sb3OYw"
      },
      "source": [
        "In the [example with early stopping](#early_stopping) the Keras callbacks were presented. To use TensorBoard we will need to include the [`TensorBoard` callback](https://www.tensorflow.org/api_docs/python/tf/keras/callbacks/TensorBoard) to the training.\n",
        "\n",
        "This callback will create and store the logs in the directory that we indicate.\n",
        "\n",
        "By default it will create a directory called \"logs\" in the directory where this notebook is running."
      ]
    },
    {
      "cell_type": "code",
      "execution_count": null,
      "metadata": {
        "id": "7IR8KnWU3OYw"
      },
      "outputs": [],
      "source": [
        "log_dir = 'logs/fit/' + datetime.datetime.now().strftime('%Y%m%d-%H%M%S')"
      ]
    },
    {
      "cell_type": "code",
      "execution_count": null,
      "metadata": {
        "id": "jur7vrqP3OYw"
      },
      "outputs": [],
      "source": [
        "tensorboard_callback = tf.keras.callbacks.TensorBoard(log_dir=log_dir, histogram_freq=1)"
      ]
    },
    {
      "cell_type": "code",
      "execution_count": null,
      "metadata": {
        "id": "qWJgOunk3OYw"
      },
      "outputs": [],
      "source": [
        "es_callback = keras.callbacks.EarlyStopping(\n",
        "    monitor='val_loss',  # can be 'val_accuracy'\n",
        "    patience=10,  # if during 10 epochs there is no improvement in `val_loss`, the execution will stop\n",
        "    restore_best_weights=True,\n",
        "    verbose=1)"
      ]
    },
    {
      "cell_type": "markdown",
      "metadata": {
        "id": "aa1UqhwG3OYw"
      },
      "source": [
        "Train the model"
      ]
    },
    {
      "cell_type": "code",
      "execution_count": null,
      "metadata": {
        "id": "oUYKIxDC3OYw"
      },
      "outputs": [],
      "source": [
        "model.fit(\n",
        "    x=x_train,\n",
        "    y=y_train,\n",
        "    epochs=20,\n",
        "    validation_split=0.2,\n",
        "    batch_size=32,\n",
        "    callbacks=[tensorboard_callback, es_callback]\n",
        ")"
      ]
    },
    {
      "cell_type": "code",
      "execution_count": null,
      "metadata": {
        "id": "epaDYV-t3OYx"
      },
      "outputs": [],
      "source": [
        "results = model.evaluate(x_test, y_test, verbose=0)\n",
        "print('Test Loss: {}'.format(results[0]))\n",
        "print('Test Accuracy: {}'.format(results[1]))"
      ]
    },
    {
      "cell_type": "markdown",
      "metadata": {
        "id": "25LQMlmu3OYx"
      },
      "source": [
        "To ** start TensorBoard ** we can execute the following cell or, from the command line, execute:\n",
        "\n",
        "    tensorboard --logdir logs / fit\n",
        "\n",
        "An application will be launched that will be listening by default on port 6006. It is possible to use TensorBoard by opening [localhost: 6006 /](http://localhost:6006/) in a browser."
      ]
    },
    {
      "cell_type": "code",
      "execution_count": null,
      "metadata": {
        "id": "t8dzUWSs3OYx"
      },
      "outputs": [],
      "source": [
        "%tensorboard --logdir logs/fit"
      ]
    },
    {
      "cell_type": "markdown",
      "metadata": {
        "id": "G0pzsVCj3OYx"
      },
      "source": [
        "A brief overview of the dashboards shown (tabs in top navigation bar):\n",
        "\n",
        "* The **Scalars** dashboard shows how the loss and metrics change with every epoch. You can use it to also track training speed, learning rate, and other scalar values.\n",
        "* The **Graphs** dashboard helps you visualize your model. In this case, the Keras graph of layers is shown which can help you ensure it is built correctly.\n",
        "* The **Distributions** and **Histograms** dashboards show the distribution of a Tensor over time. This can be useful to visualize weights and biases and verify that they are changing in an expected way.\n",
        "\n"
      ]
    },
    {
      "cell_type": "markdown",
      "metadata": {
        "id": "TLR8Bsz93OYx"
      },
      "source": [
        "### Improve the last model with some regularization techniques to obtain at least `0.98` of test accuracy"
      ]
    },
    {
      "cell_type": "code",
      "execution_count": null,
      "metadata": {
        "id": "6w9I738V3OYx"
      },
      "outputs": [],
      "source": [
        "model = tf.keras.models.Sequential()\n",
        "model.add(layers.Flatten(input_shape=(28, 28)))\n",
        "\n",
        "## Hidden Layer + regularization\n",
        "model.add(...)\n",
        "### output layer\n",
        "model.add(layers.Dense(10, activation='softmax'))"
      ]
    },
    {
      "cell_type": "code",
      "execution_count": null,
      "metadata": {
        "id": "QUtJ3R433OYx"
      },
      "outputs": [],
      "source": [
        "model.compile(\n",
        "    optimizer='adam',\n",
        "    loss='sparse_categorical_crossentropy',\n",
        "    metrics=['accuracy']\n",
        ")"
      ]
    },
    {
      "cell_type": "code",
      "execution_count": null,
      "metadata": {
        "id": "xSQh5bTX3OYy"
      },
      "outputs": [],
      "source": [
        "model.fit(\n",
        "    x=x_train,\n",
        "    y=y_train,\n",
        "    epochs=5,\n",
        "    validation_split=0.2,\n",
        "    batch_size=64\n",
        ")\n",
        "results = model.evaluate(x_test, y_test, verbose=0)\n",
        "print('Test Loss: {}'.format(results[0]))\n",
        "print('Test Accuracy: {}'.format(results[1]))"
      ]
    },
    {
      "cell_type": "code",
      "execution_count": null,
      "metadata": {
        "id": "Biv6Qjyz3OYy"
      },
      "outputs": [],
      "source": [
        "model.fit(\n",
        "    x=x_train,\n",
        "    y=y_train,\n",
        "    epochs=...,\n",
        "    validation_split=0.2,\n",
        "    batch_size=...,\n",
        "    callbacks=...\n",
        ")\n",
        "results = model.evaluate(x_test, y_test, verbose=0)\n",
        "print('Test Loss: {}'.format(results[0]))\n",
        "print('Test Accuracy: {}'.format(results[1]))"
      ]
    },
    {
      "cell_type": "markdown",
      "metadata": {
        "id": "WBKOTaB33OYy"
      },
      "source": [
        "### Plotting Predictions"
      ]
    },
    {
      "cell_type": "code",
      "execution_count": null,
      "metadata": {
        "id": "O3Yhbm3C3OYy"
      },
      "outputs": [],
      "source": [
        "predictions = model.predict(x_test)\n",
        "predicted_classes = np.argmax(predictions, -1)"
      ]
    },
    {
      "cell_type": "code",
      "execution_count": null,
      "metadata": {
        "id": "M3r2AV5a3OYy"
      },
      "outputs": [],
      "source": [
        "L = 5\n",
        "W = 5\n",
        "fig, axes = plt.subplots(L, W, figsize=(14, 14))\n",
        "axes = axes.ravel()\n",
        "\n",
        "for i in np.arange(0, L * W):\n",
        "    ind = np.random.randint(len(y_test))\n",
        "    axes[i].imshow(x_test[ind].reshape(28, 28))\n",
        "    prob_pred = np.max(predictions[ind, :])\n",
        "    class_pred = int(predicted_classes[ind])\n",
        "    original_class = int(y_test[ind])\n",
        "    if class_pred == original_class:\n",
        "        color = 'green'\n",
        "    else:\n",
        "        color = 'red'\n",
        "    title = \"Pred: {0} \\n Target: {1} \\n Prob: {2:.3f}\".format(\n",
        "    class_pred, original_class, prob_pred)\n",
        "    axes[i].set_title(title, color=color)\n",
        "    axes[i].axis('off')\n",
        "\n",
        "plt.subplots_adjust(wspace=0.5)"
      ]
    }
  ],
  "metadata": {
    "colab": {
      "provenance": [],
      "toc_visible": true,
      "gpuType": "T4"
    },
    "kernelspec": {
      "display_name": "Python 3.9 (tensorflow)",
      "language": "python",
      "name": "tensorflow"
    },
    "language_info": {
      "codemirror_mode": {
        "name": "ipython",
        "version": 3
      },
      "file_extension": ".py",
      "mimetype": "text/x-python",
      "name": "python",
      "nbconvert_exporter": "python",
      "pygments_lexer": "ipython3",
      "version": "3.9.7"
    },
    "latex_envs": {
      "LaTeX_envs_menu_present": true,
      "autoclose": false,
      "autocomplete": true,
      "bibliofile": "biblio.bib",
      "cite_by": "apalike",
      "current_citInitial": 1,
      "eqLabelWithNumbers": true,
      "eqNumInitial": 1,
      "hotkeys": {
        "equation": "Ctrl-E",
        "itemize": "Ctrl-I"
      },
      "labels_anchors": false,
      "latex_user_defs": false,
      "report_style_numbering": false,
      "user_envs_cfg": false
    },
    "toc": {
      "base_numbering": 1,
      "nav_menu": {},
      "number_sections": true,
      "sideBar": true,
      "skip_h1_title": false,
      "title_cell": "Table of Contents",
      "title_sidebar": "Contents",
      "toc_cell": false,
      "toc_position": {},
      "toc_section_display": true,
      "toc_window_display": false
    },
    "accelerator": "GPU"
  },
  "nbformat": 4,
  "nbformat_minor": 0
}