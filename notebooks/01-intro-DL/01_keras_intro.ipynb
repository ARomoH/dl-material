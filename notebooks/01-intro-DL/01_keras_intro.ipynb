{
  "cells": [
    {
      "cell_type": "markdown",
      "source": [
        "[![Open In Colab](https://colab.research.google.com/assets/colab-badge.svg)](https://colab.research.google.com/drive/1X9pu2NkEl_Dao5KJVXGuzWEhaZ0-1kgC?usp=sharing)"
      ],
      "metadata": {
        "id": "4HpBXo7_uVJY"
      }
    },
    {
      "cell_type": "markdown",
      "metadata": {
        "id": "rtdxyDSJs1Xo"
      },
      "source": [
        "# First Neural Network"
      ]
    },
    {
      "cell_type": "code",
      "execution_count": null,
      "metadata": {
        "id": "xqI9oj4ks1Xo",
        "collapsed": true
      },
      "outputs": [],
      "source": [
        "# Import required libraries\n",
        "import tensorflow as tf\n",
        "import numpy as np\n",
        "import matplotlib.pyplot as plt\n",
        "\n",
        "# Get the data as Numpy arrays\n",
        "(x_train, y_train), (x_test, y_test) = tf.keras.datasets.mnist.load_data()"
      ]
    },
    {
      "cell_type": "code",
      "execution_count": null,
      "metadata": {
        "id": "qecggOgvs1Xp"
      },
      "outputs": [],
      "source": [
        "# Image examples\n",
        "image1 = x_train[0]\n",
        "image2 = x_train[1]\n",
        "\n",
        "# Create a subplot with 1 row and 2 columns\n",
        "plt.figure(figsize=(10, 5))\n",
        "plt.subplot(1, 2, 1)\n",
        "plt.imshow(image1)\n",
        "\n",
        "plt.subplot(1, 2, 2)\n",
        "plt.imshow(image2)\n",
        "\n",
        "plt.tight_layout()\n",
        "plt.show()"
      ]
    },
    {
      "cell_type": "code",
      "execution_count": null,
      "metadata": {
        "id": "FEoDvw6Bs1Xp"
      },
      "outputs": [],
      "source": [
        "# Define the model architecture\n",
        "model = tf.keras.models.Sequential([\n",
        "    tf.keras.layers.Rescaling(1.0 / 255),               # Rescaling to get normalized data\n",
        "    tf.keras.layers.Flatten(input_shape=(28, 28)),      # Flatten the 28x28 input image into a 1D array of 784 values\n",
        "    tf.keras.layers.Dense(32, activation='sigmoid'),    # Dense layer with 32 neurons and sigmoid activation\n",
        "    tf.keras.layers.Dropout(0.1),                       # Dropout layer for regularization\n",
        "    tf.keras.layers.Dense(10, activation='softmax')     # Output layer with 10 neurons (one for each class) and softmax activation\n",
        "])\n",
        "\n",
        "# Compile the model\n",
        "model.compile(optimizer='adam',                         # Use the adam optimizer\n",
        "              loss='sparse_categorical_crossentropy',   # Sparse categorical crossentropy loss for multi-class classification and image data\n",
        "              metrics=['accuracy'])                     # Get overall accuracy metric during training\n",
        "\n",
        "# Train the model for 3 epoch\n",
        "batch_size = 32                                         # Define batch size\n",
        "history = model.fit(x_train, y_train, batch_size=batch_size, epochs=3)"
      ]
    },
    {
      "cell_type": "code",
      "execution_count": null,
      "metadata": {
        "id": "hMY1qHiGs1Xq"
      },
      "outputs": [],
      "source": [
        "# Evaluate the model on the test dataset\n",
        "test_loss, test_accuracy = model.evaluate(x_test, y_test)\n",
        "\n",
        "# Print the test loss and accuracy\n",
        "print(f\"Test loss: {test_loss}, Test accuracy: {test_accuracy}\")"
      ]
    },
    {
      "cell_type": "code",
      "source": [
        "# In histoy we are gathering the results of each epoch\n",
        "print(history.history)"
      ],
      "metadata": {
        "id": "cPIUlQMjwCk0"
      },
      "execution_count": null,
      "outputs": []
    },
    {
      "cell_type": "code",
      "execution_count": null,
      "metadata": {
        "id": "pW0spvDas1Xq"
      },
      "outputs": [],
      "source": [
        "# Visualize history\n",
        "plt.plot(history.history['accuracy'], label='Training accuracy')\n",
        "plt.title('Training and validation accuracy')\n",
        "plt.xlabel('Epochs')\n",
        "plt.ylabel('Accuracy')\n",
        "plt.legend()\n",
        "plt.show()"
      ]
    },
    {
      "cell_type": "code",
      "source": [],
      "metadata": {
        "id": "d4gmXmzAwYoh"
      },
      "execution_count": null,
      "outputs": []
    }
  ],
  "metadata": {
    "kernelspec": {
      "display_name": "Python 3.9 (tensorflow)",
      "language": "python",
      "name": "tensorflow"
    },
    "language_info": {
      "codemirror_mode": {
        "name": "ipython",
        "version": 3
      },
      "file_extension": ".py",
      "mimetype": "text/x-python",
      "name": "python",
      "nbconvert_exporter": "python",
      "pygments_lexer": "ipython3",
      "version": "3.9.7"
    },
    "toc": {
      "base_numbering": 1,
      "nav_menu": {},
      "number_sections": true,
      "sideBar": true,
      "skip_h1_title": false,
      "title_cell": "Table of Contents",
      "title_sidebar": "Contents",
      "toc_cell": false,
      "toc_position": {},
      "toc_section_display": true,
      "toc_window_display": false
    },
    "colab": {
      "provenance": []
    }
  },
  "nbformat": 4,
  "nbformat_minor": 0
}