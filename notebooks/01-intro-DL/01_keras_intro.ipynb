{
  "cells": [
    {
      "cell_type": "markdown",
      "source": [
        "[![Open In Colab](https://colab.research.google.com/assets/colab-badge.svg)](https://colab.research.google.com/drive/1X9pu2NkEl_Dao5KJVXGuzWEhaZ0-1kgC?usp=sharing)"
      ],
      "metadata": {
        "id": "4HpBXo7_uVJY"
      }
    },
    {
      "cell_type": "code",
      "source": [
        "# Import required libraries\n",
        "import tensorflow as tf\n",
        "import numpy as np\n",
        "import matplotlib.pyplot as plt"
      ],
      "metadata": {
        "id": "BkATjSUxbuqb"
      },
      "execution_count": null,
      "outputs": []
    },
    {
      "cell_type": "markdown",
      "source": [
        "# Tensors\n",
        "\n",
        "Tensors are n-dimensional arrays of numbers and serve as the foundational elements in machine learning. Their role is to represent data numerically..\n",
        "\n",
        "<img src=\"https://raw.githubusercontent.com/mrdbourke/pytorch-deep-learning/main/images/00-scalar-vector-matrix-tensor.png\" alt=\"image\" style=\"max-width:100px; max-height:100px;\">"
      ],
      "metadata": {
        "id": "HEemqhTpbwMA"
      }
    },
    {
      "cell_type": "code",
      "source": [
        "# scalar\n",
        "scalar = tf.constant(17)\n",
        "print(scalar)\n",
        "print(len(scalar.shape))\n",
        "print(scalar)"
      ],
      "metadata": {
        "colab": {
          "base_uri": "https://localhost:8080/"
        },
        "id": "i1EQ9Q9lbvUC",
        "outputId": "dea997c7-23ac-4486-ed98-283deaa1a918"
      },
      "execution_count": 32,
      "outputs": [
        {
          "output_type": "stream",
          "name": "stdout",
          "text": [
            "tf.Tensor(17, shape=(), dtype=int32)\n",
            "0\n",
            "tf.Tensor(17, shape=(), dtype=int32)\n"
          ]
        }
      ]
    },
    {
      "cell_type": "code",
      "source": [
        "# vector\n",
        "vector = tf.constant([17, 14])\n",
        "print(vector)\n",
        "print(len(vector.shape))\n",
        "print(vector.shape)"
      ],
      "metadata": {
        "colab": {
          "base_uri": "https://localhost:8080/"
        },
        "id": "KtTzUwUgcfmN",
        "outputId": "9f2faa33-ef67-4de7-ce8f-aef3337a4500"
      },
      "execution_count": null,
      "outputs": [
        {
          "output_type": "stream",
          "name": "stdout",
          "text": [
            "tf.Tensor([17 14], shape=(2,), dtype=int32)\n",
            "1\n",
            "(2,)\n"
          ]
        }
      ]
    },
    {
      "cell_type": "code",
      "source": [
        "# matrix\n",
        "matrix = tf.constant([[17, 14],\n",
        "                      [1, 2]])\n",
        "print(matrix)\n",
        "print(len(matrix.shape))\n",
        "print(matrix.shape)"
      ],
      "metadata": {
        "colab": {
          "base_uri": "https://localhost:8080/"
        },
        "id": "TkOh7QD7ciUN",
        "outputId": "996de8ed-9e90-4c33-bf66-00912009ba87"
      },
      "execution_count": null,
      "outputs": [
        {
          "output_type": "stream",
          "name": "stdout",
          "text": [
            "tf.Tensor(\n",
            "[[17 14]\n",
            " [ 1  2]], shape=(2, 2), dtype=int32)\n",
            "2\n",
            "(2, 2)\n"
          ]
        }
      ]
    },
    {
      "cell_type": "code",
      "source": [
        "# tensors\n",
        "tensor = tf.constant([[[1, 2, 3, 8],\n",
        "                       [3, 6, 9, 7],\n",
        "                       [2, 4, 5, 6]]])\n",
        "print(tensor)\n",
        "print(len(tensor.shape))\n",
        "print(tensor.shape)"
      ],
      "metadata": {
        "colab": {
          "base_uri": "https://localhost:8080/"
        },
        "id": "BzUFPE3IcjBQ",
        "outputId": "6135e331-ae90-4040-b962-2e0092be1ac0"
      },
      "execution_count": null,
      "outputs": [
        {
          "output_type": "stream",
          "name": "stdout",
          "text": [
            "tf.Tensor(\n",
            "[[[1 2 3 8]\n",
            "  [3 6 9 7]\n",
            "  [2 4 5 6]]], shape=(1, 3, 4), dtype=int32)\n",
            "3\n",
            "(1, 3, 4)\n"
          ]
        }
      ]
    },
    {
      "cell_type": "markdown",
      "source": [
        "## Tensor creation"
      ],
      "metadata": {
        "id": "WL2ighFZdMeK"
      }
    },
    {
      "cell_type": "code",
      "source": [
        "# random tensors\n",
        "random_tensor = tf.random.uniform(shape=(3, 4))\n",
        "random_tensor"
      ],
      "metadata": {
        "colab": {
          "base_uri": "https://localhost:8080/"
        },
        "id": "2WZOyFy2cjSP",
        "outputId": "54671559-c1c8-400e-a343-75b3f16a6baa"
      },
      "execution_count": null,
      "outputs": [
        {
          "output_type": "execute_result",
          "data": {
            "text/plain": [
              "<tf.Tensor: shape=(3, 4), dtype=float32, numpy=\n",
              "array([[0.7932713 , 0.30868077, 0.13068426, 0.57360625],\n",
              "       [0.25740588, 0.9968169 , 0.7340361 , 0.9637555 ],\n",
              "       [0.437724  , 0.07218885, 0.10139704, 0.19535422]], dtype=float32)>"
            ]
          },
          "metadata": {},
          "execution_count": 6
        }
      ]
    },
    {
      "cell_type": "code",
      "source": [
        "# zeros and ones\n",
        "zeros = tf.zeros(shape=(1, 2, 4))\n",
        "print(zeros)\n",
        "ones = tf.ones(shape=(2, 5, 4))\n",
        "print(ones)"
      ],
      "metadata": {
        "colab": {
          "base_uri": "https://localhost:8080/"
        },
        "id": "GWmo-PEJcjkf",
        "outputId": "b85827b5-7751-453a-eac5-f62f22f5afc6"
      },
      "execution_count": null,
      "outputs": [
        {
          "output_type": "stream",
          "name": "stdout",
          "text": [
            "tf.Tensor(\n",
            "[[[0. 0. 0. 0.]\n",
            "  [0. 0. 0. 0.]]], shape=(1, 2, 4), dtype=float32)\n",
            "tf.Tensor(\n",
            "[[[1. 1. 1. 1.]\n",
            "  [1. 1. 1. 1.]\n",
            "  [1. 1. 1. 1.]\n",
            "  [1. 1. 1. 1.]\n",
            "  [1. 1. 1. 1.]]\n",
            "\n",
            " [[1. 1. 1. 1.]\n",
            "  [1. 1. 1. 1.]\n",
            "  [1. 1. 1. 1.]\n",
            "  [1. 1. 1. 1.]\n",
            "  [1. 1. 1. 1.]]], shape=(2, 5, 4), dtype=float32)\n"
          ]
        }
      ]
    },
    {
      "cell_type": "code",
      "source": [
        "# create a range of values\n",
        "zero_to_ten = tf.range(start=0, limit=10, delta=1)\n",
        "zero_to_ten"
      ],
      "metadata": {
        "colab": {
          "base_uri": "https://localhost:8080/"
        },
        "id": "FUMaLGF8cj8E",
        "outputId": "ca23ca84-d1bb-43ca-8476-49aa10794467"
      },
      "execution_count": null,
      "outputs": [
        {
          "output_type": "execute_result",
          "data": {
            "text/plain": [
              "<tf.Tensor: shape=(10,), dtype=int32, numpy=array([0, 1, 2, 3, 4, 5, 6, 7, 8, 9], dtype=int32)>"
            ]
          },
          "metadata": {},
          "execution_count": 8
        }
      ]
    },
    {
      "cell_type": "markdown",
      "source": [
        "## Tensor info"
      ],
      "metadata": {
        "id": "z3AVX1czdrJn"
      }
    },
    {
      "cell_type": "code",
      "source": [
        "rank_4_tensor = tf.zeros([3, 2, 4, 5])\n",
        "print(\"Original tensor:\", rank_4_tensor)\n",
        "print(\"Type of every element:\", rank_4_tensor.dtype)\n",
        "print(\"Number of axes:\", rank_4_tensor.ndim)\n",
        "print(\"Shape of tensor:\", rank_4_tensor.shape)\n",
        "print(\"Elements along axis 0 of tensor:\", rank_4_tensor.shape[0])\n",
        "print(\"Elements along the last axis of tensor:\", rank_4_tensor.shape[-1])\n",
        "print(\"Total number of elements (3*2*4*5): \", tf.size(rank_4_tensor))"
      ],
      "metadata": {
        "colab": {
          "base_uri": "https://localhost:8080/"
        },
        "id": "iuHCZAWpdonm",
        "outputId": "a4d6753b-0647-4d05-bef1-f5263982e234"
      },
      "execution_count": null,
      "outputs": [
        {
          "output_type": "stream",
          "name": "stdout",
          "text": [
            "Original tensor: tf.Tensor(\n",
            "[[[[0. 0. 0. 0. 0.]\n",
            "   [0. 0. 0. 0. 0.]\n",
            "   [0. 0. 0. 0. 0.]\n",
            "   [0. 0. 0. 0. 0.]]\n",
            "\n",
            "  [[0. 0. 0. 0. 0.]\n",
            "   [0. 0. 0. 0. 0.]\n",
            "   [0. 0. 0. 0. 0.]\n",
            "   [0. 0. 0. 0. 0.]]]\n",
            "\n",
            "\n",
            " [[[0. 0. 0. 0. 0.]\n",
            "   [0. 0. 0. 0. 0.]\n",
            "   [0. 0. 0. 0. 0.]\n",
            "   [0. 0. 0. 0. 0.]]\n",
            "\n",
            "  [[0. 0. 0. 0. 0.]\n",
            "   [0. 0. 0. 0. 0.]\n",
            "   [0. 0. 0. 0. 0.]\n",
            "   [0. 0. 0. 0. 0.]]]\n",
            "\n",
            "\n",
            " [[[0. 0. 0. 0. 0.]\n",
            "   [0. 0. 0. 0. 0.]\n",
            "   [0. 0. 0. 0. 0.]\n",
            "   [0. 0. 0. 0. 0.]]\n",
            "\n",
            "  [[0. 0. 0. 0. 0.]\n",
            "   [0. 0. 0. 0. 0.]\n",
            "   [0. 0. 0. 0. 0.]\n",
            "   [0. 0. 0. 0. 0.]]]], shape=(3, 2, 4, 5), dtype=float32)\n",
            "Type of every element: <dtype: 'float32'>\n",
            "Number of axes: 4\n",
            "Shape of tensor: (3, 2, 4, 5)\n",
            "Elements along axis 0 of tensor: 3\n",
            "Elements along the last axis of tensor: 5\n",
            "Total number of elements (3*2*4*5):  120\n"
          ]
        }
      ]
    },
    {
      "cell_type": "code",
      "source": [
        "# change dtype\n",
        "float_16_tensor = tf.constant([3.0, 6.0, 9.0], dtype=tf.float16)\n",
        "\n",
        "float_16_tensor.dtype"
      ],
      "metadata": {
        "colab": {
          "base_uri": "https://localhost:8080/"
        },
        "id": "ECu0RNRrdpXy",
        "outputId": "416113cf-6387-4037-c838-21f30f3f2922"
      },
      "execution_count": null,
      "outputs": [
        {
          "output_type": "execute_result",
          "data": {
            "text/plain": [
              "tf.float16"
            ]
          },
          "metadata": {},
          "execution_count": 12
        }
      ]
    },
    {
      "cell_type": "markdown",
      "source": [
        "## Tensor operations"
      ],
      "metadata": {
        "id": "TsXzi2mGfCyY"
      }
    },
    {
      "cell_type": "code",
      "source": [
        "# basic operations\n",
        "tensor = tf.constant([1, 2, 3])\n",
        "print(f\"Sum {tensor + 10}\")\n",
        "print(f\"Substraction {tensor - 10}\")\n",
        "print(f\"Multiplication {tensor * 10}\")\n",
        "print(f\"Multiplication (TensorFlow function) {tf.multiply(tensor, 10)}\")\n",
        "print(f\"Element-wise multiplication {tensor * tensor}\")\n",
        "print(f\"Original tensor is still unchanged  {tensor}\")"
      ],
      "metadata": {
        "colab": {
          "base_uri": "https://localhost:8080/"
        },
        "id": "JGOtsRoZdpgc",
        "outputId": "5a82da7b-98a6-4d18-e683-e748f58ed3ae"
      },
      "execution_count": null,
      "outputs": [
        {
          "output_type": "stream",
          "name": "stdout",
          "text": [
            "Sum [11 12 13]\n",
            "Substraction [-9 -8 -7]\n",
            "Multiplication [10 20 30]\n",
            "Multiplication (TensorFlow function) [10 20 30]\n",
            "Element-wise multiplication [1 4 9]\n",
            "Original tensor is still unchanged  [1 2 3]\n"
          ]
        }
      ]
    },
    {
      "cell_type": "code",
      "source": [
        "# deal with shape errors\n",
        "tensor_A = tf.constant([[1, 2],\n",
        "                         [3, 4],\n",
        "                         [5, 6]], dtype=tf.float32)\n",
        "\n",
        "tensor_B = tf.constant([[7, 10],\n",
        "                         [8, 11],\n",
        "                         [9, 12]], dtype=tf.float32)\n",
        "\n",
        "try:\n",
        "    tf.matmul(tensor_A, tensor_B)\n",
        "except Exception as e:\n",
        "    print(e)\n"
      ],
      "metadata": {
        "colab": {
          "base_uri": "https://localhost:8080/"
        },
        "id": "aL7ygop8dplR",
        "outputId": "ad008f06-68ab-4d54-eb85-0a7004054854"
      },
      "execution_count": null,
      "outputs": [
        {
          "output_type": "stream",
          "name": "stdout",
          "text": [
            "{{function_node __wrapped__MatMul_device_/job:localhost/replica:0/task:0/device:CPU:0}} Matrix size-incompatible: In[0]: [3,2], In[1]: [3,2] [Op:MatMul] name: \n"
          ]
        }
      ]
    },
    {
      "cell_type": "code",
      "source": [
        "# The operation works when tensor_B is transposed\n",
        "print(f\"Original shapes: tensor_A = {tensor_A.shape}, tensor_B = {tensor_B.shape}\\n\")\n",
        "print(f\"New shapes: tensor_A = {tensor_A.shape} (same as above), tensor_B.T = {tf.transpose(tensor_B).shape}\\n\")\n",
        "print(f\"Multiplying: {tensor_A.shape} * {tf.transpose(tensor_B).shape} <- inner dimensions match\\n\")\n",
        "print(\"Output:\\n\")\n",
        "output = tf.matmul(tensor_A, tf.transpose(tensor_B))\n",
        "print(output)\n",
        "print(f\"\\nOutput shape: {output.shape}\")"
      ],
      "metadata": {
        "colab": {
          "base_uri": "https://localhost:8080/"
        },
        "id": "QpaMuhs7dppb",
        "outputId": "9306a61a-c692-4e09-8d75-5a27e3253eb7"
      },
      "execution_count": null,
      "outputs": [
        {
          "output_type": "stream",
          "name": "stdout",
          "text": [
            "Original shapes: tensor_A = (3, 2), tensor_B = (3, 2)\n",
            "\n",
            "New shapes: tensor_A = (3, 2) (same as above), tensor_B.T = (2, 3)\n",
            "\n",
            "Multiplying: (3, 2) * (2, 3) <- inner dimensions match\n",
            "\n",
            "Output:\n",
            "\n",
            "tf.Tensor(\n",
            "[[ 27.  30.  33.]\n",
            " [ 61.  68.  75.]\n",
            " [ 95. 106. 117.]], shape=(3, 3), dtype=float32)\n",
            "\n",
            "Output shape: (3, 3)\n"
          ]
        }
      ]
    },
    {
      "cell_type": "code",
      "source": [
        "# aggregation operations\n",
        "x = tf.range(0, 100, 10)\n",
        "print(f\"Minimum: {tf.reduce_min(x)}\")\n",
        "print(f\"Maximum: {tf.reduce_max(x)}\")\n",
        "print(f\"Mean: {tf.reduce_mean(x)}\")\n",
        "print(f\"Sum: {tf.reduce_sum(x)}\")"
      ],
      "metadata": {
        "colab": {
          "base_uri": "https://localhost:8080/"
        },
        "id": "K-qCvBVidptD",
        "outputId": "eaa16bbd-0efe-4131-f5e1-642014d8beeb"
      },
      "execution_count": null,
      "outputs": [
        {
          "output_type": "stream",
          "name": "stdout",
          "text": [
            "Minimum: 0\n",
            "Maximum: 90\n",
            "Mean: 45\n",
            "Sum: 450\n"
          ]
        }
      ]
    },
    {
      "cell_type": "markdown",
      "source": [
        "## Tensor dimension change"
      ],
      "metadata": {
        "id": "KtslucwLhHuX"
      }
    },
    {
      "cell_type": "code",
      "source": [
        "x = tf.range(1.0, 8.0)\n",
        "x, x.shape"
      ],
      "metadata": {
        "colab": {
          "base_uri": "https://localhost:8080/"
        },
        "id": "yF85DeuPhGwW",
        "outputId": "fe25a4dd-bad5-4aee-bbfc-847aee0bd65f"
      },
      "execution_count": null,
      "outputs": [
        {
          "output_type": "execute_result",
          "data": {
            "text/plain": [
              "(<tf.Tensor: shape=(7,), dtype=float32, numpy=array([1., 2., 3., 4., 5., 6., 7.], dtype=float32)>,\n",
              " TensorShape([7]))"
            ]
          },
          "metadata": {},
          "execution_count": 28
        }
      ]
    },
    {
      "cell_type": "code",
      "source": [
        "x_reshaped = tf.reshape(x, (1, 7))\n",
        "print(f\"Reshaped tensor {x_reshaped}, {x_reshaped.shape}\")\n",
        "print(f\"Remove extra dimension {tf.squeeze(x_reshaped)}, {tf.squeeze(x_reshaped).shape}\")\n",
        "print(f\"Add an extra dimension {tf.expand_dims(x_reshaped, axis=0)}, {tf.expand_dims(x_reshaped, axis=0).shape}\")\n",
        "print(f\"Stack our new tensor on top of itself five times {tf.stack([x_reshaped] * 5, axis=0)}, {tf.stack([x_reshaped] * 5, axis=0).shape}\")"
      ],
      "metadata": {
        "colab": {
          "base_uri": "https://localhost:8080/"
        },
        "id": "jVMvidRkhGNG",
        "outputId": "1e624209-62c0-4de3-c0d7-4ec2d552109b"
      },
      "execution_count": null,
      "outputs": [
        {
          "output_type": "stream",
          "name": "stdout",
          "text": [
            "Reshaped tensor [[1. 2. 3. 4. 5. 6. 7.]], (1, 7)\n",
            "Remove extra dimension [1. 2. 3. 4. 5. 6. 7.], (7,)\n",
            "Add an extra dimension [[[1. 2. 3. 4. 5. 6. 7.]]], (1, 1, 7)\n",
            "Stack our new tensor on top of itself five times [[[1. 2. 3. 4. 5. 6. 7.]]\n",
            "\n",
            " [[1. 2. 3. 4. 5. 6. 7.]]\n",
            "\n",
            " [[1. 2. 3. 4. 5. 6. 7.]]\n",
            "\n",
            " [[1. 2. 3. 4. 5. 6. 7.]]\n",
            "\n",
            " [[1. 2. 3. 4. 5. 6. 7.]]], (5, 1, 7)\n"
          ]
        }
      ]
    },
    {
      "cell_type": "markdown",
      "source": [
        "## Tensor indexing"
      ],
      "metadata": {
        "id": "7ualk6RKkOY3"
      }
    },
    {
      "cell_type": "code",
      "source": [
        "rank_1_tensor = tf.constant([0, 1, 1, 2, 3, 5, 8, 13, 21, 34])\n",
        "print(rank_1_tensor)\n",
        "print(\"First:\", rank_1_tensor[0])\n",
        "print(\"Second:\", rank_1_tensor[1])\n",
        "print(\"Last:\", rank_1_tensor[-1])\n",
        "print(\"Everything:\", rank_1_tensor[:])\n",
        "print(\"Before 4:\", rank_1_tensor[:4])\n",
        "print(\"From 4 to the end:\", rank_1_tensor[4:])\n",
        "print(\"From 2, before 7:\", rank_1_tensor[2:7])\n",
        "print(\"Every other item:\", rank_1_tensor[::2])\n",
        "print(\"Reversed:\", rank_1_tensor[::-1])"
      ],
      "metadata": {
        "colab": {
          "base_uri": "https://localhost:8080/"
        },
        "id": "V3G_h3ESkKsc",
        "outputId": "fa5aa69e-5910-4e1c-960a-f9120557cb96"
      },
      "execution_count": 34,
      "outputs": [
        {
          "output_type": "stream",
          "name": "stdout",
          "text": [
            "tf.Tensor([ 0  1  1  2  3  5  8 13 21 34], shape=(10,), dtype=int32)\n",
            "First: tf.Tensor(0, shape=(), dtype=int32)\n",
            "Second: tf.Tensor(1, shape=(), dtype=int32)\n",
            "Last: tf.Tensor(34, shape=(), dtype=int32)\n",
            "Everything: tf.Tensor([ 0  1  1  2  3  5  8 13 21 34], shape=(10,), dtype=int32)\n",
            "Before 4: tf.Tensor([0 1 1 2], shape=(4,), dtype=int32)\n",
            "From 4 to the end: tf.Tensor([ 3  5  8 13 21 34], shape=(6,), dtype=int32)\n",
            "From 2, before 7: tf.Tensor([1 2 3 5 8], shape=(5,), dtype=int32)\n",
            "Every other item: tf.Tensor([ 0  1  3  8 21], shape=(5,), dtype=int32)\n",
            "Reversed: tf.Tensor([34 21 13  8  5  3  2  1  1  0], shape=(10,), dtype=int32)\n"
          ]
        }
      ]
    },
    {
      "cell_type": "code",
      "source": [
        "# multi indexing\n",
        "rank_2_tensor = tf.constant([[1, 2],\n",
        "                             [3, 4],\n",
        "                             [5, 6]], dtype=tf.float16)\n",
        "\n",
        "print(\"Second row:\", rank_2_tensor[1, :])\n",
        "print(\"Second column:\", rank_2_tensor[:, 1])\n",
        "print(\"Last row:\", rank_2_tensor[-1, :])\n",
        "print(\"First item in last column:\", rank_2_tensor[0, -1])\n",
        "print(\"Skip the first row:\")\n",
        "print(rank_2_tensor[1:, :], \"\\n\")"
      ],
      "metadata": {
        "colab": {
          "base_uri": "https://localhost:8080/"
        },
        "id": "Zs-ZOsDwlAtt",
        "outputId": "cd5ec3e9-5a1f-4e9f-9873-3bf0a5dd4224"
      },
      "execution_count": 35,
      "outputs": [
        {
          "output_type": "stream",
          "name": "stdout",
          "text": [
            "Second row: tf.Tensor([3. 4.], shape=(2,), dtype=float16)\n",
            "Second column: tf.Tensor([2. 4. 6.], shape=(3,), dtype=float16)\n",
            "Last row: tf.Tensor([5. 6.], shape=(2,), dtype=float16)\n",
            "First item in last column: tf.Tensor(2.0, shape=(), dtype=float16)\n",
            "Skip the first row:\n",
            "tf.Tensor(\n",
            "[[3. 4.]\n",
            " [5. 6.]], shape=(2, 2), dtype=float16) \n",
            "\n"
          ]
        }
      ]
    },
    {
      "cell_type": "code",
      "source": [
        "# tensors & numpy\n",
        "import numpy as np\n",
        "array = np.arange(1.0, 8.0)\n",
        "tensor = tf.convert_to_tensor(array)\n",
        "tensor2array = tensor.numpy()\n",
        "\n",
        "print(array)\n",
        "print(tensor)\n",
        "print(tensor2array)"
      ],
      "metadata": {
        "colab": {
          "base_uri": "https://localhost:8080/"
        },
        "id": "TDC40hf-hFKI",
        "outputId": "ddd37be0-2fce-42d3-cf37-c15a7ca6dab6"
      },
      "execution_count": 33,
      "outputs": [
        {
          "output_type": "stream",
          "name": "stdout",
          "text": [
            "[1. 2. 3. 4. 5. 6. 7.]\n",
            "tf.Tensor([1. 2. 3. 4. 5. 6. 7.], shape=(7,), dtype=float64)\n",
            "[1. 2. 3. 4. 5. 6. 7.]\n"
          ]
        }
      ]
    },
    {
      "cell_type": "code",
      "source": [],
      "metadata": {
        "id": "d4gmXmzAwYoh"
      },
      "execution_count": null,
      "outputs": []
    }
  ],
  "metadata": {
    "kernelspec": {
      "display_name": "Python 3.9 (tensorflow)",
      "language": "python",
      "name": "tensorflow"
    },
    "language_info": {
      "codemirror_mode": {
        "name": "ipython",
        "version": 3
      },
      "file_extension": ".py",
      "mimetype": "text/x-python",
      "name": "python",
      "nbconvert_exporter": "python",
      "pygments_lexer": "ipython3",
      "version": "3.9.7"
    },
    "toc": {
      "base_numbering": 1,
      "nav_menu": {},
      "number_sections": true,
      "sideBar": true,
      "skip_h1_title": false,
      "title_cell": "Table of Contents",
      "title_sidebar": "Contents",
      "toc_cell": false,
      "toc_position": {},
      "toc_section_display": true,
      "toc_window_display": false
    },
    "colab": {
      "provenance": [],
      "gpuType": "T4",
      "toc_visible": true
    },
    "accelerator": "GPU"
  },
  "nbformat": 4,
  "nbformat_minor": 0
}