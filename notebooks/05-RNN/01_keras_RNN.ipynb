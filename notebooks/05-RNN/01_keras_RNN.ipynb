{
  "cells": [
    {
      "cell_type": "markdown",
      "metadata": {
        "id": "9ggRea9TBpA_"
      },
      "source": [
        "[![Open In Colab](https://colab.research.google.com/assets/colab-badge.svg)](https://colab.research.google.com/drive/11au9s4Hox89d0zcU1GjwuAERdEteoFxJ?usp=sharing)\n",
        "\n",
        "Source: https://github.com/ezponda/intro_deep_learning/blob/main/class/RNN/IMBD_RNN.ipynb"
      ]
    },
    {
      "cell_type": "markdown",
      "metadata": {
        "id": "DI6h56nFBpBB"
      },
      "source": [
        "# Classification Example\n",
        " Two-class classification, or binary classification, may be the most widely applied kind of machine-learning problem. In this example, you’ll learn to classify movie reviews as positive or negative, based on the text content of the reviews.\n"
      ]
    },
    {
      "cell_type": "code",
      "execution_count": null,
      "metadata": {
        "id": "FASza3eeBpBC"
      },
      "outputs": [],
      "source": [
        "import tensorflow as tf\n",
        "from tensorflow import keras\n",
        "from tensorflow.keras import layers\n",
        "import numpy as np\n",
        "import matplotlib.pyplot as plt\n",
        "import pandas as pd\n",
        "\n",
        "tf.keras.utils.set_random_seed(0)\n",
        "\n",
        "\n",
        "def show_loss_accuracy_evolution(history):\n",
        "    hist = pd.DataFrame(history.history)\n",
        "    hist['epoch'] = history.epoch\n",
        "\n",
        "    fig, (ax1, ax2) = plt.subplots(1, 2, figsize=(16, 6))\n",
        "\n",
        "    ax1.set_xlabel('Epoch')\n",
        "    ax1.set_ylabel('Sparse Categorical Crossentropy')\n",
        "    ax1.plot(hist['epoch'], hist['loss'], label='Train Error')\n",
        "    ax1.plot(hist['epoch'], hist['val_loss'], label='Val Error')\n",
        "    ax1.grid()\n",
        "    ax1.legend()\n",
        "\n",
        "    ax2.set_xlabel('Epoch')\n",
        "    ax2.set_ylabel('Accuracy')\n",
        "    ax2.plot(hist['epoch'], hist['accuracy'], label='Train Accuracy')\n",
        "    ax2.plot(hist['epoch'], hist['val_accuracy'], label='Val Accuracy')\n",
        "    ax2.grid()\n",
        "    ax2.legend()\n",
        "\n",
        "    plt.show()"
      ]
    },
    {
      "cell_type": "markdown",
      "metadata": {
        "id": "oyuZRSjKBpBD"
      },
      "source": [
        "## The Dataset: The IMDB dataset\n",
        "We’ll work with the IMDB dataset: a set of 50,000 highly polarized reviews from the Internet Movie Database. They’re split into 25,000 reviews for training and 25,000 reviews for testing, each set consisting of 50% negative and 50% positive reviews. The  parameter `num_words` controls how many words different we want to use."
      ]
    },
    {
      "cell_type": "code",
      "execution_count": null,
      "metadata": {
        "colab": {
          "base_uri": "https://localhost:8080/"
        },
        "id": "bV8crZvWBpBE",
        "outputId": "30523636-9213-4552-b19d-d66d905f459d"
      },
      "outputs": [
        {
          "output_type": "stream",
          "name": "stdout",
          "text": [
            "Downloading data from https://storage.googleapis.com/tensorflow/tf-keras-datasets/imdb.npz\n",
            "\u001b[1m17464789/17464789\u001b[0m \u001b[32m━━━━━━━━━━━━━━━━━━━━\u001b[0m\u001b[37m\u001b[0m \u001b[1m0s\u001b[0m 0us/step\n",
            "[1, 14, 22, 16, 43, 530, 973, 1622, 1385, 65, 458, 4468, 66, 3941, 4, 173, 36, 256, 5, 25, 100, 43, 838, 112, 50, 670, 2, 9, 35, 480, 284, 5, 150, 4, 172, 112, 167, 2, 336, 385, 39, 4, 172, 4536, 1111, 17, 546, 38, 13, 447, 4, 192, 50, 16, 6, 147, 2025, 19, 14, 22, 4, 1920, 4613, 469, 4, 22, 71, 87, 12, 16, 43, 530, 38, 76, 15, 13, 1247, 4, 22, 17, 515, 17, 12, 16, 626, 18, 2, 5, 62, 386, 12, 8, 316, 8, 106, 5, 4, 2223, 5244, 16, 480, 66, 3785, 33, 4, 130, 12, 16, 38, 619, 5, 25, 124, 51, 36, 135, 48, 25, 1415, 33, 6, 22, 12, 215, 28, 77, 52, 5, 14, 407, 16, 82, 2, 8, 4, 107, 117, 5952, 15, 256, 4, 2, 7, 3766, 5, 723, 36, 71, 43, 530, 476, 26, 400, 317, 46, 7, 4, 2, 1029, 13, 104, 88, 4, 381, 15, 297, 98, 32, 2071, 56, 26, 141, 6, 194, 7486, 18, 4, 226, 22, 21, 134, 476, 26, 480, 5, 144, 30, 5535, 18, 51, 36, 28, 224, 92, 25, 104, 4, 226, 65, 16, 38, 1334, 88, 12, 16, 283, 5, 16, 4472, 113, 103, 32, 15, 16, 5345, 19, 178, 32]\n"
          ]
        }
      ],
      "source": [
        "from tensorflow.keras.datasets import imdb\n",
        "num_words = 10000\n",
        "(train_data, train_labels), (test_data, test_labels) = imdb.load_data(num_words=num_words)\n",
        "print(train_data[0])"
      ]
    },
    {
      "cell_type": "code",
      "execution_count": null,
      "metadata": {
        "id": "jaE1a4jHBpBE",
        "colab": {
          "base_uri": "https://localhost:8080/"
        },
        "outputId": "be775d89-8b47-4d94-d121-e92b1e3108f4"
      },
      "outputs": [
        {
          "output_type": "stream",
          "name": "stdout",
          "text": [
            "Downloading data from https://storage.googleapis.com/tensorflow/tf-keras-datasets/imdb_word_index.json\n",
            "\u001b[1m1641221/1641221\u001b[0m \u001b[32m━━━━━━━━━━━━━━━━━━━━\u001b[0m\u001b[37m\u001b[0m \u001b[1m0s\u001b[0m 0us/step\n"
          ]
        }
      ],
      "source": [
        "# Transform word_id to word and reverse\n",
        "word2int = imdb.get_word_index()\n",
        "word2int = {w: i+3 for w, i in word2int.items()}\n",
        "word2int[\"<PAD>\"] = 0\n",
        "word2int[\"<START>\"] = 1\n",
        "word2int[\"<UNK>\"] = 2\n",
        "word2int[\"<UNUSED>\"] = 3\n",
        "int2word = {i: w for w, i in word2int.items()}\n",
        "num_words = num_words+3"
      ]
    },
    {
      "cell_type": "markdown",
      "metadata": {
        "id": "43lIT9r2BpBE"
      },
      "source": [
        "For transforming an id-sequence to a phrase use get_words"
      ]
    },
    {
      "cell_type": "code",
      "execution_count": null,
      "metadata": {
        "colab": {
          "base_uri": "https://localhost:8080/",
          "height": 122
        },
        "id": "vEPFrrrhBpBE",
        "outputId": "a659a1e2-291d-467a-8142-500a59535b24"
      },
      "outputs": [
        {
          "output_type": "execute_result",
          "data": {
            "text/plain": [
              "\"<START> this film was just brilliant casting location scenery story direction everyone's really suited the part they played and you could just imagine being there robert <UNK> is an amazing actor and now the same being director <UNK> father came from the same scottish island as myself so i loved the fact there was a real connection with this film the witty remarks throughout the film were great it was just brilliant so much that i bought the film as soon as it was released for <UNK> and would recommend it to everyone to watch and the fly fishing was amazing really cried at the end it was so sad and you know what they say if you cry at a film it must have been good and this definitely was also <UNK> to the two little boy's that played the <UNK> of norman and paul they were just brilliant children are often left out of the <UNK> list i think because the stars that play them all grown up are such a big profile for the whole film but these children are amazing and should be praised for what they have done don't you think the whole story was so lovely because it was true and was someone's life after all that was shared with us all\""
            ],
            "application/vnd.google.colaboratory.intrinsic+json": {
              "type": "string"
            }
          },
          "metadata": {},
          "execution_count": 4
        }
      ],
      "source": [
        "def get_words(sentence, int2word):\n",
        "    return ' '.join([int2word.get(i, '<UNK>') for i in sentence])\n",
        "\n",
        "\n",
        "get_words(train_data[0], int2word)"
      ]
    },
    {
      "cell_type": "markdown",
      "metadata": {
        "id": "ubxyezv0BpBF"
      },
      "source": [
        "# MLP model\n",
        "\n",
        "## Data Preprocessing\n",
        "\n",
        "You need to convert your raw text to an appropriate input to a sequential model"
      ]
    },
    {
      "cell_type": "code",
      "execution_count": null,
      "metadata": {
        "id": "Bvql44xPBpBF",
        "colab": {
          "base_uri": "https://localhost:8080/"
        },
        "outputId": "c1fbc7df-0c9a-432f-cce4-5d9aa99d32d9"
      },
      "outputs": [
        {
          "output_type": "stream",
          "name": "stdout",
          "text": [
            "<START> this film was just brilliant casting location scenery story direction everyone's really suited the part they played and you could just imagine being there robert <UNK> is an amazing actor and now the same being director <UNK> father came from the same scottish island as myself so i loved the fact there was a real connection with this film the witty remarks throughout the film were great it was just brilliant so much that i bought the film as soon as it was released for <UNK> and would recommend it to everyone to watch and the fly fishing was amazing really cried at the end it was so sad and you know what they say if you cry at a film it must have been good and this definitely was also <UNK> to the two little boy's that played the <UNK> of norman and paul they were just brilliant children are often left out of the <UNK> list i think because the stars that play them all grown up are such a big profile for the whole film but these children are amazing and should be praised for what they have done don't you think the whole story was so lovely because it was true and was someone's life after all that was shared with us all\n",
            "[1, 14, 22, 16, 43, 530, 973, 1622, 1385, 65, 458, 4468, 66, 3941, 4, 173, 36, 256, 5, 25, 100, 43, 838, 112, 50, 670, 2, 9, 35, 480, 284, 5, 150, 4, 172, 112, 167, 2, 336, 385, 39, 4, 172, 4536, 1111, 17, 546, 38, 13, 447, 4, 192, 50, 16, 6, 147, 2025, 19, 14, 22, 4, 1920, 4613, 469, 4, 22, 71, 87, 12, 16, 43, 530, 38, 76, 15, 13, 1247, 4, 22, 17, 515, 17, 12, 16, 626, 18, 2, 5, 62, 386, 12, 8, 316, 8, 106, 5, 4, 2223, 5244, 16, 480, 66, 3785, 33, 4, 130, 12, 16, 38, 619, 5, 25, 124, 51, 36, 135, 48, 25, 1415, 33, 6, 22, 12, 215, 28, 77, 52, 5, 14, 407, 16, 82, 2, 8, 4, 107, 117, 5952, 15, 256, 4, 2, 7, 3766, 5, 723, 36, 71, 43, 530, 476, 26, 400, 317, 46, 7, 4, 2, 1029, 13, 104, 88, 4, 381, 15, 297, 98, 32, 2071, 56, 26, 141, 6, 194, 7486, 18, 4, 226, 22, 21, 134, 476, 26, 480, 5, 144, 30, 5535, 18, 51, 36, 28, 224, 92, 25, 104, 4, 226, 65, 16, 38, 1334, 88, 12, 16, 283, 5, 16, 4472, 113, 103, 32, 15, 16, 5345, 19, 178, 32]\n"
          ]
        }
      ],
      "source": [
        "def vectorize_text_sentence(text, word2int):\n",
        "    tokens = text.split(' ')\n",
        "    tokens_id = [word2int.get(tk,2) for tk in tokens]\n",
        "    return tokens_id\n",
        "\n",
        "text = get_words(train_data[0], int2word)\n",
        "print(text)\n",
        "print(vectorize_text_sentence(text, word2int))"
      ]
    },
    {
      "cell_type": "markdown",
      "metadata": {
        "id": "4P4GmfWDBpBF"
      },
      "source": [
        "We are going to use a bag of words model. BoW is a simplifying representation used in natural language processing. In this model, a text (such as a sentence or a document) is represented as the Each key is the word, and each value is the frequency of occurrences of that word in the given text document.\n",
        "\n",
        "- **Input document**: `\"John likes to watch movies Mary likes movies too\"`\n",
        "- **BoW**: `{'John': 0.11, 'likes': 0.22, 'to': 0.11, 'watch': 0.11, 'movies': 0.22, 'Mary': 0.11, 'too': 0.11}`\n"
      ]
    },
    {
      "cell_type": "code",
      "execution_count": null,
      "metadata": {
        "colab": {
          "base_uri": "https://localhost:8080/"
        },
        "id": "N3x6kIL8BpBF",
        "outputId": "b5074aa4-c38d-4fa1-8867-2e36ad9978c0"
      },
      "outputs": [
        {
          "output_type": "stream",
          "name": "stdout",
          "text": [
            "text_example John likes to watch movies Mary likes movies too\n",
            "text splitted ['John', 'likes', 'to', 'watch', 'movies', 'Mary', 'likes', 'movies', 'too']\n",
            "bag_of_words {'John': 0.1111111111111111, 'likes': 0.2222222222222222, 'to': 0.1111111111111111, 'watch': 0.1111111111111111, 'movies': 0.2222222222222222, 'Mary': 0.1111111111111111, 'too': 0.1111111111111111}\n",
            "bag_of_words norm=False {'John': 1, 'likes': 2, 'to': 1, 'watch': 1, 'movies': 2, 'Mary': 1, 'too': 1}\n",
            "bag_of_words with indexes {308: 1, 1232: 2, 8: 1, 106: 1, 102: 2, 1083: 1, 99: 1}\n"
          ]
        }
      ],
      "source": [
        "from collections import Counter\n",
        "\n",
        "\n",
        "def get_bag_of_words(sequence, norm=True):\n",
        "    word_count = Counter(sequence)\n",
        "    if norm:\n",
        "        total = sum(word_count.values())\n",
        "        word_freq = {w: n / total for w, n in word_count.items()}\n",
        "        return word_freq\n",
        "    else:\n",
        "        return dict(word_count.items())\n",
        "\n",
        "\n",
        "text_example = \"John likes to watch movies Mary likes movies too\"\n",
        "print('text_example', text_example)\n",
        "text_sequence = text_example.split()\n",
        "print('text splitted', text_sequence)\n",
        "bag_of_words = get_bag_of_words(text_sequence)\n",
        "print('bag_of_words', bag_of_words)\n",
        "print('bag_of_words norm=False', get_bag_of_words(text_sequence, norm=False))\n",
        "print(\n",
        "    'bag_of_words with indexes', {\n",
        "        word2int[w.lower()]: p\n",
        "        for w, p in get_bag_of_words(text_sequence, norm=False).items()\n",
        "    })"
      ]
    },
    {
      "cell_type": "markdown",
      "metadata": {
        "id": "3alPstiwBpBG"
      },
      "source": [
        "After that, we convert every BoW to a vector of `dim=num_words` with `vectorize_sequences`"
      ]
    },
    {
      "cell_type": "code",
      "execution_count": null,
      "metadata": {
        "colab": {
          "base_uri": "https://localhost:8080/"
        },
        "id": "negdOAzfBpBG",
        "outputId": "9f226990-ab64-4533-e7e3-bb7d0c65e50d"
      },
      "outputs": [
        {
          "output_type": "execute_result",
          "data": {
            "text/plain": [
              "((25000, 10003), (25000,))"
            ]
          },
          "metadata": {},
          "execution_count": 7
        }
      ],
      "source": [
        "def vectorize_sequence(sequence, num_words, norm=True):\n",
        "    vec = np.zeros(num_words)\n",
        "    bow = get_bag_of_words(sequence, norm)\n",
        "    for w, freq in bow.items():\n",
        "        if w < num_words:\n",
        "            vec[w] = freq\n",
        "    return vec\n",
        "\n",
        "\n",
        "def vectorize_sequences(sequences, num_words=num_words, norm=True):\n",
        "    \"\"\"Creates an all-zero matrix of shape (len(sequences), num_words)\"\"\"\n",
        "    results = np.zeros((len(sequences), num_words))\n",
        "    for i, sequence in enumerate(sequences):\n",
        "        results[i, :] = vectorize_sequence(sequence, num_words, norm)\n",
        "    return results\n",
        "\n",
        "\n",
        "x_train = vectorize_sequences(train_data, num_words=num_words)\n",
        "x_test = vectorize_sequences(test_data, num_words=num_words)\n",
        "y_train =np.asarray(train_labels).astype('float32')\n",
        "y_test = np.asarray(test_labels).astype('float32')\n",
        "x_train.shape, y_train.shape"
      ]
    },
    {
      "cell_type": "code",
      "execution_count": null,
      "metadata": {
        "colab": {
          "base_uri": "https://localhost:8080/"
        },
        "id": "IwJrkj99BpBG",
        "outputId": "e27e9d6b-0cc4-40be-f50d-3eabcd6b4c30"
      },
      "outputs": [
        {
          "output_type": "execute_result",
          "data": {
            "text/plain": [
              "array([0.        , 0.00458716, 0.02752294, ..., 0.        , 0.        ,\n",
              "       0.        ])"
            ]
          },
          "metadata": {},
          "execution_count": 8
        }
      ],
      "source": [
        "x_train[0]"
      ]
    },
    {
      "cell_type": "markdown",
      "metadata": {
        "id": "tr7JgXlUBpBG"
      },
      "source": [
        "## Define and train a model\n",
        "Define, compile and fit your sequential model"
      ]
    },
    {
      "cell_type": "code",
      "execution_count": null,
      "metadata": {
        "colab": {
          "base_uri": "https://localhost:8080/",
          "height": 361
        },
        "id": "jrNQmcIxBpBG",
        "outputId": "2b326ad3-5da2-43d2-d8ca-53eb40d1126d"
      },
      "outputs": [
        {
          "output_type": "stream",
          "name": "stderr",
          "text": [
            "/usr/local/lib/python3.11/dist-packages/keras/src/layers/core/dense.py:87: UserWarning: Do not pass an `input_shape`/`input_dim` argument to a layer. When using Sequential models, prefer using an `Input(shape)` object as the first layer in the model instead.\n",
            "  super().__init__(activity_regularizer=activity_regularizer, **kwargs)\n"
          ]
        },
        {
          "output_type": "display_data",
          "data": {
            "text/plain": [
              "\u001b[1mModel: \"sequential\"\u001b[0m\n"
            ],
            "text/html": [
              "<pre style=\"white-space:pre;overflow-x:auto;line-height:normal;font-family:Menlo,'DejaVu Sans Mono',consolas,'Courier New',monospace\"><span style=\"font-weight: bold\">Model: \"sequential\"</span>\n",
              "</pre>\n"
            ]
          },
          "metadata": {}
        },
        {
          "output_type": "display_data",
          "data": {
            "text/plain": [
              "┏━━━━━━━━━━━━━━━━━━━━━━━━━━━━━━━━━┳━━━━━━━━━━━━━━━━━━━━━━━━┳━━━━━━━━━━━━━━━┓\n",
              "┃\u001b[1m \u001b[0m\u001b[1mLayer (type)                   \u001b[0m\u001b[1m \u001b[0m┃\u001b[1m \u001b[0m\u001b[1mOutput Shape          \u001b[0m\u001b[1m \u001b[0m┃\u001b[1m \u001b[0m\u001b[1m      Param #\u001b[0m\u001b[1m \u001b[0m┃\n",
              "┡━━━━━━━━━━━━━━━━━━━━━━━━━━━━━━━━━╇━━━━━━━━━━━━━━━━━━━━━━━━╇━━━━━━━━━━━━━━━┩\n",
              "│ dense (\u001b[38;5;33mDense\u001b[0m)                   │ (\u001b[38;5;45mNone\u001b[0m, \u001b[38;5;34m10\u001b[0m)             │       \u001b[38;5;34m100,040\u001b[0m │\n",
              "├─────────────────────────────────┼────────────────────────┼───────────────┤\n",
              "│ dropout (\u001b[38;5;33mDropout\u001b[0m)               │ (\u001b[38;5;45mNone\u001b[0m, \u001b[38;5;34m10\u001b[0m)             │             \u001b[38;5;34m0\u001b[0m │\n",
              "├─────────────────────────────────┼────────────────────────┼───────────────┤\n",
              "│ dense_1 (\u001b[38;5;33mDense\u001b[0m)                 │ (\u001b[38;5;45mNone\u001b[0m, \u001b[38;5;34m10\u001b[0m)             │           \u001b[38;5;34m110\u001b[0m │\n",
              "├─────────────────────────────────┼────────────────────────┼───────────────┤\n",
              "│ dropout_1 (\u001b[38;5;33mDropout\u001b[0m)             │ (\u001b[38;5;45mNone\u001b[0m, \u001b[38;5;34m10\u001b[0m)             │             \u001b[38;5;34m0\u001b[0m │\n",
              "├─────────────────────────────────┼────────────────────────┼───────────────┤\n",
              "│ dense_2 (\u001b[38;5;33mDense\u001b[0m)                 │ (\u001b[38;5;45mNone\u001b[0m, \u001b[38;5;34m1\u001b[0m)              │            \u001b[38;5;34m11\u001b[0m │\n",
              "└─────────────────────────────────┴────────────────────────┴───────────────┘\n"
            ],
            "text/html": [
              "<pre style=\"white-space:pre;overflow-x:auto;line-height:normal;font-family:Menlo,'DejaVu Sans Mono',consolas,'Courier New',monospace\">┏━━━━━━━━━━━━━━━━━━━━━━━━━━━━━━━━━┳━━━━━━━━━━━━━━━━━━━━━━━━┳━━━━━━━━━━━━━━━┓\n",
              "┃<span style=\"font-weight: bold\"> Layer (type)                    </span>┃<span style=\"font-weight: bold\"> Output Shape           </span>┃<span style=\"font-weight: bold\">       Param # </span>┃\n",
              "┡━━━━━━━━━━━━━━━━━━━━━━━━━━━━━━━━━╇━━━━━━━━━━━━━━━━━━━━━━━━╇━━━━━━━━━━━━━━━┩\n",
              "│ dense (<span style=\"color: #0087ff; text-decoration-color: #0087ff\">Dense</span>)                   │ (<span style=\"color: #00d7ff; text-decoration-color: #00d7ff\">None</span>, <span style=\"color: #00af00; text-decoration-color: #00af00\">10</span>)             │       <span style=\"color: #00af00; text-decoration-color: #00af00\">100,040</span> │\n",
              "├─────────────────────────────────┼────────────────────────┼───────────────┤\n",
              "│ dropout (<span style=\"color: #0087ff; text-decoration-color: #0087ff\">Dropout</span>)               │ (<span style=\"color: #00d7ff; text-decoration-color: #00d7ff\">None</span>, <span style=\"color: #00af00; text-decoration-color: #00af00\">10</span>)             │             <span style=\"color: #00af00; text-decoration-color: #00af00\">0</span> │\n",
              "├─────────────────────────────────┼────────────────────────┼───────────────┤\n",
              "│ dense_1 (<span style=\"color: #0087ff; text-decoration-color: #0087ff\">Dense</span>)                 │ (<span style=\"color: #00d7ff; text-decoration-color: #00d7ff\">None</span>, <span style=\"color: #00af00; text-decoration-color: #00af00\">10</span>)             │           <span style=\"color: #00af00; text-decoration-color: #00af00\">110</span> │\n",
              "├─────────────────────────────────┼────────────────────────┼───────────────┤\n",
              "│ dropout_1 (<span style=\"color: #0087ff; text-decoration-color: #0087ff\">Dropout</span>)             │ (<span style=\"color: #00d7ff; text-decoration-color: #00d7ff\">None</span>, <span style=\"color: #00af00; text-decoration-color: #00af00\">10</span>)             │             <span style=\"color: #00af00; text-decoration-color: #00af00\">0</span> │\n",
              "├─────────────────────────────────┼────────────────────────┼───────────────┤\n",
              "│ dense_2 (<span style=\"color: #0087ff; text-decoration-color: #0087ff\">Dense</span>)                 │ (<span style=\"color: #00d7ff; text-decoration-color: #00d7ff\">None</span>, <span style=\"color: #00af00; text-decoration-color: #00af00\">1</span>)              │            <span style=\"color: #00af00; text-decoration-color: #00af00\">11</span> │\n",
              "└─────────────────────────────────┴────────────────────────┴───────────────┘\n",
              "</pre>\n"
            ]
          },
          "metadata": {}
        },
        {
          "output_type": "display_data",
          "data": {
            "text/plain": [
              "\u001b[1m Total params: \u001b[0m\u001b[38;5;34m100,161\u001b[0m (391.25 KB)\n"
            ],
            "text/html": [
              "<pre style=\"white-space:pre;overflow-x:auto;line-height:normal;font-family:Menlo,'DejaVu Sans Mono',consolas,'Courier New',monospace\"><span style=\"font-weight: bold\"> Total params: </span><span style=\"color: #00af00; text-decoration-color: #00af00\">100,161</span> (391.25 KB)\n",
              "</pre>\n"
            ]
          },
          "metadata": {}
        },
        {
          "output_type": "display_data",
          "data": {
            "text/plain": [
              "\u001b[1m Trainable params: \u001b[0m\u001b[38;5;34m100,161\u001b[0m (391.25 KB)\n"
            ],
            "text/html": [
              "<pre style=\"white-space:pre;overflow-x:auto;line-height:normal;font-family:Menlo,'DejaVu Sans Mono',consolas,'Courier New',monospace\"><span style=\"font-weight: bold\"> Trainable params: </span><span style=\"color: #00af00; text-decoration-color: #00af00\">100,161</span> (391.25 KB)\n",
              "</pre>\n"
            ]
          },
          "metadata": {}
        },
        {
          "output_type": "display_data",
          "data": {
            "text/plain": [
              "\u001b[1m Non-trainable params: \u001b[0m\u001b[38;5;34m0\u001b[0m (0.00 B)\n"
            ],
            "text/html": [
              "<pre style=\"white-space:pre;overflow-x:auto;line-height:normal;font-family:Menlo,'DejaVu Sans Mono',consolas,'Courier New',monospace\"><span style=\"font-weight: bold\"> Non-trainable params: </span><span style=\"color: #00af00; text-decoration-color: #00af00\">0</span> (0.00 B)\n",
              "</pre>\n"
            ]
          },
          "metadata": {}
        }
      ],
      "source": [
        "model = keras.Sequential()\n",
        "model.add(keras.layers.Dense(10, input_shape=(10003, ), activation='sigmoid'))\n",
        "model.add(keras.layers.Dropout(0.1))\n",
        "model.add(keras.layers.Dense(10, activation='sigmoid'))\n",
        "model.add(keras.layers.Dropout(0.1))\n",
        "model.add(keras.layers.Dense(1, activation='sigmoid'))\n",
        "\n",
        "model.summary()"
      ]
    },
    {
      "cell_type": "code",
      "execution_count": null,
      "metadata": {
        "id": "22HpKoaIvu5R"
      },
      "outputs": [],
      "source": [
        "model.compile(optimizer=\"adam\", loss=\"binary_crossentropy\", metrics=[\"accuracy\"])"
      ]
    },
    {
      "cell_type": "code",
      "execution_count": null,
      "metadata": {
        "colab": {
          "base_uri": "https://localhost:8080/"
        },
        "id": "ng00bZHMvflB",
        "outputId": "44d7575a-8d92-4d73-9e2e-93a076e62149"
      },
      "outputs": [
        {
          "output_type": "stream",
          "name": "stdout",
          "text": [
            "Epoch 1/25\n",
            "\u001b[1m625/625\u001b[0m \u001b[32m━━━━━━━━━━━━━━━━━━━━\u001b[0m\u001b[37m\u001b[0m \u001b[1m6s\u001b[0m 5ms/step - accuracy: 0.5071 - loss: 0.6997 - val_accuracy: 0.6170 - val_loss: 0.6922\n",
            "Epoch 2/25\n",
            "\u001b[1m625/625\u001b[0m \u001b[32m━━━━━━━━━━━━━━━━━━━━\u001b[0m\u001b[37m\u001b[0m \u001b[1m3s\u001b[0m 5ms/step - accuracy: 0.5148 - loss: 0.6974 - val_accuracy: 0.7732 - val_loss: 0.6907\n",
            "Epoch 3/25\n",
            "\u001b[1m625/625\u001b[0m \u001b[32m━━━━━━━━━━━━━━━━━━━━\u001b[0m\u001b[37m\u001b[0m \u001b[1m2s\u001b[0m 3ms/step - accuracy: 0.5272 - loss: 0.6946 - val_accuracy: 0.7730 - val_loss: 0.6872\n",
            "Epoch 4/25\n",
            "\u001b[1m625/625\u001b[0m \u001b[32m━━━━━━━━━━━━━━━━━━━━\u001b[0m\u001b[37m\u001b[0m \u001b[1m2s\u001b[0m 3ms/step - accuracy: 0.5503 - loss: 0.6887 - val_accuracy: 0.7742 - val_loss: 0.6790\n",
            "Epoch 5/25\n",
            "\u001b[1m625/625\u001b[0m \u001b[32m━━━━━━━━━━━━━━━━━━━━\u001b[0m\u001b[37m\u001b[0m \u001b[1m2s\u001b[0m 3ms/step - accuracy: 0.5811 - loss: 0.6798 - val_accuracy: 0.7788 - val_loss: 0.6609\n",
            "Epoch 6/25\n",
            "\u001b[1m625/625\u001b[0m \u001b[32m━━━━━━━━━━━━━━━━━━━━\u001b[0m\u001b[37m\u001b[0m \u001b[1m2s\u001b[0m 4ms/step - accuracy: 0.6229 - loss: 0.6618 - val_accuracy: 0.7870 - val_loss: 0.6241\n",
            "Epoch 7/25\n",
            "\u001b[1m625/625\u001b[0m \u001b[32m━━━━━━━━━━━━━━━━━━━━\u001b[0m\u001b[37m\u001b[0m \u001b[1m3s\u001b[0m 4ms/step - accuracy: 0.6601 - loss: 0.6295 - val_accuracy: 0.7962 - val_loss: 0.5736\n",
            "Epoch 8/25\n",
            "\u001b[1m625/625\u001b[0m \u001b[32m━━━━━━━━━━━━━━━━━━━━\u001b[0m\u001b[37m\u001b[0m \u001b[1m2s\u001b[0m 3ms/step - accuracy: 0.6914 - loss: 0.5905 - val_accuracy: 0.8122 - val_loss: 0.5232\n",
            "Epoch 9/25\n",
            "\u001b[1m625/625\u001b[0m \u001b[32m━━━━━━━━━━━━━━━━━━━━\u001b[0m\u001b[37m\u001b[0m \u001b[1m3s\u001b[0m 4ms/step - accuracy: 0.7199 - loss: 0.5568 - val_accuracy: 0.8234 - val_loss: 0.4830\n",
            "Epoch 10/25\n",
            "\u001b[1m625/625\u001b[0m \u001b[32m━━━━━━━━━━━━━━━━━━━━\u001b[0m\u001b[37m\u001b[0m \u001b[1m2s\u001b[0m 4ms/step - accuracy: 0.7371 - loss: 0.5313 - val_accuracy: 0.8328 - val_loss: 0.4498\n",
            "Epoch 11/25\n",
            "\u001b[1m625/625\u001b[0m \u001b[32m━━━━━━━━━━━━━━━━━━━━\u001b[0m\u001b[37m\u001b[0m \u001b[1m2s\u001b[0m 3ms/step - accuracy: 0.7524 - loss: 0.5062 - val_accuracy: 0.8416 - val_loss: 0.4272\n",
            "Epoch 12/25\n",
            "\u001b[1m625/625\u001b[0m \u001b[32m━━━━━━━━━━━━━━━━━━━━\u001b[0m\u001b[37m\u001b[0m \u001b[1m3s\u001b[0m 4ms/step - accuracy: 0.7692 - loss: 0.4867 - val_accuracy: 0.8492 - val_loss: 0.4078\n",
            "Epoch 13/25\n",
            "\u001b[1m625/625\u001b[0m \u001b[32m━━━━━━━━━━━━━━━━━━━━\u001b[0m\u001b[37m\u001b[0m \u001b[1m2s\u001b[0m 4ms/step - accuracy: 0.7680 - loss: 0.4814 - val_accuracy: 0.8558 - val_loss: 0.3929\n",
            "Epoch 14/25\n",
            "\u001b[1m625/625\u001b[0m \u001b[32m━━━━━━━━━━━━━━━━━━━━\u001b[0m\u001b[37m\u001b[0m \u001b[1m3s\u001b[0m 4ms/step - accuracy: 0.7791 - loss: 0.4660 - val_accuracy: 0.8560 - val_loss: 0.3820\n",
            "Epoch 15/25\n",
            "\u001b[1m625/625\u001b[0m \u001b[32m━━━━━━━━━━━━━━━━━━━━\u001b[0m\u001b[37m\u001b[0m \u001b[1m2s\u001b[0m 3ms/step - accuracy: 0.7932 - loss: 0.4457 - val_accuracy: 0.8606 - val_loss: 0.3711\n",
            "Epoch 16/25\n",
            "\u001b[1m625/625\u001b[0m \u001b[32m━━━━━━━━━━━━━━━━━━━━\u001b[0m\u001b[37m\u001b[0m \u001b[1m3s\u001b[0m 3ms/step - accuracy: 0.7986 - loss: 0.4351 - val_accuracy: 0.8656 - val_loss: 0.3602\n",
            "Epoch 17/25\n",
            "\u001b[1m625/625\u001b[0m \u001b[32m━━━━━━━━━━━━━━━━━━━━\u001b[0m\u001b[37m\u001b[0m \u001b[1m3s\u001b[0m 4ms/step - accuracy: 0.8009 - loss: 0.4296 - val_accuracy: 0.8658 - val_loss: 0.3527\n",
            "Epoch 18/25\n",
            "\u001b[1m625/625\u001b[0m \u001b[32m━━━━━━━━━━━━━━━━━━━━\u001b[0m\u001b[37m\u001b[0m \u001b[1m2s\u001b[0m 3ms/step - accuracy: 0.8057 - loss: 0.4190 - val_accuracy: 0.8684 - val_loss: 0.3477\n",
            "Epoch 19/25\n",
            "\u001b[1m625/625\u001b[0m \u001b[32m━━━━━━━━━━━━━━━━━━━━\u001b[0m\u001b[37m\u001b[0m \u001b[1m2s\u001b[0m 3ms/step - accuracy: 0.8160 - loss: 0.4101 - val_accuracy: 0.8694 - val_loss: 0.3406\n",
            "Epoch 20/25\n",
            "\u001b[1m625/625\u001b[0m \u001b[32m━━━━━━━━━━━━━━━━━━━━\u001b[0m\u001b[37m\u001b[0m \u001b[1m3s\u001b[0m 4ms/step - accuracy: 0.8164 - loss: 0.4031 - val_accuracy: 0.8696 - val_loss: 0.3354\n",
            "Epoch 21/25\n",
            "\u001b[1m625/625\u001b[0m \u001b[32m━━━━━━━━━━━━━━━━━━━━\u001b[0m\u001b[37m\u001b[0m \u001b[1m2s\u001b[0m 3ms/step - accuracy: 0.8237 - loss: 0.3881 - val_accuracy: 0.8714 - val_loss: 0.3298\n",
            "Epoch 22/25\n",
            "\u001b[1m625/625\u001b[0m \u001b[32m━━━━━━━━━━━━━━━━━━━━\u001b[0m\u001b[37m\u001b[0m \u001b[1m2s\u001b[0m 4ms/step - accuracy: 0.8262 - loss: 0.3905 - val_accuracy: 0.8716 - val_loss: 0.3271\n",
            "Epoch 23/25\n",
            "\u001b[1m625/625\u001b[0m \u001b[32m━━━━━━━━━━━━━━━━━━━━\u001b[0m\u001b[37m\u001b[0m \u001b[1m2s\u001b[0m 3ms/step - accuracy: 0.8339 - loss: 0.3815 - val_accuracy: 0.8728 - val_loss: 0.3225\n",
            "Epoch 24/25\n",
            "\u001b[1m625/625\u001b[0m \u001b[32m━━━━━━━━━━━━━━━━━━━━\u001b[0m\u001b[37m\u001b[0m \u001b[1m2s\u001b[0m 3ms/step - accuracy: 0.8272 - loss: 0.3849 - val_accuracy: 0.8742 - val_loss: 0.3189\n",
            "Epoch 25/25\n",
            "\u001b[1m625/625\u001b[0m \u001b[32m━━━━━━━━━━━━━━━━━━━━\u001b[0m\u001b[37m\u001b[0m \u001b[1m2s\u001b[0m 3ms/step - accuracy: 0.8329 - loss: 0.3765 - val_accuracy: 0.8758 - val_loss: 0.3155\n"
          ]
        }
      ],
      "source": [
        "history = model.fit(x_train, y_train, epochs=25, validation_split=0.2)"
      ]
    },
    {
      "cell_type": "code",
      "execution_count": null,
      "metadata": {
        "colab": {
          "base_uri": "https://localhost:8080/",
          "height": 542
        },
        "id": "Ummw_MALBpBH",
        "outputId": "7047e309-c870-4092-841d-b6e7ce0e6960"
      },
      "outputs": [
        {
          "output_type": "display_data",
          "data": {
            "text/plain": [
              "<Figure size 1600x600 with 2 Axes>"
            ],
            "image/png": "[encoded data removed]"
          },
          "metadata": {}
        }
      ],
      "source": [
        "show_loss_accuracy_evolution(history)"
      ]
    },
    {
      "cell_type": "markdown",
      "metadata": {
        "id": "Oqv4jSWaBpBH"
      },
      "source": [
        "### Evaluate the model\n",
        "You need to obtain a Test Accuracy > 0.85. Try to get more than 0.9!"
      ]
    },
    {
      "cell_type": "code",
      "execution_count": null,
      "metadata": {
        "colab": {
          "base_uri": "https://localhost:8080/"
        },
        "id": "NPBy4F06BpBH",
        "outputId": "27c8b809-740d-4883-a071-88ff4f9191ac"
      },
      "outputs": [
        {
          "output_type": "stream",
          "name": "stdout",
          "text": [
            "\u001b[1m782/782\u001b[0m \u001b[32m━━━━━━━━━━━━━━━━━━━━\u001b[0m\u001b[37m\u001b[0m \u001b[1m2s\u001b[0m 3ms/step - accuracy: 0.8709 - loss: 0.3238\n",
            "Test Loss: 0.3241058886051178\n",
            "Test Accuracy: 0.8708000183105469\n"
          ]
        }
      ],
      "source": [
        "results = model.evaluate(x_test, y_test, verbose=1)\n",
        "print('Test Loss: {}'.format(results[0]))\n",
        "print('Test Accuracy: {}'.format(results[1]))"
      ]
    },
    {
      "cell_type": "markdown",
      "metadata": {
        "id": "rj2wKNJCBpBH"
      },
      "source": [
        "### Making predictioins with new data"
      ]
    },
    {
      "cell_type": "code",
      "execution_count": null,
      "metadata": {
        "colab": {
          "base_uri": "https://localhost:8080/"
        },
        "id": "e6SjOvKHBpBH",
        "outputId": "29a8b32f-6212-44fe-a9b8-1e5915273879"
      },
      "outputs": [
        {
          "output_type": "stream",
          "name": "stdout",
          "text": [
            "\u001b[1m1/1\u001b[0m \u001b[32m━━━━━━━━━━━━━━━━━━━━\u001b[0m\u001b[37m\u001b[0m \u001b[1m0s\u001b[0m 306ms/step\n"
          ]
        },
        {
          "output_type": "execute_result",
          "data": {
            "text/plain": [
              "array([[0.0172],\n",
              "       [0.9981],\n",
              "       [0.3659],\n",
              "       [0.8958],\n",
              "       [0.0015]], dtype=float32)"
            ]
          },
          "metadata": {},
          "execution_count": 14
        }
      ],
      "source": [
        "reviews = ['the film was really bad and i am very disappointed',\n",
        "           'The film was very funny entertaining and good we had a great time . brilliant film',\n",
        "           'this film was just brilliant',\n",
        "           'the film is not good',\n",
        "           'the film is not bad']\n",
        "\n",
        "sequences = [vectorize_text_sentence(review.lower(), word2int)\n",
        "             for review in reviews]\n",
        "\n",
        "x_pred = vectorize_sequences(sequences, num_words=num_words)\n",
        "np.round(model.predict(x_pred), 4)"
      ]
    },
    {
      "cell_type": "markdown",
      "metadata": {
        "id": "qqaRwnqwBpBH"
      },
      "source": [
        "# RNN model\n",
        "\n",
        "Lets use a recurrent neural network and compare results\n"
      ]
    },
    {
      "cell_type": "markdown",
      "metadata": {
        "id": "Ec_XJvm-BpBH"
      },
      "source": [
        "### Simple RNN model\n",
        "\n",
        "There are three built-in RNN layers in Keras:\n",
        "\n",
        "1. [`keras.layers.SimpleRNN`](https://keras.io/api/layers/recurrent_layers/simple_rnn/), a fully-connected RNN where the output from previous\n",
        "timestep is to be fed to next timestep.\n",
        "\n",
        "```python\n",
        "tf.keras.layers.SimpleRNN(\n",
        "    units,\n",
        "    dropout=0.0,\n",
        "    recurrent_dropout=0.0,\n",
        "    return_sequences=False,\n",
        "    return_state=False,\n",
        "    go_backwards=False,\n",
        "    stateful=False,\n",
        ")\n",
        "````\n",
        "\n",
        "2. [`keras.layers.GRU`](https://keras.io/api/layers/recurrent_layers/gru/), first proposed in\n",
        "[Cho et al., 2014](https://arxiv.org/abs/1406.1078).\n",
        "```python\n",
        "tf.keras.layers.GRU(\n",
        "    units,\n",
        "    dropout=0.0,\n",
        "    recurrent_dropout=0.0,\n",
        "    return_sequences=False,\n",
        "    return_state=False,\n",
        "    go_backwards=False,\n",
        "    stateful=False,\n",
        ")\n",
        "```\n",
        "\n",
        "3. [`keras.layers.LSTM`](https://keras.io/api/layers/recurrent_layers/lstm/), first proposed in\n",
        "[Hochreiter & Schmidhuber, 1997](https://www.bioinf.jku.at/publications/older/2604.pdf).\n",
        "```python\n",
        "tf.keras.layers.LSTM(\n",
        "    units,\n",
        "    dropout=0.0,\n",
        "    recurrent_dropout=0.0,\n",
        "    return_sequences=False,\n",
        "    return_state=False,\n",
        "    go_backwards=False,\n",
        "    stateful=False,\n",
        ")\n",
        "````\n",
        "For more information, see the\n",
        "[RNN API documentation](https://keras.io/api/layers/recurrent_layers/).\n",
        "\n",
        "\n",
        "\n",
        "\n",
        "\n",
        "In sequence classification we are going to use the **many-to-one** architecture with default parameter `return_sequences=False`.\n",
        "\n",
        "The shape of the output  for this architecture  is `(batch_size, units)`.\n",
        "where `units` corresponds to the `units` argument passed to the layer's constructor.\n",
        "\n",
        "Lets see one some examples for understanding the input/output dimensions:"
      ]
    },
    {
      "cell_type": "markdown",
      "metadata": {
        "id": "es-yhACeBpBI"
      },
      "source": [
        "### Deep RNN\n",
        "We can stack multiple layers of RNNs on top of each other. Each hidden state is continuously passed to both the next time step of the current layer and the current time step of the next layer.\n",
        "\n",
        "For stack another RNN layer to an existing one, we need to use the states with `return_sequences=True`"
      ]
    },
    {
      "cell_type": "code",
      "execution_count": null,
      "metadata": {
        "id": "AoGraWrQBpBI",
        "colab": {
          "base_uri": "https://localhost:8080/"
        },
        "outputId": "4f8c20e6-2c52-4e92-cbc8-a7d0ebb70dbc"
      },
      "outputs": [
        {
          "output_type": "stream",
          "name": "stdout",
          "text": [
            "input dim (batch, tokens, embedding_dim):  (32, 10, 4)\n",
            "1. return_state=False output shape:  (32, 2)\n",
            "2. return_state=True output shape:  (32, 10, 2)\n"
          ]
        }
      ],
      "source": [
        "# dims of input: [batch, tokens, embedding_dim]\n",
        "inputs = tf.random.normal([32, 10, 4])\n",
        "print('input dim (batch, tokens, embedding_dim): ', inputs.shape)\n",
        "lstm = tf.keras.layers.LSTM(units=2)\n",
        "output = lstm(inputs)\n",
        "print('1. return_state=False output shape: ',output.shape)\n",
        "lstm = tf.keras.layers.LSTM(units=2, return_sequences=True)\n",
        "output = lstm(inputs)\n",
        "print('2. return_state=True output shape: ',output.shape)"
      ]
    },
    {
      "cell_type": "markdown",
      "metadata": {
        "id": "ay7N4z8LBpBI"
      },
      "source": [
        "### Loading Data"
      ]
    },
    {
      "cell_type": "code",
      "execution_count": null,
      "metadata": {
        "id": "vAMnRrp4BpBI",
        "colab": {
          "base_uri": "https://localhost:8080/"
        },
        "outputId": "e5793f26-07b2-46c3-a271-c086afbefbdb"
      },
      "outputs": [
        {
          "output_type": "stream",
          "name": "stdout",
          "text": [
            "(25000,) (25000,)\n"
          ]
        }
      ],
      "source": [
        "from tensorflow.keras.datasets import imdb\n",
        "num_words = 2000\n",
        "((train_data, train_labels), (test_data, test_labels)\n",
        " ) = imdb.load_data(num_words=num_words)\n",
        "\n",
        "#  limit the data for class time\n",
        "'''size = 15000\n",
        "(train_data, train_labels), (test_data, test_labels) = (\n",
        "    (train_data[:size], train_labels[:size]), (test_data[:size], test_labels[:size]))\n",
        "'''\n",
        "# Transform word_id to word and reverse\n",
        "word2int = imdb.get_word_index()\n",
        "word2int = {w: i+3 for w, i in word2int.items()}\n",
        "word2int[\"<PAD>\"] = 0\n",
        "word2int[\"<START>\"] = 1\n",
        "word2int[\"<UNK>\"] = 2\n",
        "word2int[\"<UNUSED>\"] = 3\n",
        "int2word = {i: w for w, i in word2int.items()}\n",
        "num_words = num_words+3\n",
        "\n",
        "print(train_data.shape, test_data.shape)"
      ]
    },
    {
      "cell_type": "markdown",
      "metadata": {
        "id": "1Xbw5WjfBpBJ"
      },
      "source": [
        "### Create the RNN model\n",
        "\n",
        "For the input of the first rnn layer we need a tensor of `(timesteps, features)` or `(batchsize, timesteps, features)`. We have a matrix of sentences of `(train_size, max_len)`. Every sentence is a  `max_len`, we need to convert it to a sentence of one-hot vectors of dim `(max_len, num_words)`.\n",
        "For get the one-hot encoding of every sequence we are going to use:\n",
        "\n",
        "```python\n",
        "layers.Embedding(input_dim=num_words, output_dim=num_words,\n",
        "  input_length=max_len, embeddings_initializer='identity', trainable=False)\n",
        "```\n",
        "\n",
        "This layer converts the input tensor `(batch_size, max_len)` to one-hot encoded sequences `(batch_size, max_len, num_words)`\n",
        "\n",
        "\n",
        "\n"
      ]
    },
    {
      "cell_type": "code",
      "source": [
        "max_len = 100\n",
        "x_train_seq = tf.keras.preprocessing.sequence.pad_sequences(train_data, maxlen=max_len, truncating='post', padding='post')\n",
        "x_test_seq = tf.keras.preprocessing.sequence.pad_sequences(test_data, maxlen=max_len, truncating='post', padding='post')\n",
        "\n",
        "print('train shape:', x_train_seq.shape)\n",
        "print('test shape:', x_test_seq.shape)"
      ],
      "metadata": {
        "id": "hTYEfeaZjqyD",
        "colab": {
          "base_uri": "https://localhost:8080/"
        },
        "outputId": "6d1b2718-c22a-4988-f111-112793592ad3"
      },
      "execution_count": null,
      "outputs": [
        {
          "output_type": "stream",
          "name": "stdout",
          "text": [
            "train shape: (25000, 100)\n",
            "test shape: (25000, 100)\n"
          ]
        }
      ]
    },
    {
      "cell_type": "code",
      "execution_count": null,
      "metadata": {
        "id": "K667YvUnBpBJ",
        "scrolled": true,
        "colab": {
          "base_uri": "https://localhost:8080/"
        },
        "outputId": "62246902-08da-45e5-8976-b78dcaab78c3"
      },
      "outputs": [
        {
          "output_type": "stream",
          "name": "stdout",
          "text": [
            "[[[0 1 2 2 0]]] (1, 1, 5)\n"
          ]
        },
        {
          "output_type": "stream",
          "name": "stderr",
          "text": [
            "/usr/local/lib/python3.11/dist-packages/keras/src/layers/core/embedding.py:90: UserWarning: Argument `input_length` is deprecated. Just remove it.\n",
            "  warnings.warn(\n"
          ]
        },
        {
          "output_type": "execute_result",
          "data": {
            "text/plain": [
              "<tf.Tensor: shape=(1, 1, 5, 3), dtype=float32, numpy=\n",
              "array([[[[1., 0., 0.],\n",
              "         [0., 1., 0.],\n",
              "         [0., 0., 1.],\n",
              "         [0., 0., 1.],\n",
              "         [1., 0., 0.]]]], dtype=float32)>"
            ]
          },
          "metadata": {},
          "execution_count": 18
        }
      ],
      "source": [
        "seq = np.array([[[0, 1, 2, 2, 0]]])\n",
        "print(seq, seq.shape)\n",
        "layers.Embedding(input_dim=3, output_dim=3,\n",
        "                 input_length=5, embeddings_initializer='identity',\n",
        "                 trainable=False)(seq)"
      ]
    },
    {
      "cell_type": "markdown",
      "metadata": {
        "id": "AFXjtrrEBpBJ"
      },
      "source": [
        "### RNN model\n",
        "Use `keras.layers.SimpleRNN`,  `keras.layers.GRU`,  `keras.layers.LSTM` or `keras.layers.Bidirectional`\n"
      ]
    },
    {
      "cell_type": "code",
      "execution_count": null,
      "metadata": {
        "id": "4-XP0mU-BpBK",
        "colab": {
          "base_uri": "https://localhost:8080/",
          "height": 238
        },
        "outputId": "dffd2d1d-5178-4139-98f5-64d97117d52e"
      },
      "outputs": [
        {
          "output_type": "display_data",
          "data": {
            "text/plain": [
              "\u001b[1mModel: \"sequential_1\"\u001b[0m\n"
            ],
            "text/html": [
              "<pre style=\"white-space:pre;overflow-x:auto;line-height:normal;font-family:Menlo,'DejaVu Sans Mono',consolas,'Courier New',monospace\"><span style=\"font-weight: bold\">Model: \"sequential_1\"</span>\n",
              "</pre>\n"
            ]
          },
          "metadata": {}
        },
        {
          "output_type": "display_data",
          "data": {
            "text/plain": [
              "┏━━━━━━━━━━━━━━━━━━━━━━━━━━━━━━━━━┳━━━━━━━━━━━━━━━━━━━━━━━━┳━━━━━━━━━━━━━━━┓\n",
              "┃\u001b[1m \u001b[0m\u001b[1mLayer (type)                   \u001b[0m\u001b[1m \u001b[0m┃\u001b[1m \u001b[0m\u001b[1mOutput Shape          \u001b[0m\u001b[1m \u001b[0m┃\u001b[1m \u001b[0m\u001b[1m      Param #\u001b[0m\u001b[1m \u001b[0m┃\n",
              "┡━━━━━━━━━━━━━━━━━━━━━━━━━━━━━━━━━╇━━━━━━━━━━━━━━━━━━━━━━━━╇━━━━━━━━━━━━━━━┩\n",
              "│ embedding_1 (\u001b[38;5;33mEmbedding\u001b[0m)         │ (\u001b[38;5;45mNone\u001b[0m, \u001b[38;5;34m100\u001b[0m, \u001b[38;5;34m2003\u001b[0m)      │     \u001b[38;5;34m4,012,009\u001b[0m │\n",
              "├─────────────────────────────────┼────────────────────────┼───────────────┤\n",
              "│ simple_rnn (\u001b[38;5;33mSimpleRNN\u001b[0m)          │ (\u001b[38;5;45mNone\u001b[0m, \u001b[38;5;34m16\u001b[0m)             │        \u001b[38;5;34m32,320\u001b[0m │\n",
              "├─────────────────────────────────┼────────────────────────┼───────────────┤\n",
              "│ dense_3 (\u001b[38;5;33mDense\u001b[0m)                 │ (\u001b[38;5;45mNone\u001b[0m, \u001b[38;5;34m1\u001b[0m)              │            \u001b[38;5;34m17\u001b[0m │\n",
              "└─────────────────────────────────┴────────────────────────┴───────────────┘\n"
            ],
            "text/html": [
              "<pre style=\"white-space:pre;overflow-x:auto;line-height:normal;font-family:Menlo,'DejaVu Sans Mono',consolas,'Courier New',monospace\">┏━━━━━━━━━━━━━━━━━━━━━━━━━━━━━━━━━┳━━━━━━━━━━━━━━━━━━━━━━━━┳━━━━━━━━━━━━━━━┓\n",
              "┃<span style=\"font-weight: bold\"> Layer (type)                    </span>┃<span style=\"font-weight: bold\"> Output Shape           </span>┃<span style=\"font-weight: bold\">       Param # </span>┃\n",
              "┡━━━━━━━━━━━━━━━━━━━━━━━━━━━━━━━━━╇━━━━━━━━━━━━━━━━━━━━━━━━╇━━━━━━━━━━━━━━━┩\n",
              "│ embedding_1 (<span style=\"color: #0087ff; text-decoration-color: #0087ff\">Embedding</span>)         │ (<span style=\"color: #00d7ff; text-decoration-color: #00d7ff\">None</span>, <span style=\"color: #00af00; text-decoration-color: #00af00\">100</span>, <span style=\"color: #00af00; text-decoration-color: #00af00\">2003</span>)      │     <span style=\"color: #00af00; text-decoration-color: #00af00\">4,012,009</span> │\n",
              "├─────────────────────────────────┼────────────────────────┼───────────────┤\n",
              "│ simple_rnn (<span style=\"color: #0087ff; text-decoration-color: #0087ff\">SimpleRNN</span>)          │ (<span style=\"color: #00d7ff; text-decoration-color: #00d7ff\">None</span>, <span style=\"color: #00af00; text-decoration-color: #00af00\">16</span>)             │        <span style=\"color: #00af00; text-decoration-color: #00af00\">32,320</span> │\n",
              "├─────────────────────────────────┼────────────────────────┼───────────────┤\n",
              "│ dense_3 (<span style=\"color: #0087ff; text-decoration-color: #0087ff\">Dense</span>)                 │ (<span style=\"color: #00d7ff; text-decoration-color: #00d7ff\">None</span>, <span style=\"color: #00af00; text-decoration-color: #00af00\">1</span>)              │            <span style=\"color: #00af00; text-decoration-color: #00af00\">17</span> │\n",
              "└─────────────────────────────────┴────────────────────────┴───────────────┘\n",
              "</pre>\n"
            ]
          },
          "metadata": {}
        },
        {
          "output_type": "display_data",
          "data": {
            "text/plain": [
              "\u001b[1m Total params: \u001b[0m\u001b[38;5;34m4,044,346\u001b[0m (15.43 MB)\n"
            ],
            "text/html": [
              "<pre style=\"white-space:pre;overflow-x:auto;line-height:normal;font-family:Menlo,'DejaVu Sans Mono',consolas,'Courier New',monospace\"><span style=\"font-weight: bold\"> Total params: </span><span style=\"color: #00af00; text-decoration-color: #00af00\">4,044,346</span> (15.43 MB)\n",
              "</pre>\n"
            ]
          },
          "metadata": {}
        },
        {
          "output_type": "display_data",
          "data": {
            "text/plain": [
              "\u001b[1m Trainable params: \u001b[0m\u001b[38;5;34m32,337\u001b[0m (126.32 KB)\n"
            ],
            "text/html": [
              "<pre style=\"white-space:pre;overflow-x:auto;line-height:normal;font-family:Menlo,'DejaVu Sans Mono',consolas,'Courier New',monospace\"><span style=\"font-weight: bold\"> Trainable params: </span><span style=\"color: #00af00; text-decoration-color: #00af00\">32,337</span> (126.32 KB)\n",
              "</pre>\n"
            ]
          },
          "metadata": {}
        },
        {
          "output_type": "display_data",
          "data": {
            "text/plain": [
              "\u001b[1m Non-trainable params: \u001b[0m\u001b[38;5;34m4,012,009\u001b[0m (15.30 MB)\n"
            ],
            "text/html": [
              "<pre style=\"white-space:pre;overflow-x:auto;line-height:normal;font-family:Menlo,'DejaVu Sans Mono',consolas,'Courier New',monospace\"><span style=\"font-weight: bold\"> Non-trainable params: </span><span style=\"color: #00af00; text-decoration-color: #00af00\">4,012,009</span> (15.30 MB)\n",
              "</pre>\n"
            ]
          },
          "metadata": {}
        }
      ],
      "source": [
        "model = tf.keras.models.Sequential()\n",
        "model.add(tf.keras.Input(shape=(max_len,), name='input'))\n",
        "## one-hot encoding\n",
        "model.add(layers.Embedding(input_dim=num_words, output_dim=num_words,\n",
        "                           input_length=max_len, embeddings_initializer='identity',\n",
        "                           trainable=False))\n",
        "## complete the model with recurrent layers\n",
        "model.add(layers.SimpleRNN(16, return_sequences=False))\n",
        "\n",
        "## add binary classification output\n",
        "model.add(layers.Dense(1, activation='sigmoid'))\n",
        "model.summary()"
      ]
    },
    {
      "cell_type": "code",
      "execution_count": null,
      "metadata": {
        "id": "ouKP4QNnBpBK",
        "colab": {
          "base_uri": "https://localhost:8080/"
        },
        "outputId": "fc34a6dd-4f86-459a-dfcb-68736e22aa2b"
      },
      "outputs": [
        {
          "output_type": "stream",
          "name": "stdout",
          "text": [
            "Epoch 1/5\n",
            "\u001b[1m88/88\u001b[0m \u001b[32m━━━━━━━━━━━━━━━━━━━━\u001b[0m\u001b[37m\u001b[0m \u001b[1m6s\u001b[0m 43ms/step - accuracy: 0.4954 - loss: 0.6961 - val_accuracy: 0.5344 - val_loss: 0.6910\n",
            "Epoch 2/5\n",
            "\u001b[1m88/88\u001b[0m \u001b[32m━━━━━━━━━━━━━━━━━━━━\u001b[0m\u001b[37m\u001b[0m \u001b[1m2s\u001b[0m 21ms/step - accuracy: 0.6068 - loss: 0.6738 - val_accuracy: 0.7116 - val_loss: 0.5987\n",
            "Epoch 3/5\n",
            "\u001b[1m88/88\u001b[0m \u001b[32m━━━━━━━━━━━━━━━━━━━━\u001b[0m\u001b[37m\u001b[0m \u001b[1m2s\u001b[0m 20ms/step - accuracy: 0.7636 - loss: 0.5237 - val_accuracy: 0.7800 - val_loss: 0.4828\n",
            "Epoch 4/5\n",
            "\u001b[1m88/88\u001b[0m \u001b[32m━━━━━━━━━━━━━━━━━━━━\u001b[0m\u001b[37m\u001b[0m \u001b[1m3s\u001b[0m 21ms/step - accuracy: 0.8357 - loss: 0.4023 - val_accuracy: 0.7804 - val_loss: 0.4758\n",
            "Epoch 5/5\n",
            "\u001b[1m88/88\u001b[0m \u001b[32m━━━━━━━━━━━━━━━━━━━━\u001b[0m\u001b[37m\u001b[0m \u001b[1m2s\u001b[0m 21ms/step - accuracy: 0.8630 - loss: 0.3506 - val_accuracy: 0.7944 - val_loss: 0.4575\n"
          ]
        }
      ],
      "source": [
        "## set the loss and see the results\n",
        "# https://www.tensorflow.org/api_docs/python/tf/keras/losses\n",
        "model.compile(\n",
        "    optimizer='adam',\n",
        "    loss='binary_crossentropy',\n",
        "    metrics=['accuracy']\n",
        ")\n",
        "epochs = 5\n",
        "history = model.fit(x_train_seq, train_labels,\n",
        "                    validation_split=0.1, epochs=epochs,\n",
        "                    batch_size=256)\n"
      ]
    },
    {
      "cell_type": "code",
      "execution_count": null,
      "metadata": {
        "id": "whDlc7WnBpBL",
        "colab": {
          "base_uri": "https://localhost:8080/",
          "height": 594
        },
        "outputId": "4fe8cea1-08a8-402a-8bec-c9575f001951"
      },
      "outputs": [
        {
          "output_type": "display_data",
          "data": {
            "text/plain": [
              "<Figure size 1600x600 with 2 Axes>"
            ],
            "image/png": "[encoded data removed]"
          },
          "metadata": {}
        },
        {
          "output_type": "stream",
          "name": "stdout",
          "text": [
            "\u001b[1m782/782\u001b[0m \u001b[32m━━━━━━━━━━━━━━━━━━━━\u001b[0m\u001b[37m\u001b[0m \u001b[1m5s\u001b[0m 6ms/step - accuracy: 0.7927 - loss: 0.4706\n",
            "Test Loss: 0.47614747285842896\n",
            "Test Accuracy: 0.7892400026321411\n"
          ]
        }
      ],
      "source": [
        "show_loss_accuracy_evolution(history)\n",
        "results = model.evaluate(x_test_seq, test_labels, verbose=1)\n",
        "print('Test Loss: {}'.format(results[0]))\n",
        "print('Test Accuracy: {}'.format(results[1]))"
      ]
    },
    {
      "cell_type": "code",
      "execution_count": null,
      "metadata": {
        "id": "r4A_Q_RfBpBL",
        "colab": {
          "base_uri": "https://localhost:8080/"
        },
        "outputId": "5457e76e-5bf9-485d-e42f-a2f38d35bd46"
      },
      "outputs": [
        {
          "output_type": "stream",
          "name": "stdout",
          "text": [
            "\u001b[1m782/782\u001b[0m \u001b[32m━━━━━━━━━━━━━━━━━━━━\u001b[0m\u001b[37m\u001b[0m \u001b[1m4s\u001b[0m 5ms/step\n",
            "Predicted : 1, real : 0, lenght: 116\n",
            "<START> and one only in my opinion br br that reason is <UNK> <UNK> she is a wonderful actress on stage as well as on the screen we have few <UNK> to see her though i think that's especially true in the <UNK> states br br here she plays a <UNK> role not only that but she is also very pretty and meant to be something of a <UNK> br br <UNK> <UNK> does not hold up the <UNK> of <UNK> <UNK> he is always <UNK> but he's not much fun he's not a <UNK> or a <UNK> this seemed to me a <UNK> <UNK> with little action or suspense but check it out for <UNK>\n",
            "\n",
            "Predicted : 0, real : 1, lenght: 252\n",
            "<START> after <UNK> up <UNK> city with a little help from <UNK> <UNK> <UNK> <UNK> goes to <UNK> <UNK> where <UNK> got a nice little <UNK> war going plus a rather interesting <UNK> of br br <UNK> scott is <UNK> <UNK> and he's after villains billy house and steve <UNK> who are driving off their <UNK> the they are driving off are in a <UNK> <UNK> by robert <UNK> seems as though he's <UNK> the various <UNK> to a <UNK> of land to <UNK> for a <UNK> of <UNK> from their <UNK> <UNK> about to lose his <UNK> as a result of all the <UNK> br br as portrayed by scott <UNK> <UNK> is a stand up western hero who has a passion to go <UNK> and become a <UNK> which we all know he did later in life br br <UNK> <UNK> and <UNK> <UNK> are involved in a romantic <UNK> involving <UNK> and <UNK> which is a little silly and does <UNK> from the action <UNK> <UNK> does sing nice though br br of course <UNK> <UNK> as always provides the great comic <UNK> br br a good addition to the <UNK> scott collection of <UNK> also interesting because his later western films don't have him as wearing a <UNK> as white as the one here br br this review is <UNK> to <UNK> <UNK> of the professional <UNK> <UNK> who is a <UNK> <UNK> of <UNK> <UNK> a town with a great <UNK> whether <UNK> <UNK> there or not\n",
            "\n",
            "Predicted : 0, real : 1, lenght: 300\n",
            "<START> this begins a series which i'll <UNK> keep up every week end of films that came out during my childhood  in this case it's one i've only managed to catch now it was clearly intended as the last word on the subject which basically had been <UNK> to the level of <UNK> over the years however in its <UNK> <UNK> for a serious <UNK> approach a sure <UNK> of which is that the <UNK> is never once <UNK> to by the name he's been known all this time the world over the film makers rather lost track of the fact that the thing was intended <UNK> as entertainment <UNK> we get a <UNK> <UNK> <UNK> of events  with more care given to <UNK> period <UNK> than in <UNK> a <UNK> <UNK> <UNK> for its <UNK> <UNK> hero even so christopher <UNK> <UNK> to <UNK>  as did another <UNK> <UNK> <UNK> playing his love interest named jane of course  with the title role which he <UNK> enough under the <UNK> however <UNK> <UNK> to whom the film is <UNK> this being his <UNK> song <UNK> every scene he's in as <UNK> natural <UNK> who in <UNK> of showing obvious <UNK> for his long lost <UNK> can't bring himself to forget <UNK> in an effort to understand his <UNK> the hero in fact is much more <UNK> <UNK> with <UNK> even <UNK> after having gone back home to save his <UNK> from <UNK> the film is otherwise very good to look at with cinematography by <UNK> <UNK> regular john <UNK> no less features an <UNK> <UNK> score as well as remarkable make up effects by <UNK> <UNK>  and while <UNK> disappointing as a tarzan <UNK> <UNK> <UNK> value <UNK> as a <UNK> picture of its day\n",
            "\n",
            "Predicted : 0, real : 1, lenght: 121\n",
            "<START> please don't kill me i'm just an actor can you play dead it's difficult to describe this show it's like a crime <UNK> where the bad cop is an ass literally what's great about the show is some of perfectly awful one <UNK> <UNK> out such <UNK> as <UNK> <UNK> <UNK> provides some great laughs at points sadly at other times the show seems to <UNK> along at a slow pace making it almost hard to watch this is definitely the kind of show you'll love or hate there's <UNK> no it's not the best show on adult <UNK> but it has some strong points it's worth looking into just to see if you enjoy it i know i did\n",
            "\n",
            "Predicted : 1, real : 0, lenght: 295\n",
            "<START> i'd never <UNK> out of a movie before this one i'd <UNK> the idea a couple of times but this time i did it <UNK> in to see the end of another movie but had to come back and see the end of the <UNK> while i <UNK> for my friends they told me i didn't miss much while i was gone either i was generally <UNK> by the entire movie in such a grand way that i can't even describe it my <UNK> <UNK> told me to get myself out of the theatre it was a <UNK> <UNK> to a horrible movie the plot <UNK> around the <UNK> actions of some <UNK> <UNK> against <UNK> and <UNK> others there was no ray of light no or <UNK> person to provide <UNK> i found that even the good guys of the movie did nothing for me were silly stupid <UNK> or just plain <UNK> br br the <UNK> <UNK> suicide <UNK> was way <UNK> unnecessary and <UNK> not in a i'm easily <UNK> out way but more in the portrayal of <UNK> for humanity way and besides the <UNK> of that scene in slow motion from so many <UNK> the other visual aspects interesting camera work etc had potential but just became annoying sometimes i am a person who loves movies and tries to find good things about them usually i can find some good things to <UNK> the not so good of any movie i'm not saying that this movie had nothing good but i am saying that whatever that may have been i can't remember it with all the other crap that <UNK> me mad i'm really sorry about that too maybe the best parts were the <UNK> from the classic original\n",
            "\n",
            "Predicted : 0, real : 1, lenght: 251\n",
            "<START> i saw this movie in the early 70's when i was about 10 <UNK> old on tv it was on after school and as i watched i was so drawn into the whole idea of the two <UNK> going on a mission to another <UNK> planet that i asked my mom if i could get the <UNK> <UNK> out she let me so i <UNK> the <UNK> of the <UNK> around the channel <UNK> so the <UNK> was <UNK> in front of the <UNK> this movie is the first one i ever paid enough attention to and <UNK> enough about to record just the <UNK> there were no <UNK> at the time the plot will have you <UNK> onto every word every minute of this film the ending will <UNK> your mind after watching the journey to the far side of the <UNK> you will have <UNK> <UNK> in your mind about it for a long time i did <UNK> the <UNK> <UNK> for many years and saw it over and over in my mind then maybe 15 years later when <UNK> were common and they <UNK> <UNK> in <UNK> i always looked for it but never found it but when the <UNK> came along one day i <UNK> for it and <UNK> it in a second so after about 30 years after seeing it for the first time i got to see it again wow it was <UNK> just for <UNK> i must have watched it 50 times since\n",
            "\n",
            "Predicted : 0, real : 1, lenght: 215\n",
            "<START> man i never laugh so much this year and it's pretty hard to make me laugh while i expected some <UNK> style movie the smile came to my face even from the beginning this film inside film shows a female <UNK> victim <UNK> the whole set until she finally die her <UNK> drive the director <UNK> and his funny <UNK> tell us the viewers that <UNK> <UNK> is not a <UNK> horror movie br br the main character the <UNK> american make up artist billy <UNK> is played by the beautiful yet talented russian actress <UNK> her performance is top <UNK> her character can't speak so the body language and the emotions on her face must <UNK> and oh boy she did a wonderful job her sister <UNK> <UNK> is the girlfriend or the <UNK> or the wife of the in film director <UNK> <UNK> they were both very funny most of the time i won't <UNK> more but the scenes following the <UNK> moment with them two the fake <UNK> and later the angry <UNK> were plain brilliant black comedy br br the plot get <UNK> near the end possibly <UNK> at one particular moment but don't <UNK> such a <UNK> movie can be <UNK> in family or with your boy girl friend\n",
            "\n",
            "Predicted : 0, real : 1, lenght: 268\n",
            "<START> i've tried to <UNK> why so many bad reviews of this film while the <UNK> <UNK> of reviews are given a rating of between 7 and 10 the reason may be this film is kind of hard to describe in a positive review although a few have done that quite nicely already this film is confusing <UNK> and doesn't have a happy ending i still gave x a rating of 10 because it is basically for me <UNK> and art <UNK> on film that is really my favorite kind of <UNK> i've only seen two of <UNK> films this one and <UNK> as with this film i'm being somewhat pretentious when i call this one of <UNK> best films but i am <UNK> has a <UNK> style if that type of film does not appeal to you and is boring then it would be best not to watch this but x was less <UNK> than <UNK> so it had quite a lot of <UNK> for a thriller at least for my taste i found it quite interesting and <UNK> the two lead roles did an excellent job acting i mean the lead and the young woman he thought was his half sister <UNK> d is always great but her role was not very large or <UNK> in the story but everyone did a fine job i thought the cult stuff was great it may have not been very believable but that is due to its being rather <UNK> there is a lot going on between the lines in this film this is a very <UNK> <UNK> thriller\n",
            "\n",
            "Predicted : 0, real : 1, lenght: 543\n",
            "<START> this was one of those films i would always come across be it on tv or cheap dvd but never <UNK> me to give it a shot as i thought i wasn't missing out on much it was on one night and i thought oh <UNK> why not a good <UNK> too as i would kick myself for taking so long to get around to it for me it left me impressed as it's up there with <UNK> <UNK> best features <UNK> <UNK> and <UNK> <UNK> and <UNK> back to those <UNK> <UNK> <UNK> <UNK> <UNK> crime <UNK> that weren't afraid to be <UNK> and go out of their way to set up characters <UNK> it with <UNK> brutal force and <UNK> <UNK> the local locations <UNK> being the case here to the <UNK> with <UNK> photography in certain <UNK> it kind of reminded me of <UNK> <UNK> but that's <UNK> however it's <UNK> <UNK> score with its <UNK> <UNK> <UNK> <UNK> and <UNK> sounds very much had me thinking of <UNK> <UNK> <UNK> score he <UNK> for <UNK> <UNK> the music soundtrack on the other hand is hit or miss br br <UNK> tom <UNK> was an <UNK> <UNK> agent before a <UNK> out during a <UNK> saw him to <UNK> work along with his new <UNK> they come across a <UNK> ring which <UNK> their interest due to fact it's <UNK> by one hard to track and to <UNK> crime lord what they <UNK> up <UNK> a <UNK> government figure and a call girl which can give them some important names but they must get to her before she's made a <UNK> br br <UNK> <UNK> acts but also <UNK> in an <UNK> and <UNK> fashion which would suit his <UNK> hard <UNK> performance and <UNK> <UNK> <UNK> hard <UNK> and <UNK> screenplay that was <UNK> from william <UNK> novel well he does show some sort of heart <UNK> <UNK> <UNK> that <UNK> within the scenes involving the <UNK> able british actress <UNK> <UNK> be it the <UNK> out scenes when he's watching her from another building and slowly becoming <UNK> by her to when they finally come together but these latter <UNK> mid way through do slow up the <UNK> but give it noir like <UNK> the performances are fairly spot on with <UNK> a great <UNK> with <UNK> actors charles <UNK> <UNK> <UNK> brian <UNK> richard <UNK> and <UNK> <UNK> the <UNK> <UNK> and witty <UNK> between these guys were a <UNK> as for the <UNK> villains <UNK> <UNK> <UNK> <UNK> <UNK> and power but it's henry <UNK> who seems born for these roles <UNK> and <UNK> turn that makes the show where his appearance seems to <UNK> things to come and help them fall into place plus his <UNK> filled and violent cat and <UNK> climax with <UNK> and his team is <UNK> done br br the exciting action <UNK> might be quick and <UNK> but <UNK> <UNK> violent like an <UNK> <UNK> <UNK> <UNK> sequence some <UNK> old fashion filming <UNK> add to the suspense the intriguing material keeps it quite <UNK> being character <UNK> but when we think its <UNK> <UNK> it offers up a <UNK> surprise or two along with some <UNK> <UNK> <UNK>\n",
            "\n",
            "Predicted : 1, real : 0, lenght: 235\n",
            "<START> disappointing is the best word i could think for this film especially considering the <UNK> reviews it <UNK> from some other <UNK> br br one thing that really <UNK> the film is that it is <UNK> <UNK> in both <UNK> of the word not only does it present a very <UNK> <UNK> of the games <UNK> as it does on the us <UNK> team but it also contains several <UNK> most of which <UNK> to <UNK> the <UNK> the us team <UNK> br br what is even more disturbing is that all the <UNK> and <UNK> appear to <UNK> us <UNK> to the <UNK> of other <UNK> with a few <UNK> <UNK> for example the viewer is led to believe that the us won the <UNK> of <UNK> in the games when in fact they won only one out of four gold <UNK> and one out of 6 total <UNK> many <UNK> are portrayed as <UNK> of their <UNK> <UNK> thus we have an <UNK> <UNK> and a <UNK> <UNK> french this <UNK> does very little <UNK> to the <UNK> <UNK> that the film is supposed to <UNK> br br in conclusion i believe that this film would appeal to that part of the us audience that is looking for a quick <UNK> of <UNK> self <UNK> those looking for a <UNK> and <UNK> <UNK> <UNK> of the games are <UNK> to look <UNK>\n",
            "\n"
          ]
        }
      ],
      "source": [
        "def show_errors(x_test, model, labels, int2word, n_samples=10):\n",
        "    preds = 1.0 * (model.predict(x_test).flatten() > 0.5)\n",
        "    bad_pred_inds = np.where(preds != labels)[0]\n",
        "    n_samples = min(len(bad_pred_inds), n_samples)\n",
        "    samples_inds = np.random.choice(bad_pred_inds, n_samples)\n",
        "    for ind in samples_inds:\n",
        "        print('Predicted : {0}, real : {1}, lenght: {2}'.format(\n",
        "            int(preds[ind]), labels[ind], len(test_data[ind])))\n",
        "        print(get_words(test_data[ind], int2word))\n",
        "        print()\n",
        "    return\n",
        "\n",
        "show_errors(x_test_seq, model, test_labels, int2word, n_samples=10)"
      ]
    },
    {
      "cell_type": "markdown",
      "metadata": {
        "id": "PEnXNWuOBpBL"
      },
      "source": [
        "#### Making predictioins with new data"
      ]
    },
    {
      "cell_type": "code",
      "execution_count": null,
      "metadata": {
        "id": "2tGGGeKPBpBL",
        "colab": {
          "base_uri": "https://localhost:8080/"
        },
        "outputId": "0fc6f86a-c261-4ed2-db03-669048ead12a"
      },
      "outputs": [
        {
          "output_type": "stream",
          "name": "stdout",
          "text": [
            "\u001b[1m1/1\u001b[0m \u001b[32m━━━━━━━━━━━━━━━━━━━━\u001b[0m\u001b[37m\u001b[0m \u001b[1m0s\u001b[0m 275ms/step\n"
          ]
        },
        {
          "output_type": "execute_result",
          "data": {
            "text/plain": [
              "array([[0.0806],\n",
              "       [0.9317],\n",
              "       [0.9302],\n",
              "       [0.909 ],\n",
              "       [0.0793],\n",
              "       [0.081 ]], dtype=float32)"
            ]
          },
          "metadata": {},
          "execution_count": 23
        }
      ],
      "source": [
        "reviews = ['the film was really bad and i am very disappointed',\n",
        "           'The film was very funny entertaining and good we had a great time . brilliant film',\n",
        "           'this film was just brilliant',\n",
        "           'the film is not good',\n",
        "           'the film is not bad',\n",
        "          'the movie is not bad I like it']\n",
        "sequences = [vectorize_text_sentence(review.lower(), word2int)\n",
        "             for review in reviews]\n",
        "\n",
        "## Padding the sequences\n",
        "x_pred  = tf.keras.preprocessing.sequence.pad_sequences(sequences, maxlen=max_len, truncating='post', padding='post')# ...\n",
        "\n",
        "np.round(model.predict(x_pred), 4)"
      ]
    },
    {
      "cell_type": "code",
      "execution_count": null,
      "metadata": {
        "id": "ESP4EzChBpBL",
        "colab": {
          "base_uri": "https://localhost:8080/"
        },
        "outputId": "aef5d8f1-dde7-4eeb-9dd7-36facb194c4a"
      },
      "outputs": [
        {
          "output_type": "stream",
          "name": "stdout",
          "text": [
            "\u001b[1m1/1\u001b[0m \u001b[32m━━━━━━━━━━━━━━━━━━━━\u001b[0m\u001b[37m\u001b[0m \u001b[1m0s\u001b[0m 40ms/step\n"
          ]
        },
        {
          "output_type": "execute_result",
          "data": {
            "text/plain": [
              "array([[0.],\n",
              "       [1.],\n",
              "       [1.],\n",
              "       [1.],\n",
              "       [0.],\n",
              "       [0.]])"
            ]
          },
          "metadata": {},
          "execution_count": 24
        }
      ],
      "source": [
        "1.0*(model.predict(x_pred) > 0.5)"
      ]
    },
    {
      "cell_type": "markdown",
      "metadata": {
        "id": "-KbNMlJcBpBL"
      },
      "source": [
        "### GRU model\n",
        "Use `keras.layers.GRU`\n"
      ]
    },
    {
      "cell_type": "code",
      "execution_count": null,
      "metadata": {
        "id": "lnjQHR1gBpBL",
        "colab": {
          "base_uri": "https://localhost:8080/"
        },
        "outputId": "37cd45be-c600-47dc-ea18-fa0a8202d23c"
      },
      "outputs": [
        {
          "output_type": "stream",
          "name": "stderr",
          "text": [
            "/usr/local/lib/python3.11/dist-packages/keras/src/layers/core/embedding.py:90: UserWarning: Argument `input_length` is deprecated. Just remove it.\n",
            "  warnings.warn(\n"
          ]
        }
      ],
      "source": [
        "model = tf.keras.models.Sequential()\n",
        "model.add(tf.keras.Input(shape=(max_len,), name='input'))\n",
        "## one-hot encoding\n",
        "model.add(layers.Embedding(input_dim=num_words, output_dim=num_words,\n",
        "                           input_length=max_len, embeddings_initializer='identity',\n",
        "                           trainable=False))\n",
        "\n",
        "## complete the model with recurrent layers\n",
        "model.add(layers.GRU(16, return_sequences=True))\n",
        "model.add(layers.GRU(16, return_sequences=False))\n",
        "model.add(layers.Dense(1, activation='sigmoid'))"
      ]
    },
    {
      "cell_type": "code",
      "execution_count": null,
      "metadata": {
        "id": "irdeGDnOBpBM",
        "colab": {
          "base_uri": "https://localhost:8080/"
        },
        "outputId": "4997b65a-8282-448a-968b-8bdfab7e0812"
      },
      "outputs": [
        {
          "output_type": "stream",
          "name": "stdout",
          "text": [
            "Epoch 1/5\n",
            "\u001b[1m88/88\u001b[0m \u001b[32m━━━━━━━━━━━━━━━━━━━━\u001b[0m\u001b[37m\u001b[0m \u001b[1m7s\u001b[0m 31ms/step - accuracy: 0.5096 - loss: 0.6925 - val_accuracy: 0.5852 - val_loss: 0.6850\n",
            "Epoch 2/5\n",
            "\u001b[1m88/88\u001b[0m \u001b[32m━━━━━━━━━━━━━━━━━━━━\u001b[0m\u001b[37m\u001b[0m \u001b[1m2s\u001b[0m 27ms/step - accuracy: 0.6557 - loss: 0.6246 - val_accuracy: 0.7696 - val_loss: 0.4831\n",
            "Epoch 3/5\n",
            "\u001b[1m88/88\u001b[0m \u001b[32m━━━━━━━━━━━━━━━━━━━━\u001b[0m\u001b[37m\u001b[0m \u001b[1m3s\u001b[0m 27ms/step - accuracy: 0.8014 - loss: 0.4407 - val_accuracy: 0.8008 - val_loss: 0.4381\n",
            "Epoch 4/5\n",
            "\u001b[1m88/88\u001b[0m \u001b[32m━━━━━━━━━━━━━━━━━━━━\u001b[0m\u001b[37m\u001b[0m \u001b[1m3s\u001b[0m 30ms/step - accuracy: 0.8332 - loss: 0.3834 - val_accuracy: 0.8092 - val_loss: 0.4195\n",
            "Epoch 5/5\n",
            "\u001b[1m88/88\u001b[0m \u001b[32m━━━━━━━━━━━━━━━━━━━━\u001b[0m\u001b[37m\u001b[0m \u001b[1m5s\u001b[0m 27ms/step - accuracy: 0.8459 - loss: 0.3643 - val_accuracy: 0.8144 - val_loss: 0.4113\n"
          ]
        }
      ],
      "source": [
        "## set the loss and see the results\n",
        "model.compile(\n",
        "    optimizer='adam',\n",
        "    loss='binary_crossentropy',\n",
        "    metrics=['accuracy']\n",
        ")\n",
        "epochs = 5\n",
        "history = model.fit(x_train_seq, train_labels,\n",
        "                    validation_split=0.1, epochs=epochs,\n",
        "                    batch_size=256)"
      ]
    },
    {
      "cell_type": "code",
      "execution_count": null,
      "metadata": {
        "id": "ktxaOvXlBpBM",
        "colab": {
          "base_uri": "https://localhost:8080/"
        },
        "outputId": "0e7f0fc3-537d-4f7b-caf2-365f437dac0f"
      },
      "outputs": [
        {
          "output_type": "stream",
          "name": "stdout",
          "text": [
            "\u001b[1m782/782\u001b[0m \u001b[32m━━━━━━━━━━━━━━━━━━━━\u001b[0m\u001b[37m\u001b[0m \u001b[1m4s\u001b[0m 5ms/step - accuracy: 0.8086 - loss: 0.4182\n",
            "Test Loss: 0.4208652377128601\n",
            "Test Accuracy: 0.8073199987411499\n"
          ]
        }
      ],
      "source": [
        "results = model.evaluate(x_test_seq, test_labels, verbose=1)\n",
        "print('Test Loss: {}'.format(results[0]))\n",
        "print('Test Accuracy: {}'.format(results[1]))"
      ]
    },
    {
      "cell_type": "markdown",
      "metadata": {
        "id": "Ydp-oblgBpBM"
      },
      "source": [
        "### LSTM model\n",
        "Use `keras.layers.LSTM`\n"
      ]
    },
    {
      "cell_type": "code",
      "execution_count": null,
      "metadata": {
        "id": "eHb5lJZ3BpBM"
      },
      "outputs": [],
      "source": [
        "model = tf.keras.models.Sequential()\n",
        "model.add(tf.keras.Input(shape=(max_len,), name='input'))\n",
        "## one-hot encoding\n",
        "model.add(layers.Embedding(input_dim=num_words, output_dim=num_words,\n",
        "                           input_length=max_len, embeddings_initializer='identity',\n",
        "                           trainable=False))\n",
        "\n",
        "## complete the model with recurrent layers\n",
        "model.add(layers.LSTM(16, return_sequences=True))\n",
        "model.add(layers.LSTM(16, return_sequences=False))\n",
        "model.add(layers.Dense(1, activation='sigmoid'))"
      ]
    },
    {
      "cell_type": "code",
      "execution_count": null,
      "metadata": {
        "id": "t4VzZ-JVBpBM",
        "colab": {
          "base_uri": "https://localhost:8080/"
        },
        "outputId": "7fe08927-28fa-45bd-aafb-e23a05616481"
      },
      "outputs": [
        {
          "output_type": "stream",
          "name": "stdout",
          "text": [
            "Epoch 1/5\n",
            "\u001b[1m88/88\u001b[0m \u001b[32m━━━━━━━━━━━━━━━━━━━━\u001b[0m\u001b[37m\u001b[0m \u001b[1m5s\u001b[0m 31ms/step - accuracy: 0.5415 - loss: 0.6814 - val_accuracy: 0.7684 - val_loss: 0.5136\n",
            "Epoch 2/5\n",
            "\u001b[1m88/88\u001b[0m \u001b[32m━━━━━━━━━━━━━━━━━━━━\u001b[0m\u001b[37m\u001b[0m \u001b[1m5s\u001b[0m 27ms/step - accuracy: 0.7906 - loss: 0.4623 - val_accuracy: 0.8132 - val_loss: 0.4314\n",
            "Epoch 3/5\n",
            "\u001b[1m88/88\u001b[0m \u001b[32m━━━━━━━━━━━━━━━━━━━━\u001b[0m\u001b[37m\u001b[0m \u001b[1m3s\u001b[0m 31ms/step - accuracy: 0.8382 - loss: 0.3810 - val_accuracy: 0.8148 - val_loss: 0.4230\n",
            "Epoch 4/5\n",
            "\u001b[1m88/88\u001b[0m \u001b[32m━━━━━━━━━━━━━━━━━━━━\u001b[0m\u001b[37m\u001b[0m \u001b[1m5s\u001b[0m 27ms/step - accuracy: 0.8468 - loss: 0.3633 - val_accuracy: 0.8100 - val_loss: 0.4100\n",
            "Epoch 5/5\n",
            "\u001b[1m88/88\u001b[0m \u001b[32m━━━━━━━━━━━━━━━━━━━━\u001b[0m\u001b[37m\u001b[0m \u001b[1m2s\u001b[0m 27ms/step - accuracy: 0.8525 - loss: 0.3533 - val_accuracy: 0.8088 - val_loss: 0.4102\n"
          ]
        }
      ],
      "source": [
        "## set the loss and see the results\n",
        "model.compile(\n",
        "    optimizer='adam',\n",
        "    loss='binary_crossentropy',\n",
        "    metrics=['accuracy']\n",
        ")\n",
        "epochs = 5\n",
        "history = model.fit(x_train_seq, train_labels,\n",
        "                    validation_split=0.1, epochs=epochs,\n",
        "                    batch_size=256)"
      ]
    },
    {
      "cell_type": "code",
      "execution_count": null,
      "metadata": {
        "id": "Ml6AP9yeBpBM",
        "colab": {
          "base_uri": "https://localhost:8080/"
        },
        "outputId": "239a5f3a-8eba-47ff-9e89-2b043b3fa220"
      },
      "outputs": [
        {
          "output_type": "stream",
          "name": "stdout",
          "text": [
            "\u001b[1m782/782\u001b[0m \u001b[32m━━━━━━━━━━━━━━━━━━━━\u001b[0m\u001b[37m\u001b[0m \u001b[1m5s\u001b[0m 6ms/step - accuracy: 0.8042 - loss: 0.4227\n",
            "Test Loss: 0.42592015862464905\n",
            "Test Accuracy: 0.8026400208473206\n"
          ]
        }
      ],
      "source": [
        "results = model.evaluate(x_test_seq, test_labels, verbose=1)\n",
        "print('Test Loss: {}'.format(results[0]))\n",
        "print('Test Accuracy: {}'.format(results[1]))"
      ]
    },
    {
      "cell_type": "markdown",
      "metadata": {
        "id": "eKJ2PWsXBpBN"
      },
      "source": [
        "### Bidirectional model\n",
        "Use `keras.layers.SimpleRNN`,  `keras.layers.GRU`,  `keras.layers.LSTM` with `keras.layers.Bidirectional`\n"
      ]
    },
    {
      "cell_type": "code",
      "execution_count": null,
      "metadata": {
        "id": "todCRq0gBpBO"
      },
      "outputs": [],
      "source": [
        "model = tf.keras.models.Sequential()\n",
        "model.add(tf.keras.Input(shape=(max_len,), name='input'))\n",
        "## one-hot encoding\n",
        "model.add(layers.Embedding(input_dim=num_words, output_dim=num_words,\n",
        "                           input_length=max_len, embeddings_initializer='identity',\n",
        "                           trainable=True))\n",
        "\n",
        "## complete the model with recurrent layers\n",
        "model.add(layers.Bidirectional(layers.LSTM(32, return_sequences=True)))\n",
        "model.add(layers.Dropout(0.3))\n",
        "model.add(layers.Bidirectional(layers.LSTM(32, return_sequences=False)))\n",
        "model.add(layers.Dropout(0.1))\n",
        "model.add(layers.Dense(1, activation='sigmoid'))"
      ]
    },
    {
      "cell_type": "code",
      "execution_count": null,
      "metadata": {
        "id": "Q6h_9V5fBpBO",
        "colab": {
          "base_uri": "https://localhost:8080/"
        },
        "outputId": "9c692e3f-9b50-496b-dee0-4e5f52552f37"
      },
      "outputs": [
        {
          "output_type": "stream",
          "name": "stdout",
          "text": [
            "Epoch 1/50\n",
            "\u001b[1m167/167\u001b[0m \u001b[32m━━━━━━━━━━━━━━━━━━━━\u001b[0m\u001b[37m\u001b[0m \u001b[1m13s\u001b[0m 55ms/step - accuracy: 0.5546 - loss: 0.6912 - val_accuracy: 0.6285 - val_loss: 0.6799\n",
            "Epoch 2/50\n",
            "\u001b[1m167/167\u001b[0m \u001b[32m━━━━━━━━━━━━━━━━━━━━\u001b[0m\u001b[37m\u001b[0m \u001b[1m9s\u001b[0m 51ms/step - accuracy: 0.6517 - loss: 0.6632 - val_accuracy: 0.7528 - val_loss: 0.5461\n",
            "Epoch 3/50\n",
            "\u001b[1m167/167\u001b[0m \u001b[32m━━━━━━━━━━━━━━━━━━━━\u001b[0m\u001b[37m\u001b[0m \u001b[1m10s\u001b[0m 51ms/step - accuracy: 0.7840 - loss: 0.4901 - val_accuracy: 0.7947 - val_loss: 0.4512\n",
            "Epoch 4/50\n",
            "\u001b[1m167/167\u001b[0m \u001b[32m━━━━━━━━━━━━━━━━━━━━\u001b[0m\u001b[37m\u001b[0m \u001b[1m9s\u001b[0m 52ms/step - accuracy: 0.8185 - loss: 0.4120 - val_accuracy: 0.8059 - val_loss: 0.4328\n",
            "Epoch 5/50\n",
            "\u001b[1m167/167\u001b[0m \u001b[32m━━━━━━━━━━━━━━━━━━━━\u001b[0m\u001b[37m\u001b[0m \u001b[1m10s\u001b[0m 52ms/step - accuracy: 0.8346 - loss: 0.3856 - val_accuracy: 0.8096 - val_loss: 0.4302\n",
            "Epoch 6/50\n",
            "\u001b[1m167/167\u001b[0m \u001b[32m━━━━━━━━━━━━━━━━━━━━\u001b[0m\u001b[37m\u001b[0m \u001b[1m10s\u001b[0m 52ms/step - accuracy: 0.8445 - loss: 0.3712 - val_accuracy: 0.8101 - val_loss: 0.4306\n",
            "Epoch 7/50\n",
            "\u001b[1m167/167\u001b[0m \u001b[32m━━━━━━━━━━━━━━━━━━━━\u001b[0m\u001b[37m\u001b[0m \u001b[1m10s\u001b[0m 52ms/step - accuracy: 0.8502 - loss: 0.3624 - val_accuracy: 0.8101 - val_loss: 0.4296\n",
            "Epoch 8/50\n",
            "\u001b[1m167/167\u001b[0m \u001b[32m━━━━━━━━━━━━━━━━━━━━\u001b[0m\u001b[37m\u001b[0m \u001b[1m10s\u001b[0m 52ms/step - accuracy: 0.8556 - loss: 0.3559 - val_accuracy: 0.8091 - val_loss: 0.4302\n",
            "Epoch 9/50\n",
            "\u001b[1m167/167\u001b[0m \u001b[32m━━━━━━━━━━━━━━━━━━━━\u001b[0m\u001b[37m\u001b[0m \u001b[1m10s\u001b[0m 51ms/step - accuracy: 0.8556 - loss: 0.3509 - val_accuracy: 0.8099 - val_loss: 0.4310\n",
            "Epoch 10/50\n",
            "\u001b[1m167/167\u001b[0m \u001b[32m━━━━━━━━━━━━━━━━━━━━\u001b[0m\u001b[37m\u001b[0m \u001b[1m10s\u001b[0m 51ms/step - accuracy: 0.8567 - loss: 0.3477 - val_accuracy: 0.8088 - val_loss: 0.4326\n",
            "Epoch 11/50\n",
            "\u001b[1m167/167\u001b[0m \u001b[32m━━━━━━━━━━━━━━━━━━━━\u001b[0m\u001b[37m\u001b[0m \u001b[1m9s\u001b[0m 52ms/step - accuracy: 0.8591 - loss: 0.3426 - val_accuracy: 0.8059 - val_loss: 0.4356\n",
            "Epoch 12/50\n",
            "\u001b[1m167/167\u001b[0m \u001b[32m━━━━━━━━━━━━━━━━━━━━\u001b[0m\u001b[37m\u001b[0m \u001b[1m10s\u001b[0m 53ms/step - accuracy: 0.8594 - loss: 0.3388 - val_accuracy: 0.8053 - val_loss: 0.4391\n",
            "Epoch 12: early stopping\n"
          ]
        }
      ],
      "source": [
        "## set the loss and see the results\n",
        "model.compile(\n",
        "    optimizer=keras.optimizers.Adam(learning_rate=3e-5),\n",
        "    loss='binary_crossentropy',\n",
        "    metrics=['accuracy']\n",
        ")\n",
        "\n",
        "es_callback = keras.callbacks.EarlyStopping(\n",
        "    monitor='val_loss',\n",
        "    patience=5,\n",
        "    verbose=1)\n",
        "\n",
        "epochs = 50\n",
        "history = model.fit(x_train_seq, train_labels,\n",
        "                    validation_split=0.15, epochs=epochs,\n",
        "                    batch_size=128, callbacks=[es_callback])"
      ]
    },
    {
      "cell_type": "code",
      "execution_count": null,
      "metadata": {
        "id": "yge6tIcqBpBO",
        "colab": {
          "base_uri": "https://localhost:8080/"
        },
        "outputId": "0cc718df-2686-47f4-8cde-0468a59e409b"
      },
      "outputs": [
        {
          "output_type": "stream",
          "name": "stdout",
          "text": [
            "\u001b[1m782/782\u001b[0m \u001b[32m━━━━━━━━━━━━━━━━━━━━\u001b[0m\u001b[37m\u001b[0m \u001b[1m8s\u001b[0m 10ms/step - accuracy: 0.8060 - loss: 0.4335\n",
            "Test Loss: 0.438069224357605\n",
            "Test Accuracy: 0.8053200244903564\n"
          ]
        }
      ],
      "source": [
        "results = model.evaluate(x_test_seq, test_labels, verbose=1)\n",
        "print('Test Loss: {}'.format(results[0]))\n",
        "print('Test Accuracy: {}'.format(results[1]))"
      ]
    },
    {
      "cell_type": "markdown",
      "metadata": {
        "id": "tiMT5iyaBpBO"
      },
      "source": [
        "#### Making predictioins with new data"
      ]
    },
    {
      "cell_type": "code",
      "execution_count": null,
      "metadata": {
        "id": "_BKO5oIHBpBO",
        "colab": {
          "base_uri": "https://localhost:8080/"
        },
        "outputId": "5aee0061-7c06-4160-cd05-3c5e22efdd6d"
      },
      "outputs": [
        {
          "output_type": "stream",
          "name": "stdout",
          "text": [
            "\u001b[1m1/1\u001b[0m \u001b[32m━━━━━━━━━━━━━━━━━━━━\u001b[0m\u001b[37m\u001b[0m \u001b[1m0s\u001b[0m 327ms/step\n"
          ]
        },
        {
          "output_type": "execute_result",
          "data": {
            "text/plain": [
              "array([[0.3348],\n",
              "       [0.9634],\n",
              "       [0.8146],\n",
              "       [0.6565],\n",
              "       [0.411 ],\n",
              "       [0.455 ]], dtype=float32)"
            ]
          },
          "metadata": {},
          "execution_count": 34
        }
      ],
      "source": [
        "reviews = ['the film was really bad and i am very disappointed',\n",
        "           'The film was very funny entertaining and good we had a great time . brilliant film',\n",
        "           'this film was just brilliant',\n",
        "           'the film is not good',\n",
        "           'the film is not bad',\n",
        "          'the movie is not bad I like it']\n",
        "sequences = [vectorize_text_sentence(review.lower(), word2int)\n",
        "             for review in reviews]\n",
        "\n",
        "## Padding the sequences\n",
        "x_pred  = tf.keras.preprocessing.sequence.pad_sequences(sequences, maxlen=max_len, truncating='post', padding='post')# ...\n",
        "\n",
        "np.round(model.predict(x_pred), 4)"
      ]
    },
    {
      "cell_type": "code",
      "execution_count": null,
      "metadata": {
        "id": "3_COwgOpBpBO",
        "colab": {
          "base_uri": "https://localhost:8080/"
        },
        "outputId": "ceb690e0-761e-47e0-e400-c30edb54f084"
      },
      "outputs": [
        {
          "output_type": "stream",
          "name": "stdout",
          "text": [
            "\u001b[1m782/782\u001b[0m \u001b[32m━━━━━━━━━━━━━━━━━━━━\u001b[0m\u001b[37m\u001b[0m \u001b[1m7s\u001b[0m 8ms/step\n",
            "Predicted : 1, real : 0, lenght: 734\n",
            "<START> first off the editing of this film <UNK> of one major <UNK> which i don't understand how was missed you <UNK> see the <UNK> <UNK> <UNK> in and out of the film the first time i saw it i just said well <UNK> happen and <UNK> it off after about the <UNK> time it began to get incredibly <UNK> and <UNK> funny if you haven't seen the film yet try <UNK> how many times you see the <UNK> might make for pretty interesting game br br now about the film this movie started out with the <UNK> of a pretty solid ghost story however the plot twist at the end just <UNK> it completely you begin watching the movie under the <UNK> <UNK> by the tv <UNK> that the <UNK> house <UNK> of <UNK> which can only be seen by children particularly young children which makes it even more <UNK> as they will be <UNK> to <UNK> <UNK> the family of the <UNK> <UNK> the opening scene did a good job of <UNK> the audience that this would <UNK> the premise of the film spoiler the movie starts with the family being <UNK> and ultimately killed by an <UNK> force in the home the idea that only children can see these <UNK> is set in motion when the daughter at the beginning of the movie asks her little brother to tell her where it is right before it <UNK> her and <UNK> her screaming into the <UNK> the young boy also <UNK> this supposedly <UNK> force kill his mother after she tells him to <UNK> under the bed after his family is killed the boy attempts to run and <UNK> only to be <UNK> away as well br br as i said this movie started out with the <UNK> of a pretty <UNK> movie in which the family would be <UNK> by an <UNK> force with their only hopes of <UNK> <UNK> on <UNK> by a two year old this began to be <UNK> less than <UNK> into the film as the daughter began to see the <UNK> as well completely <UNK> the only children can see <UNK> set <UNK> by the <UNK> and opening scene br br <UNK> of this the movie didn't actually get <UNK> until the plot twist at the end in which the man who had been <UNK> the family <UNK> the <UNK> turns out to have been the man responsible for killing the family at the beginning of the movie all of a <UNK> after being <UNK> by a <UNK> of <UNK> the man <UNK> and tries to kill the mother daughter and son while having a <UNK> <UNK> in which he <UNK> them to be his family which he killed at the beginning br br the whole plot twist at the end just created a whole list of <UNK> questions and left me going <UNK> first why was the <UNK> <UNK> <UNK> in a house if the director was going for a <UNK> on the <UNK> approach in which the family after dying in a fit of <UNK> would <UNK> the house and kill <UNK> <UNK> why did the <UNK> stop after the father was <UNK> by the <UNK> of his family if the <UNK> only wanted to kill the man that killed them why were they <UNK> the new family here's another one for you it takes several months from the time you <UNK> <UNK> until the <UNK> fully <UNK> in time for <UNK> this tells me that the man who killed his family at the beginning the man that the <UNK> apparently had a <UNK> with the whole movie was living on the <UNK> for months during all this time why didn't the <UNK> just go kill him br br this movie included a lot of <UNK> horror movie <UNK> as well as an obvious <UNK> of ideas from other horror movies however i'm telling <UNK> this movie still <UNK> pulled off okay if not for the plot twist at the end it's like they just <UNK> out of their budget and just <UNK> together something for an ending for this movie to have been a success they <UNK> stuck with the only children can see them premise and ended with either the family barely getting away or being killed off like the family at the beginning <UNK> <UNK> the door for possible sequel too\n",
            "\n",
            "Predicted : 1, real : 0, lenght: 390\n",
            "<START> as an <UNK> gone with the wind fan i was disappointed to watch the original movie and see that they had left out many important characters <UNK> the film on its own was a wonderful piece when the book <UNK> came out i read it in hopes of following two of my favorite <UNK> characters <UNK> on their journey together while the book lacks any true quality it remains a good story and as long as i was able to <UNK> it from the original was and still is enjoyable however i consider the six hours i spent watching the <UNK> <UNK> to be some of the worst spent hours of my life any of the original character <UNK> so well <UNK> in <UNK> <UNK> book this series also turned the story of the sequel into one of rape <UNK> murder and relationships that even the book <UNK> <UNK> away from the casting for many of the characters <UNK> to <UNK> the <UNK> that had been so well <UNK> in both the original novel and film and even <UNK> through in the second book and again leaves out at least one incredibly <UNK> character in the novel <UNK> <UNK> <UNK> follows her <UNK> husband <UNK> <UNK> to <UNK> under the <UNK> of <UNK> <UNK> family after coming to an <UNK> with <UNK> she <UNK> to leave and <UNK> to <UNK> with her <UNK> <UNK> in <UNK> eventually she <UNK> her <UNK> a <UNK> <UNK> of the <UNK> to <UNK> to further <UNK> her <UNK> <UNK> that go deep and is eventually named the <UNK> the head of the family while her <UNK> as the <UNK> keep her <UNK> in her town of <UNK> <UNK> out into the world of the english <UNK> and <UNK> becomes a <UNK> after <UNK> at many of their <UNK> she having been <UNK> by <UNK> time and time again eventually <UNK> to <UNK> <UNK> the <UNK> of <UNK> until <UNK> comes along in a <UNK> night on white horse type of a <UNK> the <UNK> <UNK> fails even to do this justice <UNK> by her <UNK> and <UNK> by her family the series shows <UNK> thrown in <UNK> after she is <UNK> for a murder her <UNK> <UNK> br br i <UNK> <UNK> anyone considering <UNK> their day watching this to <UNK> this <UNK>\n",
            "\n",
            "Predicted : 0, real : 1, lenght: 144\n",
            "<START> the all i have is 5 <UNK> and my wedding ring scene was a <UNK> i also <UNK> at the scene in the bar where <UNK> the horse <UNK> and <UNK> the <UNK> to the japanese guy and said <UNK> <UNK> <UNK> i think my <UNK> is higher than <UNK> but i'm not sure because i can't count that high br br funny thing this 10 line <UNK> seems as though they would <UNK> you for making your comments too long not too short i hope i don't make it to 1 000 words before i get to line 10 br br i'm still two lines short <UNK> me while i think and <UNK> or <UNK> and think it <UNK> on whether my hands are <UNK> than my mind good i think i've made it to the 10 line <UNK> thanks for reading\n",
            "\n",
            "Predicted : 1, real : 0, lenght: 447\n",
            "<START> when watching this movie with it's <UNK> cause and effect wall to wall clichés and <UNK> <UNK> can anyone be so <UNK> as to think that this is actually how <UNK> life played out you watch it in a <UNK> of <UNK> hollywood <UNK> aren't based on the <UNK> lives anymore they're just <UNK> of <UNK> successful <UNK> if hollywood made a movie about your life it would be filled with such perfect <UNK> that you'd barely <UNK> your own story any personal <UNK> would be <UNK> by some all <UNK> <UNK> <UNK> your story would <UNK> <UNK> because it's the only life <UNK> hollywood knows how to <UNK> anymore we couldn't leave the audience <UNK> anything left open ended as they <UNK> this movie doesn't trust an audience to figure things out without being led to them i <UNK> the captain <UNK> mother <UNK> <UNK> before the movie it for me i could see the <UNK> kids twist coming for days br br this is a completely average movie not horrible but not great <UNK> it's likely to be <UNK> with a few <UNK> next year there's nothing the academy likes better than <UNK> itself for finally <UNK> <UNK> put in place over the previous <UNK> years br br from the new <UNK> <UNK> lost boys by <UNK> <UNK> br br arthur <UNK> also <UNK> his boys and it may be <UNK> of finding <UNK> to <UNK> him for <UNK> <UNK> from the scene by the time that johnny <UNK> meets kate <UNK> she is already a <UNK> <UNK> arthur was very much alive when <UNK> first <UNK> the little by little the the <UNK> family br br finding <UNK> is a <UNK> from the moment that <UNK> met george and jack and started to <UNK> the means by which they might be <UNK> <UNK> the story is sad but the reality is even more <UNK> <UNK> dies from <UNK> of the <UNK> dies of <UNK> <UNK> the five boys are <UNK> <UNK> is made their <UNK> is killed in the first world war fighting with his <UNK> in <UNK> an <UNK> at <UNK> is <UNK> while <UNK> with a friend the two <UNK> when <UNK> are found <UNK> together br br on <UNK> 5 <UNK> peter <UNK> by then an <UNK> <UNK> <UNK> himself under a <UNK> train in london we should not <UNK> to read a mind in <UNK> but we may note in <UNK> that if he had lived another <UNK> he would have <UNK> the <UNK> of <UNK> <UNK> and thus one <UNK> a fresh <UNK> of interest in peter <UNK> <UNK> that terrible masterpiece in the words of peter <UNK>\n",
            "\n",
            "Predicted : 1, real : 0, lenght: 117\n",
            "<START> i'm really disappointed by this piece of work it is quiet <UNK> keeps <UNK> itself is mostly not <UNK> and sometimes on the <UNK> of being wrong i think it's made for <UNK> school especially because it keeps <UNK> itself over and over again while leaving large <UNK> a young kid might actually enjoy it and learn from it but a better way to make a kid appreciate <UNK> <UNK> are books like a short history of time or the <UNK> of <UNK> if you are familiar with the <UNK> on a very basic level you won't <UNK> any new information or <UNK> from this series don't waste your time with it nice eye candy though\n",
            "\n",
            "Predicted : 0, real : 1, lenght: 234\n",
            "<START> i saw the trailer and read some reviews and i had low expectations for this movie i was <UNK> surprised while the plot is a little off beat everybody in the making of this movie pulled off a <UNK> flick good for many a laugh the writing and jokes are far more <UNK> than i have come to expect better yet they are <UNK> with <UNK> by unknown actors doing a good job all of them br br the main reasons i wanted to see this movie were <UNK> long and <UNK> black long is from ed and the new <UNK> computer <UNK> he was just coming into his own as an actor in ed and he was excellent here he's a natural in front of the camera <UNK> black is a social <UNK> who <UNK> no <UNK> he's on the <UNK> show on comedy central about once every two <UNK> but he really <UNK> in <UNK> red white and <UNK> i <UNK> catch him on <UNK> <UNK> comedy channel give black an idea and let him <UNK> whether his <UNK> and lines here are <UNK> or <UNK> are no matter he's <UNK> <UNK> his <UNK> on middle class <UNK> one thing about <UNK> <UNK> his hand <UNK> are not those of a <UNK> it just seems like he's having a <UNK> with you and i think that makes him <UNK> more effective\n",
            "\n",
            "Predicted : 1, real : 0, lenght: 681\n",
            "<START> the first time i saw this was when i was with a date and she thought it was an awesome movie i didn't br br the second time i saw this was last night on tv it still sucks br br as a love story this sucks as having <UNK> portray a street <UNK> this is <UNK> to me she was a <UNK> with a <UNK> and <UNK> she had no tough <UNK> to her she wasn't <UNK> <UNK> <UNK> <UNK> or anything else her <UNK> character was so <UNK> like <UNK> a <UNK> to a <UNK> the two simply don't fit no matter what they look like br br the only cast i felt was worth watching was the 2 <UNK> <UNK> whom were <UNK> cast they did such a fine job that i hated them for the few seconds that they were on screen they had real <UNK> for the minor roles ok so the movie wasn't entirely trash the two <UNK> <UNK> saved the film br br aside from those two women <UNK> people the rest of the cast including the big names was just crap either everybody was an ass <UNK> or had absolutely no reason to <UNK> any dialog in the movie aside from just <UNK> <UNK> <UNK> or <UNK> ass to richard <UNK> br br this was a movie about how when you walk around in high <UNK> and a <UNK> <UNK> in <UNK> <UNK> people <UNK> at you and guys who work in <UNK> <UNK> as if they just had a <UNK> <UNK> <UNK> to their face br br while in reality the women who are dressed to the <UNK> in <UNK> <UNK> are <UNK> and <UNK> to a higher <UNK> but since they aren't wearing the <UNK> <UNK> looking <UNK> or the <UNK> <UNK> they can look down on the others who do br br the hotel cast was <UNK> sad to watch and anybody who had any real character had less than a minute of screen time br br this is an <UNK> to romantic movies comedies <UNK> and even to <UNK> who face <UNK> <UNK> on a <UNK> <UNK> with hopes of having their lives work out perfect br br the story is about <UNK> <UNK> being <UNK> yes <UNK> by a <UNK> in a business suit and <UNK> br br she is still <UNK> still told how to act how to move what to <UNK> what to say where to go and what to do he is more <UNK> than a street <UNK> but the folks at disney <UNK> <UNK> <UNK> it up to make it <UNK> to <UNK> br br had richard <UNK> been a black man with a gold <UNK> and an <UNK> <UNK> at his side instead of an case this movie would be about how a woman has to struggle to get away from the <UNK> of <UNK> same story different characters will make a very different <UNK> br br oh yeah change the white man for a black man or <UNK> or spanish have the land business deal be changed to a deal of <UNK> or <UNK> and the entire concept of romantic comedy is thrown away br br as far as i'm concerned pretty woman is still trash dressed with <UNK> and <UNK> br br i didn't like it 15 years ago when i didn't understand it and was led by the hollywood <UNK> i hate it now that i can see past the pretty <UNK> that is called love br br this movie is not a romantic comedy it's a story on how to control a woman as long as you have the means and <UNK> to do so br br this is an <UNK> to strong women weak women and women in general as well as to my television screen br br do i hate it yes does it <UNK> yes would i recommend it to you no well maybe if i really hated you br br will this review get <UNK> <UNK> see br br <UNK> that's all for now\n",
            "\n",
            "Predicted : 0, real : 1, lenght: 194\n",
            "<START> kevin <UNK> again <UNK> a <UNK> with <UNK> <UNK> an <UNK> movie that <UNK> <UNK> <UNK> at human <UNK> <UNK> the character's <UNK> yet at the same time <UNK> wise point of view br br it's enjoyable trying to work out <UNK> he is or he as the plot <UNK> and the robert <UNK> character gets <UNK> out however some may find the ending a little <UNK> but in reality it couldn't have been any other way br br my few issues with the film <UNK> around the rather <UNK> and over <UNK> portrayal of mental <UNK> i was surprised because the films plot shows a great deal of intelligence and i don't feel it would have lost anything by being more honest <UNK> how people with mental <UNK> problems <UNK> br br that said i <UNK> this was a movie and not a documentary and the film itself is shot and the story <UNK> at a <UNK> rate br br <UNK> is great and <UNK> delivers a <UNK> and <UNK> performance more like a stand up than an alien br br a good film that will get you talking with your friends\n",
            "\n",
            "Predicted : 1, real : 0, lenght: 358\n",
            "<START> just saw this film at the fantasy <UNK> <UNK> i am not impressed br br as far as the story goes too <UNK> return from their <UNK> <UNK> while waiting for their <UNK> they get to know a couple of boys who then take the last and of course wrong <UNK> <UNK> to the city on <UNK> is also one other older man so <UNK> portrayed that you <UNK> guess that he is one of the bad guys the other one is the <UNK> br br the <UNK> takes them into <UNK> <UNK> and then one after the other goes done a little blood some cut of <UNK> some violence mostly playing with the fear of the girls in the end after some ups and <UNK> <UNK> and there's some not too new scary moments everyone is dead but the <UNK> and the girls the girls end up in some <UNK> where one of them is killed after <UNK> that she had <UNK> with the other <UNK> boyfriend the other girl which is the conclusion is <UNK> by the left over <UNK> <UNK> <UNK> got killed in some <UNK> box to <UNK> a <UNK> <UNK> being the final picture first story <UNK> of <UNK> questions you ask yourself loose ends and a conclusion that is not a good <UNK> but a total disappointment i can't see how such a <UNK> <UNK> is supposed to have <UNK> <UNK> of women as is <UNK> by a <UNK> full of <UNK> <UNK> second acting mediocre at its best br br third <UNK> <UNK> ok but i am bored by torture as a means to nothing but itself <UNK> with humans could be a good reason for a horror flick but it's not used as one just as a background br br <UNK> music and sound some nice tries but the sound <UNK> of the <UNK> <UNK> <UNK> <UNK> and <UNK> sounds have not been really <UNK> music would have been worse without it but apart from that some <UNK> moving <UNK> <UNK> theme for <UNK> when the girls <UNK> their final <UNK> ok i guess br br <UNK> avoid it\n",
            "\n",
            "Predicted : 1, real : 0, lenght: 423\n",
            "<START> the original review i had <UNK> for this movie was perhaps a little over <UNK> so i'll <UNK> with the good <UNK> <UNK> is a perfectly <UNK> <UNK> and <UNK> or <UNK> movie the kind you watch with a good group of people when the mood is light and no <UNK> really <UNK> on the movie the visual elements are beautiful and it is kinda fun in parts but horror my friends it is not i made the mistake of watching it expecting something to <UNK> at with all the <UNK> off if this is your <UNK> <UNK> me a personal message and i'll offer you a list of <UNK> <UNK> that's a serious offer by the way true horror fans deserve better now my <UNK> complete with spoilers spoilers spoilers spoilers spoilers why bother even making a movie based on a classic story if you're not even going to attempt to stay true to the sense feel tone or theme of the original listen <UNK> between the lines of ill written dialogue and you'll hear the slow <UNK> of <UNK> <UNK> <UNK> over in his <UNK> i will even accept the big city detective bit but <UNK> <UNK> around the bed come now not only is there nothing even <UNK> like this in the legend of <UNK> <UNK> but it's historical <UNK> i don't care what <UNK> <UNK> <UNK> you have to <UNK> but in the <UNK> century <UNK> meant <UNK> your soul to the <UNK> in <UNK> for <UNK> powers this whole <UNK> white witch <UNK> <UNK> <UNK> it <UNK> none approach to <UNK> <UNK> back <UNK> about as far as the british <UNK> <UNK> interested in real old school <UNK> <UNK> are <UNK> to james the <UNK> <UNK> if you don't believe me this <UNK> such a <UNK> element thrown into the <UNK> of the film that the very <UNK> of the <UNK> <UNK> legend is <UNK> so we wind up with a totally different story <UNK> if that was <UNK> idea i wish <UNK> <UNK> us in <UNK> also i wish <UNK> come up with a better story than the rather <UNK> one <UNK> here and he might as well have <UNK> the <UNK> <UNK> <UNK> and at any rate the movie isn't scary not once not at all the <UNK> <UNK> came close but was more than <UNK> by the laughable effect of the <UNK> comedy <UNK> and finally yes i too wanted <UNK> <UNK> for christmas but god clearly never meant her to be a blonde\n",
            "\n"
          ]
        }
      ],
      "source": [
        "show_errors(x_test_seq, model, test_labels, int2word, n_samples=10)"
      ]
    },
    {
      "cell_type": "markdown",
      "metadata": {
        "id": "Kkve-5AaBpBO"
      },
      "source": [
        "###  Use a convolutional network instead of a RNN\n",
        "\n",
        "```python\n",
        "tf.keras.layers.Conv1D(\n",
        "    filters, kernel_size\n",
        ")\n",
        "```\n",
        "\n",
        "```python\n",
        "tf.keras.layers.MaxPool1D(\n",
        "    pool_size=2\n",
        ")\n",
        "```\n",
        "\n",
        "```python\n",
        "tf.keras.layers.Flatten()\n",
        "```"
      ]
    },
    {
      "cell_type": "code",
      "execution_count": null,
      "metadata": {
        "id": "AV_lyjMHBpBP"
      },
      "outputs": [],
      "source": [
        "from tensorflow.keras.datasets import imdb\n",
        "num_words = 2000\n",
        "((train_data, train_labels), (test_data, test_labels)\n",
        " ) = imdb.load_data(num_words=num_words)\n",
        "\n",
        "#  limit the data for class time\n",
        "# Transform word_id to word and reverse\n",
        "word2int = imdb.get_word_index()\n",
        "word2int = {w: i+3 for w, i in word2int.items()}\n",
        "word2int[\"<PAD>\"] = 0\n",
        "word2int[\"<START>\"] = 1\n",
        "word2int[\"<UNK>\"] = 2\n",
        "word2int[\"<UNUSED>\"] = 3\n",
        "int2word = {i: w for w, i in word2int.items()}\n",
        "num_words = num_words+3\n"
      ]
    },
    {
      "cell_type": "code",
      "execution_count": null,
      "metadata": {
        "id": "LeJSL1WmBpBP",
        "colab": {
          "base_uri": "https://localhost:8080/"
        },
        "outputId": "505f852a-f937-43ba-8fbc-cb9dd06eea6a"
      },
      "outputs": [
        {
          "output_type": "stream",
          "name": "stdout",
          "text": [
            "train shape: (25000, 100)\n",
            "test shape: (25000, 100)\n"
          ]
        }
      ],
      "source": [
        "max_len = 100\n",
        "x_train_seq = tf.keras.preprocessing.sequence.pad_sequences(train_data, maxlen=max_len, truncating='post', padding='post')\n",
        "x_test_seq = tf.keras.preprocessing.sequence.pad_sequences(test_data, maxlen=max_len, truncating='post', padding='post')\n",
        "\n",
        "print('train shape:', x_train_seq.shape)\n",
        "print('test shape:', x_test_seq.shape)"
      ]
    },
    {
      "cell_type": "code",
      "source": [
        "model = tf.keras.models.Sequential()\n",
        "model.add(tf.keras.Input(shape=(max_len,), name='input'))\n",
        "## one-hot encoding\n",
        "model.add(layers.Embedding(input_dim=num_words, output_dim=num_words,\n",
        "                           input_length=max_len, embeddings_initializer='identity',\n",
        "                           trainable=False))\n",
        "\n",
        "\n",
        "model.add(layers.Conv1D(32, 3, activation='relu'))\n",
        "model.add(layers.MaxPooling1D(2))\n",
        "\n",
        "model.add(layers.Dropout(0.5))\n",
        "model.add(layers.Conv1D(32, 3, activation='relu'))\n",
        "model.add(layers.MaxPooling1D(2))\n",
        "\n",
        "model.add(layers.Dropout(0.5))\n",
        "model.add(layers.Flatten())\n",
        "model.add(layers.Dense(32, activation='relu'))\n",
        "model.add(layers.Dense(1, activation='sigmoid'))"
      ],
      "metadata": {
        "id": "wQ3TDPJz1q_Y"
      },
      "execution_count": null,
      "outputs": []
    },
    {
      "cell_type": "code",
      "execution_count": null,
      "metadata": {
        "id": "hrNycmPPBpBP",
        "colab": {
          "base_uri": "https://localhost:8080/"
        },
        "outputId": "80141a3f-674c-4fcc-9757-2efe895b344f"
      },
      "outputs": [
        {
          "output_type": "stream",
          "name": "stdout",
          "text": [
            "Epoch 1/5\n",
            "\u001b[1m88/88\u001b[0m \u001b[32m━━━━━━━━━━━━━━━━━━━━\u001b[0m\u001b[37m\u001b[0m \u001b[1m12s\u001b[0m 77ms/step - accuracy: 0.5009 - loss: 0.6935 - val_accuracy: 0.5748 - val_loss: 0.6790\n",
            "Epoch 2/5\n",
            "\u001b[1m88/88\u001b[0m \u001b[32m━━━━━━━━━━━━━━━━━━━━\u001b[0m\u001b[37m\u001b[0m \u001b[1m12s\u001b[0m 18ms/step - accuracy: 0.6752 - loss: 0.6031 - val_accuracy: 0.8048 - val_loss: 0.4347\n",
            "Epoch 3/5\n",
            "\u001b[1m88/88\u001b[0m \u001b[32m━━━━━━━━━━━━━━━━━━━━\u001b[0m\u001b[37m\u001b[0m \u001b[1m2s\u001b[0m 16ms/step - accuracy: 0.8129 - loss: 0.4094 - val_accuracy: 0.8164 - val_loss: 0.4057\n",
            "Epoch 4/5\n",
            "\u001b[1m88/88\u001b[0m \u001b[32m━━━━━━━━━━━━━━━━━━━━\u001b[0m\u001b[37m\u001b[0m \u001b[1m3s\u001b[0m 16ms/step - accuracy: 0.8452 - loss: 0.3536 - val_accuracy: 0.8176 - val_loss: 0.4044\n",
            "Epoch 5/5\n",
            "\u001b[1m88/88\u001b[0m \u001b[32m━━━━━━━━━━━━━━━━━━━━\u001b[0m\u001b[37m\u001b[0m \u001b[1m1s\u001b[0m 16ms/step - accuracy: 0.8643 - loss: 0.3199 - val_accuracy: 0.8172 - val_loss: 0.4139\n"
          ]
        }
      ],
      "source": [
        "model.compile(\n",
        "    optimizer='adam',\n",
        "    loss='binary_crossentropy',\n",
        "    metrics=['accuracy']\n",
        ")\n",
        "epochs = 5\n",
        "history = model.fit(x_train_seq, train_labels,\n",
        "                    validation_split=0.1, epochs=epochs,\n",
        "                    batch_size=256)"
      ]
    },
    {
      "cell_type": "code",
      "source": [],
      "metadata": {
        "id": "7rDhHY9H-2dV"
      },
      "execution_count": null,
      "outputs": []
    }
  ],
  "metadata": {
    "accelerator": "GPU",
    "colab": {
      "gpuType": "T4",
      "provenance": [],
      "toc_visible": true
    },
    "kernelspec": {
      "display_name": "Python 3",
      "name": "python3"
    },
    "language_info": {
      "codemirror_mode": {
        "name": "ipython",
        "version": 3
      },
      "file_extension": ".py",
      "mimetype": "text/x-python",
      "name": "python",
      "nbconvert_exporter": "python",
      "pygments_lexer": "ipython3",
      "version": "3.8.5"
    }
  },
  "nbformat": 4,
  "nbformat_minor": 0
}