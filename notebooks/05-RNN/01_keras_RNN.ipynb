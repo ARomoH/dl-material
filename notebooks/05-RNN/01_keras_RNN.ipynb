{
  "cells": [
    {
      "cell_type": "markdown",
      "metadata": {
        "id": "9ggRea9TBpA_"
      },
      "source": [
        "[![Open In Colab](https://colab.research.google.com/assets/colab-badge.svg)](https://colab.research.google.com/drive/11au9s4Hox89d0zcU1GjwuAERdEteoFxJ?usp=sharing)\n",
        "\n",
        "Source: https://github.com/ezponda/intro_deep_learning/blob/main/class/RNN/IMBD_RNN.ipynb"
      ]
    },
    {
      "cell_type": "markdown",
      "metadata": {
        "id": "DI6h56nFBpBB"
      },
      "source": [
        "# Classification Example\n",
        " Two-class classification, or binary classification, may be the most widely applied kind of machine-learning problem. In this example, you’ll learn to classify movie reviews as positive or negative, based on the text content of the reviews.\n"
      ]
    },
    {
      "cell_type": "code",
      "execution_count": null,
      "metadata": {
        "id": "FASza3eeBpBC"
      },
      "outputs": [],
      "source": [
        "import tensorflow as tf\n",
        "from tensorflow import keras\n",
        "from tensorflow.keras import layers\n",
        "import numpy as np\n",
        "import matplotlib.pyplot as plt\n",
        "import pandas as pd\n",
        "\n",
        "tf.keras.utils.set_random_seed(0)\n",
        "\n",
        "\n",
        "def show_loss_accuracy_evolution(history):\n",
        "    hist = pd.DataFrame(history.history)\n",
        "    hist['epoch'] = history.epoch\n",
        "\n",
        "    fig, (ax1, ax2) = plt.subplots(1, 2, figsize=(16, 6))\n",
        "\n",
        "    ax1.set_xlabel('Epoch')\n",
        "    ax1.set_ylabel('Sparse Categorical Crossentropy')\n",
        "    ax1.plot(hist['epoch'], hist['loss'], label='Train Error')\n",
        "    ax1.plot(hist['epoch'], hist['val_loss'], label='Val Error')\n",
        "    ax1.grid()\n",
        "    ax1.legend()\n",
        "\n",
        "    ax2.set_xlabel('Epoch')\n",
        "    ax2.set_ylabel('Accuracy')\n",
        "    ax2.plot(hist['epoch'], hist['accuracy'], label='Train Accuracy')\n",
        "    ax2.plot(hist['epoch'], hist['val_accuracy'], label='Val Accuracy')\n",
        "    ax2.grid()\n",
        "    ax2.legend()\n",
        "\n",
        "    plt.show()"
      ]
    },
    {
      "cell_type": "markdown",
      "metadata": {
        "id": "oyuZRSjKBpBD"
      },
      "source": [
        "## The Dataset: The IMDB dataset\n",
        "We’ll work with the IMDB dataset: a set of 50,000 highly polarized reviews from the Internet Movie Database. They’re split into 25,000 reviews for training and 25,000 reviews for testing, each set consisting of 50% negative and 50% positive reviews. The  parameter `num_words` controls how many words different we want to use."
      ]
    },
    {
      "cell_type": "code",
      "execution_count": null,
      "metadata": {
        "colab": {
          "base_uri": "https://localhost:8080/"
        },
        "id": "bV8crZvWBpBE",
        "outputId": "4f0aa740-4021-4e99-df2e-6f317a004e0e"
      },
      "outputs": [
        {
          "name": "stdout",
          "output_type": "stream",
          "text": [
            "Downloading data from https://storage.googleapis.com/tensorflow/tf-keras-datasets/imdb.npz\n",
            "17464789/17464789 [==============================] - 1s 0us/step\n",
            "[1, 14, 22, 16, 43, 530, 973, 1622, 1385, 65, 458, 4468, 66, 3941, 4, 173, 36, 256, 5, 25, 100, 43, 838, 112, 50, 670, 2, 9, 35, 480, 284, 5, 150, 4, 172, 112, 167, 2, 336, 385, 39, 4, 172, 4536, 1111, 17, 546, 38, 13, 447, 4, 192, 50, 16, 6, 147, 2025, 19, 14, 22, 4, 1920, 4613, 469, 4, 22, 71, 87, 12, 16, 43, 530, 38, 76, 15, 13, 1247, 4, 22, 17, 515, 17, 12, 16, 626, 18, 2, 5, 62, 386, 12, 8, 316, 8, 106, 5, 4, 2223, 5244, 16, 480, 66, 3785, 33, 4, 130, 12, 16, 38, 619, 5, 25, 124, 51, 36, 135, 48, 25, 1415, 33, 6, 22, 12, 215, 28, 77, 52, 5, 14, 407, 16, 82, 2, 8, 4, 107, 117, 5952, 15, 256, 4, 2, 7, 3766, 5, 723, 36, 71, 43, 530, 476, 26, 400, 317, 46, 7, 4, 2, 1029, 13, 104, 88, 4, 381, 15, 297, 98, 32, 2071, 56, 26, 141, 6, 194, 7486, 18, 4, 226, 22, 21, 134, 476, 26, 480, 5, 144, 30, 5535, 18, 51, 36, 28, 224, 92, 25, 104, 4, 226, 65, 16, 38, 1334, 88, 12, 16, 283, 5, 16, 4472, 113, 103, 32, 15, 16, 5345, 19, 178, 32]\n"
          ]
        }
      ],
      "source": [
        "from tensorflow.keras.datasets import imdb\n",
        "num_words = 10000\n",
        "(train_data, train_labels), (test_data, test_labels) = imdb.load_data(num_words=num_words)\n",
        "print(train_data[0])"
      ]
    },
    {
      "cell_type": "code",
      "execution_count": null,
      "metadata": {
        "colab": {
          "base_uri": "https://localhost:8080/"
        },
        "id": "jaE1a4jHBpBE",
        "outputId": "6f0d96f7-e503-4c09-95c0-622fa27838ed"
      },
      "outputs": [
        {
          "name": "stdout",
          "output_type": "stream",
          "text": [
            "Downloading data from https://storage.googleapis.com/tensorflow/tf-keras-datasets/imdb_word_index.json\n",
            "1641221/1641221 [==============================] - 1s 0us/step\n"
          ]
        }
      ],
      "source": [
        "# Transform word_id to word and reverse\n",
        "word2int = imdb.get_word_index()\n",
        "word2int = {w: i+3 for w, i in word2int.items()}\n",
        "word2int[\"<PAD>\"] = 0\n",
        "word2int[\"<START>\"] = 1\n",
        "word2int[\"<UNK>\"] = 2\n",
        "word2int[\"<UNUSED>\"] = 3\n",
        "int2word = {i: w for w, i in word2int.items()}\n",
        "num_words = num_words+3"
      ]
    },
    {
      "cell_type": "markdown",
      "metadata": {
        "id": "43lIT9r2BpBE"
      },
      "source": [
        "For transforming an id-sequence to a phrase use get_words"
      ]
    },
    {
      "cell_type": "code",
      "execution_count": null,
      "metadata": {
        "colab": {
          "base_uri": "https://localhost:8080/",
          "height": 122
        },
        "id": "vEPFrrrhBpBE",
        "outputId": "f99f46b1-c5b6-404f-a8f1-d88b96bf74e9"
      },
      "outputs": [
        {
          "data": {
            "application/vnd.google.colaboratory.intrinsic+json": {
              "type": "string"
            },
            "text/plain": [
              "\"<START> this film was just brilliant casting location scenery story direction everyone's really suited the part they played and you could just imagine being there robert <UNK> is an amazing actor and now the same being director <UNK> father came from the same scottish island as myself so i loved the fact there was a real connection with this film the witty remarks throughout the film were great it was just brilliant so much that i bought the film as soon as it was released for <UNK> and would recommend it to everyone to watch and the fly fishing was amazing really cried at the end it was so sad and you know what they say if you cry at a film it must have been good and this definitely was also <UNK> to the two little boy's that played the <UNK> of norman and paul they were just brilliant children are often left out of the <UNK> list i think because the stars that play them all grown up are such a big profile for the whole film but these children are amazing and should be praised for what they have done don't you think the whole story was so lovely because it was true and was someone's life after all that was shared with us all\""
            ]
          },
          "execution_count": 4,
          "metadata": {},
          "output_type": "execute_result"
        }
      ],
      "source": [
        "def get_words(sentence, int2word):\n",
        "    return ' '.join([int2word.get(i, '<UNK>') for i in sentence])\n",
        "\n",
        "\n",
        "get_words(train_data[0], int2word)"
      ]
    },
    {
      "cell_type": "markdown",
      "metadata": {
        "id": "ubxyezv0BpBF"
      },
      "source": [
        "# MLP model\n",
        "\n",
        "## Data Preprocessing\n",
        "\n",
        "You need to convert your raw text to an appropriate input to a sequential model"
      ]
    },
    {
      "cell_type": "code",
      "execution_count": null,
      "metadata": {
        "colab": {
          "base_uri": "https://localhost:8080/"
        },
        "id": "Bvql44xPBpBF",
        "outputId": "b1fca88e-851e-440e-d875-83a611df7773"
      },
      "outputs": [
        {
          "name": "stdout",
          "output_type": "stream",
          "text": [
            "<START> this film was just brilliant casting location scenery story direction everyone's really suited the part they played and you could just imagine being there robert <UNK> is an amazing actor and now the same being director <UNK> father came from the same scottish island as myself so i loved the fact there was a real connection with this film the witty remarks throughout the film were great it was just brilliant so much that i bought the film as soon as it was released for <UNK> and would recommend it to everyone to watch and the fly fishing was amazing really cried at the end it was so sad and you know what they say if you cry at a film it must have been good and this definitely was also <UNK> to the two little boy's that played the <UNK> of norman and paul they were just brilliant children are often left out of the <UNK> list i think because the stars that play them all grown up are such a big profile for the whole film but these children are amazing and should be praised for what they have done don't you think the whole story was so lovely because it was true and was someone's life after all that was shared with us all\n",
            "[1, 14, 22, 16, 43, 530, 973, 1622, 1385, 65, 458, 4468, 66, 3941, 4, 173, 36, 256, 5, 25, 100, 43, 838, 112, 50, 670, 2, 9, 35, 480, 284, 5, 150, 4, 172, 112, 167, 2, 336, 385, 39, 4, 172, 4536, 1111, 17, 546, 38, 13, 447, 4, 192, 50, 16, 6, 147, 2025, 19, 14, 22, 4, 1920, 4613, 469, 4, 22, 71, 87, 12, 16, 43, 530, 38, 76, 15, 13, 1247, 4, 22, 17, 515, 17, 12, 16, 626, 18, 2, 5, 62, 386, 12, 8, 316, 8, 106, 5, 4, 2223, 5244, 16, 480, 66, 3785, 33, 4, 130, 12, 16, 38, 619, 5, 25, 124, 51, 36, 135, 48, 25, 1415, 33, 6, 22, 12, 215, 28, 77, 52, 5, 14, 407, 16, 82, 2, 8, 4, 107, 117, 5952, 15, 256, 4, 2, 7, 3766, 5, 723, 36, 71, 43, 530, 476, 26, 400, 317, 46, 7, 4, 2, 1029, 13, 104, 88, 4, 381, 15, 297, 98, 32, 2071, 56, 26, 141, 6, 194, 7486, 18, 4, 226, 22, 21, 134, 476, 26, 480, 5, 144, 30, 5535, 18, 51, 36, 28, 224, 92, 25, 104, 4, 226, 65, 16, 38, 1334, 88, 12, 16, 283, 5, 16, 4472, 113, 103, 32, 15, 16, 5345, 19, 178, 32]\n"
          ]
        }
      ],
      "source": [
        "def vectorize_text_sentence(text, word2int):\n",
        "    tokens = text.split(' ')\n",
        "    tokens_id = [word2int.get(tk,2) for tk in tokens]\n",
        "    return tokens_id\n",
        "\n",
        "text = get_words(train_data[0], int2word)\n",
        "print(text)\n",
        "print(vectorize_text_sentence(text, word2int))"
      ]
    },
    {
      "cell_type": "markdown",
      "metadata": {
        "id": "4P4GmfWDBpBF"
      },
      "source": [
        "We are going to use a bag of words model. BoW is a simplifying representation used in natural language processing. In this model, a text (such as a sentence or a document) is represented as the Each key is the word, and each value is the frequency of occurrences of that word in the given text document.\n",
        "\n",
        "- **Input document**: `\"John likes to watch movies Mary likes movies too\"`\n",
        "- **BoW**: `{'John': 0.11, 'likes': 0.22, 'to': 0.11, 'watch': 0.11, 'movies': 0.22, 'Mary': 0.11, 'too': 0.11}`\n"
      ]
    },
    {
      "cell_type": "code",
      "execution_count": null,
      "metadata": {
        "colab": {
          "base_uri": "https://localhost:8080/"
        },
        "id": "N3x6kIL8BpBF",
        "outputId": "8fdd3899-24db-4e22-b85f-845601d85eda"
      },
      "outputs": [
        {
          "name": "stdout",
          "output_type": "stream",
          "text": [
            "text_example John likes to watch movies Mary likes movies too\n",
            "text splitted ['John', 'likes', 'to', 'watch', 'movies', 'Mary', 'likes', 'movies', 'too']\n",
            "bag_of_words {'John': 0.1111111111111111, 'likes': 0.2222222222222222, 'to': 0.1111111111111111, 'watch': 0.1111111111111111, 'movies': 0.2222222222222222, 'Mary': 0.1111111111111111, 'too': 0.1111111111111111}\n",
            "bag_of_words norm=False {'John': 1, 'likes': 2, 'to': 1, 'watch': 1, 'movies': 2, 'Mary': 1, 'too': 1}\n",
            "bag_of_words with indexes {308: 1, 1232: 2, 8: 1, 106: 1, 102: 2, 1083: 1, 99: 1}\n"
          ]
        }
      ],
      "source": [
        "from collections import Counter\n",
        "\n",
        "\n",
        "def get_bag_of_words(sequence, norm=True):\n",
        "    word_count = Counter(sequence)\n",
        "    if norm:\n",
        "        total = sum(word_count.values())\n",
        "        word_freq = {w: n / total for w, n in word_count.items()}\n",
        "        return word_freq\n",
        "    else:\n",
        "        return dict(word_count.items())\n",
        "\n",
        "\n",
        "text_example = \"John likes to watch movies Mary likes movies too\"\n",
        "print('text_example', text_example)\n",
        "text_sequence = text_example.split()\n",
        "print('text splitted', text_sequence)\n",
        "bag_of_words = get_bag_of_words(text_sequence)\n",
        "print('bag_of_words', bag_of_words)\n",
        "print('bag_of_words norm=False', get_bag_of_words(text_sequence, norm=False))\n",
        "print(\n",
        "    'bag_of_words with indexes', {\n",
        "        word2int[w.lower()]: p\n",
        "        for w, p in get_bag_of_words(text_sequence, norm=False).items()\n",
        "    })"
      ]
    },
    {
      "cell_type": "markdown",
      "metadata": {
        "id": "3alPstiwBpBG"
      },
      "source": [
        "After that, we convert every BoW to a vector of `dim=num_words` with `vectorize_sequences`"
      ]
    },
    {
      "cell_type": "code",
      "execution_count": null,
      "metadata": {
        "colab": {
          "base_uri": "https://localhost:8080/"
        },
        "id": "negdOAzfBpBG",
        "outputId": "0a5fa9bf-3d49-483c-f4aa-e89c01deafb0"
      },
      "outputs": [
        {
          "data": {
            "text/plain": [
              "((25000, 10003), (25000,))"
            ]
          },
          "execution_count": 7,
          "metadata": {},
          "output_type": "execute_result"
        }
      ],
      "source": [
        "def vectorize_sequence(sequence, num_words, norm=True):\n",
        "    vec = np.zeros(num_words)\n",
        "    bow = get_bag_of_words(sequence, norm)\n",
        "    for w, freq in bow.items():\n",
        "        if w < num_words:\n",
        "            vec[w] = freq\n",
        "    return vec\n",
        "\n",
        "\n",
        "def vectorize_sequences(sequences, num_words=num_words, norm=True):\n",
        "    \"\"\"Creates an all-zero matrix of shape (len(sequences), num_words)\"\"\"\n",
        "    results = np.zeros((len(sequences), num_words))\n",
        "    for i, sequence in enumerate(sequences):\n",
        "        results[i, :] = vectorize_sequence(sequence, num_words, norm)\n",
        "    return results\n",
        "\n",
        "\n",
        "x_train = vectorize_sequences(train_data, num_words=num_words)\n",
        "x_test = vectorize_sequences(test_data, num_words=num_words)\n",
        "y_train =np.asarray(train_labels).astype('float32')\n",
        "y_test = np.asarray(test_labels).astype('float32')\n",
        "x_train.shape, y_train.shape"
      ]
    },
    {
      "cell_type": "code",
      "execution_count": null,
      "metadata": {
        "colab": {
          "base_uri": "https://localhost:8080/"
        },
        "id": "IwJrkj99BpBG",
        "outputId": "b3c6bfdf-7479-472d-8c1c-660181592836"
      },
      "outputs": [
        {
          "data": {
            "text/plain": [
              "array([0.        , 0.00458716, 0.02752294, ..., 0.        , 0.        ,\n",
              "       0.        ])"
            ]
          },
          "execution_count": 8,
          "metadata": {},
          "output_type": "execute_result"
        }
      ],
      "source": [
        "x_train[0]"
      ]
    },
    {
      "cell_type": "markdown",
      "metadata": {
        "id": "tr7JgXlUBpBG"
      },
      "source": [
        "## Define and train a model\n",
        "Define, compile and fit your sequential model"
      ]
    },
    {
      "cell_type": "code",
      "execution_count": null,
      "metadata": {
        "colab": {
          "base_uri": "https://localhost:8080/"
        },
        "id": "jrNQmcIxBpBG",
        "outputId": "6bb3226a-db5b-4156-d366-ddfce29f4f1d"
      },
      "outputs": [
        {
          "name": "stdout",
          "output_type": "stream",
          "text": [
            "Model: \"sequential_1\"\n",
            "_________________________________________________________________\n",
            " Layer (type)                Output Shape              Param #   \n",
            "=================================================================\n",
            " dense (Dense)               (None, 10)                100040    \n",
            "                                                                 \n",
            " dropout (Dropout)           (None, 10)                0         \n",
            "                                                                 \n",
            " dense_1 (Dense)             (None, 10)                110       \n",
            "                                                                 \n",
            " dropout_1 (Dropout)         (None, 10)                0         \n",
            "                                                                 \n",
            " dense_2 (Dense)             (None, 1)                 11        \n",
            "                                                                 \n",
            "=================================================================\n",
            "Total params: 100161 (391.25 KB)\n",
            "Trainable params: 100161 (391.25 KB)\n",
            "Non-trainable params: 0 (0.00 Byte)\n",
            "_________________________________________________________________\n"
          ]
        }
      ],
      "source": [
        "model = keras.Sequential()\n",
        "model.add(keras.layers.Dense(10, input_shape=(10003, ), activation='sigmoid'))\n",
        "model.add(keras.layers.Dropout(0.1))\n",
        "model.add(keras.layers.Dense(10, activation='sigmoid'))\n",
        "model.add(keras.layers.Dropout(0.1))\n",
        "model.add(keras.layers.Dense(1, activation='sigmoid'))\n",
        "\n",
        "model.summary()"
      ]
    },
    {
      "cell_type": "code",
      "execution_count": null,
      "metadata": {
        "id": "22HpKoaIvu5R"
      },
      "outputs": [],
      "source": [
        "model.compile(optimizer=\"adam\", loss=\"binary_crossentropy\", metrics=[\"accuracy\"])"
      ]
    },
    {
      "cell_type": "code",
      "execution_count": null,
      "metadata": {
        "colab": {
          "background_save": true,
          "base_uri": "https://localhost:8080/"
        },
        "id": "ng00bZHMvflB",
        "outputId": "fea85d08-b5a6-4a4a-c35d-055adcf28799"
      },
      "outputs": [
        {
          "name": "stdout",
          "output_type": "stream",
          "text": [
            "Epoch 1/25\n",
            "625/625 [==============================] - 7s 5ms/step - loss: 0.6973 - accuracy: 0.5130 - val_loss: 0.6912 - val_accuracy: 0.6562\n",
            "Epoch 2/25\n",
            "625/625 [==============================] - 3s 4ms/step - loss: 0.6947 - accuracy: 0.5185 - val_loss: 0.6892 - val_accuracy: 0.5286\n",
            "Epoch 3/25\n",
            "625/625 [==============================] - 3s 5ms/step - loss: 0.6898 - accuracy: 0.5387 - val_loss: 0.6851 - val_accuracy: 0.5658\n",
            "Epoch 4/25\n",
            "625/625 [==============================] - 3s 4ms/step - loss: 0.6856 - accuracy: 0.5609 - val_loss: 0.6761 - val_accuracy: 0.7760\n",
            "Epoch 5/25\n",
            "625/625 [==============================] - 2s 4ms/step - loss: 0.6730 - accuracy: 0.6021 - val_loss: 0.6559 - val_accuracy: 0.7716\n",
            "Epoch 6/25\n",
            "625/625 [==============================] - 3s 4ms/step - loss: 0.6513 - accuracy: 0.6363 - val_loss: 0.6189 - val_accuracy: 0.7680\n",
            "Epoch 7/25\n",
            "625/625 [==============================] - 3s 4ms/step - loss: 0.6161 - accuracy: 0.6701 - val_loss: 0.5671 - val_accuracy: 0.8018\n",
            "Epoch 8/25\n",
            "625/625 [==============================] - 3s 5ms/step - loss: 0.5818 - accuracy: 0.6968 - val_loss: 0.5207 - val_accuracy: 0.8154\n",
            "Epoch 9/25\n",
            "625/625 [==============================] - 3s 4ms/step - loss: 0.5555 - accuracy: 0.7194 - val_loss: 0.4849 - val_accuracy: 0.8258\n",
            "Epoch 10/25\n",
            "625/625 [==============================] - 2s 4ms/step - loss: 0.5233 - accuracy: 0.7449 - val_loss: 0.4524 - val_accuracy: 0.8354\n",
            "Epoch 11/25\n",
            "625/625 [==============================] - 2s 4ms/step - loss: 0.5048 - accuracy: 0.7516 - val_loss: 0.4301 - val_accuracy: 0.8438\n",
            "Epoch 12/25\n",
            "625/625 [==============================] - 2s 4ms/step - loss: 0.4905 - accuracy: 0.7637 - val_loss: 0.4119 - val_accuracy: 0.8512\n",
            "Epoch 13/25\n",
            "625/625 [==============================] - 3s 5ms/step - loss: 0.4744 - accuracy: 0.7753 - val_loss: 0.3967 - val_accuracy: 0.8522\n",
            "Epoch 14/25\n",
            "625/625 [==============================] - 3s 4ms/step - loss: 0.4611 - accuracy: 0.7822 - val_loss: 0.3836 - val_accuracy: 0.8576\n",
            "Epoch 15/25\n",
            "625/625 [==============================] - 3s 4ms/step - loss: 0.4497 - accuracy: 0.7852 - val_loss: 0.3731 - val_accuracy: 0.8610\n",
            "Epoch 16/25\n",
            "625/625 [==============================] - 2s 4ms/step - loss: 0.4410 - accuracy: 0.7954 - val_loss: 0.3642 - val_accuracy: 0.8646\n",
            "Epoch 17/25\n",
            "625/625 [==============================] - 3s 4ms/step - loss: 0.4317 - accuracy: 0.8000 - val_loss: 0.3575 - val_accuracy: 0.8654\n",
            "Epoch 18/25\n",
            "625/625 [==============================] - 3s 5ms/step - loss: 0.4245 - accuracy: 0.8041 - val_loss: 0.3527 - val_accuracy: 0.8628\n",
            "Epoch 19/25\n",
            "625/625 [==============================] - 2s 4ms/step - loss: 0.4086 - accuracy: 0.8133 - val_loss: 0.3426 - val_accuracy: 0.8702\n",
            "Epoch 20/25\n",
            "625/625 [==============================] - 3s 4ms/step - loss: 0.4075 - accuracy: 0.8138 - val_loss: 0.3378 - val_accuracy: 0.8700\n",
            "Epoch 21/25\n",
            "625/625 [==============================] - 2s 4ms/step - loss: 0.3984 - accuracy: 0.8194 - val_loss: 0.3335 - val_accuracy: 0.8698\n",
            "Epoch 22/25\n",
            "625/625 [==============================] - 3s 4ms/step - loss: 0.3937 - accuracy: 0.8227 - val_loss: 0.3299 - val_accuracy: 0.8744\n",
            "Epoch 23/25\n",
            "625/625 [==============================] - 3s 5ms/step - loss: 0.3872 - accuracy: 0.8242 - val_loss: 0.3256 - val_accuracy: 0.8708\n",
            "Epoch 24/25\n",
            "625/625 [==============================] - 3s 4ms/step - loss: 0.3796 - accuracy: 0.8288 - val_loss: 0.3210 - val_accuracy: 0.8726\n",
            "Epoch 25/25\n",
            "625/625 [==============================] - 3s 4ms/step - loss: 0.3766 - accuracy: 0.8319 - val_loss: 0.3176 - val_accuracy: 0.8748\n"
          ]
        }
      ],
      "source": [
        "history = model.fit(x_train, y_train, epochs=25, validation_split=0.2)"
      ]
    },
    {
      "cell_type": "code",
      "execution_count": null,
      "metadata": {
        "colab": {
          "background_save": true,
          "base_uri": "https://localhost:8080/",
          "height": 542
        },
        "id": "Ummw_MALBpBH",
        "outputId": "05b13e10-00e1-4ee6-dff0-2e3b2cb5976a"
      },
      "outputs": [
        {
          "data": {
            "image/png": "[encoded data removed]",
            "text/plain": [
              "<Figure size 1600x600 with 2 Axes>"
            ]
          },
          "metadata": {},
          "output_type": "display_data"
        }
      ],
      "source": [
        "show_loss_accuracy_evolution(history)"
      ]
    },
    {
      "cell_type": "markdown",
      "metadata": {
        "id": "Oqv4jSWaBpBH"
      },
      "source": [
        "### Evaluate the model\n",
        "You need to obtain a Test Accuracy > 0.85. Try to get more than 0.9!"
      ]
    },
    {
      "cell_type": "code",
      "execution_count": null,
      "metadata": {
        "colab": {
          "background_save": true,
          "base_uri": "https://localhost:8080/"
        },
        "id": "NPBy4F06BpBH",
        "outputId": "84127f57-1b58-4c55-a0a0-dc33b82a1f20"
      },
      "outputs": [
        {
          "name": "stdout",
          "output_type": "stream",
          "text": [
            "782/782 [==============================] - 2s 3ms/step - loss: 0.3258 - accuracy: 0.8702\n",
            "Test Loss: 0.3258111774921417\n",
            "Test Accuracy: 0.8701599836349487\n"
          ]
        }
      ],
      "source": [
        "results = model.evaluate(x_test, y_test, verbose=1)\n",
        "print('Test Loss: {}'.format(results[0]))\n",
        "print('Test Accuracy: {}'.format(results[1]))"
      ]
    },
    {
      "cell_type": "markdown",
      "metadata": {
        "id": "rj2wKNJCBpBH"
      },
      "source": [
        "### Making predictioins with new data"
      ]
    },
    {
      "cell_type": "code",
      "execution_count": null,
      "metadata": {
        "colab": {
          "base_uri": "https://localhost:8080/"
        },
        "id": "e6SjOvKHBpBH",
        "outputId": "443ef0a4-f63e-49ee-a662-0235427cd2b5"
      },
      "outputs": [
        {
          "name": "stdout",
          "output_type": "stream",
          "text": [
            "1/1 [==============================] - 0s 235ms/step\n"
          ]
        },
        {
          "data": {
            "text/plain": [
              "array([[0.0133],\n",
              "       [0.9974],\n",
              "       [0.4001]], dtype=float32)"
            ]
          },
          "execution_count": 18,
          "metadata": {},
          "output_type": "execute_result"
        }
      ],
      "source": [
        "reviews = ['the film was really bad and i am very disappointed',\n",
        "           'The film was very funny entertaining and good we had a great time . brilliant film',\n",
        "           'this film was just brilliant']\n",
        "\n",
        "sequences = [vectorize_text_sentence(review.lower(), word2int)\n",
        "             for review in reviews]\n",
        "\n",
        "x_pred = vectorize_sequences(sequences, num_words=num_words)\n",
        "np.round(model.predict(x_pred), 4)"
      ]
    },
    {
      "cell_type": "markdown",
      "metadata": {
        "id": "qqaRwnqwBpBH"
      },
      "source": [
        "# RNN model\n",
        "\n",
        "Lets use a recurrent neural network and compare results\n"
      ]
    },
    {
      "cell_type": "markdown",
      "metadata": {
        "id": "Ec_XJvm-BpBH"
      },
      "source": [
        "### Simple RNN model\n",
        "\n",
        "There are three built-in RNN layers in Keras:\n",
        "\n",
        "1. [`keras.layers.SimpleRNN`](https://keras.io/api/layers/recurrent_layers/simple_rnn/), a fully-connected RNN where the output from previous\n",
        "timestep is to be fed to next timestep.\n",
        "\n",
        "```python\n",
        "tf.keras.layers.SimpleRNN(\n",
        "    units,\n",
        "    dropout=0.0,\n",
        "    recurrent_dropout=0.0,\n",
        "    return_sequences=False,\n",
        "    return_state=False,\n",
        "    go_backwards=False,\n",
        "    stateful=False,\n",
        ")\n",
        "````\n",
        "\n",
        "2. [`keras.layers.GRU`](https://keras.io/api/layers/recurrent_layers/gru/), first proposed in\n",
        "[Cho et al., 2014](https://arxiv.org/abs/1406.1078).\n",
        "```python\n",
        "tf.keras.layers.GRU(\n",
        "    units,\n",
        "    dropout=0.0,\n",
        "    recurrent_dropout=0.0,\n",
        "    return_sequences=False,\n",
        "    return_state=False,\n",
        "    go_backwards=False,\n",
        "    stateful=False,\n",
        ")\n",
        "```\n",
        "\n",
        "3. [`keras.layers.LSTM`](https://keras.io/api/layers/recurrent_layers/lstm/), first proposed in\n",
        "[Hochreiter & Schmidhuber, 1997](https://www.bioinf.jku.at/publications/older/2604.pdf).\n",
        "```python\n",
        "tf.keras.layers.LSTM(\n",
        "    units,\n",
        "    dropout=0.0,\n",
        "    recurrent_dropout=0.0,\n",
        "    return_sequences=False,\n",
        "    return_state=False,\n",
        "    go_backwards=False,\n",
        "    stateful=False,\n",
        ")\n",
        "````\n",
        "For more information, see the\n",
        "[RNN API documentation](https://keras.io/api/layers/recurrent_layers/).\n",
        "\n",
        "\n",
        "\n",
        "\n",
        "\n",
        "In sequence classification we are going to use the **many-to-one** architecture with default parameter `return_sequences=False`.\n",
        "\n",
        "The shape of the output  for this architecture  is `(batch_size, units)`.\n",
        "where `units` corresponds to the `units` argument passed to the layer's constructor.\n",
        "\n",
        "Lets see one some examples for understanding the input/output dimensions:"
      ]
    },
    {
      "cell_type": "code",
      "execution_count": null,
      "metadata": {
        "id": "AoGraWrQBpBI"
      },
      "outputs": [],
      "source": [
        "# dims of input: [batch, timesteps, features]\n",
        "inputs = tf.random.normal([32, 10, 4])\n",
        "print('input dim (batch, timesteps, feature): ', inputs.shape)\n",
        "# return_sequences=False, return_state=False\n",
        "lstm = tf.keras.layers.LSTM(units= 2)\n",
        "output = lstm(inputs)\n",
        "print('return_state=False output shape: ',output.shape)"
      ]
    },
    {
      "cell_type": "markdown",
      "metadata": {
        "id": "es-yhACeBpBI"
      },
      "source": [
        "### Deep RNN\n",
        "We can stack multiple layers of RNNs on top of each other. Each hidden state is continuously passed to both the next time step of the current layer and the current time step of the next layer.\n",
        "\n",
        "For stack another RNN layer to an existing one, we need to use the states with `return_sequences=True`"
      ]
    },
    {
      "cell_type": "code",
      "execution_count": null,
      "metadata": {
        "id": "yfmcFCyvBpBI"
      },
      "outputs": [],
      "source": [
        "## We can modify the input vector before the rnn cell with TimeDistributed\n",
        "timesteps = 10\n",
        "features = 8 # dimension of the innput of every cell\n",
        "\n",
        "#Shape [batch, timesteps, features]\n",
        "inputs = tf.keras.Input(shape=(timesteps, features), name='input')\n",
        "lstm_1 = layers.LSTM(64, return_sequences=True, name='lstm_1')(inputs)\n",
        "lstm_2 = layers.LSTM(64, return_sequences=True, name='lstm_2')(lstm_1)\n",
        "# last lstm layer depends in [one to many or  many to many]\n",
        "lstm_3 = layers.LSTM(64, return_sequences=False, name='lstm_3')(lstm_2)\n",
        "model = keras.Model(inputs=inputs, outputs=lstm_3, name='rnn_example')\n",
        "#print(model.summary())\n",
        "inputs = tf.random.normal([32, timesteps, features])\n",
        "print(model(inputs).shape)"
      ]
    },
    {
      "cell_type": "markdown",
      "metadata": {
        "id": "YJVB41D6BpBI"
      },
      "source": [
        "### Bidirectional RNNs\n",
        "\n",
        "For sequences other than time series (e.g. text), it is often the case that a RNN model\n",
        "can perform better if it not only processes sequence from start to end, but also\n",
        "backwards. For example, to predict the next word in a sentence, it is often useful to\n",
        "have the context around the word, not only just the words that come before it.\n",
        "\n",
        "Keras provides an easy API for you to build such bidirectional RNNs: the\n",
        "`keras.layers.Bidirectional` wrapper.\n",
        "\n",
        "[link to documentation](https://www.tensorflow.org/api_docs/python/tf/keras/layers/Bidirectional)"
      ]
    },
    {
      "cell_type": "code",
      "execution_count": null,
      "metadata": {
        "id": "dhV3KmqVBpBI"
      },
      "outputs": [],
      "source": [
        "model = keras.Sequential()\n",
        "\n",
        "# If you crete a second layer you must set return_sequences=True\n",
        "model.add(\n",
        "    layers.Bidirectional(layers.LSTM(64, return_sequences=True), input_shape=(timesteps, features))\n",
        ")\n",
        "# Second Bidirectional layer\n",
        "model.add(layers.Bidirectional(layers.LSTM(32)))\n",
        "# Output\n",
        "model.add(layers.Dense(10))\n",
        "\n",
        "model.summary()"
      ]
    },
    {
      "cell_type": "markdown",
      "metadata": {
        "id": "ay7N4z8LBpBI"
      },
      "source": [
        "### Loading Data"
      ]
    },
    {
      "cell_type": "code",
      "execution_count": null,
      "metadata": {
        "id": "vAMnRrp4BpBI"
      },
      "outputs": [],
      "source": [
        "from tensorflow.keras.datasets import imdb\n",
        "num_words = 2000\n",
        "((train_data, train_labels), (test_data, test_labels)\n",
        " ) = imdb.load_data(num_words=num_words)\n",
        "\n",
        "#  limit the data for class time\n",
        "'''size = 15000\n",
        "(train_data, train_labels), (test_data, test_labels) = (\n",
        "    (train_data[:size], train_labels[:size]), (test_data[:size], test_labels[:size]))\n",
        "'''\n",
        "# Transform word_id to word and reverse\n",
        "word2int = imdb.get_word_index()\n",
        "word2int = {w: i+3 for w, i in word2int.items()}\n",
        "word2int[\"<PAD>\"] = 0\n",
        "word2int[\"<START>\"] = 1\n",
        "word2int[\"<UNK>\"] = 2\n",
        "word2int[\"<UNUSED>\"] = 3\n",
        "int2word = {i: w for w, i in word2int.items()}\n",
        "num_words = num_words+3\n",
        "\n",
        "print(train_data.shape, test_data.shape)"
      ]
    },
    {
      "cell_type": "markdown",
      "metadata": {
        "id": "1Xbw5WjfBpBJ"
      },
      "source": [
        "### Create the RNN model\n",
        "\n",
        "For the input of the first rnn layer we need a tensor of `(timesteps, features)` or `(batchsize, timesteps, features)`. We have a matrix of sentences of `(train_size, max_len)`. Every sentence is a  `max_len`, we need to convert it to a sentence of one-hot vectors of dim `(max_len, num_words)`.\n",
        "For get the one-hot encoding of every sequence we are going to use:\n",
        "\n",
        "```python\n",
        "layers.Embedding(input_dim=num_words, output_dim=num_words,\n",
        "  input_length=max_len, embeddings_initializer='identity', trainable=False)\n",
        "```\n",
        "\n",
        "This layer converts the input tensor `(batch_size, max_len)` to one-hot encoded sequences `(batch_size, max_len, num_words)`\n",
        "\n",
        "\n",
        "\n"
      ]
    },
    {
      "cell_type": "code",
      "source": [
        "max_len = 100\n",
        "x_train_seq = sequence.pad_sequences(train_data, maxlen=max_len, truncating='post', padding='post')\n",
        "x_test_seq = sequence.pad_sequences(test_data, maxlen=max_len, truncating='post', padding='post')\n",
        "\n",
        "print('train shape:', x_train_seq.shape)\n",
        "print('test shape:', x_test_seq.shape)"
      ],
      "metadata": {
        "id": "hTYEfeaZjqyD"
      },
      "execution_count": null,
      "outputs": []
    },
    {
      "cell_type": "code",
      "execution_count": null,
      "metadata": {
        "id": "K667YvUnBpBJ",
        "scrolled": true
      },
      "outputs": [],
      "source": [
        "seq = np.array([[[0, 1, 2, 2, 0]]])\n",
        "print(seq, seq.shape)\n",
        "layers.Embedding(input_dim=3, output_dim=3,\n",
        "                 input_length=5, embeddings_initializer='identity',\n",
        "                 trainable=False)(seq)"
      ]
    },
    {
      "cell_type": "markdown",
      "metadata": {
        "id": "AFXjtrrEBpBJ"
      },
      "source": [
        "### RNN model\n",
        "Use `keras.layers.SimpleRNN`,  `keras.layers.GRU`,  `keras.layers.LSTM` or `keras.layers.Bidirectional`\n"
      ]
    },
    {
      "cell_type": "code",
      "execution_count": null,
      "metadata": {
        "id": "4-XP0mU-BpBK"
      },
      "outputs": [],
      "source": [
        "model = tf.keras.models.Sequential()\n",
        "model.add(tf.keras.Input(shape=(max_len,), name='input'))\n",
        "## one-hot encoding\n",
        "model.add(layers.Embedding(input_dim=num_words, output_dim=num_words,\n",
        "                           input_length=max_len, embeddings_initializer='identity',\n",
        "                           trainable=False))\n",
        "## complete the model with recurrent layers\n",
        "#model.add(...)\n",
        "model.add(layers.SimpleRNN(16, return_sequences=False))\n",
        "## add binary classification output\n",
        "model.add(layers.Dense(1, activation='sigmoid'))"
      ]
    },
    {
      "cell_type": "code",
      "execution_count": null,
      "metadata": {
        "id": "ouKP4QNnBpBK"
      },
      "outputs": [],
      "source": [
        "## set the loss and see the results\n",
        "# https://www.tensorflow.org/api_docs/python/tf/keras/losses\n",
        "model.compile(\n",
        "    optimizer='adam',\n",
        "    loss='binary_crossentropy',\n",
        "    metrics=['accuracy']\n",
        ")\n",
        "epochs = 5\n",
        "history = model.fit(x_train_seq, train_labels,\n",
        "                    validation_split=0.1, epochs=epochs,\n",
        "                    batch_size=256)\n"
      ]
    },
    {
      "cell_type": "code",
      "execution_count": null,
      "metadata": {
        "id": "whDlc7WnBpBL"
      },
      "outputs": [],
      "source": [
        "show_loss_accuracy_evolution(history)\n",
        "results = model.evaluate(x_test_seq, test_labels, verbose=1)\n",
        "print('Test Loss: {}'.format(results[0]))\n",
        "print('Test Accuracy: {}'.format(results[1]))"
      ]
    },
    {
      "cell_type": "code",
      "execution_count": null,
      "metadata": {
        "id": "r4A_Q_RfBpBL"
      },
      "outputs": [],
      "source": [
        "def show_errors(x_test, model, labels, int2word, n_samples=10):\n",
        "    preds = 1.0 * (model.predict(x_test).flatten() > 0.5)\n",
        "    bad_pred_inds = np.where(preds != labels)[0]\n",
        "    n_samples = min(len(bad_pred_inds), n_samples)\n",
        "    samples_inds = np.random.choice(bad_pred_inds, n_samples)\n",
        "    for ind in samples_inds:\n",
        "        print('Predicted : {0}, real : {1}, lenght: {2}'.format(\n",
        "            int(preds[ind]), labels[ind], len(test_data[ind])))\n",
        "        print(get_words(test_data[ind], int2word))\n",
        "        print()\n",
        "    return\n",
        "\n",
        "show_errors(x_test_seq, model, test_labels, int2word, n_samples=10)"
      ]
    },
    {
      "cell_type": "markdown",
      "metadata": {
        "id": "PEnXNWuOBpBL"
      },
      "source": [
        "#### Making predictioins with new data"
      ]
    },
    {
      "cell_type": "code",
      "execution_count": null,
      "metadata": {
        "id": "2tGGGeKPBpBL"
      },
      "outputs": [],
      "source": [
        "reviews = ['the film was really bad and i am very disappointed',\n",
        "           'The film was very funny entertaining and good we had a great time . brilliant film',\n",
        "           'this film was just brilliant',\n",
        "           'the film is not good',\n",
        "           'the film is not bad',\n",
        "          'the movie is not bad I like it']\n",
        "sequences = [vectorize_text_sentence(review.lower(), word2int)\n",
        "             for review in reviews]\n",
        "\n",
        "## Padding the sequences\n",
        "x_pred  = sequence.pad_sequences(sequences, maxlen=max_len, truncating='post', padding='post')# ...\n",
        "\n",
        "np.round(model.predict(x_pred), 4)"
      ]
    },
    {
      "cell_type": "code",
      "execution_count": null,
      "metadata": {
        "id": "ESP4EzChBpBL"
      },
      "outputs": [],
      "source": [
        "1.0*(model.predict(x_pred) > 0.5)"
      ]
    },
    {
      "cell_type": "markdown",
      "metadata": {
        "id": "-KbNMlJcBpBL"
      },
      "source": [
        "### GRU model\n",
        "Use `keras.layers.GRU`\n"
      ]
    },
    {
      "cell_type": "code",
      "execution_count": null,
      "metadata": {
        "id": "lnjQHR1gBpBL"
      },
      "outputs": [],
      "source": [
        "model = tf.keras.models.Sequential()\n",
        "model.add(tf.keras.Input(shape=(max_len,), name='input'))\n",
        "## one-hot encoding\n",
        "model.add(layers.Embedding(input_dim=num_words, output_dim=num_words,\n",
        "                           input_length=max_len, embeddings_initializer='identity',\n",
        "                           trainable=False))\n",
        "\n",
        "## complete the model with recurrent layers\n",
        "model.add(...)"
      ]
    },
    {
      "cell_type": "code",
      "execution_count": null,
      "metadata": {
        "id": "irdeGDnOBpBM"
      },
      "outputs": [],
      "source": [
        "## set the loss and see the results\n",
        "model.compile(\n",
        "    optimizer='adam',\n",
        "    loss=...,\n",
        "    metrics=['accuracy']\n",
        ")\n",
        "epochs = 5\n",
        "history = model.fit(x_train_seq, train_labels,\n",
        "                    validation_split=0.1, epochs=epochs,\n",
        "                    batch_size=256)"
      ]
    },
    {
      "cell_type": "code",
      "execution_count": null,
      "metadata": {
        "id": "ktxaOvXlBpBM"
      },
      "outputs": [],
      "source": [
        "results = model.evaluate(x_test_seq, test_labels, verbose=1)\n",
        "print('Test Loss: {}'.format(results[0]))\n",
        "print('Test Accuracy: {}'.format(results[1]))"
      ]
    },
    {
      "cell_type": "markdown",
      "metadata": {
        "id": "Ydp-oblgBpBM"
      },
      "source": [
        "### LSTM model\n",
        "Use `keras.layers.LSTM`\n"
      ]
    },
    {
      "cell_type": "code",
      "execution_count": null,
      "metadata": {
        "id": "eHb5lJZ3BpBM"
      },
      "outputs": [],
      "source": [
        "model = tf.keras.models.Sequential()\n",
        "model.add(tf.keras.Input(shape=(max_len,), name='input'))\n",
        "## one-hot encoding\n",
        "model.add(layers.Embedding(input_dim=num_words, output_dim=num_words,\n",
        "                           input_length=max_len, embeddings_initializer='identity',\n",
        "                           trainable=False))\n",
        "\n",
        "## complete the model with recurrent layers\n",
        "model.add(...)"
      ]
    },
    {
      "cell_type": "code",
      "execution_count": null,
      "metadata": {
        "id": "t4VzZ-JVBpBM"
      },
      "outputs": [],
      "source": [
        "## set the loss and see the results\n",
        "model.compile(\n",
        "    optimizer='adam',\n",
        "    loss=...,\n",
        "    metrics=['accuracy']\n",
        ")\n",
        "epochs = 5\n",
        "history = model.fit(x_train_seq, train_labels,\n",
        "                    validation_split=0.1, epochs=epochs,\n",
        "                    batch_size=256)"
      ]
    },
    {
      "cell_type": "code",
      "execution_count": null,
      "metadata": {
        "id": "Ml6AP9yeBpBM"
      },
      "outputs": [],
      "source": [
        "results = model.evaluate(x_test_seq, test_labels, verbose=1)\n",
        "print('Test Loss: {}'.format(results[0]))\n",
        "print('Test Accuracy: {}'.format(results[1]))"
      ]
    },
    {
      "cell_type": "markdown",
      "metadata": {
        "id": "intmIU4CBpBN"
      },
      "source": [
        "### Deep model\n",
        "Use `keras.layers.SimpleRNN`,  `keras.layers.GRU`,  `keras.layers.LSTM` or `keras.layers.Bidirectional`\n"
      ]
    },
    {
      "cell_type": "code",
      "execution_count": null,
      "metadata": {
        "id": "DyiQt6DvBpBN"
      },
      "outputs": [],
      "source": [
        "model = tf.keras.models.Sequential()\n",
        "model.add(tf.keras.Input(shape=(max_len,), name='input'))\n",
        "## one-hot encoding\n",
        "model.add(layers.Embedding(input_dim=num_words, output_dim=num_words,\n",
        "                           input_length=max_len, embeddings_initializer='identity',\n",
        "                           trainable=False))\n",
        "\n",
        "## complete the model with recurrent layers\n",
        "model.add(...)"
      ]
    },
    {
      "cell_type": "code",
      "execution_count": null,
      "metadata": {
        "id": "tqWJZEDqBpBN"
      },
      "outputs": [],
      "source": [
        "## set the loss and see the results\n",
        "model.compile(\n",
        "    optimizer='adam',\n",
        "    loss=...,\n",
        "    metrics=['accuracy']\n",
        ")\n",
        "epochs = 5\n",
        "history = model.fit(x_train_seq, train_labels,\n",
        "                    validation_split=0.1, epochs=epochs,\n",
        "                    batch_size=256)"
      ]
    },
    {
      "cell_type": "code",
      "execution_count": null,
      "metadata": {
        "id": "w5c5aoo1BpBN"
      },
      "outputs": [],
      "source": [
        "results = model.evaluate(x_test_seq, test_labels, verbose=1)\n",
        "print('Test Loss: {}'.format(results[0]))\n",
        "print('Test Accuracy: {}'.format(results[1]))"
      ]
    },
    {
      "cell_type": "markdown",
      "metadata": {
        "id": "eKJ2PWsXBpBN"
      },
      "source": [
        "### Bidirectional model\n",
        "Use `keras.layers.SimpleRNN`,  `keras.layers.GRU`,  `keras.layers.LSTM` with `keras.layers.Bidirectional`\n"
      ]
    },
    {
      "cell_type": "code",
      "execution_count": null,
      "metadata": {
        "id": "todCRq0gBpBO"
      },
      "outputs": [],
      "source": [
        "model = tf.keras.models.Sequential()\n",
        "model.add(tf.keras.Input(shape=(max_len,), name='input'))\n",
        "## one-hot encoding\n",
        "model.add(layers.Embedding(input_dim=num_words, output_dim=num_words,\n",
        "                           input_length=max_len, embeddings_initializer='identity',\n",
        "                           trainable=False))\n",
        "\n",
        "## complete the model with recurrent layers\n",
        "model.add(...)"
      ]
    },
    {
      "cell_type": "code",
      "execution_count": null,
      "metadata": {
        "id": "Q6h_9V5fBpBO"
      },
      "outputs": [],
      "source": [
        "## set the loss and see the results\n",
        "model.compile(\n",
        "    optimizer='adam',\n",
        "    loss=...,\n",
        "    metrics=['accuracy']\n",
        ")\n",
        "epochs = 5\n",
        "history = model.fit(x_train_seq, train_labels,\n",
        "                    validation_split=0.1, epochs=epochs,\n",
        "                    batch_size=256)"
      ]
    },
    {
      "cell_type": "code",
      "execution_count": null,
      "metadata": {
        "id": "yge6tIcqBpBO"
      },
      "outputs": [],
      "source": [
        "results = model.evaluate(x_test_seq, test_labels, verbose=1)\n",
        "print('Test Loss: {}'.format(results[0]))\n",
        "print('Test Accuracy: {}'.format(results[1]))"
      ]
    },
    {
      "cell_type": "markdown",
      "metadata": {
        "id": "tiMT5iyaBpBO"
      },
      "source": [
        "#### Making predictioins with new data"
      ]
    },
    {
      "cell_type": "code",
      "execution_count": null,
      "metadata": {
        "id": "_BKO5oIHBpBO"
      },
      "outputs": [],
      "source": [
        "reviews = ['the film was really bad and i am very disappointed',\n",
        "           'The film was very funny entertaining and good we had a great time . brilliant film',\n",
        "           'this film was just brilliant',\n",
        "           'the film is not good',\n",
        "           'the film is not bad',\n",
        "          'the movie is not bad I like it']\n",
        "sequences = [vectorize_text_sentence(review.lower(), word2int)\n",
        "             for review in reviews]\n",
        "\n",
        "## Padding the sequences\n",
        "x_pred  = sequence.pad_sequences(sequences, maxlen=max_len, truncating='post', padding='post')# ...\n",
        "\n",
        "np.round(model.predict(x_pred), 4)"
      ]
    },
    {
      "cell_type": "code",
      "execution_count": null,
      "metadata": {
        "id": "3_COwgOpBpBO"
      },
      "outputs": [],
      "source": [
        "show_errors(x_test_seq, model, test_labels, int2word, n_samples=10)"
      ]
    },
    {
      "cell_type": "markdown",
      "metadata": {
        "id": "Kkve-5AaBpBO"
      },
      "source": [
        "###  Use a convolutional network instead of a RNN\n",
        "\n",
        "```python\n",
        "tf.keras.layers.Conv1D(\n",
        "    filters, kernel_size\n",
        ")\n",
        "```\n",
        "\n",
        "```python\n",
        "tf.keras.layers.MaxPool1D(\n",
        "    pool_size=2\n",
        ")\n",
        "```\n",
        "\n",
        "```python\n",
        "tf.keras.layers.Flatten()\n",
        "```"
      ]
    },
    {
      "cell_type": "code",
      "execution_count": null,
      "metadata": {
        "id": "AV_lyjMHBpBP"
      },
      "outputs": [],
      "source": [
        "from tensorflow.keras.datasets import imdb\n",
        "num_words = 2000\n",
        "((train_data, train_labels), (test_data, test_labels)\n",
        " ) = imdb.load_data(num_words=num_words)\n",
        "\n",
        "#  limit the data for class time\n",
        "# Transform word_id to word and reverse\n",
        "word2int = imdb.get_word_index()\n",
        "word2int = {w: i+3 for w, i in word2int.items()}\n",
        "word2int[\"<PAD>\"] = 0\n",
        "word2int[\"<START>\"] = 1\n",
        "word2int[\"<UNK>\"] = 2\n",
        "word2int[\"<UNUSED>\"] = 3\n",
        "int2word = {i: w for w, i in word2int.items()}\n",
        "num_words = num_words+3\n"
      ]
    },
    {
      "cell_type": "code",
      "execution_count": null,
      "metadata": {
        "id": "LeJSL1WmBpBP"
      },
      "outputs": [],
      "source": [
        "max_len = 100\n",
        "x_train_seq = sequence.pad_sequences(train_data, maxlen=max_len, truncating='post', padding='post')\n",
        "x_test_seq = sequence.pad_sequences(test_data, maxlen=max_len, truncating='post', padding='post')\n",
        "\n",
        "print('train shape:', x_train_seq.shape)\n",
        "print('test shape:', x_test_seq.shape)"
      ]
    },
    {
      "cell_type": "code",
      "execution_count": null,
      "metadata": {
        "id": "vmkxI6AHBpBP"
      },
      "outputs": [],
      "source": [
        "model = tf.keras.models.Sequential()\n",
        "model.add(tf.keras.Input(shape=(max_len,), name='input'))\n",
        "## one-hot encoding\n",
        "model.add(layers.Embedding(input_dim=num_words, output_dim=num_words,\n",
        "                           input_length=max_len, embeddings_initializer='identity',\n",
        "                           trainable=False))\n",
        "\n",
        "\n",
        "model.add(layers.Conv1D(32, 3, activation='relu'))\n",
        "model.add(layers.MaxPooling1D(2))\n",
        "\n",
        "model.add(layers.Dropout(0.5))\n",
        "model.add(layers.Conv1D(32, 3, activation='relu'))\n",
        "model.add(layers.MaxPooling1D(2))\n",
        "\n",
        "model.add(layers.Dropout(0.5))\n",
        "model.add(layers.Flatten())\n",
        "model.add(layers.Dense(32, activation='relu'))\n",
        "model.add(layers.Dense(1, activation='sigmoid'))"
      ]
    },
    {
      "cell_type": "code",
      "execution_count": null,
      "metadata": {
        "id": "hrNycmPPBpBP"
      },
      "outputs": [],
      "source": [
        "model.compile(\n",
        "    optimizer='adam',\n",
        "    loss='binary_crossentropy',\n",
        "    metrics=['accuracy']\n",
        ")\n",
        "epochs = 5\n",
        "history = model.fit(x_train_seq, train_labels,\n",
        "                    validation_split=0.1, epochs=epochs,\n",
        "                    batch_size=256)"
      ]
    },
    {
      "cell_type": "code",
      "execution_count": null,
      "metadata": {
        "id": "PGgKNtLWBpBP"
      },
      "outputs": [],
      "source": [
        "reviews = ['the film was really bad and i am very disappointed',\n",
        "           'The film was very funny entertaining and good we had a great time . brilliant film',\n",
        "           'this film was just brilliant',\n",
        "           'the film is not good',\n",
        "           'the film is not bad']\n",
        "sequences = [vectorize_text_sentence(review.lower(), word2int)\n",
        "             for review in reviews]\n",
        "\n",
        "## Padding the sequences\n",
        "x_pred  = sequence.pad_sequences(sequences, maxlen=max_len, truncating='post', padding='post')# ...\n",
        "\n",
        "np.round(model.predict(x_pred), 4)"
      ]
    },
    {
      "cell_type": "code",
      "execution_count": null,
      "metadata": {
        "id": "BrU_JIB9BpBP"
      },
      "outputs": [],
      "source": [
        "show_errors(x_test_seq, model, test_labels, int2word, n_samples=10)"
      ]
    }
  ],
  "metadata": {
    "accelerator": "GPU",
    "colab": {
      "gpuType": "T4",
      "provenance": [],
      "toc_visible": true
    },
    "kernelspec": {
      "display_name": "Python 3",
      "name": "python3"
    },
    "language_info": {
      "codemirror_mode": {
        "name": "ipython",
        "version": 3
      },
      "file_extension": ".py",
      "mimetype": "text/x-python",
      "name": "python",
      "nbconvert_exporter": "python",
      "pygments_lexer": "ipython3",
      "version": "3.8.5"
    }
  },
  "nbformat": 4,
  "nbformat_minor": 0
}