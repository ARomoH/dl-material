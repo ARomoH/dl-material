{
  "cells": [
    {
      "cell_type": "markdown",
      "metadata": {
        "id": "9ggRea9TBpA_"
      },
      "source": [
        "[![Open In Colab](https://colab.research.google.com/assets/colab-badge.svg)](https://colab.research.google.com/drive/11au9s4Hox89d0zcU1GjwuAERdEteoFxJ?usp=sharing)\n",
        "\n",
        "Source: https://github.com/ezponda/intro_deep_learning/blob/main/class/RNN/IMBD_RNN.ipynb"
      ]
    },
    {
      "cell_type": "markdown",
      "metadata": {
        "id": "DI6h56nFBpBB"
      },
      "source": [
        "# Classification Example\n",
        " Two-class classification, or binary classification, may be the most widely applied kind of machine-learning problem. In this example, you’ll learn to classify movie reviews as positive or negative, based on the text content of the reviews.\n"
      ]
    },
    {
      "cell_type": "code",
      "execution_count": null,
      "metadata": {
        "id": "FASza3eeBpBC"
      },
      "outputs": [],
      "source": [
        "import tensorflow as tf\n",
        "from tensorflow import keras\n",
        "from tensorflow.keras import layers\n",
        "import numpy as np\n",
        "import matplotlib.pyplot as plt\n",
        "import pandas as pd\n",
        "\n",
        "tf.keras.utils.set_random_seed(0)\n",
        "\n",
        "\n",
        "def show_loss_accuracy_evolution(history):\n",
        "    hist = pd.DataFrame(history.history)\n",
        "    hist['epoch'] = history.epoch\n",
        "\n",
        "    fig, (ax1, ax2) = plt.subplots(1, 2, figsize=(16, 6))\n",
        "\n",
        "    ax1.set_xlabel('Epoch')\n",
        "    ax1.set_ylabel('Sparse Categorical Crossentropy')\n",
        "    ax1.plot(hist['epoch'], hist['loss'], label='Train Error')\n",
        "    ax1.plot(hist['epoch'], hist['val_loss'], label='Val Error')\n",
        "    ax1.grid()\n",
        "    ax1.legend()\n",
        "\n",
        "    ax2.set_xlabel('Epoch')\n",
        "    ax2.set_ylabel('Accuracy')\n",
        "    ax2.plot(hist['epoch'], hist['accuracy'], label='Train Accuracy')\n",
        "    ax2.plot(hist['epoch'], hist['val_accuracy'], label='Val Accuracy')\n",
        "    ax2.grid()\n",
        "    ax2.legend()\n",
        "\n",
        "    plt.show()"
      ]
    },
    {
      "cell_type": "markdown",
      "metadata": {
        "id": "oyuZRSjKBpBD"
      },
      "source": [
        "## The Dataset: The IMDB dataset\n",
        "We’ll work with the IMDB dataset: a set of 50,000 highly polarized reviews from the Internet Movie Database. They’re split into 25,000 reviews for training and 25,000 reviews for testing, each set consisting of 50% negative and 50% positive reviews. The  parameter `num_words` controls how many words different we want to use."
      ]
    },
    {
      "cell_type": "code",
      "execution_count": null,
      "metadata": {
        "colab": {
          "base_uri": "https://localhost:8080/"
        },
        "id": "bV8crZvWBpBE",
        "outputId": "0eefc097-f841-46e3-f30c-e61e1eeeaad9"
      },
      "outputs": [
        {
          "output_type": "stream",
          "name": "stdout",
          "text": [
            "Downloading data from https://storage.googleapis.com/tensorflow/tf-keras-datasets/imdb.npz\n",
            "17464789/17464789 [==============================] - 0s 0us/step\n",
            "[1, 14, 22, 16, 43, 530, 973, 1622, 1385, 65, 458, 4468, 66, 3941, 4, 173, 36, 256, 5, 25, 100, 43, 838, 112, 50, 670, 2, 9, 35, 480, 284, 5, 150, 4, 172, 112, 167, 2, 336, 385, 39, 4, 172, 4536, 1111, 17, 546, 38, 13, 447, 4, 192, 50, 16, 6, 147, 2025, 19, 14, 22, 4, 1920, 4613, 469, 4, 22, 71, 87, 12, 16, 43, 530, 38, 76, 15, 13, 1247, 4, 22, 17, 515, 17, 12, 16, 626, 18, 2, 5, 62, 386, 12, 8, 316, 8, 106, 5, 4, 2223, 5244, 16, 480, 66, 3785, 33, 4, 130, 12, 16, 38, 619, 5, 25, 124, 51, 36, 135, 48, 25, 1415, 33, 6, 22, 12, 215, 28, 77, 52, 5, 14, 407, 16, 82, 2, 8, 4, 107, 117, 5952, 15, 256, 4, 2, 7, 3766, 5, 723, 36, 71, 43, 530, 476, 26, 400, 317, 46, 7, 4, 2, 1029, 13, 104, 88, 4, 381, 15, 297, 98, 32, 2071, 56, 26, 141, 6, 194, 7486, 18, 4, 226, 22, 21, 134, 476, 26, 480, 5, 144, 30, 5535, 18, 51, 36, 28, 224, 92, 25, 104, 4, 226, 65, 16, 38, 1334, 88, 12, 16, 283, 5, 16, 4472, 113, 103, 32, 15, 16, 5345, 19, 178, 32]\n"
          ]
        }
      ],
      "source": [
        "from tensorflow.keras.datasets import imdb\n",
        "num_words = 10000\n",
        "(train_data, train_labels), (test_data, test_labels) = imdb.load_data(num_words=num_words)\n",
        "print(train_data[0])"
      ]
    },
    {
      "cell_type": "code",
      "execution_count": null,
      "metadata": {
        "id": "jaE1a4jHBpBE",
        "colab": {
          "base_uri": "https://localhost:8080/"
        },
        "outputId": "051be9b9-d8fa-4ad1-e06c-f4c11812163e"
      },
      "outputs": [
        {
          "output_type": "stream",
          "name": "stdout",
          "text": [
            "Downloading data from https://storage.googleapis.com/tensorflow/tf-keras-datasets/imdb_word_index.json\n",
            "1641221/1641221 [==============================] - 0s 0us/step\n"
          ]
        }
      ],
      "source": [
        "# Transform word_id to word and reverse\n",
        "word2int = imdb.get_word_index()\n",
        "word2int = {w: i+3 for w, i in word2int.items()}\n",
        "word2int[\"<PAD>\"] = 0\n",
        "word2int[\"<START>\"] = 1\n",
        "word2int[\"<UNK>\"] = 2\n",
        "word2int[\"<UNUSED>\"] = 3\n",
        "int2word = {i: w for w, i in word2int.items()}\n",
        "num_words = num_words+3"
      ]
    },
    {
      "cell_type": "markdown",
      "metadata": {
        "id": "43lIT9r2BpBE"
      },
      "source": [
        "For transforming an id-sequence to a phrase use get_words"
      ]
    },
    {
      "cell_type": "code",
      "execution_count": null,
      "metadata": {
        "colab": {
          "base_uri": "https://localhost:8080/",
          "height": 127
        },
        "id": "vEPFrrrhBpBE",
        "outputId": "b2d1552e-7550-4ff0-c2e4-43c063db8f75"
      },
      "outputs": [
        {
          "output_type": "execute_result",
          "data": {
            "text/plain": [
              "\"<START> this film was just brilliant casting location scenery story direction everyone's really suited the part they played and you could just imagine being there robert <UNK> is an amazing actor and now the same being director <UNK> father came from the same scottish island as myself so i loved the fact there was a real connection with this film the witty remarks throughout the film were great it was just brilliant so much that i bought the film as soon as it was released for <UNK> and would recommend it to everyone to watch and the fly fishing was amazing really cried at the end it was so sad and you know what they say if you cry at a film it must have been good and this definitely was also <UNK> to the two little boy's that played the <UNK> of norman and paul they were just brilliant children are often left out of the <UNK> list i think because the stars that play them all grown up are such a big profile for the whole film but these children are amazing and should be praised for what they have done don't you think the whole story was so lovely because it was true and was someone's life after all that was shared with us all\""
            ],
            "application/vnd.google.colaboratory.intrinsic+json": {
              "type": "string"
            }
          },
          "metadata": {},
          "execution_count": 11
        }
      ],
      "source": [
        "def get_words(sentence, int2word):\n",
        "    return ' '.join([int2word.get(i, '<UNK>') for i in sentence])\n",
        "\n",
        "\n",
        "get_words(train_data[0], int2word)"
      ]
    },
    {
      "cell_type": "markdown",
      "metadata": {
        "id": "ubxyezv0BpBF"
      },
      "source": [
        "# MLP model\n",
        "\n",
        "## Data Preprocessing\n",
        "\n",
        "You need to convert your raw text to an appropriate input to a sequential model"
      ]
    },
    {
      "cell_type": "code",
      "execution_count": null,
      "metadata": {
        "id": "Bvql44xPBpBF"
      },
      "outputs": [],
      "source": [
        "def vectorize_text_sentence(text, word2int):\n",
        "    tokens = text.split(' ')\n",
        "    tokens_id = [word2int.get(tk,2) for tk in tokens]\n",
        "    return tokens_id\n",
        "\n",
        "text = get_words(train_data[0], int2word)\n",
        "print(text)\n",
        "print(vectorize_text_sentence(text, word2int))"
      ]
    },
    {
      "cell_type": "markdown",
      "metadata": {
        "id": "4P4GmfWDBpBF"
      },
      "source": [
        "We are going to use a bag of words model. BoW is a simplifying representation used in natural language processing. In this model, a text (such as a sentence or a document) is represented as the Each key is the word, and each value is the frequency of occurrences of that word in the given text document.\n",
        "\n",
        "- **Input document**: `\"John likes to watch movies Mary likes movies too\"`\n",
        "- **BoW**: `{'John': 0.11, 'likes': 0.22, 'to': 0.11, 'watch': 0.11, 'movies': 0.22, 'Mary': 0.11, 'too': 0.11}`\n"
      ]
    },
    {
      "cell_type": "code",
      "execution_count": null,
      "metadata": {
        "colab": {
          "base_uri": "https://localhost:8080/"
        },
        "id": "N3x6kIL8BpBF",
        "outputId": "3fb7a331-18a2-42e8-88b0-0eef44ebf537"
      },
      "outputs": [
        {
          "output_type": "stream",
          "name": "stdout",
          "text": [
            "text_example John likes to watch movies Mary likes movies too\n",
            "text splitted ['John', 'likes', 'to', 'watch', 'movies', 'Mary', 'likes', 'movies', 'too']\n",
            "bag_of_words {'John': 0.1111111111111111, 'likes': 0.2222222222222222, 'to': 0.1111111111111111, 'watch': 0.1111111111111111, 'movies': 0.2222222222222222, 'Mary': 0.1111111111111111, 'too': 0.1111111111111111}\n",
            "bag_of_words norm=False {'John': 1, 'likes': 2, 'to': 1, 'watch': 1, 'movies': 2, 'Mary': 1, 'too': 1}\n",
            "bag_of_words with indexes {308: 1, 1232: 2, 8: 1, 106: 1, 102: 2, 1083: 1, 99: 1}\n"
          ]
        }
      ],
      "source": [
        "from collections import Counter\n",
        "\n",
        "\n",
        "def get_bag_of_words(sequence, norm=True):\n",
        "    word_count = Counter(sequence)\n",
        "    if norm:\n",
        "        total = sum(word_count.values())\n",
        "        word_freq = {w: n / total for w, n in word_count.items()}\n",
        "        return word_freq\n",
        "    else:\n",
        "        return dict(word_count.items())\n",
        "\n",
        "\n",
        "text_example = \"John likes to watch movies Mary likes movies too\"\n",
        "print('text_example', text_example)\n",
        "text_sequence = text_example.split()\n",
        "print('text splitted', text_sequence)\n",
        "bag_of_words = get_bag_of_words(text_sequence)\n",
        "print('bag_of_words', bag_of_words)\n",
        "print('bag_of_words norm=False', get_bag_of_words(text_sequence, norm=False))\n",
        "print(\n",
        "    'bag_of_words with indexes', {\n",
        "        word2int[w.lower()]: p\n",
        "        for w, p in get_bag_of_words(text_sequence, norm=False).items()\n",
        "    })"
      ]
    },
    {
      "cell_type": "markdown",
      "metadata": {
        "id": "3alPstiwBpBG"
      },
      "source": [
        "After that, we convert every BoW to a vector of `dim=num_words` with `vectorize_sequences`"
      ]
    },
    {
      "cell_type": "code",
      "execution_count": null,
      "metadata": {
        "colab": {
          "base_uri": "https://localhost:8080/"
        },
        "id": "negdOAzfBpBG",
        "outputId": "f8d554a8-d79a-4665-d17c-06a253153481"
      },
      "outputs": [
        {
          "output_type": "execute_result",
          "data": {
            "text/plain": [
              "((25000, 10003), (25000,))"
            ]
          },
          "metadata": {},
          "execution_count": 7
        }
      ],
      "source": [
        "def vectorize_sequence(sequence, num_words, norm=True):\n",
        "    vec = np.zeros(num_words)\n",
        "    bow = get_bag_of_words(sequence, norm)\n",
        "    for w, freq in bow.items():\n",
        "        if w < num_words:\n",
        "            vec[w] = freq\n",
        "    return vec\n",
        "\n",
        "\n",
        "def vectorize_sequences(sequences, num_words=num_words, norm=True):\n",
        "    \"\"\"Creates an all-zero matrix of shape (len(sequences), num_words)\"\"\"\n",
        "    results = np.zeros((len(sequences), num_words))\n",
        "    for i, sequence in enumerate(sequences):\n",
        "        results[i, :] = vectorize_sequence(sequence, num_words, norm)\n",
        "    return results\n",
        "\n",
        "\n",
        "x_train = vectorize_sequences(train_data, num_words=num_words)\n",
        "x_test = vectorize_sequences(test_data, num_words=num_words)\n",
        "y_train =np.asarray(train_labels).astype('float32')\n",
        "y_test = np.asarray(test_labels).astype('float32')\n",
        "x_train.shape, y_train.shape"
      ]
    },
    {
      "cell_type": "code",
      "execution_count": null,
      "metadata": {
        "colab": {
          "base_uri": "https://localhost:8080/"
        },
        "id": "IwJrkj99BpBG",
        "outputId": "e8d9eae1-1338-455e-cf99-209769cea6e6"
      },
      "outputs": [
        {
          "output_type": "execute_result",
          "data": {
            "text/plain": [
              "array([0.        , 0.00458716, 0.02752294, ..., 0.        , 0.        ,\n",
              "       0.        ])"
            ]
          },
          "metadata": {},
          "execution_count": 8
        }
      ],
      "source": [
        "x_train[0]"
      ]
    },
    {
      "cell_type": "markdown",
      "metadata": {
        "id": "tr7JgXlUBpBG"
      },
      "source": [
        "## Define and train a model\n",
        "Define, compile and fit your sequential model"
      ]
    },
    {
      "cell_type": "code",
      "execution_count": null,
      "metadata": {
        "colab": {
          "base_uri": "https://localhost:8080/",
          "height": 352
        },
        "id": "jrNQmcIxBpBG",
        "outputId": "6620e7f8-218b-4418-b819-73746b21ba86"
      },
      "outputs": [
        {
          "output_type": "stream",
          "name": "stderr",
          "text": [
            "/usr/local/lib/python3.10/dist-packages/keras/src/layers/core/dense.py:87: UserWarning: Do not pass an `input_shape`/`input_dim` argument to a layer. When using Sequential models, prefer using an `Input(shape)` object as the first layer in the model instead.\n",
            "  super().__init__(activity_regularizer=activity_regularizer, **kwargs)\n"
          ]
        },
        {
          "output_type": "display_data",
          "data": {
            "text/plain": [
              "\u001b[1mModel: \"sequential\"\u001b[0m\n"
            ],
            "text/html": [
              "<pre style=\"white-space:pre;overflow-x:auto;line-height:normal;font-family:Menlo,'DejaVu Sans Mono',consolas,'Courier New',monospace\"><span style=\"font-weight: bold\">Model: \"sequential\"</span>\n",
              "</pre>\n"
            ]
          },
          "metadata": {}
        },
        {
          "output_type": "display_data",
          "data": {
            "text/plain": [
              "┏━━━━━━━━━━━━━━━━━━━━━━━━━━━━━━━━━━━━━━┳━━━━━━━━━━━━━━━━━━━━━━━━━━━━━┳━━━━━━━━━━━━━━━━━┓\n",
              "┃\u001b[1m \u001b[0m\u001b[1mLayer (type)                        \u001b[0m\u001b[1m \u001b[0m┃\u001b[1m \u001b[0m\u001b[1mOutput Shape               \u001b[0m\u001b[1m \u001b[0m┃\u001b[1m \u001b[0m\u001b[1m        Param #\u001b[0m\u001b[1m \u001b[0m┃\n",
              "┡━━━━━━━━━━━━━━━━━━━━━━━━━━━━━━━━━━━━━━╇━━━━━━━━━━━━━━━━━━━━━━━━━━━━━╇━━━━━━━━━━━━━━━━━┩\n",
              "│ dense (\u001b[38;5;33mDense\u001b[0m)                        │ (\u001b[38;5;45mNone\u001b[0m, \u001b[38;5;34m10\u001b[0m)                  │         \u001b[38;5;34m100,040\u001b[0m │\n",
              "├──────────────────────────────────────┼─────────────────────────────┼─────────────────┤\n",
              "│ dropout (\u001b[38;5;33mDropout\u001b[0m)                    │ (\u001b[38;5;45mNone\u001b[0m, \u001b[38;5;34m10\u001b[0m)                  │               \u001b[38;5;34m0\u001b[0m │\n",
              "├──────────────────────────────────────┼─────────────────────────────┼─────────────────┤\n",
              "│ dense_1 (\u001b[38;5;33mDense\u001b[0m)                      │ (\u001b[38;5;45mNone\u001b[0m, \u001b[38;5;34m10\u001b[0m)                  │             \u001b[38;5;34m110\u001b[0m │\n",
              "├──────────────────────────────────────┼─────────────────────────────┼─────────────────┤\n",
              "│ dropout_1 (\u001b[38;5;33mDropout\u001b[0m)                  │ (\u001b[38;5;45mNone\u001b[0m, \u001b[38;5;34m10\u001b[0m)                  │               \u001b[38;5;34m0\u001b[0m │\n",
              "├──────────────────────────────────────┼─────────────────────────────┼─────────────────┤\n",
              "│ dense_2 (\u001b[38;5;33mDense\u001b[0m)                      │ (\u001b[38;5;45mNone\u001b[0m, \u001b[38;5;34m1\u001b[0m)                   │              \u001b[38;5;34m11\u001b[0m │\n",
              "└──────────────────────────────────────┴─────────────────────────────┴─────────────────┘\n"
            ],
            "text/html": [
              "<pre style=\"white-space:pre;overflow-x:auto;line-height:normal;font-family:Menlo,'DejaVu Sans Mono',consolas,'Courier New',monospace\">┏━━━━━━━━━━━━━━━━━━━━━━━━━━━━━━━━━━━━━━┳━━━━━━━━━━━━━━━━━━━━━━━━━━━━━┳━━━━━━━━━━━━━━━━━┓\n",
              "┃<span style=\"font-weight: bold\"> Layer (type)                         </span>┃<span style=\"font-weight: bold\"> Output Shape                </span>┃<span style=\"font-weight: bold\">         Param # </span>┃\n",
              "┡━━━━━━━━━━━━━━━━━━━━━━━━━━━━━━━━━━━━━━╇━━━━━━━━━━━━━━━━━━━━━━━━━━━━━╇━━━━━━━━━━━━━━━━━┩\n",
              "│ dense (<span style=\"color: #0087ff; text-decoration-color: #0087ff\">Dense</span>)                        │ (<span style=\"color: #00d7ff; text-decoration-color: #00d7ff\">None</span>, <span style=\"color: #00af00; text-decoration-color: #00af00\">10</span>)                  │         <span style=\"color: #00af00; text-decoration-color: #00af00\">100,040</span> │\n",
              "├──────────────────────────────────────┼─────────────────────────────┼─────────────────┤\n",
              "│ dropout (<span style=\"color: #0087ff; text-decoration-color: #0087ff\">Dropout</span>)                    │ (<span style=\"color: #00d7ff; text-decoration-color: #00d7ff\">None</span>, <span style=\"color: #00af00; text-decoration-color: #00af00\">10</span>)                  │               <span style=\"color: #00af00; text-decoration-color: #00af00\">0</span> │\n",
              "├──────────────────────────────────────┼─────────────────────────────┼─────────────────┤\n",
              "│ dense_1 (<span style=\"color: #0087ff; text-decoration-color: #0087ff\">Dense</span>)                      │ (<span style=\"color: #00d7ff; text-decoration-color: #00d7ff\">None</span>, <span style=\"color: #00af00; text-decoration-color: #00af00\">10</span>)                  │             <span style=\"color: #00af00; text-decoration-color: #00af00\">110</span> │\n",
              "├──────────────────────────────────────┼─────────────────────────────┼─────────────────┤\n",
              "│ dropout_1 (<span style=\"color: #0087ff; text-decoration-color: #0087ff\">Dropout</span>)                  │ (<span style=\"color: #00d7ff; text-decoration-color: #00d7ff\">None</span>, <span style=\"color: #00af00; text-decoration-color: #00af00\">10</span>)                  │               <span style=\"color: #00af00; text-decoration-color: #00af00\">0</span> │\n",
              "├──────────────────────────────────────┼─────────────────────────────┼─────────────────┤\n",
              "│ dense_2 (<span style=\"color: #0087ff; text-decoration-color: #0087ff\">Dense</span>)                      │ (<span style=\"color: #00d7ff; text-decoration-color: #00d7ff\">None</span>, <span style=\"color: #00af00; text-decoration-color: #00af00\">1</span>)                   │              <span style=\"color: #00af00; text-decoration-color: #00af00\">11</span> │\n",
              "└──────────────────────────────────────┴─────────────────────────────┴─────────────────┘\n",
              "</pre>\n"
            ]
          },
          "metadata": {}
        },
        {
          "output_type": "display_data",
          "data": {
            "text/plain": [
              "\u001b[1m Total params: \u001b[0m\u001b[38;5;34m100,161\u001b[0m (391.25 KB)\n"
            ],
            "text/html": [
              "<pre style=\"white-space:pre;overflow-x:auto;line-height:normal;font-family:Menlo,'DejaVu Sans Mono',consolas,'Courier New',monospace\"><span style=\"font-weight: bold\"> Total params: </span><span style=\"color: #00af00; text-decoration-color: #00af00\">100,161</span> (391.25 KB)\n",
              "</pre>\n"
            ]
          },
          "metadata": {}
        },
        {
          "output_type": "display_data",
          "data": {
            "text/plain": [
              "\u001b[1m Trainable params: \u001b[0m\u001b[38;5;34m100,161\u001b[0m (391.25 KB)\n"
            ],
            "text/html": [
              "<pre style=\"white-space:pre;overflow-x:auto;line-height:normal;font-family:Menlo,'DejaVu Sans Mono',consolas,'Courier New',monospace\"><span style=\"font-weight: bold\"> Trainable params: </span><span style=\"color: #00af00; text-decoration-color: #00af00\">100,161</span> (391.25 KB)\n",
              "</pre>\n"
            ]
          },
          "metadata": {}
        },
        {
          "output_type": "display_data",
          "data": {
            "text/plain": [
              "\u001b[1m Non-trainable params: \u001b[0m\u001b[38;5;34m0\u001b[0m (0.00 B)\n"
            ],
            "text/html": [
              "<pre style=\"white-space:pre;overflow-x:auto;line-height:normal;font-family:Menlo,'DejaVu Sans Mono',consolas,'Courier New',monospace\"><span style=\"font-weight: bold\"> Non-trainable params: </span><span style=\"color: #00af00; text-decoration-color: #00af00\">0</span> (0.00 B)\n",
              "</pre>\n"
            ]
          },
          "metadata": {}
        }
      ],
      "source": [
        "model = keras.Sequential()\n",
        "model.add(keras.layers.Dense(10, input_shape=(10003, ), activation='sigmoid'))\n",
        "model.add(keras.layers.Dropout(0.1))\n",
        "model.add(keras.layers.Dense(10, activation='sigmoid'))\n",
        "model.add(keras.layers.Dropout(0.1))\n",
        "model.add(keras.layers.Dense(1, activation='sigmoid'))\n",
        "\n",
        "model.summary()"
      ]
    },
    {
      "cell_type": "code",
      "execution_count": null,
      "metadata": {
        "id": "22HpKoaIvu5R"
      },
      "outputs": [],
      "source": [
        "model.compile(optimizer=\"adam\", loss=\"binary_crossentropy\", metrics=[\"accuracy\"])"
      ]
    },
    {
      "cell_type": "code",
      "execution_count": null,
      "metadata": {
        "colab": {
          "base_uri": "https://localhost:8080/"
        },
        "id": "ng00bZHMvflB",
        "outputId": "78b45114-8229-4799-c200-9f32dfc03b0c"
      },
      "outputs": [
        {
          "output_type": "stream",
          "name": "stdout",
          "text": [
            "Epoch 1/25\n",
            "\u001b[1m625/625\u001b[0m \u001b[32m━━━━━━━━━━━━━━━━━━━━\u001b[0m\u001b[37m\u001b[0m \u001b[1m10s\u001b[0m 9ms/step - accuracy: 0.5071 - loss: 0.6997 - val_accuracy: 0.6170 - val_loss: 0.6922\n",
            "Epoch 2/25\n",
            "\u001b[1m625/625\u001b[0m \u001b[32m━━━━━━━━━━━━━━━━━━━━\u001b[0m\u001b[37m\u001b[0m \u001b[1m4s\u001b[0m 4ms/step - accuracy: 0.5148 - loss: 0.6974 - val_accuracy: 0.7732 - val_loss: 0.6907\n",
            "Epoch 3/25\n",
            "\u001b[1m625/625\u001b[0m \u001b[32m━━━━━━━━━━━━━━━━━━━━\u001b[0m\u001b[37m\u001b[0m \u001b[1m2s\u001b[0m 3ms/step - accuracy: 0.5272 - loss: 0.6946 - val_accuracy: 0.7730 - val_loss: 0.6872\n",
            "Epoch 4/25\n",
            "\u001b[1m625/625\u001b[0m \u001b[32m━━━━━━━━━━━━━━━━━━━━\u001b[0m\u001b[37m\u001b[0m \u001b[1m2s\u001b[0m 4ms/step - accuracy: 0.5503 - loss: 0.6887 - val_accuracy: 0.7742 - val_loss: 0.6790\n",
            "Epoch 5/25\n",
            "\u001b[1m625/625\u001b[0m \u001b[32m━━━━━━━━━━━━━━━━━━━━\u001b[0m\u001b[37m\u001b[0m \u001b[1m3s\u001b[0m 4ms/step - accuracy: 0.5811 - loss: 0.6798 - val_accuracy: 0.7788 - val_loss: 0.6609\n",
            "Epoch 6/25\n",
            "\u001b[1m625/625\u001b[0m \u001b[32m━━━━━━━━━━━━━━━━━━━━\u001b[0m\u001b[37m\u001b[0m \u001b[1m4s\u001b[0m 2ms/step - accuracy: 0.6229 - loss: 0.6618 - val_accuracy: 0.7870 - val_loss: 0.6241\n",
            "Epoch 7/25\n",
            "\u001b[1m625/625\u001b[0m \u001b[32m━━━━━━━━━━━━━━━━━━━━\u001b[0m\u001b[37m\u001b[0m \u001b[1m3s\u001b[0m 2ms/step - accuracy: 0.6601 - loss: 0.6295 - val_accuracy: 0.7962 - val_loss: 0.5736\n",
            "Epoch 8/25\n",
            "\u001b[1m625/625\u001b[0m \u001b[32m━━━━━━━━━━━━━━━━━━━━\u001b[0m\u001b[37m\u001b[0m \u001b[1m3s\u001b[0m 3ms/step - accuracy: 0.6914 - loss: 0.5905 - val_accuracy: 0.8122 - val_loss: 0.5232\n",
            "Epoch 9/25\n",
            "\u001b[1m625/625\u001b[0m \u001b[32m━━━━━━━━━━━━━━━━━━━━\u001b[0m\u001b[37m\u001b[0m \u001b[1m2s\u001b[0m 3ms/step - accuracy: 0.7199 - loss: 0.5568 - val_accuracy: 0.8234 - val_loss: 0.4830\n",
            "Epoch 10/25\n",
            "\u001b[1m625/625\u001b[0m \u001b[32m━━━━━━━━━━━━━━━━━━━━\u001b[0m\u001b[37m\u001b[0m \u001b[1m1s\u001b[0m 2ms/step - accuracy: 0.7371 - loss: 0.5313 - val_accuracy: 0.8328 - val_loss: 0.4498\n",
            "Epoch 11/25\n",
            "\u001b[1m625/625\u001b[0m \u001b[32m━━━━━━━━━━━━━━━━━━━━\u001b[0m\u001b[37m\u001b[0m \u001b[1m2s\u001b[0m 3ms/step - accuracy: 0.7524 - loss: 0.5062 - val_accuracy: 0.8416 - val_loss: 0.4272\n",
            "Epoch 12/25\n",
            "\u001b[1m625/625\u001b[0m \u001b[32m━━━━━━━━━━━━━━━━━━━━\u001b[0m\u001b[37m\u001b[0m \u001b[1m1s\u001b[0m 2ms/step - accuracy: 0.7692 - loss: 0.4867 - val_accuracy: 0.8492 - val_loss: 0.4078\n",
            "Epoch 13/25\n",
            "\u001b[1m625/625\u001b[0m \u001b[32m━━━━━━━━━━━━━━━━━━━━\u001b[0m\u001b[37m\u001b[0m \u001b[1m3s\u001b[0m 2ms/step - accuracy: 0.7680 - loss: 0.4814 - val_accuracy: 0.8558 - val_loss: 0.3929\n",
            "Epoch 14/25\n",
            "\u001b[1m625/625\u001b[0m \u001b[32m━━━━━━━━━━━━━━━━━━━━\u001b[0m\u001b[37m\u001b[0m \u001b[1m3s\u001b[0m 3ms/step - accuracy: 0.7791 - loss: 0.4660 - val_accuracy: 0.8560 - val_loss: 0.3820\n",
            "Epoch 15/25\n",
            "\u001b[1m625/625\u001b[0m \u001b[32m━━━━━━━━━━━━━━━━━━━━\u001b[0m\u001b[37m\u001b[0m \u001b[1m2s\u001b[0m 2ms/step - accuracy: 0.7932 - loss: 0.4457 - val_accuracy: 0.8606 - val_loss: 0.3711\n",
            "Epoch 16/25\n",
            "\u001b[1m625/625\u001b[0m \u001b[32m━━━━━━━━━━━━━━━━━━━━\u001b[0m\u001b[37m\u001b[0m \u001b[1m2s\u001b[0m 2ms/step - accuracy: 0.7986 - loss: 0.4351 - val_accuracy: 0.8656 - val_loss: 0.3602\n",
            "Epoch 17/25\n",
            "\u001b[1m625/625\u001b[0m \u001b[32m━━━━━━━━━━━━━━━━━━━━\u001b[0m\u001b[37m\u001b[0m \u001b[1m1s\u001b[0m 2ms/step - accuracy: 0.8009 - loss: 0.4296 - val_accuracy: 0.8658 - val_loss: 0.3527\n",
            "Epoch 18/25\n",
            "\u001b[1m625/625\u001b[0m \u001b[32m━━━━━━━━━━━━━━━━━━━━\u001b[0m\u001b[37m\u001b[0m \u001b[1m3s\u001b[0m 2ms/step - accuracy: 0.8057 - loss: 0.4190 - val_accuracy: 0.8684 - val_loss: 0.3477\n",
            "Epoch 19/25\n",
            "\u001b[1m625/625\u001b[0m \u001b[32m━━━━━━━━━━━━━━━━━━━━\u001b[0m\u001b[37m\u001b[0m \u001b[1m2s\u001b[0m 2ms/step - accuracy: 0.8160 - loss: 0.4101 - val_accuracy: 0.8694 - val_loss: 0.3406\n",
            "Epoch 20/25\n",
            "\u001b[1m625/625\u001b[0m \u001b[32m━━━━━━━━━━━━━━━━━━━━\u001b[0m\u001b[37m\u001b[0m \u001b[1m2s\u001b[0m 3ms/step - accuracy: 0.8164 - loss: 0.4031 - val_accuracy: 0.8696 - val_loss: 0.3354\n",
            "Epoch 21/25\n",
            "\u001b[1m625/625\u001b[0m \u001b[32m━━━━━━━━━━━━━━━━━━━━\u001b[0m\u001b[37m\u001b[0m \u001b[1m2s\u001b[0m 3ms/step - accuracy: 0.8237 - loss: 0.3881 - val_accuracy: 0.8714 - val_loss: 0.3298\n",
            "Epoch 22/25\n",
            "\u001b[1m625/625\u001b[0m \u001b[32m━━━━━━━━━━━━━━━━━━━━\u001b[0m\u001b[37m\u001b[0m \u001b[1m2s\u001b[0m 2ms/step - accuracy: 0.8262 - loss: 0.3905 - val_accuracy: 0.8716 - val_loss: 0.3271\n",
            "Epoch 23/25\n",
            "\u001b[1m625/625\u001b[0m \u001b[32m━━━━━━━━━━━━━━━━━━━━\u001b[0m\u001b[37m\u001b[0m \u001b[1m3s\u001b[0m 2ms/step - accuracy: 0.8339 - loss: 0.3815 - val_accuracy: 0.8728 - val_loss: 0.3225\n",
            "Epoch 24/25\n",
            "\u001b[1m625/625\u001b[0m \u001b[32m━━━━━━━━━━━━━━━━━━━━\u001b[0m\u001b[37m\u001b[0m \u001b[1m1s\u001b[0m 2ms/step - accuracy: 0.8272 - loss: 0.3849 - val_accuracy: 0.8742 - val_loss: 0.3189\n",
            "Epoch 25/25\n",
            "\u001b[1m625/625\u001b[0m \u001b[32m━━━━━━━━━━━━━━━━━━━━\u001b[0m\u001b[37m\u001b[0m \u001b[1m3s\u001b[0m 2ms/step - accuracy: 0.8329 - loss: 0.3765 - val_accuracy: 0.8758 - val_loss: 0.3155\n"
          ]
        }
      ],
      "source": [
        "history = model.fit(x_train, y_train, epochs=25, validation_split=0.2)"
      ]
    },
    {
      "cell_type": "code",
      "execution_count": null,
      "metadata": {
        "colab": {
          "base_uri": "https://localhost:8080/",
          "height": 541
        },
        "id": "Ummw_MALBpBH",
        "outputId": "70fb4a12-f3a5-4680-9e94-5f8938af0a54"
      },
      "outputs": [
        {
          "output_type": "display_data",
          "data": {
            "text/plain": [
              "<Figure size 1600x600 with 2 Axes>"
            ],
            "image/png": "[encoded data removed]"
          },
          "metadata": {}
        }
      ],
      "source": [
        "show_loss_accuracy_evolution(history)"
      ]
    },
    {
      "cell_type": "markdown",
      "metadata": {
        "id": "Oqv4jSWaBpBH"
      },
      "source": [
        "### Evaluate the model\n",
        "You need to obtain a Test Accuracy > 0.85. Try to get more than 0.9!"
      ]
    },
    {
      "cell_type": "code",
      "execution_count": null,
      "metadata": {
        "colab": {
          "base_uri": "https://localhost:8080/"
        },
        "id": "NPBy4F06BpBH",
        "outputId": "25b1df10-0ba0-4cc4-d1d4-9fba245da0f2"
      },
      "outputs": [
        {
          "output_type": "stream",
          "name": "stdout",
          "text": [
            "\u001b[1m782/782\u001b[0m \u001b[32m━━━━━━━━━━━━━━━━━━━━\u001b[0m\u001b[37m\u001b[0m \u001b[1m1s\u001b[0m 2ms/step - accuracy: 0.8709 - loss: 0.3238\n",
            "Test Loss: 0.3241058886051178\n",
            "Test Accuracy: 0.8708000183105469\n"
          ]
        }
      ],
      "source": [
        "results = model.evaluate(x_test, y_test, verbose=1)\n",
        "print('Test Loss: {}'.format(results[0]))\n",
        "print('Test Accuracy: {}'.format(results[1]))"
      ]
    },
    {
      "cell_type": "markdown",
      "metadata": {
        "id": "rj2wKNJCBpBH"
      },
      "source": [
        "### Making predictioins with new data"
      ]
    },
    {
      "cell_type": "code",
      "execution_count": null,
      "metadata": {
        "colab": {
          "base_uri": "https://localhost:8080/"
        },
        "id": "e6SjOvKHBpBH",
        "outputId": "53b25a8a-464c-450e-c2ec-dd342a7590f4"
      },
      "outputs": [
        {
          "output_type": "stream",
          "name": "stdout",
          "text": [
            "\u001b[1m1/1\u001b[0m \u001b[32m━━━━━━━━━━━━━━━━━━━━\u001b[0m\u001b[37m\u001b[0m \u001b[1m0s\u001b[0m 276ms/step\n"
          ]
        },
        {
          "output_type": "execute_result",
          "data": {
            "text/plain": [
              "array([[0.0172],\n",
              "       [0.9981],\n",
              "       [0.3659]], dtype=float32)"
            ]
          },
          "metadata": {},
          "execution_count": 14
        }
      ],
      "source": [
        "reviews = ['the film was really bad and i am very disappointed',\n",
        "           'The film was very funny entertaining and good we had a great time . brilliant film',\n",
        "           'this film was just brilliant']\n",
        "\n",
        "sequences = [vectorize_text_sentence(review.lower(), word2int)\n",
        "             for review in reviews]\n",
        "\n",
        "x_pred = vectorize_sequences(sequences, num_words=num_words)\n",
        "np.round(model.predict(x_pred), 4)"
      ]
    },
    {
      "cell_type": "markdown",
      "metadata": {
        "id": "qqaRwnqwBpBH"
      },
      "source": [
        "# RNN model\n",
        "\n",
        "Lets use a recurrent neural network and compare results\n"
      ]
    },
    {
      "cell_type": "markdown",
      "metadata": {
        "id": "Ec_XJvm-BpBH"
      },
      "source": [
        "### Simple RNN model\n",
        "\n",
        "There are three built-in RNN layers in Keras:\n",
        "\n",
        "1. [`keras.layers.SimpleRNN`](https://keras.io/api/layers/recurrent_layers/simple_rnn/), a fully-connected RNN where the output from previous\n",
        "timestep is to be fed to next timestep.\n",
        "\n",
        "```python\n",
        "tf.keras.layers.SimpleRNN(\n",
        "    units,\n",
        "    dropout=0.0,\n",
        "    recurrent_dropout=0.0,\n",
        "    return_sequences=False,\n",
        "    return_state=False,\n",
        "    go_backwards=False,\n",
        "    stateful=False,\n",
        ")\n",
        "````\n",
        "\n",
        "2. [`keras.layers.GRU`](https://keras.io/api/layers/recurrent_layers/gru/), first proposed in\n",
        "[Cho et al., 2014](https://arxiv.org/abs/1406.1078).\n",
        "```python\n",
        "tf.keras.layers.GRU(\n",
        "    units,\n",
        "    dropout=0.0,\n",
        "    recurrent_dropout=0.0,\n",
        "    return_sequences=False,\n",
        "    return_state=False,\n",
        "    go_backwards=False,\n",
        "    stateful=False,\n",
        ")\n",
        "```\n",
        "\n",
        "3. [`keras.layers.LSTM`](https://keras.io/api/layers/recurrent_layers/lstm/), first proposed in\n",
        "[Hochreiter & Schmidhuber, 1997](https://www.bioinf.jku.at/publications/older/2604.pdf).\n",
        "```python\n",
        "tf.keras.layers.LSTM(\n",
        "    units,\n",
        "    dropout=0.0,\n",
        "    recurrent_dropout=0.0,\n",
        "    return_sequences=False,\n",
        "    return_state=False,\n",
        "    go_backwards=False,\n",
        "    stateful=False,\n",
        ")\n",
        "````\n",
        "For more information, see the\n",
        "[RNN API documentation](https://keras.io/api/layers/recurrent_layers/).\n",
        "\n",
        "\n",
        "\n",
        "\n",
        "\n",
        "In sequence classification we are going to use the **many-to-one** architecture with default parameter `return_sequences=False`.\n",
        "\n",
        "The shape of the output  for this architecture  is `(batch_size, units)`.\n",
        "where `units` corresponds to the `units` argument passed to the layer's constructor.\n",
        "\n",
        "Lets see one some examples for understanding the input/output dimensions:"
      ]
    },
    {
      "cell_type": "markdown",
      "metadata": {
        "id": "es-yhACeBpBI"
      },
      "source": [
        "### Deep RNN\n",
        "We can stack multiple layers of RNNs on top of each other. Each hidden state is continuously passed to both the next time step of the current layer and the current time step of the next layer.\n",
        "\n",
        "For stack another RNN layer to an existing one, we need to use the states with `return_sequences=True`"
      ]
    },
    {
      "cell_type": "code",
      "execution_count": 5,
      "metadata": {
        "id": "AoGraWrQBpBI",
        "colab": {
          "base_uri": "https://localhost:8080/"
        },
        "outputId": "a8039d0c-1718-4a95-b220-5767672168c7"
      },
      "outputs": [
        {
          "output_type": "stream",
          "name": "stdout",
          "text": [
            "input dim (batch, timesteps, feature):  (32, 10, 4)\n",
            "1. return_state=False output shape:  (32, 2)\n",
            "2. return_state=True output shape:  (32, 10, 2)\n"
          ]
        }
      ],
      "source": [
        "# dims of input: [batch, tokens, embedding_dim]\n",
        "inputs = tf.random.normal([32, 10, 4])\n",
        "print('input dim (batch, tokens, embedding_dim): ', inputs.shape)\n",
        "lstm = tf.keras.layers.LSTM(units=2)\n",
        "output = lstm(inputs)\n",
        "print('1. return_state=False output shape: ',output.shape)\n",
        "lstm = tf.keras.layers.LSTM(units=2, return_sequences=True)\n",
        "output = lstm(inputs)\n",
        "print('2. return_state=True output shape: ',output.shape)"
      ]
    },
    {
      "cell_type": "markdown",
      "metadata": {
        "id": "ay7N4z8LBpBI"
      },
      "source": [
        "### Loading Data"
      ]
    },
    {
      "cell_type": "code",
      "execution_count": null,
      "metadata": {
        "id": "vAMnRrp4BpBI",
        "colab": {
          "base_uri": "https://localhost:8080/"
        },
        "outputId": "fd8b9140-c3e7-47de-87c6-51d01c2ac5b6"
      },
      "outputs": [
        {
          "output_type": "stream",
          "name": "stdout",
          "text": [
            "(25000,) (25000,)\n"
          ]
        }
      ],
      "source": [
        "from tensorflow.keras.datasets import imdb\n",
        "num_words = 2000\n",
        "((train_data, train_labels), (test_data, test_labels)\n",
        " ) = imdb.load_data(num_words=num_words)\n",
        "\n",
        "#  limit the data for class time\n",
        "'''size = 15000\n",
        "(train_data, train_labels), (test_data, test_labels) = (\n",
        "    (train_data[:size], train_labels[:size]), (test_data[:size], test_labels[:size]))\n",
        "'''\n",
        "# Transform word_id to word and reverse\n",
        "word2int = imdb.get_word_index()\n",
        "word2int = {w: i+3 for w, i in word2int.items()}\n",
        "word2int[\"<PAD>\"] = 0\n",
        "word2int[\"<START>\"] = 1\n",
        "word2int[\"<UNK>\"] = 2\n",
        "word2int[\"<UNUSED>\"] = 3\n",
        "int2word = {i: w for w, i in word2int.items()}\n",
        "num_words = num_words+3\n",
        "\n",
        "print(train_data.shape, test_data.shape)"
      ]
    },
    {
      "cell_type": "markdown",
      "metadata": {
        "id": "1Xbw5WjfBpBJ"
      },
      "source": [
        "### Create the RNN model\n",
        "\n",
        "For the input of the first rnn layer we need a tensor of `(timesteps, features)` or `(batchsize, timesteps, features)`. We have a matrix of sentences of `(train_size, max_len)`. Every sentence is a  `max_len`, we need to convert it to a sentence of one-hot vectors of dim `(max_len, num_words)`.\n",
        "For get the one-hot encoding of every sequence we are going to use:\n",
        "\n",
        "```python\n",
        "layers.Embedding(input_dim=num_words, output_dim=num_words,\n",
        "  input_length=max_len, embeddings_initializer='identity', trainable=False)\n",
        "```\n",
        "\n",
        "This layer converts the input tensor `(batch_size, max_len)` to one-hot encoded sequences `(batch_size, max_len, num_words)`\n",
        "\n",
        "\n",
        "\n"
      ]
    },
    {
      "cell_type": "code",
      "source": [
        "max_len = 100\n",
        "x_train_seq = tf.keras.preprocessing.sequence.pad_sequences(train_data, maxlen=max_len, truncating='post', padding='post')\n",
        "x_test_seq = tf.keras.preprocessing.sequence.pad_sequences(test_data, maxlen=max_len, truncating='post', padding='post')\n",
        "\n",
        "print('train shape:', x_train_seq.shape)\n",
        "print('test shape:', x_test_seq.shape)"
      ],
      "metadata": {
        "id": "hTYEfeaZjqyD",
        "colab": {
          "base_uri": "https://localhost:8080/"
        },
        "outputId": "72028e5e-8b65-455d-8f5e-d59f0e1f1c5d"
      },
      "execution_count": null,
      "outputs": [
        {
          "output_type": "stream",
          "name": "stdout",
          "text": [
            "train shape: (25000, 100)\n",
            "test shape: (25000, 100)\n"
          ]
        }
      ]
    },
    {
      "cell_type": "code",
      "execution_count": null,
      "metadata": {
        "id": "K667YvUnBpBJ",
        "scrolled": true,
        "colab": {
          "base_uri": "https://localhost:8080/"
        },
        "outputId": "35a542a6-a1ba-4852-d475-90fb439737fe"
      },
      "outputs": [
        {
          "output_type": "stream",
          "name": "stdout",
          "text": [
            "[[[0 1 2 2 0]]] (1, 1, 5)\n"
          ]
        },
        {
          "output_type": "stream",
          "name": "stderr",
          "text": [
            "/usr/local/lib/python3.10/dist-packages/keras/src/layers/core/embedding.py:90: UserWarning: Argument `input_length` is deprecated. Just remove it.\n",
            "  warnings.warn(\n"
          ]
        },
        {
          "output_type": "execute_result",
          "data": {
            "text/plain": [
              "<tf.Tensor: shape=(1, 1, 5, 3), dtype=float32, numpy=\n",
              "array([[[[1., 0., 0.],\n",
              "         [0., 1., 0.],\n",
              "         [0., 0., 1.],\n",
              "         [0., 0., 1.],\n",
              "         [1., 0., 0.]]]], dtype=float32)>"
            ]
          },
          "metadata": {},
          "execution_count": 21
        }
      ],
      "source": [
        "seq = np.array([[[0, 1, 2, 2, 0]]])\n",
        "print(seq, seq.shape)\n",
        "layers.Embedding(input_dim=3, output_dim=3,\n",
        "                 input_length=5, embeddings_initializer='identity',\n",
        "                 trainable=False)(seq)"
      ]
    },
    {
      "cell_type": "markdown",
      "metadata": {
        "id": "AFXjtrrEBpBJ"
      },
      "source": [
        "### RNN model\n",
        "Use `keras.layers.SimpleRNN`,  `keras.layers.GRU`,  `keras.layers.LSTM` or `keras.layers.Bidirectional`\n"
      ]
    },
    {
      "cell_type": "code",
      "execution_count": 10,
      "metadata": {
        "id": "4-XP0mU-BpBK",
        "colab": {
          "base_uri": "https://localhost:8080/"
        },
        "outputId": "e65c9913-59c9-48eb-8119-39ba979ea52d"
      },
      "outputs": [
        {
          "output_type": "stream",
          "name": "stdout",
          "text": [
            "Model: \"sequential_4\"\n",
            "_________________________________________________________________\n",
            " Layer (type)                Output Shape              Param #   \n",
            "=================================================================\n",
            " embedding (Embedding)       (None, 100, 2000)         4000000   \n",
            "                                                                 \n",
            " simple_rnn (SimpleRNN)      (None, 16)                32272     \n",
            "                                                                 \n",
            " dense (Dense)               (None, 1)                 17        \n",
            "                                                                 \n",
            "=================================================================\n",
            "Total params: 4032289 (15.38 MB)\n",
            "Trainable params: 32289 (126.13 KB)\n",
            "Non-trainable params: 4000000 (15.26 MB)\n",
            "_________________________________________________________________\n"
          ]
        }
      ],
      "source": [
        "model = tf.keras.models.Sequential()\n",
        "model.add(tf.keras.Input(shape=(max_len,), name='input'))\n",
        "## one-hot encoding\n",
        "model.add(layers.Embedding(input_dim=num_words, output_dim=num_words,\n",
        "                           input_length=max_len, embeddings_initializer='identity',\n",
        "                           trainable=False))\n",
        "## complete the model with recurrent layers\n",
        "model.add(layers.SimpleRNN(16, return_sequences=False))\n",
        "\n",
        "## add binary classification output\n",
        "model.add(layers.Dense(1, activation='sigmoid'))\n",
        "model.summary()"
      ]
    },
    {
      "cell_type": "code",
      "execution_count": null,
      "metadata": {
        "id": "ouKP4QNnBpBK",
        "colab": {
          "base_uri": "https://localhost:8080/"
        },
        "outputId": "bdcd0361-0168-42f5-f57d-a4c2f41a5774"
      },
      "outputs": [
        {
          "output_type": "stream",
          "name": "stdout",
          "text": [
            "Epoch 1/5\n",
            "\u001b[1m88/88\u001b[0m \u001b[32m━━━━━━━━━━━━━━━━━━━━\u001b[0m\u001b[37m\u001b[0m \u001b[1m7s\u001b[0m 53ms/step - accuracy: 0.5143 - loss: 0.6944 - val_accuracy: 0.6424 - val_loss: 0.6595\n",
            "Epoch 2/5\n",
            "\u001b[1m88/88\u001b[0m \u001b[32m━━━━━━━━━━━━━━━━━━━━\u001b[0m\u001b[37m\u001b[0m \u001b[1m6s\u001b[0m 25ms/step - accuracy: 0.6926 - loss: 0.6142 - val_accuracy: 0.7720 - val_loss: 0.5207\n",
            "Epoch 3/5\n",
            "\u001b[1m88/88\u001b[0m \u001b[32m━━━━━━━━━━━━━━━━━━━━\u001b[0m\u001b[37m\u001b[0m \u001b[1m3s\u001b[0m 25ms/step - accuracy: 0.7913 - loss: 0.4787 - val_accuracy: 0.7888 - val_loss: 0.4833\n",
            "Epoch 4/5\n",
            "\u001b[1m88/88\u001b[0m \u001b[32m━━━━━━━━━━━━━━━━━━━━\u001b[0m\u001b[37m\u001b[0m \u001b[1m2s\u001b[0m 23ms/step - accuracy: 0.8276 - loss: 0.4117 - val_accuracy: 0.7984 - val_loss: 0.4469\n",
            "Epoch 5/5\n",
            "\u001b[1m88/88\u001b[0m \u001b[32m━━━━━━━━━━━━━━━━━━━━\u001b[0m\u001b[37m\u001b[0m \u001b[1m2s\u001b[0m 23ms/step - accuracy: 0.8450 - loss: 0.3801 - val_accuracy: 0.7880 - val_loss: 0.4682\n"
          ]
        }
      ],
      "source": [
        "## set the loss and see the results\n",
        "# https://www.tensorflow.org/api_docs/python/tf/keras/losses\n",
        "model.compile(\n",
        "    optimizer='adam',\n",
        "    loss='binary_crossentropy',\n",
        "    metrics=['accuracy']\n",
        ")\n",
        "epochs = 5\n",
        "history = model.fit(x_train_seq, train_labels,\n",
        "                    validation_split=0.1, epochs=epochs,\n",
        "                    batch_size=256)\n"
      ]
    },
    {
      "cell_type": "code",
      "execution_count": null,
      "metadata": {
        "id": "whDlc7WnBpBL",
        "colab": {
          "base_uri": "https://localhost:8080/",
          "height": 598
        },
        "outputId": "021cf830-ad10-4063-8e71-f473fcc6c21d"
      },
      "outputs": [
        {
          "output_type": "display_data",
          "data": {
            "text/plain": [
              "<Figure size 1600x600 with 2 Axes>"
            ],
            "image/png": "[encoded data removed]"
          },
          "metadata": {}
        },
        {
          "output_type": "stream",
          "name": "stdout",
          "text": [
            "\u001b[1m782/782\u001b[0m \u001b[32m━━━━━━━━━━━━━━━━━━━━\u001b[0m\u001b[37m\u001b[0m \u001b[1m6s\u001b[0m 8ms/step - accuracy: 0.7868 - loss: 0.4727\n",
            "Test Loss: 0.471746563911438\n",
            "Test Accuracy: 0.7876399755477905\n"
          ]
        }
      ],
      "source": [
        "show_loss_accuracy_evolution(history)\n",
        "results = model.evaluate(x_test_seq, test_labels, verbose=1)\n",
        "print('Test Loss: {}'.format(results[0]))\n",
        "print('Test Accuracy: {}'.format(results[1]))"
      ]
    },
    {
      "cell_type": "code",
      "execution_count": null,
      "metadata": {
        "id": "r4A_Q_RfBpBL",
        "colab": {
          "base_uri": "https://localhost:8080/"
        },
        "outputId": "eee0f2d8-081d-4f22-9266-8e99cce662c4"
      },
      "outputs": [
        {
          "output_type": "stream",
          "name": "stdout",
          "text": [
            "\u001b[1m782/782\u001b[0m \u001b[32m━━━━━━━━━━━━━━━━━━━━\u001b[0m\u001b[37m\u001b[0m \u001b[1m6s\u001b[0m 7ms/step\n",
            "Predicted : 0, real : 1, lenght: 213\n",
            "<START> <UNK> director david <UNK> <UNK> love of blood and gore and <UNK> heads with the more confusing aspects of a reality <UNK> david <UNK> film and it actually works <UNK> i won't bother trying to give even the <UNK> <UNK> of a plot <UNK> here because <UNK> only cause more <UNK> all you need to know is that the film is about a <UNK> reality computer game that is so incredibly <UNK> that it becomes difficult to tell the difference between reality and <UNK> reality the film almost seems to <UNK> its <UNK> <UNK> point at the end but then it <UNK> in the final twist in the very last line of dialogue br br there's also some very <UNK> sexual <UNK> based around the in the <UNK> <UNK> as well as some very <UNK> acting from <UNK> law he manages to come off as <UNK> and stupid and boring and any other annoying <UNK> you can care to think of jason <UNK> <UNK> comes off much better and everyone else can be called a supporting character including <UNK> <UNK> in a <UNK> if <UNK> role as a money <UNK> <UNK> overall is a very effective sci fi film about the <UNK> <UNK> can present and the possible <UNK> it will <UNK>\n",
            "\n",
            "Predicted : 1, real : 0, lenght: 128\n",
            "<START> the trailer is so <UNK> i thought this will be a good film what was the point in <UNK> the women in <UNK> kong for being killed they could have done it in paris and the <UNK> half hour br br you love me br br no i don't you love me br br no i don't you love me br br no i don't <UNK> for 100 times then well i don't love you so i shoot you d so here is the reason why movie <UNK> is a good thing imagine if i would have even give money for this torture i'm sorry for the time i lost watching it the film makers should pay me br br for the <UNK> worst film ever seen\n",
            "\n",
            "Predicted : 1, real : 0, lenght: 111\n",
            "<START> the <UNK> were without a doubt the <UNK> age of made for tv horror this is one of those that was probably <UNK> out as an <UNK> movie of the week it's the old story of a house and or ghost <UNK> one of the new <UNK> the movie has <UNK> but it's never realized everything is <UNK> too much tension and suspense need time to build and <UNK> and there's nothing new <UNK> seen it all before and one better br br one final thought i don't understand why robert <UNK> character would fall for the long dead movie star when he's married to kate jackson for <UNK> <UNK>\n",
            "\n",
            "Predicted : 1, real : 0, lenght: 154\n",
            "<START> <UNK> is not a classic it is a <UNK> of the wonderful original <UNK> <UNK> <UNK> directed by <UNK> and starring a much more attractive and charming <UNK> jean <UNK> if you want to fully experience the and the characters in <UNK> i recommend you don't even watch this movie and see <UNK> <UNK> <UNK> instead for it is much more <UNK> more beautifully filmed the lines are not <UNK> and the characters <UNK> much more to reality <UNK> the ending is so dramatic and key to <UNK> character that you'll find the <UNK> version <UNK> although <UNK> does an almost excellent job <UNK> each scene the acting falls short as does the <UNK> of the characters plus the <UNK> is truly <UNK> taking in all scenes particularly <UNK> in the last scene and at all times but also when she's on the <UNK> <UNK> <UNK> is cheap as far as <UNK> go\n",
            "\n",
            "Predicted : 1, real : 0, lenght: 166\n",
            "<START> i say flick because this doesn't deserve the <UNK> movie and certainly not film i <UNK> <UNK> for the <UNK> and although i've never <UNK> out on a movie before this would have been it had i seen it in a theatre a society living <UNK> in the future <UNK> that's original lots of <UNK> <UNK> <UNK> <UNK> <UNK> light <UNK> through <UNK> an <UNK> woman and her shock <UNK> son the list goes on and on c <UNK> <UNK> <UNK> the <UNK> voice of the <UNK> <UNK> you know like <UNK> been done to death he needs special <UNK> to remember his wife and child yet in the <UNK> he's the same age talk about a poor memory i <UNK> <UNK> when the little boy <UNK> <UNK> <UNK> a <UNK> into a door and it <UNK> no tension <UNK> religious what <UNK> under <UNK> <UNK> of all i expected better from <UNK> <UNK> br br quite possibly the worst movie experience in my life\n",
            "\n",
            "Predicted : 1, real : 0, lenght: 168\n",
            "<START> this season <UNK> real but as far as setting up stories to get us in the mood again season 6 is without <UNK> and <UNK> br br this season <UNK> its usual <UNK> style and if you cut out all the garbage that was filled in each and every episode this season you probably would have had 6 episodes worth of real stories br br side stories like <UNK> mom is she or isn't she was boring and had no purpose other than further <UNK> of his character i would have like to have seen <UNK> <UNK> his <UNK> more at <UNK> in that <UNK> episode but to no <UNK> br br and that's just it these side stories had no real purpose and lack <UNK> if they are going to finish off these stories in the next 6 episodes i'd rather not watch it because its not really worth seeing br br disappointing is to nice a word to say about this season and its finale\n",
            "\n",
            "Predicted : 1, real : 0, lenght: 417\n",
            "<START> i managed to see this at what i think was the second <UNK> in the world a few days after its opening at the <UNK> international film festival while i was <UNK> another film two <UNK> later at the same theater i saw <UNK> <UNK> paul and the rest of the cast crew at another <UNK> <UNK> of <UNK> br br i have to say that i was <UNK> disappointed with the film i was by no means expecting a masterpiece but what was presented to me i believe <UNK> all the <UNK> elements of the genre it had set itself into before i continue two things i accept that some filmmakers like to <UNK> <UNK> expectations here this is simply not the case <UNK> i know that it was based on a play which i haven't read but have been <UNK> that it isn't a <UNK> piece of <UNK> but this does not excuse the <UNK> narrative problems that <UNK> the film br br my main problem with the film is the script forget that it was based on a play as a <UNK> comedy it simply doesn't work the down and out team are trying to win a <UNK> <UNK> few of the games are shown when they are it is very short and we are not given any <UNK> due to any of their <UNK> <UNK> having read so far you might <UNK> that it is not a <UNK> <UNK> film but a psychological <UNK> of the <UNK> between a <UNK> of a <UNK> and his <UNK> team it certainly does not <UNK> this i'm not even sure if it was <UNK> to any attempt to <UNK> light on the history of any of the characters is <UNK> and <UNK> overall i found the script lacking in many <UNK> br br i do think the performances and the music were good and <UNK> the film was well made but aside from those points which should be expected from any <UNK> film at this stage i left the theater feeling very disappointed br br my <UNK> may seem <UNK> but i do think there is some hope for a strong <UNK> <UNK> cinema in the near future and this simply does not back that <UNK> as <UNK> has become a recommended <UNK> film i was part of the audience at that <UNK> most people would seem to be <UNK> with me so that means you should probably make your own <UNK> of the film\n",
            "\n",
            "Predicted : 1, real : 0, lenght: 119\n",
            "<START> <UNK> <UNK> is always beautiful and <UNK> here she plays an actress <UNK> ill we don't know with what it is a bit of a <UNK> to love story in that respect br br william <UNK> is good as is most of the supporting cast john <UNK> is meant to be <UNK> but he seems to <UNK> the girl who plays the child he and <UNK> <UNK> does her best with a <UNK> plot <UNK> of course <UNK> an <UNK> she will live on after the <UNK> of your wife it's a sweet movie but it doesn't feel <UNK> i was hoping to be moved i was by <UNK> <UNK> performance but i don't like to feel <UNK>\n",
            "\n",
            "Predicted : 1, real : 0, lenght: 566\n",
            "<START> <UNK> from <UNK> touch of death is probably the most <UNK> <UNK> film i've seen to date <UNK> me to <UNK> the <UNK> of horror fans who that his films get worse as you get later into his career considering the plot <UNK> i was expecting some bloody bad <UNK> fun with this one but for all its bizarre <UNK> it feels <UNK> even at a running time of just <UNK> minutes and <UNK> from <UNK> <UNK> production values and film making <UNK> or lack <UNK> br br <UNK> story a <UNK> <UNK> <UNK> and <UNK> rich and strange women he finds <UNK> <UNK> <UNK> <UNK> before <UNK> them in <UNK> fashion sometimes eating them or <UNK> them to animals and <UNK> their money to keep his <UNK> at <UNK> sure it's <UNK> that just one man would be the <UNK> for so much <UNK> up <UNK> all at once <UNK> <UNK> <UNK> <UNK> but this is <UNK> br br touch is actually the <UNK> and <UNK> looking <UNK> film i've seen there's almost nobody in it even in the background of shots out on the street for instance a who keeps <UNK> on the film's <UNK> to <UNK> the non <UNK> cast about the <UNK> <UNK> <UNK> <UNK> out of the most pathetic tv studio on the planet he never even gets to look at the camera because has to read all the <UNK> off <UNK> of <UNK> br br some scenes just go on and on with the <UNK> <UNK> to himself about what he's done or what he's about to do but the acting is nowhere near good enough to <UNK> this kind of thing so the main <UNK> is viewer <UNK> the film also looks bland and ugly in general i've read that it was intended to be an italian <UNK> did it ever screen in that <UNK> with the amount of gore involved it seems <UNK> and it does <UNK> of <UNK> old <UNK> production values br br this is also <UNK> first <UNK> into <UNK> black humour but he's just too a director to make it work sometimes <UNK> <UNK> or music is used to play against a <UNK> scene for instance while the hero villain is <UNK> up a dead body in his <UNK> the effect isn't really <UNK> or funny or <UNK> anything that you'd like it to be it's mostly just <UNK> and <UNK> br br there are of course some redeeming moments of gore that you'll be waiting for while trying to stay <UNK> including the <UNK> murder by <UNK> of a woman who just won't <UNK> life even after her face has been totally <UNK> apart with a bloody great club and a <UNK> guy who gets a car run back and <UNK> over him about five times the most <UNK> element of touch however is all the physical on the <UNK> <UNK> by the crazy guy <UNK> <UNK> <UNK> <UNK> it's not like he <UNK> out women with these features it's just the way all <UNK> <UNK> <UNK> are apparently there are plenty of shots of mr crazy <UNK> <UNK> while he's <UNK> up these women the black humour of such <UNK> <UNK> might have some <UNK> power or <UNK> if the film wasn't so poorly <UNK> in general in the end touch of death just seems like a really <UNK> <UNK> mess\n",
            "\n",
            "Predicted : 1, real : 0, lenght: 226\n",
            "<START> i love <UNK> they are among my favorite <UNK> of film before seeing this film i hadn't seen one that i hadn't liked br br the premise for this film is a great one the <UNK> is well done there were some times early on when i laughed and <UNK> yet as the film went on the more <UNK> and <UNK> it became this could have been something special had the subject not been such an <UNK> <UNK> <UNK> <UNK> i appreciate his passion for film but <UNK> your <UNK> if you're short on <UNK> maybe you shouldn't have so many kids or spend so much money on <UNK> maybe you should have gone to film school or at least <UNK> from high school maybe you should have lived life and gotten perspective and <UNK> that could add to your vision br br there are so many people out there with stories that are interesting funny and <UNK> to see this guy <UNK> over any of them is nothing less than <UNK> if you want to do a documentary on a film <UNK> why not do one on someone from <UNK> or <UNK> a film <UNK> with real problems br br two final questions br br who takes a little kid to see <UNK> now br br how many times did this guy say man\n",
            "\n"
          ]
        }
      ],
      "source": [
        "def show_errors(x_test, model, labels, int2word, n_samples=10):\n",
        "    preds = 1.0 * (model.predict(x_test).flatten() > 0.5)\n",
        "    bad_pred_inds = np.where(preds != labels)[0]\n",
        "    n_samples = min(len(bad_pred_inds), n_samples)\n",
        "    samples_inds = np.random.choice(bad_pred_inds, n_samples)\n",
        "    for ind in samples_inds:\n",
        "        print('Predicted : {0}, real : {1}, lenght: {2}'.format(\n",
        "            int(preds[ind]), labels[ind], len(test_data[ind])))\n",
        "        print(get_words(test_data[ind], int2word))\n",
        "        print()\n",
        "    return\n",
        "\n",
        "show_errors(x_test_seq, model, test_labels, int2word, n_samples=10)"
      ]
    },
    {
      "cell_type": "markdown",
      "metadata": {
        "id": "PEnXNWuOBpBL"
      },
      "source": [
        "#### Making predictioins with new data"
      ]
    },
    {
      "cell_type": "code",
      "execution_count": null,
      "metadata": {
        "id": "2tGGGeKPBpBL",
        "colab": {
          "base_uri": "https://localhost:8080/"
        },
        "outputId": "3b0efdc5-99d3-4fc8-e680-93cd07122f0a"
      },
      "outputs": [
        {
          "output_type": "stream",
          "name": "stdout",
          "text": [
            "\u001b[1m1/1\u001b[0m \u001b[32m━━━━━━━━━━━━━━━━━━━━\u001b[0m\u001b[37m\u001b[0m \u001b[1m0s\u001b[0m 295ms/step\n"
          ]
        },
        {
          "output_type": "execute_result",
          "data": {
            "text/plain": [
              "array([[0.0867],\n",
              "       [0.9273],\n",
              "       [0.9272],\n",
              "       [0.9271],\n",
              "       [0.0869],\n",
              "       [0.0879]], dtype=float32)"
            ]
          },
          "metadata": {},
          "execution_count": 27
        }
      ],
      "source": [
        "reviews = ['the film was really bad and i am very disappointed',\n",
        "           'The film was very funny entertaining and good we had a great time . brilliant film',\n",
        "           'this film was just brilliant',\n",
        "           'the film is not good',\n",
        "           'the film is not bad',\n",
        "          'the movie is not bad I like it']\n",
        "sequences = [vectorize_text_sentence(review.lower(), word2int)\n",
        "             for review in reviews]\n",
        "\n",
        "## Padding the sequences\n",
        "x_pred  = tf.keras.preprocessing.sequence.pad_sequences(sequences, maxlen=max_len, truncating='post', padding='post')# ...\n",
        "\n",
        "np.round(model.predict(x_pred), 4)"
      ]
    },
    {
      "cell_type": "code",
      "execution_count": null,
      "metadata": {
        "id": "ESP4EzChBpBL",
        "colab": {
          "base_uri": "https://localhost:8080/"
        },
        "outputId": "61d3746e-a7cf-47f0-9b09-d47a07bec66e"
      },
      "outputs": [
        {
          "output_type": "stream",
          "name": "stdout",
          "text": [
            "\u001b[1m1/1\u001b[0m \u001b[32m━━━━━━━━━━━━━━━━━━━━\u001b[0m\u001b[37m\u001b[0m \u001b[1m0s\u001b[0m 20ms/step\n"
          ]
        },
        {
          "output_type": "execute_result",
          "data": {
            "text/plain": [
              "array([[0.],\n",
              "       [1.],\n",
              "       [1.],\n",
              "       [1.],\n",
              "       [0.],\n",
              "       [0.]])"
            ]
          },
          "metadata": {},
          "execution_count": 28
        }
      ],
      "source": [
        "1.0*(model.predict(x_pred) > 0.5)"
      ]
    },
    {
      "cell_type": "markdown",
      "metadata": {
        "id": "-KbNMlJcBpBL"
      },
      "source": [
        "### GRU model\n",
        "Use `keras.layers.GRU`\n"
      ]
    },
    {
      "cell_type": "code",
      "execution_count": 16,
      "metadata": {
        "id": "lnjQHR1gBpBL",
        "colab": {
          "base_uri": "https://localhost:8080/"
        },
        "outputId": "117b0ae2-6556-4145-a61b-d020ff3f5a80"
      },
      "outputs": [
        {
          "output_type": "stream",
          "name": "stdout",
          "text": [
            "Model: \"sequential_10\"\n",
            "_________________________________________________________________\n",
            " Layer (type)                Output Shape              Param #   \n",
            "=================================================================\n",
            " embedding_3 (Embedding)     (None, 100, 2000)         4000000   \n",
            "                                                                 \n",
            " gru_4 (GRU)                 (None, 100, 16)           96864     \n",
            "                                                                 \n",
            " gru_5 (GRU)                 (None, 16)                1632      \n",
            "                                                                 \n",
            " dense_3 (Dense)             (None, 1)                 17        \n",
            "                                                                 \n",
            "=================================================================\n",
            "Total params: 4098513 (15.63 MB)\n",
            "Trainable params: 98513 (384.82 KB)\n",
            "Non-trainable params: 4000000 (15.26 MB)\n",
            "_________________________________________________________________\n"
          ]
        }
      ],
      "source": [
        "model = tf.keras.models.Sequential()\n",
        "model.add(tf.keras.Input(shape=(max_len,), name='input'))\n",
        "## one-hot encoding\n",
        "model.add(layers.Embedding(input_dim=num_words, output_dim=num_words,\n",
        "                           input_length=max_len, embeddings_initializer='identity',\n",
        "                           trainable=False))\n",
        "\n",
        "## complete the model with recurrent layers\n",
        "model.add(layers.GRU(16, return_sequences=True))\n",
        "model.add(layers.GRU(16, return_sequences=False))\n",
        "model.add(layers.Dense(1, activation='sigmoid'))"
      ]
    },
    {
      "cell_type": "code",
      "execution_count": null,
      "metadata": {
        "id": "irdeGDnOBpBM",
        "colab": {
          "base_uri": "https://localhost:8080/"
        },
        "outputId": "de2d8ae9-5d9f-41fb-f6fe-0ea394b25154"
      },
      "outputs": [
        {
          "output_type": "stream",
          "name": "stdout",
          "text": [
            "Epoch 1/5\n",
            "\u001b[1m88/88\u001b[0m \u001b[32m━━━━━━━━━━━━━━━━━━━━\u001b[0m\u001b[37m\u001b[0m \u001b[1m7s\u001b[0m 30ms/step - accuracy: 0.5099 - loss: 0.6929 - val_accuracy: 0.5676 - val_loss: 0.6857\n",
            "Epoch 2/5\n",
            "\u001b[1m88/88\u001b[0m \u001b[32m━━━━━━━━━━━━━━━━━━━━\u001b[0m\u001b[37m\u001b[0m \u001b[1m2s\u001b[0m 26ms/step - accuracy: 0.6375 - loss: 0.6358 - val_accuracy: 0.7832 - val_loss: 0.4782\n",
            "Epoch 3/5\n",
            "\u001b[1m88/88\u001b[0m \u001b[32m━━━━━━━━━━━━━━━━━━━━\u001b[0m\u001b[37m\u001b[0m \u001b[1m3s\u001b[0m 26ms/step - accuracy: 0.8008 - loss: 0.4478 - val_accuracy: 0.8076 - val_loss: 0.4206\n",
            "Epoch 4/5\n",
            "\u001b[1m88/88\u001b[0m \u001b[32m━━━━━━━━━━━━━━━━━━━━\u001b[0m\u001b[37m\u001b[0m \u001b[1m3s\u001b[0m 26ms/step - accuracy: 0.8282 - loss: 0.3897 - val_accuracy: 0.8124 - val_loss: 0.4090\n",
            "Epoch 5/5\n",
            "\u001b[1m88/88\u001b[0m \u001b[32m━━━━━━━━━━━━━━━━━━━━\u001b[0m\u001b[37m\u001b[0m \u001b[1m3s\u001b[0m 29ms/step - accuracy: 0.8412 - loss: 0.3686 - val_accuracy: 0.8168 - val_loss: 0.4084\n"
          ]
        }
      ],
      "source": [
        "## set the loss and see the results\n",
        "model.compile(\n",
        "    optimizer='adam',\n",
        "    loss='binary_crossentropy',\n",
        "    metrics=['accuracy']\n",
        ")\n",
        "epochs = 5\n",
        "history = model.fit(x_train_seq, train_labels,\n",
        "                    validation_split=0.1, epochs=epochs,\n",
        "                    batch_size=256)"
      ]
    },
    {
      "cell_type": "code",
      "execution_count": null,
      "metadata": {
        "id": "ktxaOvXlBpBM",
        "colab": {
          "base_uri": "https://localhost:8080/"
        },
        "outputId": "12398ba2-8370-4f77-e8ac-43ece8f8b3ca"
      },
      "outputs": [
        {
          "output_type": "stream",
          "name": "stdout",
          "text": [
            "\u001b[1m782/782\u001b[0m \u001b[32m━━━━━━━━━━━━━━━━━━━━\u001b[0m\u001b[37m\u001b[0m \u001b[1m4s\u001b[0m 5ms/step - accuracy: 0.8087 - loss: 0.4186\n",
            "Test Loss: 0.4201999604701996\n",
            "Test Accuracy: 0.8063600063323975\n"
          ]
        }
      ],
      "source": [
        "results = model.evaluate(x_test_seq, test_labels, verbose=1)\n",
        "print('Test Loss: {}'.format(results[0]))\n",
        "print('Test Accuracy: {}'.format(results[1]))"
      ]
    },
    {
      "cell_type": "markdown",
      "metadata": {
        "id": "Ydp-oblgBpBM"
      },
      "source": [
        "### LSTM model\n",
        "Use `keras.layers.LSTM`\n"
      ]
    },
    {
      "cell_type": "code",
      "execution_count": null,
      "metadata": {
        "id": "eHb5lJZ3BpBM"
      },
      "outputs": [],
      "source": [
        "model = tf.keras.models.Sequential()\n",
        "model.add(tf.keras.Input(shape=(max_len,), name='input'))\n",
        "## one-hot encoding\n",
        "model.add(layers.Embedding(input_dim=num_words, output_dim=num_words,\n",
        "                           input_length=max_len, embeddings_initializer='identity',\n",
        "                           trainable=False))\n",
        "\n",
        "## complete the model with recurrent layers\n",
        "model.add(layers.LSTM(16, return_sequences=True))\n",
        "model.add(layers.LSTM(16, return_sequences=False))\n",
        "model.add(layers.Dense(1, activation='sigmoid'))"
      ]
    },
    {
      "cell_type": "code",
      "execution_count": null,
      "metadata": {
        "id": "t4VzZ-JVBpBM",
        "colab": {
          "base_uri": "https://localhost:8080/"
        },
        "outputId": "35d447ba-04f9-47b4-d274-d438b7babc0f"
      },
      "outputs": [
        {
          "output_type": "stream",
          "name": "stdout",
          "text": [
            "Epoch 1/5\n",
            "\u001b[1m88/88\u001b[0m \u001b[32m━━━━━━━━━━━━━━━━━━━━\u001b[0m\u001b[37m\u001b[0m \u001b[1m4s\u001b[0m 30ms/step - accuracy: 0.5390 - loss: 0.6821 - val_accuracy: 0.7544 - val_loss: 0.5232\n",
            "Epoch 2/5\n",
            "\u001b[1m88/88\u001b[0m \u001b[32m━━━━━━━━━━━━━━━━━━━━\u001b[0m\u001b[37m\u001b[0m \u001b[1m3s\u001b[0m 29ms/step - accuracy: 0.7843 - loss: 0.4787 - val_accuracy: 0.8012 - val_loss: 0.4494\n",
            "Epoch 3/5\n",
            "\u001b[1m88/88\u001b[0m \u001b[32m━━━━━━━━━━━━━━━━━━━━\u001b[0m\u001b[37m\u001b[0m \u001b[1m5s\u001b[0m 27ms/step - accuracy: 0.8341 - loss: 0.3885 - val_accuracy: 0.8116 - val_loss: 0.4288\n",
            "Epoch 4/5\n",
            "\u001b[1m88/88\u001b[0m \u001b[32m━━━━━━━━━━━━━━━━━━━━\u001b[0m\u001b[37m\u001b[0m \u001b[1m2s\u001b[0m 26ms/step - accuracy: 0.8506 - loss: 0.3602 - val_accuracy: 0.8140 - val_loss: 0.4240\n",
            "Epoch 5/5\n",
            "\u001b[1m88/88\u001b[0m \u001b[32m━━━━━━━━━━━━━━━━━━━━\u001b[0m\u001b[37m\u001b[0m \u001b[1m3s\u001b[0m 26ms/step - accuracy: 0.8545 - loss: 0.3504 - val_accuracy: 0.8156 - val_loss: 0.4068\n"
          ]
        }
      ],
      "source": [
        "## set the loss and see the results\n",
        "model.compile(\n",
        "    optimizer='adam',\n",
        "    loss='binary_crossentropy',\n",
        "    metrics=['accuracy']\n",
        ")\n",
        "epochs = 5\n",
        "history = model.fit(x_train_seq, train_labels,\n",
        "                    validation_split=0.1, epochs=epochs,\n",
        "                    batch_size=256)"
      ]
    },
    {
      "cell_type": "code",
      "execution_count": null,
      "metadata": {
        "id": "Ml6AP9yeBpBM",
        "colab": {
          "base_uri": "https://localhost:8080/"
        },
        "outputId": "49eab3f1-56fb-4877-9e5c-59334e4ef918"
      },
      "outputs": [
        {
          "output_type": "stream",
          "name": "stdout",
          "text": [
            "\u001b[1m782/782\u001b[0m \u001b[32m━━━━━━━━━━━━━━━━━━━━\u001b[0m\u001b[37m\u001b[0m \u001b[1m4s\u001b[0m 5ms/step - accuracy: 0.8098 - loss: 0.4165\n",
            "Test Loss: 0.4194280207157135\n",
            "Test Accuracy: 0.8042399883270264\n"
          ]
        }
      ],
      "source": [
        "results = model.evaluate(x_test_seq, test_labels, verbose=1)\n",
        "print('Test Loss: {}'.format(results[0]))\n",
        "print('Test Accuracy: {}'.format(results[1]))"
      ]
    },
    {
      "cell_type": "markdown",
      "metadata": {
        "id": "eKJ2PWsXBpBN"
      },
      "source": [
        "### Bidirectional model\n",
        "Use `keras.layers.SimpleRNN`,  `keras.layers.GRU`,  `keras.layers.LSTM` with `keras.layers.Bidirectional`\n"
      ]
    },
    {
      "cell_type": "code",
      "execution_count": null,
      "metadata": {
        "id": "todCRq0gBpBO"
      },
      "outputs": [],
      "source": [
        "model = tf.keras.models.Sequential()\n",
        "model.add(tf.keras.Input(shape=(max_len,), name='input'))\n",
        "## one-hot encoding\n",
        "model.add(layers.Embedding(input_dim=num_words, output_dim=num_words,\n",
        "                           input_length=max_len, embeddings_initializer='identity',\n",
        "                           trainable=True))\n",
        "\n",
        "## complete the model with recurrent layers\n",
        "model.add(layers.Bidirectional(layers.LSTM(32, return_sequences=True)))\n",
        "model.add(layers.Dropout(0.3))\n",
        "model.add(layers.Bidirectional(layers.LSTM(32, return_sequences=False)))\n",
        "model.add(layers.Dropout(0.1))\n",
        "model.add(layers.Dense(1, activation='sigmoid'))"
      ]
    },
    {
      "cell_type": "code",
      "execution_count": null,
      "metadata": {
        "id": "Q6h_9V5fBpBO",
        "colab": {
          "base_uri": "https://localhost:8080/"
        },
        "outputId": "a4694f3c-9d02-4e7f-a7a5-571a76ed3802"
      },
      "outputs": [
        {
          "output_type": "stream",
          "name": "stdout",
          "text": [
            "Epoch 1/50\n",
            "\u001b[1m167/167\u001b[0m \u001b[32m━━━━━━━━━━━━━━━━━━━━\u001b[0m\u001b[37m\u001b[0m \u001b[1m14s\u001b[0m 57ms/step - accuracy: 0.5371 - loss: 0.6919 - val_accuracy: 0.6184 - val_loss: 0.6850\n",
            "Epoch 2/50\n",
            "\u001b[1m167/167\u001b[0m \u001b[32m━━━━━━━━━━━━━━━━━━━━\u001b[0m\u001b[37m\u001b[0m \u001b[1m9s\u001b[0m 54ms/step - accuracy: 0.6351 - loss: 0.6738 - val_accuracy: 0.7272 - val_loss: 0.5852\n",
            "Epoch 3/50\n",
            "\u001b[1m167/167\u001b[0m \u001b[32m━━━━━━━━━━━━━━━━━━━━\u001b[0m\u001b[37m\u001b[0m \u001b[1m9s\u001b[0m 53ms/step - accuracy: 0.7637 - loss: 0.5291 - val_accuracy: 0.7901 - val_loss: 0.4643\n",
            "Epoch 4/50\n",
            "\u001b[1m167/167\u001b[0m \u001b[32m━━━━━━━━━━━━━━━━━━━━\u001b[0m\u001b[37m\u001b[0m \u001b[1m9s\u001b[0m 57ms/step - accuracy: 0.8132 - loss: 0.4280 - val_accuracy: 0.7984 - val_loss: 0.4445\n",
            "Epoch 5/50\n",
            "\u001b[1m167/167\u001b[0m \u001b[32m━━━━━━━━━━━━━━━━━━━━\u001b[0m\u001b[37m\u001b[0m \u001b[1m9s\u001b[0m 55ms/step - accuracy: 0.8303 - loss: 0.3966 - val_accuracy: 0.8059 - val_loss: 0.4361\n",
            "Epoch 6/50\n",
            "\u001b[1m167/167\u001b[0m \u001b[32m━━━━━━━━━━━━━━━━━━━━\u001b[0m\u001b[37m\u001b[0m \u001b[1m10s\u001b[0m 55ms/step - accuracy: 0.8396 - loss: 0.3800 - val_accuracy: 0.8067 - val_loss: 0.4334\n",
            "Epoch 7/50\n",
            "\u001b[1m167/167\u001b[0m \u001b[32m━━━━━━━━━━━━━━━━━━━━\u001b[0m\u001b[37m\u001b[0m \u001b[1m10s\u001b[0m 54ms/step - accuracy: 0.8448 - loss: 0.3708 - val_accuracy: 0.8080 - val_loss: 0.4293\n",
            "Epoch 8/50\n",
            "\u001b[1m167/167\u001b[0m \u001b[32m━━━━━━━━━━━━━━━━━━━━\u001b[0m\u001b[37m\u001b[0m \u001b[1m9s\u001b[0m 53ms/step - accuracy: 0.8505 - loss: 0.3625 - val_accuracy: 0.8069 - val_loss: 0.4295\n",
            "Epoch 9/50\n",
            "\u001b[1m167/167\u001b[0m \u001b[32m━━━━━━━━━━━━━━━━━━━━\u001b[0m\u001b[37m\u001b[0m \u001b[1m9s\u001b[0m 55ms/step - accuracy: 0.8539 - loss: 0.3571 - val_accuracy: 0.8069 - val_loss: 0.4318\n",
            "Epoch 10/50\n",
            "\u001b[1m167/167\u001b[0m \u001b[32m━━━━━━━━━━━━━━━━━━━━\u001b[0m\u001b[37m\u001b[0m \u001b[1m10s\u001b[0m 55ms/step - accuracy: 0.8544 - loss: 0.3535 - val_accuracy: 0.8075 - val_loss: 0.4348\n",
            "Epoch 11/50\n",
            "\u001b[1m167/167\u001b[0m \u001b[32m━━━━━━━━━━━━━━━━━━━━\u001b[0m\u001b[37m\u001b[0m \u001b[1m10s\u001b[0m 55ms/step - accuracy: 0.8585 - loss: 0.3478 - val_accuracy: 0.8067 - val_loss: 0.4382\n",
            "Epoch 12/50\n",
            "\u001b[1m167/167\u001b[0m \u001b[32m━━━━━━━━━━━━━━━━━━━━\u001b[0m\u001b[37m\u001b[0m \u001b[1m9s\u001b[0m 54ms/step - accuracy: 0.8609 - loss: 0.3431 - val_accuracy: 0.8061 - val_loss: 0.4401\n",
            "Epoch 12: early stopping\n"
          ]
        }
      ],
      "source": [
        "## set the loss and see the results\n",
        "model.compile(\n",
        "    optimizer=keras.optimizers.Adam(learning_rate=3e-5),\n",
        "    loss='binary_crossentropy',\n",
        "    metrics=['accuracy']\n",
        ")\n",
        "\n",
        "es_callback = keras.callbacks.EarlyStopping(\n",
        "    monitor='val_loss',\n",
        "    patience=5,\n",
        "    verbose=1)\n",
        "\n",
        "epochs = 50\n",
        "history = model.fit(x_train_seq, train_labels,\n",
        "                    validation_split=0.15, epochs=epochs,\n",
        "                    batch_size=128, callbacks=[es_callback])"
      ]
    },
    {
      "cell_type": "code",
      "execution_count": null,
      "metadata": {
        "id": "yge6tIcqBpBO",
        "colab": {
          "base_uri": "https://localhost:8080/"
        },
        "outputId": "dd3ba7d2-51cf-4d99-ea09-b64fadd0e9c2"
      },
      "outputs": [
        {
          "output_type": "stream",
          "name": "stdout",
          "text": [
            "\u001b[1m782/782\u001b[0m \u001b[32m━━━━━━━━━━━━━━━━━━━━\u001b[0m\u001b[37m\u001b[0m \u001b[1m8s\u001b[0m 10ms/step - accuracy: 0.8067 - loss: 0.4333\n",
            "Test Loss: 0.4389667510986328\n",
            "Test Accuracy: 0.8053200244903564\n"
          ]
        }
      ],
      "source": [
        "results = model.evaluate(x_test_seq, test_labels, verbose=1)\n",
        "print('Test Loss: {}'.format(results[0]))\n",
        "print('Test Accuracy: {}'.format(results[1]))"
      ]
    },
    {
      "cell_type": "markdown",
      "metadata": {
        "id": "tiMT5iyaBpBO"
      },
      "source": [
        "#### Making predictioins with new data"
      ]
    },
    {
      "cell_type": "code",
      "execution_count": null,
      "metadata": {
        "id": "_BKO5oIHBpBO",
        "colab": {
          "base_uri": "https://localhost:8080/"
        },
        "outputId": "68037ad9-cb38-43f0-f434-4ab4d4c0bff6"
      },
      "outputs": [
        {
          "output_type": "stream",
          "name": "stdout",
          "text": [
            "\u001b[1m1/1\u001b[0m \u001b[32m━━━━━━━━━━━━━━━━━━━━\u001b[0m\u001b[37m\u001b[0m \u001b[1m0s\u001b[0m 331ms/step\n"
          ]
        },
        {
          "output_type": "execute_result",
          "data": {
            "text/plain": [
              "array([[0.4058],\n",
              "       [0.9465],\n",
              "       [0.6785],\n",
              "       [0.5848],\n",
              "       [0.4373],\n",
              "       [0.4498]], dtype=float32)"
            ]
          },
          "metadata": {},
          "execution_count": 39
        }
      ],
      "source": [
        "reviews = ['the film was really bad and i am very disappointed',\n",
        "           'The film was very funny entertaining and good we had a great time . brilliant film',\n",
        "           'this film was just brilliant',\n",
        "           'the film is not good',\n",
        "           'the film is not bad',\n",
        "          'the movie is not bad I like it']\n",
        "sequences = [vectorize_text_sentence(review.lower(), word2int)\n",
        "             for review in reviews]\n",
        "\n",
        "## Padding the sequences\n",
        "x_pred  = tf.keras.preprocessing.sequence.pad_sequences(sequences, maxlen=max_len, truncating='post', padding='post')# ...\n",
        "\n",
        "np.round(model.predict(x_pred), 4)"
      ]
    },
    {
      "cell_type": "code",
      "execution_count": null,
      "metadata": {
        "id": "3_COwgOpBpBO",
        "colab": {
          "base_uri": "https://localhost:8080/"
        },
        "outputId": "42d43be8-9c80-412c-a48b-756aa116eee2"
      },
      "outputs": [
        {
          "output_type": "stream",
          "name": "stdout",
          "text": [
            "\u001b[1m782/782\u001b[0m \u001b[32m━━━━━━━━━━━━━━━━━━━━\u001b[0m\u001b[37m\u001b[0m \u001b[1m7s\u001b[0m 9ms/step\n",
            "Predicted : 1, real : 0, lenght: 200\n",
            "<START> i really wanted to like this film for all <UNK> of reasons the subject matter is <UNK> interesting and is probably the major issue <UNK> the world today and has thrown up fascinating works e g <UNK> <UNK> when i lived in modern times usually from the <UNK> side of the <UNK> also a <UNK> i like told me he thought it was the best film <UNK> seen all year so with such a <UNK> br br however i actually found myself <UNK> off at points <UNK> i was tired and the cinema <UNK> <UNK> but i found it too much hard work trying to <UNK> with the characters once i'd got my head <UNK> the idea that it was a series of <UNK> i went with it but this made it <UNK> like a <UNK> show rather than a film i liked the concept of a <UNK> almost silent <UNK> <UNK> scene <UNK> to these <UNK> moments the sexy girl the red <UNK> and the <UNK> <UNK> <UNK> but personally i think the film has been over <UNK> i'm not saying narrative and plot is everything it's definitely not but even a little more dialogue would have helped\n",
            "\n",
            "Predicted : 0, real : 1, lenght: 331\n",
            "<START> this is a love story set against the back <UNK> of television news the three main stars william hurt <UNK> <UNK> and <UNK> <UNK> create a love <UNK> whilst working at the <UNK> <UNK> of a tv <UNK> br br tom hurt is the <UNK> <UNK> who is being <UNK> to be a star jane <UNK> is the producer who <UNK> that tom lacks the <UNK> <UNK> to be a real <UNK> but falls for him anyway <UNK> <UNK> <UNK> is the man who <UNK> her <UNK> in <UNK> standards is also the man who truly loves her br br <UNK> <UNK> was <UNK> for a best actress academy award but lost out to <UNK> <UNK> she was <UNK> this is <UNK> film her character jane is smart <UNK> and totally <UNK> she is also <UNK> <UNK> her performance is perfect just watch her face when she <UNK> the <UNK> of <UNK> <UNK> of a rape victim the <UNK> literally fall from her eyes br br <UNK> <UNK> performance is less <UNK> he plays a man who is well aware that he is a and a <UNK> but is smart enough to know that his <UNK> will be <UNK> by people like jane he gives little <UNK> of a man who is extremely <UNK> br br the film comments on <UNK> <UNK> <UNK> and the <UNK> <UNK> on news in a <UNK> that is <UNK> on the bottom line it <UNK> that news would be <UNK> down that standards would slowly be <UNK> due to <UNK> <UNK> br br think about this this film was released before the end of the cold war and before <UNK> of reality tv yet it <UNK> the <UNK> down of the news paris <UNK> release from <UNK> was treated like a major news story to see how <UNK> this film is just watch your <UNK> news and note the set the <UNK> and the <UNK> tom and his <UNK> are well and truly alive\n",
            "\n",
            "Predicted : 1, real : 0, lenght: 209\n",
            "<START> when you read the comment on this film that it's smart and funny political comedy based on true events the only true word here is that it's a comedy if you're told it's <UNK> movie about russian <UNK> it's not there's probably only 2 in the movie from what really happened in <UNK> during that <UNK> <UNK> in reality of the <UNK> it was <UNK> times more interesting to follow the situation and that was a real <UNK> <UNK> <UNK> well there were <UNK> <UNK> from the us working in the <UNK> but their role was just <UNK> the whole <UNK> was totally different from what is shown in the movie it would be much <UNK> showing all the <UNK> people <UNK> across the country with <UNK> <UNK> full of <UNK> and the <UNK> giving the shows to support all over the place at least that would be true i give it three only because of the respect to jeff <UNK> <UNK> and <UNK> <UNK> and about the machine guns on the streets of <UNK> i was living in the place that had the <UNK> amount of hard crime in <UNK> in the middle of 90 s and never seen a man with the gun on the street\n",
            "\n",
            "Predicted : 0, real : 1, lenght: 156\n",
            "<START> this film must have been <UNK> released on some other side of the world perhaps even in english <UNK> nobody <UNK> a word not there's anything to understand in this movie <UNK> call me a <UNK> but i think this is one of the best movies ever why would i come to that conclusion because it's my <UNK> to <UNK> horrible films and this one <UNK> for it every other minute once i became a fan of science theater <UNK> i had no doubt in my mind <UNK> find it somewhere and use it sure enough the version they <UNK> was <UNK> <UNK> <UNK> using some strange <UNK> footage not even from the film itself apparently they were <UNK> to use footage from their own film i can't say i recommend <UNK> this film rather i highly recommend getting the <UNK> version sure to find it most anywhere <UNK> <UNK> are <UNK> don't miss out\n",
            "\n",
            "Predicted : 0, real : 1, lenght: 166\n",
            "<START> there are two things that i noticed in this film this is not a spoiler just a mistake in <UNK> when <UNK> takes bill to his first b e he finds the box as soon as <UNK> finds it he says the box <UNK> got a box a minute later just before he <UNK> the <UNK> on the floor he says we're actually very <UNK> you don't see these often br br <UNK> 2 spoiler <UNK> br br i had to watch the thing three times i couldn't figure a couple of things out then i watched the <UNK> version and saw that they were having <UNK> <UNK> from the latter to the previous during the time changes so at some points we were actually watching three different times in about 1 <UNK> of wall time br br that was a good thing because i don't know how many more times i could watch it before <UNK> it to <UNK> br br color me <UNK>\n",
            "\n",
            "Predicted : 1, real : 0, lenght: 420\n",
            "<START> <UNK> it is i <UNK> <UNK> and i <UNK> you to the first ever review show my movie for this week was <UNK> what <UNK> what movie what excellent four star epic would i <UNK> guess what i decided to pull a one <UNK> and go the other <UNK> i've decided to review a movie so <UNK> that it totally killed what could have been a very unique concept the movie i will review today is jack <UNK> two revenge of the <UNK> killer <UNK> the stars in this movie include christopher <UNK> as sam <UNK> <UNK> as <UNK> <UNK> <UNK> as <UNK> david allen <UNK> as agent <UNK> <UNK> <UNK> <UNK> as captain fun ray <UNK> as the <UNK> and scott <UNK> as the killer <UNK> himself jack <UNK> br br it's hard to believe that this movie was in the same series that gave us the incredibly funny jack <UNK> loved the <UNK> scene but it's even <UNK> to believe that this is the <UNK> same cast the movie was <UNK> for me as soon as they <UNK> on the island and captain fun was introduced what was the point of his character and how did he fit into a horror movie the only possible reason i could see was that they wanted to give us a character that was total killer <UNK> <UNK> sam seemed more <UNK> then he did in the original his <UNK> about anti <UNK> was one of the most pathetic <UNK> i had seen in a movie his wife however was one of the few bright <UNK> she played her role as the main woman to a <UNK> she was a voice of reason in film of pure <UNK> the scene where she <UNK> out how to kill the <UNK> was one of the most <UNK> parts of the movie ray <UNK> once again did a great job as jack <UNK> despite what he was given if it wasn't for such weak characters he could have been <UNK> like <UNK> <UNK> and jason laugh if you must but when it comes down to it jack <UNK> had <UNK> he had humor and most <UNK> he had an <UNK> <UNK> br br this movie could have been so much more it could have been a <UNK> of a great <UNK> instead any <UNK> to make a jack <UNK> three have been <UNK> br br this movie gets a two out of ten for me and it's <UNK> that it even gets a one\n",
            "\n",
            "Predicted : 1, real : 0, lenght: 161\n",
            "<START> honestly i am not that impressed by it it's not a bad movie but it's not great one either there's a story to tell but it's told in a very <UNK> way which <UNK> of makes it loose it's full meaning and ability to <UNK> this movie could of been made in another way with an outstanding result the story is just so interesting yet somehow i'm not <UNK> when watching it br br it definitely isn't an <UNK> movie rather the opposite and some of the scenes are really emotional the actors and actresses does quite a good job and so does the director but there's just something so <UNK> by the whole movie that i <UNK> quite put my <UNK> on perhaps if you had gotten to know the characters more all the of the movie could of been better <UNK> and put more <UNK> throughout it cause as it was it became slow from time to time\n",
            "\n",
            "Predicted : 1, real : 0, lenght: 174\n",
            "<START> the people who came up with this are sick and <UNK> <UNK> how the hell can you <UNK> people like this <UNK> people into thinking that this is real which i probably don't doubt that it is i saw this thing for the very first time today series 7 and it made me sick to my <UNK> i almost <UNK> up i just couldn't stop <UNK> my eyes out for these poor people and if that woman really did have that baby you should all be <UNK> of <UNK> i have a 4 <UNK> old daughter and it is just absolutely <UNK> that would put a real <UNK> woman in so much <UNK> <UNK> you people are bloody animals and should be <UNK> up for life <UNK> something like this to put on t v if this so called show is for real then why isn't anyone being put in prison for <UNK> people to die and not doing a god damn thing about it you all deserve to be <UNK> <UNK> down\n",
            "\n",
            "Predicted : 0, real : 1, lenght: 230\n",
            "<START> ok so paris <UNK> sucks in it typical <UNK> <UNK> but the rest of the actors are just great i watched the film last night and it totally kept me going <UNK> out the whole film <UNK> michael <UNK> is and he's just a <UNK> actor total hero man the main girl who is the sister to nick <UNK> is such a brilliant actress <UNK> up i think it's so different to films out their these days most of them to go with <UNK> <UNK> but here you have a theme about <UNK> i totally got <UNK> out by the <UNK> <UNK> in the house although they looked so real i still haven't got the story with the <UNK> at the moment i am just waiting to get the dvd then watch it all over again <UNK> up to such a great film 11 10 all those people who don't like it please don't bother 2 <UNK> my opinion as mostly everyone thinks its cool to do so also i think the paris scene when she <UNK> to her <UNK> is totally <UNK> why not just get a dog <UNK> some cat be more entertaining then that when paris death scene came up i thought it was poor as she still kept running although a <UNK> just went up her <UNK> <UNK> interesting br br <UNK> all the way\n",
            "\n",
            "Predicted : 0, real : 1, lenght: 140\n",
            "<START> why would this film be so good but only <UNK> an <UNK> <UNK> 000 000 and have no award <UNK> john <UNK> knows what he's doing he knows he's michael a <UNK> <UNK> <UNK> <UNK> <UNK> <UNK> that came down to live with a dying lady and is now in a car with the <UNK> of the <UNK> <UNK> and their dog <UNK> on the way to <UNK> it then turns into a road trip that's both horrible and great i don't even think the death scenes 3 to be <UNK> make this a <UNK> the soundtrack is the best with heaven is my home up around the <UNK> and <UNK> of <UNK> i have very great expectations about this and i say that it should have had a little more respect in the <UNK> read my comment <UNK>\n",
            "\n"
          ]
        }
      ],
      "source": [
        "show_errors(x_test_seq, model, test_labels, int2word, n_samples=10)"
      ]
    },
    {
      "cell_type": "markdown",
      "metadata": {
        "id": "Kkve-5AaBpBO"
      },
      "source": [
        "###  Use a convolutional network instead of a RNN\n",
        "\n",
        "```python\n",
        "tf.keras.layers.Conv1D(\n",
        "    filters, kernel_size\n",
        ")\n",
        "```\n",
        "\n",
        "```python\n",
        "tf.keras.layers.MaxPool1D(\n",
        "    pool_size=2\n",
        ")\n",
        "```\n",
        "\n",
        "```python\n",
        "tf.keras.layers.Flatten()\n",
        "```"
      ]
    },
    {
      "cell_type": "code",
      "execution_count": null,
      "metadata": {
        "id": "AV_lyjMHBpBP"
      },
      "outputs": [],
      "source": [
        "from tensorflow.keras.datasets import imdb\n",
        "num_words = 2000\n",
        "((train_data, train_labels), (test_data, test_labels)\n",
        " ) = imdb.load_data(num_words=num_words)\n",
        "\n",
        "#  limit the data for class time\n",
        "# Transform word_id to word and reverse\n",
        "word2int = imdb.get_word_index()\n",
        "word2int = {w: i+3 for w, i in word2int.items()}\n",
        "word2int[\"<PAD>\"] = 0\n",
        "word2int[\"<START>\"] = 1\n",
        "word2int[\"<UNK>\"] = 2\n",
        "word2int[\"<UNUSED>\"] = 3\n",
        "int2word = {i: w for w, i in word2int.items()}\n",
        "num_words = num_words+3\n"
      ]
    },
    {
      "cell_type": "code",
      "execution_count": null,
      "metadata": {
        "id": "LeJSL1WmBpBP",
        "colab": {
          "base_uri": "https://localhost:8080/"
        },
        "outputId": "87ec67fe-4c77-4eec-a7a8-7339d39ca6a3"
      },
      "outputs": [
        {
          "output_type": "stream",
          "name": "stdout",
          "text": [
            "train shape: (25000, 100)\n",
            "test shape: (25000, 100)\n"
          ]
        }
      ],
      "source": [
        "max_len = 100\n",
        "x_train_seq = tf.keras.preprocessing.sequence.pad_sequences(train_data, maxlen=max_len, truncating='post', padding='post')\n",
        "x_test_seq = tf.keras.preprocessing.sequence.pad_sequences(test_data, maxlen=max_len, truncating='post', padding='post')\n",
        "\n",
        "print('train shape:', x_train_seq.shape)\n",
        "print('test shape:', x_test_seq.shape)"
      ]
    },
    {
      "cell_type": "code",
      "source": [
        "model = tf.keras.models.Sequential()\n",
        "model.add(tf.keras.Input(shape=(max_len,), name='input'))\n",
        "## one-hot encoding\n",
        "model.add(layers.Embedding(input_dim=num_words, output_dim=num_words,\n",
        "                           input_length=max_len, embeddings_initializer='identity',\n",
        "                           trainable=False))\n",
        "\n",
        "\n",
        "model.add(layers.Conv1D(32, 3, activation='relu'))\n",
        "model.add(layers.MaxPooling1D(2))\n",
        "\n",
        "model.add(layers.Dropout(0.5))\n",
        "model.add(layers.Conv1D(32, 3, activation='relu'))\n",
        "model.add(layers.MaxPooling1D(2))\n",
        "\n",
        "model.add(layers.Dropout(0.5))\n",
        "model.add(layers.Flatten())\n",
        "model.add(layers.Dense(32, activation='relu'))\n",
        "model.add(layers.Dense(1, activation='sigmoid'))"
      ],
      "metadata": {
        "id": "wQ3TDPJz1q_Y",
        "colab": {
          "base_uri": "https://localhost:8080/"
        },
        "outputId": "ff159313-f04c-442b-942b-ac727e9e2e65"
      },
      "execution_count": null,
      "outputs": [
        {
          "output_type": "stream",
          "name": "stderr",
          "text": [
            "/usr/local/lib/python3.10/dist-packages/keras/src/layers/core/embedding.py:90: UserWarning: Argument `input_length` is deprecated. Just remove it.\n",
            "  warnings.warn(\n"
          ]
        }
      ]
    },
    {
      "cell_type": "code",
      "execution_count": null,
      "metadata": {
        "id": "hrNycmPPBpBP",
        "colab": {
          "base_uri": "https://localhost:8080/"
        },
        "outputId": "a97d5ff7-b35a-470d-9ffa-495417fe8cc7"
      },
      "outputs": [
        {
          "output_type": "stream",
          "name": "stdout",
          "text": [
            "Epoch 1/5\n",
            "\u001b[1m88/88\u001b[0m \u001b[32m━━━━━━━━━━━━━━━━━━━━\u001b[0m\u001b[37m\u001b[0m \u001b[1m23s\u001b[0m 88ms/step - accuracy: 0.4965 - loss: 0.6946 - val_accuracy: 0.5000 - val_loss: 0.6885\n",
            "Epoch 2/5\n",
            "\u001b[1m88/88\u001b[0m \u001b[32m━━━━━━━━━━━━━━━━━━━━\u001b[0m\u001b[37m\u001b[0m \u001b[1m3s\u001b[0m 17ms/step - accuracy: 0.6441 - loss: 0.6290 - val_accuracy: 0.7936 - val_loss: 0.4476\n",
            "Epoch 3/5\n",
            "\u001b[1m88/88\u001b[0m \u001b[32m━━━━━━━━━━━━━━━━━━━━\u001b[0m\u001b[37m\u001b[0m \u001b[1m1s\u001b[0m 17ms/step - accuracy: 0.8075 - loss: 0.4252 - val_accuracy: 0.8176 - val_loss: 0.4044\n",
            "Epoch 4/5\n",
            "\u001b[1m88/88\u001b[0m \u001b[32m━━━━━━━━━━━━━━━━━━━━\u001b[0m\u001b[37m\u001b[0m \u001b[1m2s\u001b[0m 15ms/step - accuracy: 0.8416 - loss: 0.3629 - val_accuracy: 0.8176 - val_loss: 0.3982\n",
            "Epoch 5/5\n",
            "\u001b[1m88/88\u001b[0m \u001b[32m━━━━━━━━━━━━━━━━━━━━\u001b[0m\u001b[37m\u001b[0m \u001b[1m1s\u001b[0m 15ms/step - accuracy: 0.8592 - loss: 0.3255 - val_accuracy: 0.8212 - val_loss: 0.4022\n"
          ]
        }
      ],
      "source": [
        "model.compile(\n",
        "    optimizer='adam',\n",
        "    loss='binary_crossentropy',\n",
        "    metrics=['accuracy']\n",
        ")\n",
        "epochs = 5\n",
        "history = model.fit(x_train_seq, train_labels,\n",
        "                    validation_split=0.1, epochs=epochs,\n",
        "                    batch_size=256)"
      ]
    },
    {
      "cell_type": "code",
      "source": [],
      "metadata": {
        "id": "7rDhHY9H-2dV"
      },
      "execution_count": null,
      "outputs": []
    }
  ],
  "metadata": {
    "accelerator": "GPU",
    "colab": {
      "gpuType": "T4",
      "provenance": [],
      "toc_visible": true
    },
    "kernelspec": {
      "display_name": "Python 3",
      "name": "python3"
    },
    "language_info": {
      "codemirror_mode": {
        "name": "ipython",
        "version": 3
      },
      "file_extension": ".py",
      "mimetype": "text/x-python",
      "name": "python",
      "nbconvert_exporter": "python",
      "pygments_lexer": "ipython3",
      "version": "3.8.5"
    }
  },
  "nbformat": 4,
  "nbformat_minor": 0
}