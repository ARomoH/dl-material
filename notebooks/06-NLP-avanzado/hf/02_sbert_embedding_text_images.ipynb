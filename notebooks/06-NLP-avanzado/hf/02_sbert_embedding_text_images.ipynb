{
  "cells": [
    {
      "cell_type": "markdown",
      "metadata": {
        "id": "a687c92e"
      },
      "source": [
        "[![Open In Colab](https://colab.research.google.com/assets/colab-badge.svg)](https://colab.research.google.com/drive/1xZfngVIpCOpWisaRcftsDJ2JPWw1BrlV?usp=sharing)"
      ],
      "id": "a687c92e"
    },
    {
      "cell_type": "markdown",
      "metadata": {
        "id": "6b8c43ec"
      },
      "source": [
        "# Image search\n",
        "\n",
        "In this guide, we will delve into the realm of image search through the utilization of Sentence Transformers. This entails the mapping of images and text descriptions into a unified vector space, facilitating search and retrieval tasks based on textual descriptions.\n",
        "\n",
        "To accomplish this, we'll leverage the power of the CLIP (Contrastive Language-Image Pretraining) model, a sophisticated AI model designed by OpenAI. Its core purpose is to cultivate a shared embedding space where both images and text can coexist harmoniously."
      ],
      "id": "6b8c43ec"
    },
    {
      "cell_type": "code",
      "execution_count": null,
      "metadata": {
        "id": "c7e44036"
      },
      "outputs": [],
      "source": [
        "!pip install -q sentence-transformers"
      ],
      "id": "c7e44036"
    },
    {
      "cell_type": "code",
      "execution_count": null,
      "metadata": {
        "id": "985e3a8b"
      },
      "outputs": [],
      "source": [
        "import sentence_transformers\n",
        "from sentence_transformers import SentenceTransformer, util\n",
        "from sklearn.metrics.pairwise import cosine_similarity\n",
        "import numpy as np\n",
        "from PIL import Image\n",
        "import glob\n",
        "import pickle\n",
        "import zipfile\n",
        "import copy\n",
        "from IPython.display import display\n",
        "from IPython.display import Image as IPImage\n",
        "import os\n",
        "from tqdm.autonotebook import tqdm"
      ],
      "id": "985e3a8b"
    },
    {
      "cell_type": "code",
      "execution_count": null,
      "metadata": {
        "id": "fa59f447"
      },
      "outputs": [],
      "source": [
        "# Load the sentence transformer model\n",
        "model_name = 'clip-ViT-B-32'\n",
        "model = SentenceTransformer(model_name)"
      ],
      "id": "fa59f447"
    },
    {
      "cell_type": "code",
      "execution_count": null,
      "metadata": {
        "id": "33b22ec6"
      },
      "outputs": [],
      "source": [
        "import requests\n",
        "from io import StringIO, BytesIO\n",
        "\n",
        "def get_image_from_url(url):\n",
        "    response = requests.get(url)\n",
        "    img = Image.open(BytesIO(response.content))\n",
        "    resized_image = img.resize((500, 500))\n",
        "\n",
        "    return img, resized_image"
      ],
      "id": "33b22ec6"
    },
    {
      "cell_type": "code",
      "execution_count": null,
      "metadata": {
        "id": "73382b00",
        "scrolled": true
      },
      "outputs": [],
      "source": [
        "# Try to get any image from google to test it\n",
        "img_urls = [\n",
        "    'https://www.nationalgeographic.com.es/medio/2023/03/17/cenzontle-pajaro_0b18132a_230317114903_800x800.jpg',\n",
        "    'https://ca-times.brightspotcdn.com/dims4/default/796e6c9/2147483647/strip/true/crop/1970x1108+39+0/resize/1200x675!/quality/75/?url=https%3A%2F%2Fcalifornia-times-brightspot.s3.amazonaws.com%2F12%2Fa5%2F79e097ccf62312d18a025f22ce48%2Fhoyla-recuento-11-cosas-aman-gatos-top-001',\n",
        "    'https://img.freepik.com/vector-premium/pajaro-azul-dibujos-animados-ondeando-rama-arbol_29190-5977.jpg',\n",
        "    'https://images.ecestaticos.com/6uBjSmsBorRk6l_IHAxkBS1JCwE=/114x0:1997x1410/1200x900/filters:fill(white):format(jpg)/f.elconfidencial.com%2Foriginal%2F721%2F122%2F714%2F72112271431cb1078c3fe3e75ad5ab41.jpg',\n",
        "    'https://img.freepik.com/vector-gratis/oso-grizzly-sobre-fondo-blanco_1308-38222.jpg?w=2000',\n",
        "    'https://encrypted-tbn0.gstatic.com/images?q=tbn:ANd9GcS3GOndt4qWXFnoI4qpYs1TUeyczC7JPM5tPcPUrqFo8WfRCumSIOf4cJQjnmZjm3OVpgs&usqp=CAU'\n",
        "]\n",
        "\n",
        "images = []\n",
        "resized_images = []\n",
        "\n",
        "for url in img_urls:\n",
        "    if True:\n",
        "      image, resized_image = get_image_from_url(url)\n",
        "      resized_images.append(resized_image)\n",
        "      images.append(image)\n",
        "      display(resized_image)\n",
        "    else:\n",
        "      print(f'The following URL is not available try another one: {url}')"
      ],
      "id": "73382b00"
    },
    {
      "cell_type": "code",
      "execution_count": null,
      "metadata": {
        "id": "6f9b644a"
      },
      "outputs": [],
      "source": [
        "img_embeddings = model.encode(images,\n",
        "                       batch_size=1,\n",
        "                       convert_to_tensor=True,\n",
        "                       show_progress_bar=True)\n",
        "img_embeddings = img_embeddings.cpu()\n",
        "print(img_embeddings.shape)"
      ],
      "id": "6f9b644a"
    },
    {
      "cell_type": "code",
      "execution_count": null,
      "metadata": {
        "id": "c18e17ba"
      },
      "outputs": [],
      "source": [
        "def image_search(query, model, img_embeddings, images, top_k=2):\n",
        "    \"\"\"\n",
        "    define a function to perform image search, given a query and a list of image embeddings\n",
        "    \"\"\"\n",
        "    query_embedding = model.encode([query])[0]\n",
        "    similarities = cosine_similarity([query_embedding], img_embeddings)[0]\n",
        "    indexes = np.argpartition(similarities, -top_k)[-top_k:]\n",
        "    indexes = indexes[np.argsort(-similarities[indexes])]\n",
        "    print(f\"Input query: {query}\")\n",
        "    print()\n",
        "    for ind, sim in zip(list(indexes), similarities[indexes].tolist()):\n",
        "        print('_'*50)\n",
        "        print(sim)\n",
        "        display(images[ind])"
      ],
      "id": "c18e17ba"
    },
    {
      "cell_type": "code",
      "execution_count": null,
      "metadata": {
        "id": "bdf9c113"
      },
      "outputs": [],
      "source": [
        "image_search('Animal with winds', model, img_embeddings, resized_images, top_k=2)"
      ],
      "id": "bdf9c113"
    },
    {
      "cell_type": "code",
      "execution_count": null,
      "metadata": {
        "id": "c7da09ac"
      },
      "outputs": [],
      "source": [
        "image_search('Domestic animal', model, img_embeddings, resized_images, top_k=1)"
      ],
      "id": "c7da09ac"
    },
    {
      "cell_type": "code",
      "execution_count": null,
      "metadata": {
        "id": "c07a8391"
      },
      "outputs": [],
      "source": [
        "image_search('Mammals animal', model, img_embeddings, resized_images, top_k=3)"
      ],
      "id": "c07a8391"
    },
    {
      "cell_type": "code",
      "execution_count": null,
      "metadata": {
        "id": "iG03uhbMCK9v"
      },
      "outputs": [],
      "source": [
        "image_search('Animal cartoons', model, img_embeddings, resized_images, top_k=2)"
      ],
      "id": "iG03uhbMCK9v"
    }
  ],
  "metadata": {
    "accelerator": "GPU",
    "colab": {
      "provenance": []
    },
    "kernelspec": {
      "display_name": "Python 3",
      "name": "python3"
    },
    "language_info": {
      "codemirror_mode": {
        "name": "ipython",
        "version": 3
      },
      "file_extension": ".py",
      "mimetype": "text/x-python",
      "name": "python",
      "nbconvert_exporter": "python",
      "pygments_lexer": "ipython3",
      "version": "3.9.15"
    },
    "latex_envs": {
      "LaTeX_envs_menu_present": true,
      "autoclose": false,
      "autocomplete": true,
      "bibliofile": "biblio.bib",
      "cite_by": "apalike",
      "current_citInitial": 1,
      "eqLabelWithNumbers": true,
      "eqNumInitial": 1,
      "hotkeys": {
        "equation": "Ctrl-E",
        "itemize": "Ctrl-I"
      },
      "labels_anchors": false,
      "latex_user_defs": false,
      "report_style_numbering": false,
      "user_envs_cfg": false
    },
    "toc": {
      "base_numbering": 1,
      "nav_menu": {},
      "number_sections": true,
      "sideBar": true,
      "skip_h1_title": false,
      "title_cell": "Table of Contents",
      "title_sidebar": "Contents",
      "toc_cell": false,
      "toc_position": {},
      "toc_section_display": true,
      "toc_window_display": false
    }
  },
  "nbformat": 4,
  "nbformat_minor": 5
}