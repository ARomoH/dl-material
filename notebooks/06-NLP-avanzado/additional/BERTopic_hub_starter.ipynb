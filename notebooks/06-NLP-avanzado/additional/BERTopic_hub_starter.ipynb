{
  "cells": [
    {
      "cell_type": "markdown",
      "metadata": {
        "id": "3YOdAD8OzLqz"
      },
      "source": [
        "# Sharing BERTopic models on the Hugging Face Hub\n",
        "\n",
        "This notebook shows the steps involved in sharing a BERTopic model on the Hugging Face Hub. As an example, we'll train a topic model on GitHub issue titles for the Transformers library."
      ]
    },
    {
      "cell_type": "markdown",
      "metadata": {
        "id": "TkOqnFiZzVRZ"
      },
      "source": [
        "First we need to install `BERTopic` along with the `huggingface_hub` library. We can optionally also install [`safetensors`](https://huggingface.co/docs/safetensors/index). `safetensors` Safetensors is a new simple format for storing tensors safely (as opposed to pickle) that is still fast (zero-copy). If this library is installed, BERTopic can use the `safetensor` format for model serialization."
      ]
    },
    {
      "cell_type": "code",
      "execution_count": null,
      "metadata": {
        "id": "nGhtumgZTvlE",
        "vscode": {
          "languageId": "python"
        }
      },
      "outputs": [],
      "source": [
        "%pip install git+https://github.com/MaartenGr/BERTopic huggingface_hub safetensors -qqq"
      ]
    },
    {
      "cell_type": "markdown",
      "metadata": {
        "id": "Lfx9GTwnz6S4"
      },
      "source": [
        "We can use a [dataset](https://github.com/nlp-with-transformers/notebooks) that has been created for the [Natural Language Processing with Transformers](https://github.com/nlp-with-transformers/notebooks) book. This dataset contains issue titles, along with some metadata for the Transformers library GitHub repository.\n",
        "\n",
        "GitHub issues are an example of a domain where me might assume some sort of topics exist in the corpus, but we probablydon't have an exact sense of what all of these topics would be. This is the type of problem where topic modelling can give us a better sense of the corpus and potentially be useful for classifying new issues into topics.\n",
        "\n",
        "We'll start by loading the data into a pandas DataFrame."
      ]
    },
    {
      "cell_type": "code",
      "execution_count": null,
      "metadata": {
        "id": "nnMEq1vMT5Kv",
        "vscode": {
          "languageId": "python"
        }
      },
      "outputs": [],
      "source": [
        "import pandas as pd\n",
        "\n",
        "dataset_url = \"https://raw.githubusercontent.com/nlp-with-transformers/notebooks/main/data/github-issues-transformers.jsonl\"\n",
        "df_issues = pd.read_json(dataset_url, lines=True)\n"
      ]
    },
    {
      "cell_type": "code",
      "execution_count": null,
      "metadata": {
        "id": "s4kh0GNZtkg7",
        "vscode": {
          "languageId": "python"
        }
      },
      "outputs": [],
      "source": [
        "df_issues.head(4)"
      ]
    },
    {
      "cell_type": "markdown",
      "metadata": {
        "id": "TFgpuxbbMTsm"
      },
      "source": [
        "We can train our topic model on a subset of the data and hold back some examples which we can treat as new data. This mirrors a situtation where we might use BERTopic model in a production setting."
      ]
    },
    {
      "cell_type": "code",
      "execution_count": null,
      "metadata": {
        "id": "oknWZx1s0pQv",
        "vscode": {
          "languageId": "python"
        }
      },
      "outputs": [],
      "source": [
        "len(df_issues)"
      ]
    },
    {
      "cell_type": "code",
      "execution_count": null,
      "metadata": {
        "id": "sFJLTOxv1VLR",
        "vscode": {
          "languageId": "python"
        }
      },
      "outputs": [],
      "source": [
        "df_issues_train = df_issues[:9000]"
      ]
    },
    {
      "cell_type": "code",
      "execution_count": null,
      "metadata": {
        "id": "6LYCGoHH1ZL0",
        "vscode": {
          "languageId": "python"
        }
      },
      "outputs": [],
      "source": [
        "df_issues_test = df_issues[9000:]"
      ]
    },
    {
      "cell_type": "markdown",
      "metadata": {
        "id": "iSc2dIr9Mil5"
      },
      "source": [
        "BERTopic expects a list of strings as input so let's grab the title column and turn this into a list."
      ]
    },
    {
      "cell_type": "code",
      "execution_count": null,
      "metadata": {
        "id": "TgKrVC5MVlo6",
        "vscode": {
          "languageId": "python"
        }
      },
      "outputs": [],
      "source": [
        "issue_titles = df_issues_train['title'].to_list()"
      ]
    },
    {
      "cell_type": "code",
      "execution_count": null,
      "metadata": {
        "id": "dTbWPHF-roqO",
        "vscode": {
          "languageId": "python"
        }
      },
      "outputs": [],
      "source": [
        "issue_titles[:3]"
      ]
    },
    {
      "cell_type": "markdown",
      "metadata": {
        "id": "vdPHupl-roiW"
      },
      "source": [
        "## Training our model\n",
        "\n",
        "We'll train a BERTopic model using fairly standard settings."
      ]
    },
    {
      "cell_type": "code",
      "execution_count": null,
      "metadata": {
        "id": "74t-ARnOVw5K",
        "vscode": {
          "languageId": "python"
        }
      },
      "outputs": [],
      "source": [
        "from bertopic import BERTopic\n",
        "from bertopic.representation import KeyBERTInspired"
      ]
    },
    {
      "cell_type": "code",
      "execution_count": null,
      "metadata": {
        "id": "epdxCx2Kr3GO",
        "vscode": {
          "languageId": "python"
        }
      },
      "outputs": [],
      "source": [
        "representation_model = KeyBERTInspired()"
      ]
    },
    {
      "cell_type": "code",
      "execution_count": null,
      "metadata": {
        "id": "hyf7ay5QrzI7",
        "vscode": {
          "languageId": "python"
        }
      },
      "outputs": [],
      "source": [
        "topic_model = BERTopic(\"english\", verbose=True, nr_topics=30, representation_model=representation_model)"
      ]
    },
    {
      "cell_type": "code",
      "execution_count": null,
      "metadata": {
        "id": "v16KfKlUoUpc",
        "vscode": {
          "languageId": "python"
        }
      },
      "outputs": [],
      "source": [
        "topics, probs = topic_model.fit_transform(issue_titles)"
      ]
    },
    {
      "cell_type": "markdown",
      "metadata": {
        "id": "ovL_TZXcMz4A"
      },
      "source": [
        "We can quickly explore the topics from our model"
      ]
    },
    {
      "cell_type": "code",
      "execution_count": null,
      "metadata": {
        "id": "aJucUlGMoZGD",
        "vscode": {
          "languageId": "python"
        }
      },
      "outputs": [],
      "source": [
        "freq = topic_model.get_topic_info()"
      ]
    },
    {
      "cell_type": "code",
      "execution_count": null,
      "metadata": {
        "id": "DnI73HJMuGLH",
        "vscode": {
          "languageId": "python"
        }
      },
      "outputs": [],
      "source": [
        "freq.head(10)"
      ]
    },
    {
      "cell_type": "code",
      "execution_count": null,
      "metadata": {
        "id": "lW3a5RNFqjvB",
        "vscode": {
          "languageId": "python"
        }
      },
      "outputs": [],
      "source": [
        "topic_model.visualize_topics()"
      ]
    },
    {
      "cell_type": "markdown",
      "metadata": {
        "id": "sgWV1tAiM4Cc"
      },
      "source": [
        "We can also view topics over time"
      ]
    },
    {
      "cell_type": "code",
      "execution_count": null,
      "metadata": {
        "id": "fCHa0NMZt3Kd",
        "vscode": {
          "languageId": "python"
        }
      },
      "outputs": [],
      "source": [
        "timestamps = df_issues_train['created_at']"
      ]
    },
    {
      "cell_type": "code",
      "execution_count": null,
      "metadata": {
        "id": "xI7rB5h3tcPN",
        "vscode": {
          "languageId": "python"
        }
      },
      "outputs": [],
      "source": [
        "topics_over_time = topic_model.topics_over_time(issue_titles, timestamps, nr_bins=20)"
      ]
    },
    {
      "cell_type": "code",
      "execution_count": null,
      "metadata": {
        "id": "dEzZpm-1t_aI",
        "vscode": {
          "languageId": "python"
        }
      },
      "outputs": [],
      "source": [
        "topic_model.visualize_topics_over_time(topics_over_time, top_n_topics=10)"
      ]
    },
    {
      "cell_type": "markdown",
      "metadata": {
        "id": "zdt2wnLWNcbS"
      },
      "source": [
        "## Pushing our BERTopic model to the Hugging Face Hub 🤗\n",
        "\n",
        "We can use the new BERTopic Hub intergration to push our models to the Hugging Face hub. Sharing models to the Hub makes it easier for others (or our future self) to use or adapt our topic models for further use."
      ]
    },
    {
      "cell_type": "code",
      "execution_count": null,
      "metadata": {
        "id": "fAGXCaRByZiA",
        "vscode": {
          "languageId": "python"
        }
      },
      "outputs": [],
      "source": [
        "from huggingface_hub import notebook_login"
      ]
    },
    {
      "cell_type": "code",
      "execution_count": null,
      "metadata": {
        "id": "UQHF0yd_y4P0",
        "vscode": {
          "languageId": "python"
        }
      },
      "outputs": [],
      "source": [
        "notebook_login()"
      ]
    },
    {
      "cell_type": "code",
      "execution_count": null,
      "metadata": {
        "vscode": {
          "languageId": "python"
        },
        "id": "pliPR5X4tPCM"
      },
      "outputs": [],
      "source": [
        "HF_USER_NAME = \"\" # add your hub username here"
      ]
    },
    {
      "cell_type": "code",
      "execution_count": null,
      "metadata": {
        "id": "wistCUsFy41G",
        "vscode": {
          "languageId": "python"
        }
      },
      "outputs": [],
      "source": [
        "topic_model.push_to_hf_hub(f'{HF_USER_NAME}/transformers_issues_topics')"
      ]
    },
    {
      "cell_type": "markdown",
      "metadata": {
        "id": "Lnh_j4QoTaFl"
      },
      "source": [
        "## Loading models from the Hugging Face Hub 🤗\n",
        "\n",
        "We can similarly load models from the Hub."
      ]
    },
    {
      "cell_type": "code",
      "execution_count": null,
      "metadata": {
        "id": "ALp0meByzDHh",
        "vscode": {
          "languageId": "python"
        }
      },
      "outputs": [],
      "source": [
        "from bertopic import BERTopic\n",
        "topic_model = BERTopic.load(\"davanstrien/transformers_issues_topics\")"
      ]
    },
    {
      "cell_type": "markdown",
      "metadata": {
        "id": "CBg8l8MSTixT"
      },
      "source": [
        "We can then use this model to predict the topics of new unseen documents."
      ]
    },
    {
      "cell_type": "code",
      "execution_count": null,
      "metadata": {
        "id": "p5DIk4n_3A4r",
        "vscode": {
          "languageId": "python"
        }
      },
      "outputs": [],
      "source": [
        "new_issue_titles = df_issues_test['title'].to_list()"
      ]
    },
    {
      "cell_type": "code",
      "execution_count": null,
      "metadata": {
        "id": "FwZ0nSKs4RIl",
        "vscode": {
          "languageId": "python"
        }
      },
      "outputs": [],
      "source": [
        "examples = new_issue_titles[5:15]"
      ]
    },
    {
      "cell_type": "code",
      "execution_count": null,
      "metadata": {
        "id": "GMM6PjOC4l2p",
        "vscode": {
          "languageId": "python"
        }
      },
      "outputs": [],
      "source": [
        "examples"
      ]
    },
    {
      "cell_type": "code",
      "execution_count": null,
      "metadata": {
        "id": "brztYDpz1nVo",
        "vscode": {
          "languageId": "python"
        }
      },
      "outputs": [],
      "source": [
        "topics, prob = topic_model.transform(examples)"
      ]
    },
    {
      "cell_type": "code",
      "execution_count": null,
      "metadata": {
        "id": "OwU8eFjMPC6m",
        "vscode": {
          "languageId": "python"
        }
      },
      "outputs": [],
      "source": [
        "for example, topic in zip(examples,topics):\n",
        "    print(f\"TEXT: {example}\")\n",
        "    print(f\"TOPIC: {topic_model.get_topic_info(int(topic)).loc[0,'Representation']}\")\n",
        "    print('--*--'*9)\n"
      ]
    },
    {
      "cell_type": "markdown",
      "metadata": {
        "id": "b0F5CtqeT3Pl"
      },
      "source": [
        "## Next steps\n",
        "\n",
        "You can try training your own topic model and pushing it to the Hub. BERTopic is a very flexible library so you can swap out many of the components.\n",
        "\n",
        "You can easily grab a dataset from Hugging Face and extract the text you want to use for training a topic model. For example we can train a topic model on the German subset of the [amazon_reviews_multi](https://huggingface.co/datasets/amazon_reviews_multi) dataset."
      ]
    },
    {
      "cell_type": "code",
      "execution_count": null,
      "metadata": {
        "id": "_tijE2kTUSpg",
        "vscode": {
          "languageId": "python"
        }
      },
      "outputs": [],
      "source": [
        "%pip install datasets"
      ]
    },
    {
      "cell_type": "code",
      "execution_count": null,
      "metadata": {
        "id": "KSKcGwTfTy4b",
        "vscode": {
          "languageId": "python"
        }
      },
      "outputs": [],
      "source": [
        "from datasets import load_dataset\n",
        "\n",
        "dataset = load_dataset(\"amazon_reviews_multi\", \"de\")"
      ]
    },
    {
      "cell_type": "code",
      "execution_count": null,
      "metadata": {
        "id": "VtBeup0LUTmd",
        "vscode": {
          "languageId": "python"
        }
      },
      "outputs": [],
      "source": [
        "docs = dataset['train']['review_body']"
      ]
    },
    {
      "cell_type": "code",
      "execution_count": null,
      "metadata": {
        "id": "hwneJxFVU0NJ",
        "vscode": {
          "languageId": "python"
        }
      },
      "outputs": [],
      "source": [
        "docs[0:5]"
      ]
    },
    {
      "cell_type": "code",
      "execution_count": null,
      "metadata": {
        "id": "5VmPHzsyU3lS",
        "vscode": {
          "languageId": "python"
        }
      },
      "outputs": [],
      "source": [
        "topic_model = BERTopic(\"german\")"
      ]
    },
    {
      "cell_type": "code",
      "execution_count": null,
      "metadata": {
        "id": "WZPUirvjVE9Q",
        "vscode": {
          "languageId": "python"
        }
      },
      "outputs": [],
      "source": [
        "topics, probs = topic_model.fit_transform(docs)"
      ]
    },
    {
      "cell_type": "code",
      "execution_count": null,
      "metadata": {
        "id": "JPKivsOXbddv",
        "vscode": {
          "languageId": "python"
        }
      },
      "outputs": [],
      "source": []
    }
  ],
  "metadata": {
    "accelerator": "GPU",
    "colab": {
      "gpuType": "T4",
      "provenance": []
    },
    "gpuClass": "standard",
    "kernelspec": {
      "display_name": "Python 3",
      "name": "python3"
    }
  },
  "nbformat": 4,
  "nbformat_minor": 0
}