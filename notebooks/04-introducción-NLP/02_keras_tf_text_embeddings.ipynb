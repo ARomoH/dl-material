{
  "nbformat": 4,
  "nbformat_minor": 0,
  "metadata": {
    "colab": {
      "provenance": [],
      "gpuType": "T4",
      "toc_visible": true
    },
    "kernelspec": {
      "name": "python3",
      "display_name": "Python 3"
    },
    "language_info": {
      "name": "python"
    },
    "accelerator": "GPU"
  },
  "cells": [
    {
      "cell_type": "markdown",
      "source": [
        "[![Open In Colab](https://colab.research.google.com/assets/colab-badge.svg)](https://colab.research.google.com/drive/16SwQIg8XSfeQCkHyFrljVEDNnpMfM8hi?usp=sharing)"
      ],
      "metadata": {
        "id": "5wGlOguTArZw"
      }
    },
    {
      "cell_type": "markdown",
      "source": [
        "# Word embeddings\n",
        "\n",
        "Word embeddings give us a way to use an efficient, dense representation in which similar words have a similar encoding. Importantly, you do not have to specify this encoding by hand. An embedding is a dense vector of floating point values (the length of the vector is a parameter you specify). Instead of specifying the values for the embedding manually, they are trainable parameters (weights learned by the model during training, in the same way a model learns weights for a dense layer). It is common to see word embeddings that are 8-dimensional (for small datasets), up to 1024-dimensions when working with large datasets. A higher dimensional embedding can capture fine-grained relationships between words, but takes more data to learn.\n",
        "\n",
        "https://www.tensorflow.org/text/guide/word_embeddings"
      ],
      "metadata": {
        "id": "9XO92CqJArTH"
      }
    },
    {
      "cell_type": "code",
      "execution_count": null,
      "metadata": {
        "id": "RQf7RTkXFlxz"
      },
      "outputs": [],
      "source": [
        "%matplotlib inline\n",
        "\n",
        "import matplotlib.pyplot as plt\n",
        "import numpy as np\n",
        "import pandas as pd\n",
        "from collections import Counter\n",
        "\n",
        "from sklearn.decomposition import PCA\n",
        "\n",
        "from tensorflow.keras.preprocessing.text import Tokenizer\n",
        "from tensorflow.keras.preprocessing.sequence import pad_sequences\n",
        "from tensorflow.keras.models import Sequential\n",
        "from tensorflow.keras.layers import Embedding, Flatten, Dense, Dropout\n",
        "from tensorflow.keras.datasets import imdb\n",
        "import tensorflow_hub as hub\n",
        "import tensorflow as tf\n",
        "\n",
        "seed = 42\n",
        "tf.keras.utils.set_random_seed(seed)"
      ]
    },
    {
      "cell_type": "code",
      "source": [
        "def visualize_word_embeddings(embeddings, words_to_visualize):\n",
        "    # Train PCA with all data\n",
        "    pca = PCA(n_components=2)\n",
        "    pca_result = pca.fit_transform(embeddings)\n",
        "\n",
        "    # Calculate and print the sum of explained variances\n",
        "    explained_variance_sum = np.sum(pca.explained_variance_ratio_)\n",
        "    print(f\"Sum of Explained Variances: {explained_variance_sum:.4f}\")\n",
        "\n",
        "    # Select embeddings and words only for visualization\n",
        "    selected_embeddings = []\n",
        "    selected_words = []\n",
        "\n",
        "    for word in words_to_visualize:\n",
        "        if word in word_index:\n",
        "            word_idx = word_index[word]\n",
        "            selected_embeddings.append(embeddings[word_idx])\n",
        "            selected_words.append(word)\n",
        "\n",
        "    selected_embeddings = np.array(selected_embeddings)\n",
        "    selected_words = np.array(selected_words)\n",
        "\n",
        "    # Apply PCA to the selected embeddings\n",
        "    pca_result_subset = pca.transform(selected_embeddings)\n",
        "\n",
        "    plt.figure(figsize=(8, 5))\n",
        "    plt.scatter(pca_result_subset[:, 0], pca_result_subset[:, 1], alpha=0.5)\n",
        "\n",
        "    for i, word in enumerate(selected_words):\n",
        "        plt.annotate(word, xy=(pca_result_subset[i, 0], pca_result_subset[i, 1]))\n",
        "\n",
        "    plt.title('Word Embeddings Visualization')\n",
        "    plt.xlabel('Principal Component 1')\n",
        "    plt.ylabel('Principal Component 2')\n",
        "    plt.show()"
      ],
      "metadata": {
        "id": "sYMOaEnR8gcl"
      },
      "execution_count": null,
      "outputs": []
    },
    {
      "cell_type": "code",
      "source": [
        "# Set a special token for unknown words\n",
        "NUM_WORDS = 10000        # only use top 1000 words\n",
        "INDEX_FROM = 3          # word index offset\n",
        "word_to_id = imdb.get_word_index()\n",
        "word_to_id = {k:(v+INDEX_FROM) for k,v in word_to_id.items()}\n",
        "word_to_id[\"<PAD>\"] = 0\n",
        "word_to_id[\"<START>\"] = 1\n",
        "word_to_id[\"<UNK>\"] = 2\n",
        "word_to_id[\"<UNUSED>\"] = 3\n",
        "id_to_word = {value:key for key,value in word_to_id.items()}\n",
        "\n",
        "def decode_review(review_sequences):\n",
        "    result = []\n",
        "\n",
        "    for review_sequence in review_sequences:\n",
        "      result.append(' '.join(id_to_word[id] for id in review_sequence if id not in list(range(4))))\n",
        "\n",
        "    return pd.DataFrame({'text': result, 'index': list(range(len(review_sequences)))})"
      ],
      "metadata": {
        "id": "emYbbFUk8kNk"
      },
      "execution_count": null,
      "outputs": []
    },
    {
      "cell_type": "code",
      "source": [
        "def compare_embeddings(sentences, word_embeddings, word_to_compare):\n",
        "  ix1 = sentences[0].split().index(word_to_compare)\n",
        "  ix2 = sentences[1].split().index(word_to_compare)\n",
        "\n",
        "  sentence1 = word_embeddings[0][ix1]\n",
        "  sentence2 = word_embeddings[1][ix2]\n",
        "\n",
        "  if tf.math.reduce_all(tf.equal(sentence1, sentence2)).numpy():\n",
        "    print('Embeddings are the same')\n",
        "  else:\n",
        "    print('Embeddings are different')"
      ],
      "metadata": {
        "id": "F5So0hV9HwGH"
      },
      "execution_count": null,
      "outputs": []
    },
    {
      "cell_type": "markdown",
      "source": [
        "## Word embeddings from scratch\n",
        "\n",
        "We can start from scratch and build our own model that maps our texts to integers (tokenization) and build an embeddings layer that captures the relationship of the tokens given our dataset."
      ],
      "metadata": {
        "id": "jGMEuFdgnCCU"
      }
    },
    {
      "cell_type": "markdown",
      "source": [
        "### Dummy data"
      ],
      "metadata": {
        "id": "cBufid80qSY1"
      }
    },
    {
      "cell_type": "code",
      "source": [
        "# Dummy movie reviews\n",
        "reviews = [\n",
        "    \"This movie is fantastic and heartwarming.\",\n",
        "    \"I hated this movie. It was awful.\",\n",
        "    \"The acting in this film was amazing!\",\n",
        "    \"The plot had so many holes; I couldn't enjoy it.\",\n",
        "]\n",
        "\n",
        "# Dummy labels (1 for positive, 0 for negative)\n",
        "labels = np.array([1, 0, 1, 0])\n",
        "\n",
        "# Hyperparameters\n",
        "max_words = 1000            # Maximum number of words in the vocabulary\n",
        "max_sequence_length = 20    # Maximum length of each review sequence\n",
        "embedding_dim = 50          # Dimensionality of the word embeddings\n",
        "\n",
        "# Tokenize the text\n",
        "tokenizer = Tokenizer(num_words=max_words)\n",
        "tokenizer.fit_on_texts(reviews)\n",
        "sequences = tokenizer.texts_to_sequences(reviews)\n",
        "\n",
        "# Pad sequences to ensure they have the same length\n",
        "data = pad_sequences(sequences, maxlen=max_sequence_length)\n",
        "\n",
        "# Define a simple neural network model with an embedding layer\n",
        "model = Sequential()\n",
        "model.add(Embedding(input_dim=max_words, output_dim=embedding_dim, input_length=max_sequence_length))\n",
        "model.add(Flatten())\n",
        "model.add(Dense(1, activation='sigmoid'))"
      ],
      "metadata": {
        "id": "lJT03TbPo04T"
      },
      "execution_count": null,
      "outputs": []
    },
    {
      "cell_type": "code",
      "source": [
        "# Compile the model\n",
        "model.compile(optimizer='adam', loss='binary_crossentropy', metrics=['accuracy'])\n",
        "\n",
        "# Train the model\n",
        "model.fit(data, labels, epochs=3, validation_split=0.2)"
      ],
      "metadata": {
        "id": "qzdbLWaGo_Q_",
        "colab": {
          "base_uri": "https://localhost:8080/"
        },
        "outputId": "a5396215-e34e-4a32-a7a5-0f3daa2a532e"
      },
      "execution_count": null,
      "outputs": [
        {
          "output_type": "stream",
          "name": "stdout",
          "text": [
            "Epoch 1/3\n",
            "1/1 [==============================] - 2s 2s/step - loss: 0.6974 - accuracy: 0.6667 - val_loss: 0.7273 - val_accuracy: 0.0000e+00\n",
            "Epoch 2/3\n",
            "1/1 [==============================] - 0s 37ms/step - loss: 0.6863 - accuracy: 0.6667 - val_loss: 0.7369 - val_accuracy: 0.0000e+00\n",
            "Epoch 3/3\n",
            "1/1 [==============================] - 0s 37ms/step - loss: 0.6753 - accuracy: 0.6667 - val_loss: 0.7468 - val_accuracy: 0.0000e+00\n"
          ]
        },
        {
          "output_type": "execute_result",
          "data": {
            "text/plain": [
              "<keras.src.callbacks.History at 0x7cc655cfcc70>"
            ]
          },
          "metadata": {},
          "execution_count": 6
        }
      ]
    },
    {
      "cell_type": "markdown",
      "source": [
        "### IMDB dataset\n",
        "\n",
        "Unlike the previous section, the IMDB dataset containing movie reviews comes with the words tokenized as integers."
      ],
      "metadata": {
        "id": "rYZITmSNqYUB"
      }
    },
    {
      "cell_type": "code",
      "source": [
        "# Load the IMDb dataset (dataset is already tokenized)\n",
        "(x_train, y_train), (x_test, y_test) = imdb.load_data(num_words=1000)\n",
        "\n",
        "# Hyperparameters\n",
        "max_sequence_length = 200  # Maximum length of each review sequence\n",
        "embedding_dim = 50  # Dimensionality of the word embeddings\n",
        "\n",
        "# Pad sequences to ensure they have the same length\n",
        "x_train = pad_sequences(x_train, maxlen=max_sequence_length)\n",
        "x_test = pad_sequences(x_test, maxlen=max_sequence_length)\n",
        "\n",
        "# Define a simple neural network model with an embedding layer\n",
        "model = Sequential()\n",
        "model.add(Embedding(input_dim=1000, output_dim=embedding_dim, input_length=max_sequence_length))\n",
        "model.add(Flatten())\n",
        "model.add(Dense(1, activation='sigmoid'))"
      ],
      "metadata": {
        "id": "wDkffxdcFzxI"
      },
      "execution_count": null,
      "outputs": []
    },
    {
      "cell_type": "code",
      "source": [
        "# Compile the model\n",
        "model.compile(optimizer='adam', loss='binary_crossentropy', metrics=['accuracy'])\n",
        "# Train the model\n",
        "model.fit(x_train, y_train, epochs=10, batch_size=32, validation_split=0.2)"
      ],
      "metadata": {
        "colab": {
          "base_uri": "https://localhost:8080/"
        },
        "id": "ODY8WqPHtvIC",
        "outputId": "267e104d-0310-40ab-9d48-e9a5f2c3850c"
      },
      "execution_count": null,
      "outputs": [
        {
          "output_type": "stream",
          "name": "stdout",
          "text": [
            "Epoch 1/10\n",
            "625/625 [==============================] - 23s 35ms/step - loss: 0.4907 - accuracy: 0.7533 - val_loss: 0.3654 - val_accuracy: 0.8390\n",
            "Epoch 2/10\n",
            "625/625 [==============================] - 5s 8ms/step - loss: 0.3098 - accuracy: 0.8695 - val_loss: 0.3440 - val_accuracy: 0.8518\n",
            "Epoch 3/10\n",
            "625/625 [==============================] - 4s 7ms/step - loss: 0.2514 - accuracy: 0.8989 - val_loss: 0.3597 - val_accuracy: 0.8484\n",
            "Epoch 4/10\n",
            "625/625 [==============================] - 2s 4ms/step - loss: 0.1865 - accuracy: 0.9356 - val_loss: 0.3716 - val_accuracy: 0.8428\n",
            "Epoch 5/10\n",
            "625/625 [==============================] - 3s 4ms/step - loss: 0.1261 - accuracy: 0.9679 - val_loss: 0.4006 - val_accuracy: 0.8346\n",
            "Epoch 6/10\n",
            "625/625 [==============================] - 3s 4ms/step - loss: 0.0813 - accuracy: 0.9872 - val_loss: 0.4238 - val_accuracy: 0.8346\n",
            "Epoch 7/10\n",
            "625/625 [==============================] - 3s 5ms/step - loss: 0.0509 - accuracy: 0.9955 - val_loss: 0.4613 - val_accuracy: 0.8322\n",
            "Epoch 8/10\n",
            "625/625 [==============================] - 3s 5ms/step - loss: 0.0323 - accuracy: 0.9980 - val_loss: 0.4978 - val_accuracy: 0.8302\n",
            "Epoch 9/10\n",
            "625/625 [==============================] - 2s 4ms/step - loss: 0.0206 - accuracy: 0.9994 - val_loss: 0.5427 - val_accuracy: 0.8292\n",
            "Epoch 10/10\n",
            "625/625 [==============================] - 2s 4ms/step - loss: 0.0131 - accuracy: 0.9998 - val_loss: 0.5732 - val_accuracy: 0.8260\n"
          ]
        },
        {
          "output_type": "execute_result",
          "data": {
            "text/plain": [
              "<keras.src.callbacks.History at 0x7cc65607e0e0>"
            ]
          },
          "metadata": {},
          "execution_count": 9
        }
      ]
    },
    {
      "cell_type": "code",
      "source": [
        "# Evaluate the model on the test set\n",
        "loss, accuracy = model.evaluate(x_test, y_test)\n",
        "print(f\"Test Loss: {loss:.4f}, Test Accuracy: {accuracy:.4f}\")"
      ],
      "metadata": {
        "colab": {
          "base_uri": "https://localhost:8080/"
        },
        "id": "4SoCWbFXtxhi",
        "outputId": "3cf3491c-dfc5-490d-a5f6-b7cd8c647348"
      },
      "execution_count": null,
      "outputs": [
        {
          "output_type": "stream",
          "name": "stdout",
          "text": [
            "782/782 [==============================] - 2s 2ms/step - loss: 0.5562 - accuracy: 0.8309\n",
            "Test Loss: 0.5562, Test Accuracy: 0.8309\n"
          ]
        }
      ]
    },
    {
      "cell_type": "code",
      "source": [
        "# Visualize architecture\n",
        "from tensorflow.keras.utils import plot_model\n",
        "plot_model(model, show_shapes=True)"
      ],
      "metadata": {
        "id": "0nstOat7GToV",
        "colab": {
          "base_uri": "https://localhost:8080/",
          "height": 422
        },
        "outputId": "90d064a3-1991-44a4-d7fe-3c633a37c3f3"
      },
      "execution_count": null,
      "outputs": [
        {
          "output_type": "execute_result",
          "data": {
            "image/png": "[encoded data removed]",
            "text/plain": [
              "<IPython.core.display.Image object>"
            ]
          },
          "metadata": {},
          "execution_count": 11
        }
      ]
    },
    {
      "cell_type": "code",
      "source": [
        "# Load the word index from IMDb dataset\n",
        "word_index = imdb.get_word_index()\n",
        "\n",
        "# Reverse the word index to map integers back to words\n",
        "reverse_word_index = {value: key for (key, value) in word_index.items()}\n",
        "\n",
        "review_texts = decode_review(x_train[:10])\n",
        "review_texts"
      ],
      "metadata": {
        "colab": {
          "base_uri": "https://localhost:8080/",
          "height": 363
        },
        "id": "Z7kZgIh_10zi",
        "outputId": "d038d630-e942-45d0-b2d6-0ea61d11df2d"
      },
      "execution_count": null,
      "outputs": [
        {
          "output_type": "execute_result",
          "data": {
            "text/plain": [
              "                                                text  index\n",
              "0  and you could just imagine being there robert ...      0\n",
              "1  big big bad music and a these are the words to...      1\n",
              "2  this has to be one of the worst films of the w...      2\n",
              "3  the death of his parents br br he is to make a...      3\n",
              "4  worst of my life br br i this movie up at for ...      4\n",
              "5  begins better than it ends funny that the all ...      5\n",
              "6  production and performances in this of classic...      6\n",
              "7  or a really bad film that i am to say anything...      7\n",
              "8  that the of something truly special and unique...      8\n",
              "9  this movie has many problem with it that makes...      9"
            ],
            "text/html": [
              "\n",
              "  <div id=\"df-09654904-d506-433f-8670-bdc8fb2359cf\" class=\"colab-df-container\">\n",
              "    <div>\n",
              "<style scoped>\n",
              "    .dataframe tbody tr th:only-of-type {\n",
              "        vertical-align: middle;\n",
              "    }\n",
              "\n",
              "    .dataframe tbody tr th {\n",
              "        vertical-align: top;\n",
              "    }\n",
              "\n",
              "    .dataframe thead th {\n",
              "        text-align: right;\n",
              "    }\n",
              "</style>\n",
              "<table border=\"1\" class=\"dataframe\">\n",
              "  <thead>\n",
              "    <tr style=\"text-align: right;\">\n",
              "      <th></th>\n",
              "      <th>text</th>\n",
              "      <th>index</th>\n",
              "    </tr>\n",
              "  </thead>\n",
              "  <tbody>\n",
              "    <tr>\n",
              "      <th>0</th>\n",
              "      <td>and you could just imagine being there robert ...</td>\n",
              "      <td>0</td>\n",
              "    </tr>\n",
              "    <tr>\n",
              "      <th>1</th>\n",
              "      <td>big big bad music and a these are the words to...</td>\n",
              "      <td>1</td>\n",
              "    </tr>\n",
              "    <tr>\n",
              "      <th>2</th>\n",
              "      <td>this has to be one of the worst films of the w...</td>\n",
              "      <td>2</td>\n",
              "    </tr>\n",
              "    <tr>\n",
              "      <th>3</th>\n",
              "      <td>the death of his parents br br he is to make a...</td>\n",
              "      <td>3</td>\n",
              "    </tr>\n",
              "    <tr>\n",
              "      <th>4</th>\n",
              "      <td>worst of my life br br i this movie up at for ...</td>\n",
              "      <td>4</td>\n",
              "    </tr>\n",
              "    <tr>\n",
              "      <th>5</th>\n",
              "      <td>begins better than it ends funny that the all ...</td>\n",
              "      <td>5</td>\n",
              "    </tr>\n",
              "    <tr>\n",
              "      <th>6</th>\n",
              "      <td>production and performances in this of classic...</td>\n",
              "      <td>6</td>\n",
              "    </tr>\n",
              "    <tr>\n",
              "      <th>7</th>\n",
              "      <td>or a really bad film that i am to say anything...</td>\n",
              "      <td>7</td>\n",
              "    </tr>\n",
              "    <tr>\n",
              "      <th>8</th>\n",
              "      <td>that the of something truly special and unique...</td>\n",
              "      <td>8</td>\n",
              "    </tr>\n",
              "    <tr>\n",
              "      <th>9</th>\n",
              "      <td>this movie has many problem with it that makes...</td>\n",
              "      <td>9</td>\n",
              "    </tr>\n",
              "  </tbody>\n",
              "</table>\n",
              "</div>\n",
              "    <div class=\"colab-df-buttons\">\n",
              "\n",
              "  <div class=\"colab-df-container\">\n",
              "    <button class=\"colab-df-convert\" onclick=\"convertToInteractive('df-09654904-d506-433f-8670-bdc8fb2359cf')\"\n",
              "            title=\"Convert this dataframe to an interactive table.\"\n",
              "            style=\"display:none;\">\n",
              "\n",
              "  <svg xmlns=\"http://www.w3.org/2000/svg\" height=\"24px\" viewBox=\"0 -960 960 960\">\n",
              "    <path d=\"M120-120v-720h720v720H120Zm60-500h600v-160H180v160Zm220 220h160v-160H400v160Zm0 220h160v-160H400v160ZM180-400h160v-160H180v160Zm440 0h160v-160H620v160ZM180-180h160v-160H180v160Zm440 0h160v-160H620v160Z\"/>\n",
              "  </svg>\n",
              "    </button>\n",
              "\n",
              "  <style>\n",
              "    .colab-df-container {\n",
              "      display:flex;\n",
              "      gap: 12px;\n",
              "    }\n",
              "\n",
              "    .colab-df-convert {\n",
              "      background-color: #E8F0FE;\n",
              "      border: none;\n",
              "      border-radius: 50%;\n",
              "      cursor: pointer;\n",
              "      display: none;\n",
              "      fill: #1967D2;\n",
              "      height: 32px;\n",
              "      padding: 0 0 0 0;\n",
              "      width: 32px;\n",
              "    }\n",
              "\n",
              "    .colab-df-convert:hover {\n",
              "      background-color: #E2EBFA;\n",
              "      box-shadow: 0px 1px 2px rgba(60, 64, 67, 0.3), 0px 1px 3px 1px rgba(60, 64, 67, 0.15);\n",
              "      fill: #174EA6;\n",
              "    }\n",
              "\n",
              "    .colab-df-buttons div {\n",
              "      margin-bottom: 4px;\n",
              "    }\n",
              "\n",
              "    [theme=dark] .colab-df-convert {\n",
              "      background-color: #3B4455;\n",
              "      fill: #D2E3FC;\n",
              "    }\n",
              "\n",
              "    [theme=dark] .colab-df-convert:hover {\n",
              "      background-color: #434B5C;\n",
              "      box-shadow: 0px 1px 3px 1px rgba(0, 0, 0, 0.15);\n",
              "      filter: drop-shadow(0px 1px 2px rgba(0, 0, 0, 0.3));\n",
              "      fill: #FFFFFF;\n",
              "    }\n",
              "  </style>\n",
              "\n",
              "    <script>\n",
              "      const buttonEl =\n",
              "        document.querySelector('#df-09654904-d506-433f-8670-bdc8fb2359cf button.colab-df-convert');\n",
              "      buttonEl.style.display =\n",
              "        google.colab.kernel.accessAllowed ? 'block' : 'none';\n",
              "\n",
              "      async function convertToInteractive(key) {\n",
              "        const element = document.querySelector('#df-09654904-d506-433f-8670-bdc8fb2359cf');\n",
              "        const dataTable =\n",
              "          await google.colab.kernel.invokeFunction('convertToInteractive',\n",
              "                                                    [key], {});\n",
              "        if (!dataTable) return;\n",
              "\n",
              "        const docLinkHtml = 'Like what you see? Visit the ' +\n",
              "          '<a target=\"_blank\" href=https://colab.research.google.com/notebooks/data_table.ipynb>data table notebook</a>'\n",
              "          + ' to learn more about interactive tables.';\n",
              "        element.innerHTML = '';\n",
              "        dataTable['output_type'] = 'display_data';\n",
              "        await google.colab.output.renderOutput(dataTable, element);\n",
              "        const docLink = document.createElement('div');\n",
              "        docLink.innerHTML = docLinkHtml;\n",
              "        element.appendChild(docLink);\n",
              "      }\n",
              "    </script>\n",
              "  </div>\n",
              "\n",
              "\n",
              "<div id=\"df-07fc5707-8111-494b-9919-5b4170e2821f\">\n",
              "  <button class=\"colab-df-quickchart\" onclick=\"quickchart('df-07fc5707-8111-494b-9919-5b4170e2821f')\"\n",
              "            title=\"Suggest charts.\"\n",
              "            style=\"display:none;\">\n",
              "\n",
              "<svg xmlns=\"http://www.w3.org/2000/svg\" height=\"24px\"viewBox=\"0 0 24 24\"\n",
              "     width=\"24px\">\n",
              "    <g>\n",
              "        <path d=\"M19 3H5c-1.1 0-2 .9-2 2v14c0 1.1.9 2 2 2h14c1.1 0 2-.9 2-2V5c0-1.1-.9-2-2-2zM9 17H7v-7h2v7zm4 0h-2V7h2v10zm4 0h-2v-4h2v4z\"/>\n",
              "    </g>\n",
              "</svg>\n",
              "  </button>\n",
              "\n",
              "<style>\n",
              "  .colab-df-quickchart {\n",
              "      --bg-color: #E8F0FE;\n",
              "      --fill-color: #1967D2;\n",
              "      --hover-bg-color: #E2EBFA;\n",
              "      --hover-fill-color: #174EA6;\n",
              "      --disabled-fill-color: #AAA;\n",
              "      --disabled-bg-color: #DDD;\n",
              "  }\n",
              "\n",
              "  [theme=dark] .colab-df-quickchart {\n",
              "      --bg-color: #3B4455;\n",
              "      --fill-color: #D2E3FC;\n",
              "      --hover-bg-color: #434B5C;\n",
              "      --hover-fill-color: #FFFFFF;\n",
              "      --disabled-bg-color: #3B4455;\n",
              "      --disabled-fill-color: #666;\n",
              "  }\n",
              "\n",
              "  .colab-df-quickchart {\n",
              "    background-color: var(--bg-color);\n",
              "    border: none;\n",
              "    border-radius: 50%;\n",
              "    cursor: pointer;\n",
              "    display: none;\n",
              "    fill: var(--fill-color);\n",
              "    height: 32px;\n",
              "    padding: 0;\n",
              "    width: 32px;\n",
              "  }\n",
              "\n",
              "  .colab-df-quickchart:hover {\n",
              "    background-color: var(--hover-bg-color);\n",
              "    box-shadow: 0 1px 2px rgba(60, 64, 67, 0.3), 0 1px 3px 1px rgba(60, 64, 67, 0.15);\n",
              "    fill: var(--button-hover-fill-color);\n",
              "  }\n",
              "\n",
              "  .colab-df-quickchart-complete:disabled,\n",
              "  .colab-df-quickchart-complete:disabled:hover {\n",
              "    background-color: var(--disabled-bg-color);\n",
              "    fill: var(--disabled-fill-color);\n",
              "    box-shadow: none;\n",
              "  }\n",
              "\n",
              "  .colab-df-spinner {\n",
              "    border: 2px solid var(--fill-color);\n",
              "    border-color: transparent;\n",
              "    border-bottom-color: var(--fill-color);\n",
              "    animation:\n",
              "      spin 1s steps(1) infinite;\n",
              "  }\n",
              "\n",
              "  @keyframes spin {\n",
              "    0% {\n",
              "      border-color: transparent;\n",
              "      border-bottom-color: var(--fill-color);\n",
              "      border-left-color: var(--fill-color);\n",
              "    }\n",
              "    20% {\n",
              "      border-color: transparent;\n",
              "      border-left-color: var(--fill-color);\n",
              "      border-top-color: var(--fill-color);\n",
              "    }\n",
              "    30% {\n",
              "      border-color: transparent;\n",
              "      border-left-color: var(--fill-color);\n",
              "      border-top-color: var(--fill-color);\n",
              "      border-right-color: var(--fill-color);\n",
              "    }\n",
              "    40% {\n",
              "      border-color: transparent;\n",
              "      border-right-color: var(--fill-color);\n",
              "      border-top-color: var(--fill-color);\n",
              "    }\n",
              "    60% {\n",
              "      border-color: transparent;\n",
              "      border-right-color: var(--fill-color);\n",
              "    }\n",
              "    80% {\n",
              "      border-color: transparent;\n",
              "      border-right-color: var(--fill-color);\n",
              "      border-bottom-color: var(--fill-color);\n",
              "    }\n",
              "    90% {\n",
              "      border-color: transparent;\n",
              "      border-bottom-color: var(--fill-color);\n",
              "    }\n",
              "  }\n",
              "</style>\n",
              "\n",
              "  <script>\n",
              "    async function quickchart(key) {\n",
              "      const quickchartButtonEl =\n",
              "        document.querySelector('#' + key + ' button');\n",
              "      quickchartButtonEl.disabled = true;  // To prevent multiple clicks.\n",
              "      quickchartButtonEl.classList.add('colab-df-spinner');\n",
              "      try {\n",
              "        const charts = await google.colab.kernel.invokeFunction(\n",
              "            'suggestCharts', [key], {});\n",
              "      } catch (error) {\n",
              "        console.error('Error during call to suggestCharts:', error);\n",
              "      }\n",
              "      quickchartButtonEl.classList.remove('colab-df-spinner');\n",
              "      quickchartButtonEl.classList.add('colab-df-quickchart-complete');\n",
              "    }\n",
              "    (() => {\n",
              "      let quickchartButtonEl =\n",
              "        document.querySelector('#df-07fc5707-8111-494b-9919-5b4170e2821f button');\n",
              "      quickchartButtonEl.style.display =\n",
              "        google.colab.kernel.accessAllowed ? 'block' : 'none';\n",
              "    })();\n",
              "  </script>\n",
              "</div>\n",
              "    </div>\n",
              "  </div>\n"
            ]
          },
          "metadata": {},
          "execution_count": 12
        }
      ]
    },
    {
      "cell_type": "code",
      "source": [
        "# Get some most used words\n",
        "\n",
        "review_texts['text_words'] = review_texts['text'].str.lower().str.split()\n",
        "all_words = [word for words in review_texts['text_words'] for word in words]\n",
        "word_freq = Counter(all_words)\n",
        "most_common_words = word_freq.most_common()\n",
        "\n",
        "print(most_common_words)"
      ],
      "metadata": {
        "colab": {
          "base_uri": "https://localhost:8080/"
        },
        "id": "VGemVTvo42WB",
        "outputId": "6210a0e9-67c8-4915-a808-85a6f76747f7"
      },
      "execution_count": null,
      "outputs": [
        {
          "output_type": "stream",
          "name": "stdout",
          "text": [
            "[('the', 87), ('and', 46), ('of', 45), ('a', 41), ('is', 32), ('i', 30), ('it', 30), ('that', 28), ('to', 28), ('this', 25), ('br', 22), ('was', 20), ('film', 19), ('in', 18), ('you', 14), ('with', 13), ('just', 11), ('for', 11), ('but', 11), ('have', 10), ('on', 10), ('an', 9), ('so', 9), ('at', 9), ('movie', 9), ('about', 9), ('all', 8), ('story', 8), ('like', 8), ('much', 7), ('they', 7), ('good', 7), ('are', 7), ('bad', 7), ('there', 6), ('worst', 6), ('ever', 6), ('one', 6), ('my', 6), ('not', 6), ('being', 5), ('as', 5), ('were', 5), ('what', 5), ('up', 5), ('be', 5), ('life', 5), ('how', 5), (\"it's\", 5), ('over', 5), ('has', 5), ('other', 5), (\"there's\", 5), ('amazing', 4), ('great', 4), ('watch', 4), ('say', 4), ('if', 4), ('because', 4), ('big', 4), ('whole', 4), ('music', 4), ('made', 4), ('their', 4), ('then', 4), ('friends', 4), ('we', 4), ('or', 4), ('get', 4), ('stories', 4), ('more', 4), ('some', 4), ('through', 4), ('which', 4), ('low', 4), ('me', 4), ('from', 3), ('really', 3), ('know', 3), ('must', 3), ('also', 3), ('out', 3), ('them', 3), ('us', 3), ('best', 3), ('horror', 3), ('seen', 3), ('got', 3), ('acting', 3), ('he', 3), ('who', 3), ('those', 3), ('actually', 3), ('every', 3), ('look', 3), ('old', 3), ('hour', 3), ('each', 3), ('no', 3), ('going', 3), ('crap', 3), ('bit', 3), ('most', 3), ('its', 3), ('might', 3), ('way', 3), ('head', 3), ('felt', 3), ('anything', 3), ('shots', 3), ('very', 3), ('now', 2), ('same', 2), ('came', 2), ('myself', 2), ('throughout', 2), ('brilliant', 2), ('everyone', 2), ('end', 2), ('been', 2), ('children', 2), ('think', 2), ('such', 2), ('these', 2), ('done', 2), (\"don't\", 2), ('true', 2), ('love', 2), ('movies', 2), (\"i've\", 2), ('had', 2), ('plot', 2), ('script', 2), ('completely', 2), ('written', 2), ('funny', 2), ('men', 2), ('off', 2), ('still', 2), ('truly', 2), ('only', 2), ('back', 2), ('everything', 2), ('films', 2), ('when', 2), ('watched', 2), ('first', 2), ('time', 2), ('else', 2), ('into', 2), (\"can't\", 2), ('yourself', 2), ('his', 2), ('can', 2), ('truth', 2), ('told', 2), ('doing', 2), ('probably', 2), ('saw', 2), ('even', 2), ('unique', 2), ('wrong', 2), ('better', 2), ('than', 2), ('scenes', 2), ('does', 2), (\"didn't\", 2), ('do', 2), ('by', 2), ('gore', 2), ('here', 2), ('nothing', 2), ('home', 2), ('class', 2), ('budget', 2), ('give', 2), ('did', 2), ('makes', 2), ('go', 2), ('many', 2), ('times', 2), ('fun', 2), ('could', 1), ('imagine', 1), ('robert', 1), ('actor', 1), ('director', 1), ('father', 1), ('loved', 1), ('fact', 1), ('real', 1), ('soon', 1), ('released', 1), ('would', 1), ('recommend', 1), ('sad', 1), ('definitely', 1), ('two', 1), ('little', 1), ('played', 1), ('paul', 1), ('often', 1), ('left', 1), ('stars', 1), ('play', 1), ('should', 1), ('after', 1), ('words', 1), ('terrible', 1), ('cheesy', 1), ('ridiculous', 1), ('worked', 1), ('killer', 1), ('lots', 1), ('cut', 1), ('show', 1), ('plays', 1), ('again', 1), ('almost', 1), ('scene', 1), ('taking', 1), ('away', 1), (\"doesn't\", 1), ('close', 1), ('whose', 1), ('laugh', 1), ('watching', 1), ('audience', 1), ('half', 1), ('our', 1), ('rest', 1), ('started', 1), ('talking', 1), ('money', 1), ('working', 1), ('looked', 1), ('idea', 1), ('looks', 1), ('across', 1), ('save', 1), ('your', 1), ('death', 1), ('parents', 1), ('make', 1), ('last', 1), ('sometimes', 1), ('lives', 1), ('own', 1), ('beautiful', 1), ('once', 1), ('picture', 1), (\"'\", 1), ('forget', 1), ('box', 1), ('famous', 1), ('man', 1), ('see', 1), ('maybe', 1), ('enough', 1), ('re', 1), ('power', 1), ('age', 1), ('question', 1), ('whether', 1), ('cannot', 1), ('5', 1), ('cheap', 1), ('laughs', 1), ('three', 1), ('wanted', 1), ('hit', 1), ('against', 1), (\"i'd\", 1), ('stop', 1), ('why', 1), ('upon', 1), ('took', 1), ('american', 1), ('kill', 1), ('bill', 1), ('hate', 1), ('day', 1), ('begins', 1), ('ends', 1), ('actors', 1), ('where', 1), ('documentary', 1), ('part', 1), ('message', 1), ('production', 1), ('performances', 1), ('classic', 1), ('game', 1), ('within', 1), ('between', 1), ('humor', 1), ('goes', 1), ('long', 1), ('towards', 1), ('material', 1), ('down', 1), ('liked', 1), ('set', 1), ('thought', 1), ('too', 1), ('am', 1), ('despite', 1), ('directed', 1), ('blood', 1), ('few', 1), ('girls', 1), (\"couldn't\", 1), ('scary', 1), ('since', 1), ('middle', 1), ('setting', 1), ('atmosphere', 1), ('filmed', 1), ('modern', 1), ('badly', 1), ('rather', 1), ('cast', 1), ('write', 1), ('anyone', 1), ('both', 1), ('dull', 1), ('boring', 1), ('never', 1), ('add', 1), ('ending', 1), ('something', 1), ('special', 1), ('happens', 1), ('thing', 1), ('before', 1), ('surprise', 1), ('hear', 1), ('feeling', 1), ('top', 1), ('trying', 1), ('telling', 1), ('people', 1), ('tell', 1), ('job', 1), ('moment', 1), ('while', 1), ('world', 1), ('feel', 1), ('second', 1), ('beyond', 1), ('showing', 1), ('human', 1), ('today', 1), ('will', 1), ('problem', 1), ('come', 1), ('someone', 1), ('school', 1), ('though', 1), ('found', 1), (\"you're\", 1), ('looking', 1), ('comments', 1), ('sound', 1), ('dialog', 1), ('next', 1), ('follow', 1), ('soundtrack', 1), ('kind', 1)]\n"
          ]
        }
      ]
    },
    {
      "cell_type": "code",
      "source": [
        "# Get the weights of the Embedding layer\n",
        "embedding_layer = model.layers[0]\n",
        "weights = embedding_layer.get_weights()[0]\n",
        "\n",
        "# Define a list of words you want to visualize\n",
        "words_to_visualize = ['good', 'bad', 'like', 'worst', 'amazing', 'great', 'brilliant', 'wrong', 'better']\n",
        "\n",
        "# Visualize the word embeddings\n",
        "visualize_word_embeddings(weights, words_to_visualize)"
      ],
      "metadata": {
        "colab": {
          "base_uri": "https://localhost:8080/",
          "height": 504
        },
        "id": "j9d6z73guMYj",
        "outputId": "ede4dd9e-34af-4765-d8e4-e17f08e0cf82"
      },
      "execution_count": null,
      "outputs": [
        {
          "output_type": "stream",
          "name": "stdout",
          "text": [
            "Sum of Explained Variances: 0.0657\n"
          ]
        },
        {
          "output_type": "display_data",
          "data": {
            "text/plain": [
              "<Figure size 800x500 with 1 Axes>"
            ],
            "image/png": "[encoded data removed]"
          },
          "metadata": {}
        }
      ]
    },
    {
      "cell_type": "markdown",
      "source": [
        "## Pretrained models\n",
        "\n",
        "Commonly, most training processes start from pre-trained models with a large dataset to adapt them to our particular problem. In this way we are able to save time and computational cost as well as to obtain good results.\n",
        "\n",
        "\n",
        "- Explore to get pre-trained models: https://tfhub.dev/\n",
        "\n",
        "- Embedding visualizations: https://projector.tensorflow.org/\n"
      ],
      "metadata": {
        "id": "8zBoJcQv8QRc"
      }
    },
    {
      "cell_type": "markdown",
      "source": [
        "### Word2vec\n",
        "\n",
        "\"*word2vec is not a singular algorithm, rather, it is a family of model architectures and optimizations that can be used to learn word embeddings from large datasets. Embeddings learned through word2vec have proven to be successful on a variety of downstream natural language processing tasks.*\"\n",
        "\n",
        "<br>\n",
        "\n",
        "https://www.tensorflow.org/text/tutorials/word2vec"
      ],
      "metadata": {
        "id": "5PyuGT5cE6Z3"
      }
    },
    {
      "cell_type": "code",
      "source": [
        "# Load the Word2Vec embedding from Keras Hub\n",
        "embedding_layer = hub.KerasLayer(\"https://tfhub.dev/google/Wiki-words-500/2\",\n",
        "                                 input_shape=[], dtype=tf.string)"
      ],
      "metadata": {
        "id": "q29mBt8fyL5M"
      },
      "execution_count": null,
      "outputs": []
    },
    {
      "cell_type": "code",
      "source": [
        "# 1. compare sentences with different meaning of bat\n",
        "sentences = [\"the bat ran away\", \"the bat is required to play baseball\"]\n",
        "words = tf.strings.split(sentences)\n",
        "word_embeddings = tf.ragged.map_flat_values(embedding_layer, words)\n",
        "compare_embeddings(sentences, word_embeddings, 'bat')\n",
        "\n",
        "# 2. compare same meaning and different order within sentence\n",
        "sentences = [\"the bat ran away\", \"the bat is a nocturnal animal\"]\n",
        "words = tf.strings.split(sentences)\n",
        "word_embeddings = tf.ragged.map_flat_values(embedding_layer, words)\n",
        "compare_embeddings(sentences, word_embeddings, 'bat')"
      ],
      "metadata": {
        "colab": {
          "base_uri": "https://localhost:8080/"
        },
        "id": "m5DG_IzOIx-P",
        "outputId": "faf70507-4a65-42b9-cb5a-75cf6c5b6f72"
      },
      "execution_count": null,
      "outputs": [
        {
          "output_type": "stream",
          "name": "stdout",
          "text": [
            "Embeddings are the same\n",
            "Embeddings are the same\n"
          ]
        }
      ]
    },
    {
      "cell_type": "markdown",
      "source": [
        "### ELMo\n",
        "\n",
        "\"*ELMo, is a type of deep contextualized word representation that models both (1) complex characteristics of word use (e.g., syntax and semantics), and (2) how these uses vary across linguistic contexts (i.e., to model polysemy)*\"\n",
        "\n",
        "<br>\n",
        "\n",
        "https://paperswithcode.com/method/elmo"
      ],
      "metadata": {
        "id": "umhePIA3FjI7"
      }
    },
    {
      "cell_type": "code",
      "source": [
        "# Load the Elmo embedding from Keras Hub\n",
        "elmo = hub.load(\"https://tfhub.dev/google/elmo/2\").signatures[\"default\"]"
      ],
      "metadata": {
        "id": "wnY6_YybFt5A"
      },
      "execution_count": null,
      "outputs": []
    },
    {
      "cell_type": "code",
      "source": [
        "# 1. compare sentences with different meaning of bat\n",
        "sentences = [\"the bat ran away\", \"the bat is required to play baseball\"]\n",
        "word_embeddings = elmo(tf.constant(sentences))[\"elmo\"]\n",
        "compare_embeddings(sentences, word_embeddings, 'bat')\n",
        "\n",
        "# 2. compare same meaning and different order within sentence\n",
        "sentences = [\"the bat ran away\", \"the bat is a nocturnal animal\"]\n",
        "word_embeddings = elmo(tf.constant(sentences))[\"elmo\"]\n",
        "compare_embeddings(sentences, word_embeddings, 'bat')\n",
        "\n",
        "# 3. compare same sentence\n",
        "sentences = [\"the bat ran away\", \"the bat ran away\"]\n",
        "word_embeddings = elmo(tf.constant(sentences))[\"elmo\"]\n",
        "compare_embeddings(sentences, word_embeddings, 'bat')"
      ],
      "metadata": {
        "colab": {
          "base_uri": "https://localhost:8080/"
        },
        "id": "r6l96g1wHK_f",
        "outputId": "704f3702-3b28-413c-b3d5-2156449f8ebd"
      },
      "execution_count": null,
      "outputs": [
        {
          "output_type": "stream",
          "name": "stdout",
          "text": [
            "Embeddings are different\n",
            "Embeddings are different\n",
            "Embeddings are the same\n"
          ]
        }
      ]
    },
    {
      "cell_type": "markdown",
      "source": [
        "### Use hub embedding in a model"
      ],
      "metadata": {
        "id": "z9wwUFbFFvIS"
      }
    },
    {
      "cell_type": "code",
      "source": [
        "# Dummy movie reviews and labels\n",
        "reviews = [\n",
        "    \"This movie is fantastic and heartwarming.\",\n",
        "    \"I hated this movie. It was awful.\",\n",
        "    \"The acting in this film was amazing!\",\n",
        "    \"The plot had so many holes; I couldn't enjoy it.\",\n",
        "]\n",
        "\n",
        "labels = np.array([1, 0, 1, 0])\n",
        "\n",
        "# Convert reviews to TensorFlow tensors of dtype=tf.string\n",
        "reviews = tf.constant(reviews, dtype=tf.string)"
      ],
      "metadata": {
        "id": "TTn_bbTFNp5t"
      },
      "execution_count": null,
      "outputs": []
    },
    {
      "cell_type": "code",
      "source": [
        "# Create a Sequential model\n",
        "model = Sequential()\n",
        "\n",
        "# Define the Word2Vec embedding layer (a lighter version 250d)\n",
        "embedding_layer = hub.KerasLayer(\n",
        "    \"https://tfhub.dev/google/Wiki-words-250/2\",\n",
        "    input_shape=[],\n",
        "    dtype=tf.string,\n",
        "    trainable=True,\n",
        ")\n",
        "\n",
        "# Add the embedding layer to the model\n",
        "model.add(embedding_layer)\n",
        "\n",
        "# Add a Flatten layer to convert the embedded text into a flat vector\n",
        "model.add(Flatten())\n",
        "\n",
        "# Add a Dense layer for classification\n",
        "model.add(Dense(128, activation='relu'))\n",
        "model.add(Dropout(0.5))\n",
        "model.add(Dense(1, activation='sigmoid'))"
      ],
      "metadata": {
        "id": "2b6bmdLP8Z4Y"
      },
      "execution_count": null,
      "outputs": []
    },
    {
      "cell_type": "code",
      "source": [
        "# Compile the model\n",
        "model.compile(optimizer='adam', loss='binary_crossentropy', metrics=['accuracy'])\n",
        "\n",
        "# Train the model\n",
        "model.fit(reviews, labels, epochs=10, batch_size=2)"
      ],
      "metadata": {
        "colab": {
          "base_uri": "https://localhost:8080/"
        },
        "id": "6RoLqEI_Nmr8",
        "outputId": "e65b2428-aa48-4a60-b745-f0a16e101287"
      },
      "execution_count": null,
      "outputs": [
        {
          "output_type": "stream",
          "name": "stdout",
          "text": [
            "Epoch 1/10\n",
            "2/2 [==============================] - 2s 255ms/step - loss: 0.6489 - accuracy: 0.7500\n",
            "Epoch 2/10\n",
            "2/2 [==============================] - 0s 72ms/step - loss: 0.6509 - accuracy: 0.7500\n",
            "Epoch 3/10\n",
            "2/2 [==============================] - 0s 74ms/step - loss: 0.6212 - accuracy: 0.7500\n",
            "Epoch 4/10\n",
            "2/2 [==============================] - 0s 72ms/step - loss: 0.5958 - accuracy: 1.0000\n",
            "Epoch 5/10\n",
            "2/2 [==============================] - 0s 71ms/step - loss: 0.5693 - accuracy: 1.0000\n",
            "Epoch 6/10\n",
            "2/2 [==============================] - 0s 71ms/step - loss: 0.5298 - accuracy: 1.0000\n",
            "Epoch 7/10\n",
            "2/2 [==============================] - 0s 71ms/step - loss: 0.5447 - accuracy: 1.0000\n",
            "Epoch 8/10\n",
            "2/2 [==============================] - 0s 74ms/step - loss: 0.4867 - accuracy: 1.0000\n",
            "Epoch 9/10\n",
            "2/2 [==============================] - 0s 71ms/step - loss: 0.4514 - accuracy: 1.0000\n",
            "Epoch 10/10\n",
            "2/2 [==============================] - 0s 73ms/step - loss: 0.4629 - accuracy: 1.0000\n"
          ]
        },
        {
          "output_type": "execute_result",
          "data": {
            "text/plain": [
              "<keras.src.callbacks.History at 0x7cc5794919f0>"
            ]
          },
          "metadata": {},
          "execution_count": 37
        }
      ]
    },
    {
      "cell_type": "code",
      "source": [
        "# Test some text\n",
        "test_reviews = [\n",
        "    \"This movie is a masterpiece!\",\n",
        "    \"I can't stand this film.\",\n",
        "]\n",
        "\n",
        "\n",
        "mapper = {0: 'negative', 1: 'positive'}\n",
        "test_reviews = tf.constant(test_reviews, dtype=tf.string)\n",
        "predictions = model.predict(test_reviews)\n",
        "predicted_labels = (predictions > 0.5).astype(int)\n",
        "\n",
        "print()\n",
        "for t, p in zip(test_reviews, predicted_labels):\n",
        "  print(f\"{t}: {mapper[int(p)]}\")"
      ],
      "metadata": {
        "colab": {
          "base_uri": "https://localhost:8080/"
        },
        "id": "KuR9DkG9URYH",
        "outputId": "db3f6552-a696-4837-89dd-6c23491acdf3"
      },
      "execution_count": null,
      "outputs": [
        {
          "output_type": "stream",
          "name": "stdout",
          "text": [
            "1/1 [==============================] - 0s 26ms/step\n",
            "\n",
            "b'This movie is a masterpiece!': positive\n",
            "b\"I can't stand this film.\": negative\n"
          ]
        }
      ]
    },
    {
      "cell_type": "code",
      "source": [],
      "metadata": {
        "id": "01DZs_xiWmCS"
      },
      "execution_count": null,
      "outputs": []
    }
  ]
}